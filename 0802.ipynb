{
 "cells": [
  {
   "cell_type": "code",
   "execution_count": 2,
   "id": "0cc8b6cb-2751-453c-86c0-fbb9e94d4e5f",
   "metadata": {},
   "outputs": [],
   "source": [
    "import numpy as np\n",
    "import pandas as pd\n",
    "import matplotlib.pyplot as plt\n",
    "import tensorflow as tf\n",
    "import csv"
   ]
  },
  {
   "cell_type": "code",
   "execution_count": 3,
   "id": "a8828d03-91d6-4c5f-97d9-3a87806578d4",
   "metadata": {},
   "outputs": [
    {
     "name": "stdout",
     "output_type": "stream",
     "text": [
      "<class 'pandas.core.frame.DataFrame'>\n",
      "RangeIndex: 17898 entries, 0 to 17897\n",
      "Data columns (total 9 columns):\n",
      " #   Column                                         Non-Null Count  Dtype  \n",
      "---  ------                                         --------------  -----  \n",
      " 0    Mean of the integrated profile                17898 non-null  float64\n",
      " 1    Standard deviation of the integrated profile  17898 non-null  float64\n",
      " 2    Excess kurtosis of the integrated profile     17898 non-null  float64\n",
      " 3    Skewness of the integrated profile            17898 non-null  float64\n",
      " 4    Mean of the DM-SNR curve                      17898 non-null  float64\n",
      " 5    Standard deviation of the DM-SNR curve        17898 non-null  float64\n",
      " 6    Excess kurtosis of the DM-SNR curve           17898 non-null  float64\n",
      " 7    Skewness of the DM-SNR curve                  17898 non-null  float64\n",
      " 8   target_class                                   17898 non-null  int64  \n",
      "dtypes: float64(8), int64(1)\n",
      "memory usage: 1.2 MB\n"
     ]
    }
   ],
   "source": [
    "df = pd.read_csv('데이터셋/pulsar_stars.csv')\n",
    "df.info()"
   ]
  },
  {
   "cell_type": "code",
   "execution_count": 4,
   "id": "094cd19e-9187-4f71-b08c-c336427a501b",
   "metadata": {},
   "outputs": [
    {
     "data": {
      "text/html": [
       "<div>\n",
       "<style scoped>\n",
       "    .dataframe tbody tr th:only-of-type {\n",
       "        vertical-align: middle;\n",
       "    }\n",
       "\n",
       "    .dataframe tbody tr th {\n",
       "        vertical-align: top;\n",
       "    }\n",
       "\n",
       "    .dataframe thead th {\n",
       "        text-align: right;\n",
       "    }\n",
       "</style>\n",
       "<table border=\"1\" class=\"dataframe\">\n",
       "  <thead>\n",
       "    <tr style=\"text-align: right;\">\n",
       "      <th></th>\n",
       "      <th>Mean of the integrated profile</th>\n",
       "      <th>Standard deviation of the integrated profile</th>\n",
       "      <th>Excess kurtosis of the integrated profile</th>\n",
       "      <th>Skewness of the integrated profile</th>\n",
       "      <th>Mean of the DM-SNR curve</th>\n",
       "      <th>Standard deviation of the DM-SNR curve</th>\n",
       "      <th>Excess kurtosis of the DM-SNR curve</th>\n",
       "      <th>Skewness of the DM-SNR curve</th>\n",
       "      <th>target_class</th>\n",
       "    </tr>\n",
       "  </thead>\n",
       "  <tbody>\n",
       "    <tr>\n",
       "      <th>count</th>\n",
       "      <td>17898.000000</td>\n",
       "      <td>17898.000000</td>\n",
       "      <td>17898.000000</td>\n",
       "      <td>17898.000000</td>\n",
       "      <td>17898.000000</td>\n",
       "      <td>17898.000000</td>\n",
       "      <td>17898.000000</td>\n",
       "      <td>17898.000000</td>\n",
       "      <td>17898.000000</td>\n",
       "    </tr>\n",
       "    <tr>\n",
       "      <th>mean</th>\n",
       "      <td>111.079968</td>\n",
       "      <td>46.549532</td>\n",
       "      <td>0.477857</td>\n",
       "      <td>1.770279</td>\n",
       "      <td>12.614400</td>\n",
       "      <td>26.326515</td>\n",
       "      <td>8.303556</td>\n",
       "      <td>104.857709</td>\n",
       "      <td>0.091574</td>\n",
       "    </tr>\n",
       "    <tr>\n",
       "      <th>std</th>\n",
       "      <td>25.652935</td>\n",
       "      <td>6.843189</td>\n",
       "      <td>1.064040</td>\n",
       "      <td>6.167913</td>\n",
       "      <td>29.472897</td>\n",
       "      <td>19.470572</td>\n",
       "      <td>4.506092</td>\n",
       "      <td>106.514540</td>\n",
       "      <td>0.288432</td>\n",
       "    </tr>\n",
       "    <tr>\n",
       "      <th>min</th>\n",
       "      <td>5.812500</td>\n",
       "      <td>24.772042</td>\n",
       "      <td>-1.876011</td>\n",
       "      <td>-1.791886</td>\n",
       "      <td>0.213211</td>\n",
       "      <td>7.370432</td>\n",
       "      <td>-3.139270</td>\n",
       "      <td>-1.976976</td>\n",
       "      <td>0.000000</td>\n",
       "    </tr>\n",
       "    <tr>\n",
       "      <th>25%</th>\n",
       "      <td>100.929688</td>\n",
       "      <td>42.376018</td>\n",
       "      <td>0.027098</td>\n",
       "      <td>-0.188572</td>\n",
       "      <td>1.923077</td>\n",
       "      <td>14.437332</td>\n",
       "      <td>5.781506</td>\n",
       "      <td>34.960504</td>\n",
       "      <td>0.000000</td>\n",
       "    </tr>\n",
       "    <tr>\n",
       "      <th>50%</th>\n",
       "      <td>115.078125</td>\n",
       "      <td>46.947479</td>\n",
       "      <td>0.223240</td>\n",
       "      <td>0.198710</td>\n",
       "      <td>2.801839</td>\n",
       "      <td>18.461316</td>\n",
       "      <td>8.433515</td>\n",
       "      <td>83.064556</td>\n",
       "      <td>0.000000</td>\n",
       "    </tr>\n",
       "    <tr>\n",
       "      <th>75%</th>\n",
       "      <td>127.085938</td>\n",
       "      <td>51.023202</td>\n",
       "      <td>0.473325</td>\n",
       "      <td>0.927783</td>\n",
       "      <td>5.464256</td>\n",
       "      <td>28.428104</td>\n",
       "      <td>10.702959</td>\n",
       "      <td>139.309330</td>\n",
       "      <td>0.000000</td>\n",
       "    </tr>\n",
       "    <tr>\n",
       "      <th>max</th>\n",
       "      <td>192.617188</td>\n",
       "      <td>98.778911</td>\n",
       "      <td>8.069522</td>\n",
       "      <td>68.101622</td>\n",
       "      <td>223.392141</td>\n",
       "      <td>110.642211</td>\n",
       "      <td>34.539844</td>\n",
       "      <td>1191.000837</td>\n",
       "      <td>1.000000</td>\n",
       "    </tr>\n",
       "  </tbody>\n",
       "</table>\n",
       "</div>"
      ],
      "text/plain": [
       "        Mean of the integrated profile  \\\n",
       "count                     17898.000000   \n",
       "mean                        111.079968   \n",
       "std                          25.652935   \n",
       "min                           5.812500   \n",
       "25%                         100.929688   \n",
       "50%                         115.078125   \n",
       "75%                         127.085938   \n",
       "max                         192.617188   \n",
       "\n",
       "        Standard deviation of the integrated profile  \\\n",
       "count                                   17898.000000   \n",
       "mean                                       46.549532   \n",
       "std                                         6.843189   \n",
       "min                                        24.772042   \n",
       "25%                                        42.376018   \n",
       "50%                                        46.947479   \n",
       "75%                                        51.023202   \n",
       "max                                        98.778911   \n",
       "\n",
       "        Excess kurtosis of the integrated profile  \\\n",
       "count                                17898.000000   \n",
       "mean                                     0.477857   \n",
       "std                                      1.064040   \n",
       "min                                     -1.876011   \n",
       "25%                                      0.027098   \n",
       "50%                                      0.223240   \n",
       "75%                                      0.473325   \n",
       "max                                      8.069522   \n",
       "\n",
       "        Skewness of the integrated profile   Mean of the DM-SNR curve  \\\n",
       "count                         17898.000000               17898.000000   \n",
       "mean                              1.770279                  12.614400   \n",
       "std                               6.167913                  29.472897   \n",
       "min                              -1.791886                   0.213211   \n",
       "25%                              -0.188572                   1.923077   \n",
       "50%                               0.198710                   2.801839   \n",
       "75%                               0.927783                   5.464256   \n",
       "max                              68.101622                 223.392141   \n",
       "\n",
       "        Standard deviation of the DM-SNR curve  \\\n",
       "count                             17898.000000   \n",
       "mean                                 26.326515   \n",
       "std                                  19.470572   \n",
       "min                                   7.370432   \n",
       "25%                                  14.437332   \n",
       "50%                                  18.461316   \n",
       "75%                                  28.428104   \n",
       "max                                 110.642211   \n",
       "\n",
       "        Excess kurtosis of the DM-SNR curve   Skewness of the DM-SNR curve  \\\n",
       "count                          17898.000000                   17898.000000   \n",
       "mean                               8.303556                     104.857709   \n",
       "std                                4.506092                     106.514540   \n",
       "min                               -3.139270                      -1.976976   \n",
       "25%                                5.781506                      34.960504   \n",
       "50%                                8.433515                      83.064556   \n",
       "75%                               10.702959                     139.309330   \n",
       "max                               34.539844                    1191.000837   \n",
       "\n",
       "       target_class  \n",
       "count  17898.000000  \n",
       "mean       0.091574  \n",
       "std        0.288432  \n",
       "min        0.000000  \n",
       "25%        0.000000  \n",
       "50%        0.000000  \n",
       "75%        0.000000  \n",
       "max        1.000000  "
      ]
     },
     "execution_count": 4,
     "metadata": {},
     "output_type": "execute_result"
    }
   ],
   "source": [
    "df.describe()"
   ]
  },
  {
   "cell_type": "code",
   "execution_count": 5,
   "id": "405de544-7f4b-4c47-863f-aa1818904fed",
   "metadata": {},
   "outputs": [
    {
     "data": {
      "text/plain": [
       "0    16259\n",
       "1     1639\n",
       "Name: target_class, dtype: int64"
      ]
     },
     "execution_count": 5,
     "metadata": {},
     "output_type": "execute_result"
    }
   ],
   "source": [
    "df['target_class'].value_counts()"
   ]
  },
  {
   "cell_type": "code",
   "execution_count": 6,
   "id": "26fb4e68-2c45-45be-a5c2-5bc41755ef34",
   "metadata": {},
   "outputs": [],
   "source": [
    "with open('데이터셋/pulsar_stars.csv') as csvfile:\n",
    "    csvreader = csv.reader(csvfile)\n",
    "    next(csvreader)\n",
    "    rows = []\n",
    "    for row in csvreader:\n",
    "        rows.append(row)\n",
    "        \n",
    "data = np.asarray(rows, dtype='float32')\n",
    "input_cnt, output_cnt = 8, 1"
   ]
  },
  {
   "cell_type": "code",
   "execution_count": 7,
   "id": "4d66fdbb-5dd7-4b8f-9078-ff0ad48ab518",
   "metadata": {},
   "outputs": [
    {
     "data": {
      "text/plain": [
       "array([140.5625    ,  55.68378   ,  -0.23457141,  -0.6996484 ,\n",
       "         3.1998327 ,  19.110426  ,   7.9755316 ,  74.242226  ,\n",
       "         0.        ], dtype=float32)"
      ]
     },
     "execution_count": 7,
     "metadata": {},
     "output_type": "execute_result"
    }
   ],
   "source": [
    "data[:][0]"
   ]
  },
  {
   "cell_type": "markdown",
   "id": "2d384918-fbe3-4863-b372-f4531d649eca",
   "metadata": {},
   "source": [
    "# 정규화를 안시켜보고 진행"
   ]
  },
  {
   "cell_type": "code",
   "execution_count": 8,
   "id": "ad2d386f-54c1-4acb-beb0-fc90cbca2c0b",
   "metadata": {},
   "outputs": [
    {
     "name": "stdout",
     "output_type": "stream",
     "text": [
      "17898\n",
      "test_begin_index: 14318\n"
     ]
    }
   ],
   "source": [
    "train_ratio = 0.8\n",
    "mb_size = 32\n",
    "test_begin_index = int(data.shape[0] * train_ratio)\n",
    "print(data.shape[0])\n",
    "print('test_begin_index:', test_begin_index)"
   ]
  },
  {
   "cell_type": "code",
   "execution_count": 9,
   "id": "c408f7c4-6e50-46a4-949b-b1da1559815e",
   "metadata": {},
   "outputs": [
    {
     "name": "stdout",
     "output_type": "stream",
     "text": [
      "[ 9375  1570 15443 14077  6079]\n"
     ]
    }
   ],
   "source": [
    "shuffle_map = np.arange(data.shape[0])\n",
    "\n",
    "np.random.seed(1234)\n",
    "np.random.shuffle(shuffle_map)\n",
    "print(shuffle_map[:5])"
   ]
  },
  {
   "cell_type": "code",
   "execution_count": 10,
   "id": "fda8c2ce-14ce-4335-b19d-e7f29d4238c5",
   "metadata": {},
   "outputs": [
    {
     "name": "stdout",
     "output_type": "stream",
     "text": [
      "(14318, 9)\n",
      "(3580, 9)\n"
     ]
    }
   ],
   "source": [
    "train_data = data[shuffle_map[:test_begin_index]]\n",
    "test_data = data[shuffle_map[test_begin_index:]]\n",
    "\n",
    "print(train_data.shape)\n",
    "print(test_data.shape)"
   ]
  },
  {
   "cell_type": "code",
   "execution_count": 11,
   "id": "bc383d66-c223-42b4-91f4-27c5fca5ec96",
   "metadata": {},
   "outputs": [],
   "source": [
    "train_x, train_y = train_data[:, :-output_cnt], train_data[:, -output_cnt:]\n",
    "test_x, test_y = test_data[:, :-output_cnt], test_data[:, -output_cnt:]"
   ]
  },
  {
   "cell_type": "code",
   "execution_count": 12,
   "id": "b3c7a33a-e9d0-4fb1-9b70-2de72f204311",
   "metadata": {},
   "outputs": [
    {
     "name": "stdout",
     "output_type": "stream",
     "text": [
      "(14318, 8)\n",
      "(14318, 1)\n",
      "(3580, 8)\n",
      "(3580, 1)\n"
     ]
    }
   ],
   "source": [
    "print(train_x.shape)\n",
    "print(train_y.shape)\n",
    "print(test_x.shape)\n",
    "print(test_y.shape)"
   ]
  },
  {
   "cell_type": "code",
   "execution_count": 13,
   "id": "306a3289-5fed-46c1-8bb7-c3c2cc9d9516",
   "metadata": {},
   "outputs": [],
   "source": [
    "pulsar_DNN_drop_sigmoid = tf.keras.Sequential([\n",
    "                                               tf.keras.layers.Dense(units=128, activation='relu', input_shape = [8,]),\n",
    "                                               tf.keras.layers.Dense(units=64, activation='relu'),\n",
    "                                               tf.keras.layers.Dropout(rate = 0.5),\n",
    "                                               tf.keras.layers.Dense(units=32, activation='relu'),\n",
    "                                               tf.keras.layers.Dense(units=1, activation='sigmoid')\n",
    "])"
   ]
  },
  {
   "cell_type": "code",
   "execution_count": 14,
   "id": "85e5c3a1-5db4-4fdc-8dde-23c087d627b9",
   "metadata": {},
   "outputs": [
    {
     "name": "stdout",
     "output_type": "stream",
     "text": [
      "Model: \"sequential\"\n",
      "_________________________________________________________________\n",
      "Layer (type)                 Output Shape              Param #   \n",
      "=================================================================\n",
      "dense (Dense)                (None, 128)               1152      \n",
      "_________________________________________________________________\n",
      "dense_1 (Dense)              (None, 64)                8256      \n",
      "_________________________________________________________________\n",
      "dropout (Dropout)            (None, 64)                0         \n",
      "_________________________________________________________________\n",
      "dense_2 (Dense)              (None, 32)                2080      \n",
      "_________________________________________________________________\n",
      "dense_3 (Dense)              (None, 1)                 33        \n",
      "=================================================================\n",
      "Total params: 11,521\n",
      "Trainable params: 11,521\n",
      "Non-trainable params: 0\n",
      "_________________________________________________________________\n"
     ]
    }
   ],
   "source": [
    "pulsar_DNN_drop_sigmoid.summary()"
   ]
  },
  {
   "cell_type": "code",
   "execution_count": 15,
   "id": "b24b0fb5-dda0-46cf-bd35-d0d3f5ee6a2d",
   "metadata": {},
   "outputs": [],
   "source": [
    "pulsar_DNN_sigmoid = tf.keras.Sequential([\n",
    "                                               tf.keras.layers.Dense(units=128, activation='relu', input_shape = [8,]),\n",
    "                                               tf.keras.layers.Dense(units=64, activation='relu'),\n",
    "                                               #tf.keras.layers.Dropout(rate = 0.5),\n",
    "                                               tf.keras.layers.Dense(units=32, activation='relu'),\n",
    "                                               tf.keras.layers.Dense(units=1, activation='sigmoid')\n",
    "])"
   ]
  },
  {
   "cell_type": "code",
   "execution_count": 16,
   "id": "d42bbf29-af02-4ee6-ad34-f637df7f6516",
   "metadata": {},
   "outputs": [
    {
     "name": "stdout",
     "output_type": "stream",
     "text": [
      "Model: \"sequential_1\"\n",
      "_________________________________________________________________\n",
      "Layer (type)                 Output Shape              Param #   \n",
      "=================================================================\n",
      "dense_4 (Dense)              (None, 128)               1152      \n",
      "_________________________________________________________________\n",
      "dense_5 (Dense)              (None, 64)                8256      \n",
      "_________________________________________________________________\n",
      "dense_6 (Dense)              (None, 32)                2080      \n",
      "_________________________________________________________________\n",
      "dense_7 (Dense)              (None, 1)                 33        \n",
      "=================================================================\n",
      "Total params: 11,521\n",
      "Trainable params: 11,521\n",
      "Non-trainable params: 0\n",
      "_________________________________________________________________\n"
     ]
    }
   ],
   "source": [
    "pulsar_DNN_sigmoid.summary()"
   ]
  },
  {
   "cell_type": "code",
   "execution_count": 17,
   "id": "7a47538c-a024-41d7-ae71-e48adadef33e",
   "metadata": {},
   "outputs": [],
   "source": [
    "pulsar_DNN_drop_sigmoid.compile(optimizer=tf.keras.optimizers.Adam(learning_rate=0.001),\n",
    "                                loss = 'binary_crossentropy',\n",
    "                                metrics = ['accuracy'])"
   ]
  },
  {
   "cell_type": "code",
   "execution_count": 18,
   "id": "99d7cf56-bda6-4930-8a3c-f43080a3848f",
   "metadata": {},
   "outputs": [
    {
     "name": "stdout",
     "output_type": "stream",
     "text": [
      "Epoch 1/25\n",
      "358/358 [==============================] - 1s 1ms/step - loss: 0.3315 - accuracy: 0.9461 - val_loss: 0.0778 - val_accuracy: 0.9759\n",
      "Epoch 2/25\n",
      "358/358 [==============================] - 0s 998us/step - loss: 0.1313 - accuracy: 0.9666 - val_loss: 0.0739 - val_accuracy: 0.9791\n",
      "Epoch 3/25\n",
      "358/358 [==============================] - 0s 1ms/step - loss: 0.1181 - accuracy: 0.9690 - val_loss: 0.0897 - val_accuracy: 0.9763\n",
      "Epoch 4/25\n",
      "358/358 [==============================] - 1s 1ms/step - loss: 0.1096 - accuracy: 0.9705 - val_loss: 0.1686 - val_accuracy: 0.9777\n",
      "Epoch 5/25\n",
      "358/358 [==============================] - 1s 1ms/step - loss: 0.1078 - accuracy: 0.9696 - val_loss: 0.0868 - val_accuracy: 0.9759\n"
     ]
    }
   ],
   "source": [
    "history = pulsar_DNN_drop_sigmoid.fit(train_x, train_y,\n",
    "                                      batch_size = 32,\n",
    "                                      epochs     = 25,\n",
    "                                      validation_split = 0.2,\n",
    "                                      callbacks = [tf.keras.callbacks.EarlyStopping(patience=3)])"
   ]
  },
  {
   "cell_type": "code",
   "execution_count": 19,
   "id": "500c536d-176f-4d4e-9960-4ba2135e8a20",
   "metadata": {},
   "outputs": [
    {
     "data": {
      "image/png": "[encoded data removed]",
      "text/plain": [
       "<Figure size 864x288 with 2 Axes>"
      ]
     },
     "metadata": {
      "needs_background": "light"
     },
     "output_type": "display_data"
    }
   ],
   "source": [
    "val_accuracy = history.history['val_accuracy']\n",
    "accuracy     = history.history['accuracy']\n",
    "\n",
    "val_loss = history.history['val_loss']\n",
    "loss     = history.history['loss']\n",
    "\n",
    "plt.figure(figsize=(12,4))\n",
    "plt.subplot(1,2,1)\n",
    "\n",
    "plt.plot(history.history['loss'], 'b-',      label = 'Train_loss')\n",
    "plt.plot(history.history['val_loss'], 'r--', label = 'Val_loss')\n",
    "\n",
    "plt.xlabel('Epochs')\n",
    "\n",
    "plt.title(\"Train_Loss : {:.3f} \\nVal_Loss : {:.3f}\".format(loss[-1], val_loss[-1]),\n",
    "          fontsize = 15)\n",
    "\n",
    "plt.legend()\n",
    "plt.grid()\n",
    "\n",
    "plt.subplot(1,2,2)\n",
    "\n",
    "plt.plot(history.history['accuracy'], 'g-',      label = 'Train_ACC')\n",
    "plt.plot(history.history['val_accuracy'], 'k--', label = 'Val_ACC')\n",
    "plt.xlabel('Epochs')\n",
    "\n",
    "plt.title(\"Train_ACC : {:.3f} \\nVal_ACC : {:.3f}\".format(accuracy[-1], val_accuracy[-1]),\n",
    "          fontsize = 15)\n",
    "\n",
    "plt.legend()\n",
    "plt.grid()\n",
    "plt.show()"
   ]
  },
  {
   "cell_type": "code",
   "execution_count": 20,
   "id": "5479b11a-7428-40e6-8c80-1e0e0fcfe8a1",
   "metadata": {},
   "outputs": [
    {
     "name": "stdout",
     "output_type": "stream",
     "text": [
      "[[0. ]\n",
      " [0. ]\n",
      " [0. ]\n",
      " [0. ]\n",
      " [0.1]\n",
      " [0. ]\n",
      " [0. ]\n",
      " [0. ]\n",
      " [0.1]\n",
      " [0. ]\n",
      " [0. ]\n",
      " [0. ]\n",
      " [0.1]\n",
      " [0. ]\n",
      " [0. ]\n",
      " [0.1]\n",
      " [0. ]\n",
      " [0. ]\n",
      " [0. ]\n",
      " [0. ]]\n"
     ]
    }
   ],
   "source": [
    "pred_Y = pulsar_DNN_drop_sigmoid.predict(test_x)\n",
    "pred_Y = np.round(pred_Y,1)\n",
    "print(pred_Y[:20])"
   ]
  },
  {
   "cell_type": "code",
   "execution_count": 21,
   "id": "83e4ab1c-3df3-443f-bf83-ecf32df29001",
   "metadata": {},
   "outputs": [
    {
     "name": "stdout",
     "output_type": "stream",
     "text": [
      "0.0    2646\n",
      "0.1     518\n",
      "1.0     159\n",
      "0.2      73\n",
      "0.3      45\n",
      "0.9      36\n",
      "0.4      30\n",
      "0.5      26\n",
      "0.8      18\n",
      "0.6      15\n",
      "0.7      14\n",
      "dtype: int64\n",
      "0.0    3258\n",
      "1.0     322\n",
      "dtype: int64\n"
     ]
    }
   ],
   "source": [
    "print(pd.DataFrame(pred_Y).value_counts())\n",
    "print(pd.DataFrame(test_y).value_counts())"
   ]
  },
  {
   "cell_type": "code",
   "execution_count": 22,
   "id": "66c21ce4-877f-4760-a43d-303ac1d430cd",
   "metadata": {},
   "outputs": [
    {
     "name": "stdout",
     "output_type": "stream",
     "text": [
      "est_yes : \n",
      " [[False]\n",
      " [False]\n",
      " [False]\n",
      " [False]\n",
      " [False]]\n",
      "ans_yes : \n",
      " [[False]\n",
      " [False]\n",
      " [False]\n",
      " [False]\n",
      " [False]]\n"
     ]
    }
   ],
   "source": [
    "# 예측값을 참(1)으로 예측했냐? \n",
    "est_yes = np.greater(pred_Y, 0.5)\n",
    "print(\"est_yes : \\n\", est_yes[:5])\n",
    "\n",
    "# 실제값을 참(1)으로 예측했냐?\n",
    "ans_yes = np.greater(test_y, 0.5)\n",
    "print(\"ans_yes : \\n\", ans_yes[:5])"
   ]
  },
  {
   "cell_type": "code",
   "execution_count": 23,
   "id": "09c996bb-e3cb-4942-a608-e59c61992518",
   "metadata": {},
   "outputs": [
    {
     "name": "stdout",
     "output_type": "stream",
     "text": [
      "est_no : \n",
      " [[ True]\n",
      " [ True]\n",
      " [ True]\n",
      " [ True]\n",
      " [ True]]\n",
      "ans_no : \n",
      " [[ True]\n",
      " [ True]\n",
      " [ True]\n",
      " [ True]\n",
      " [ True]]\n"
     ]
    }
   ],
   "source": [
    "est_no = np.logical_not(est_yes)\n",
    "print(\"est_no : \\n\", est_no[:5])\n",
    "ans_no = np.logical_not(ans_yes)\n",
    "print(\"ans_no : \\n\",ans_no[:5])"
   ]
  },
  {
   "cell_type": "code",
   "execution_count": 24,
   "id": "fda8209e-4199-4a9f-a9bc-64de5c65552e",
   "metadata": {},
   "outputs": [
    {
     "name": "stdout",
     "output_type": "stream",
     "text": [
      "TP :  227\n",
      "TN :  3243\n",
      "FP :  15\n",
      "FN :  95\n"
     ]
    }
   ],
   "source": [
    "tp = np.sum(np.logical_and(est_yes, ans_yes))\n",
    "print(\"TP : \", tp)\n",
    "\n",
    "tn = np.sum(np.logical_and(est_no, ans_no))\n",
    "print(\"TN : \", tn)\n",
    "\n",
    "fp = np.sum(np.logical_and(ans_no, est_yes))\n",
    "print(\"FP : \", fp)\n",
    "\n",
    "fn = np.sum(np.logical_and(ans_yes, est_no))\n",
    "print(\"FN : \", fn)"
   ]
  },
  {
   "cell_type": "code",
   "execution_count": 31,
   "id": "945d5c7a-9e4f-4073-b861-bdb224bb79a9",
   "metadata": {},
   "outputs": [
    {
     "name": "stdout",
     "output_type": "stream",
     "text": [
      "accuracy :  0.9692737430167597\n",
      "precision :  0.9380165289256198\n",
      "recall :  0.7049689440993789\n",
      "F1-Score :  0.8049645390070923\n"
     ]
    }
   ],
   "source": [
    "accuracy = safe_div((tp + tn), (tp + tn + fp + fn))\n",
    "print(\"accuracy : \", accuracy)\n",
    "\n",
    "precision = safe_div((tp) , (tp + fp))\n",
    "print(\"precision : \", precision)\n",
    "\n",
    "recall = safe_div((tp) , (tp + fn))\n",
    "print(\"recall : \", recall)\n",
    "\n",
    "f1 = 2 * safe_div((recall * precision), (recall + precision))\n",
    "print(\"F1-Score : \", f1)"
   ]
  },
  {
   "cell_type": "code",
   "execution_count": 32,
   "id": "592a1491-ccbe-464a-b367-10f269da84a3",
   "metadata": {},
   "outputs": [
    {
     "name": "stdout",
     "output_type": "stream",
     "text": [
      "precision : 0.9380165289256198\n",
      "recall :  0.7049689440993789\n"
     ]
    }
   ],
   "source": [
    "precision = tp / (tp + fp)\n",
    "print(\"precision :\", precision) \n",
    "\n",
    "recall = tp / (tp + fn)\n",
    "print(\"recall : \", recall)"
   ]
  },
  {
   "cell_type": "code",
   "execution_count": 33,
   "id": "b45b60c6-5203-4887-aa9c-f04b4d13c9c7",
   "metadata": {},
   "outputs": [],
   "source": [
    "# 안전한 나눗셈 함수 만들기\n",
    "def safe_div(p,q):\n",
    "    p, q = float(p), float(q)\n",
    "\n",
    "    if np.abs(q) < 1.0e-20:\n",
    "        return np.sign(p)\n",
    "    return p / q"
   ]
  },
  {
   "cell_type": "code",
   "execution_count": 34,
   "id": "3d12f3cb-6667-4183-adb2-d39dc6f7e259",
   "metadata": {},
   "outputs": [],
   "source": [
    "a = [np.exp(i) for i in range(1,11)]"
   ]
  },
  {
   "cell_type": "code",
   "execution_count": 40,
   "id": "49d6a3b3-e74e-4f7f-8091-56da5252c186",
   "metadata": {},
   "outputs": [
    {
     "data": {
      "text/plain": [
       "array([False, False, False, False, False, False,  True,  True,  True,\n",
       "        True])"
      ]
     },
     "execution_count": 40,
     "metadata": {},
     "output_type": "execute_result"
    }
   ],
   "source": [
    "a_TF = np.greater(a,1000)\n",
    "a_TF"
   ]
  },
  {
   "cell_type": "code",
   "execution_count": 41,
   "id": "5ec7f3f8-461c-4513-9cd5-6049801a0d5a",
   "metadata": {},
   "outputs": [
    {
     "data": {
      "text/plain": [
       "array([ True,  True,  True,  True,  True,  True, False, False, False,\n",
       "       False])"
      ]
     },
     "execution_count": 41,
     "metadata": {},
     "output_type": "execute_result"
    }
   ],
   "source": [
    "a_TF_not = np.logical_not(a_TF)\n",
    "a_TF_not"
   ]
  },
  {
   "cell_type": "code",
   "execution_count": null,
   "id": "317d961f-2e34-40ea-a986-fbcd483ee544",
   "metadata": {},
   "outputs": [],
   "source": []
  }
 ],
 "metadata": {
  "kernelspec": {
   "display_name": "Python 3",
   "language": "python",
   "name": "python3"
  },
  "language_info": {
   "codemirror_mode": {
    "name": "ipython",
    "version": 3
   },
   "file_extension": ".py",
   "mimetype": "text/x-python",
   "name": "python",
   "nbconvert_exporter": "python",
   "pygments_lexer": "ipython3",
   "version": "3.8.8"
  }
 },
 "nbformat": 4,
 "nbformat_minor": 5
}

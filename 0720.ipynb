{
 "cells": [
  {
   "cell_type": "code",
   "execution_count": 62,
   "id": "c4977190-90be-45a7-a679-77217587f4bf",
   "metadata": {},
   "outputs": [
    {
     "data": {
      "text/html": [
       "<div>\n",
       "<style scoped>\n",
       "    .dataframe tbody tr th:only-of-type {\n",
       "        vertical-align: middle;\n",
       "    }\n",
       "\n",
       "    .dataframe tbody tr th {\n",
       "        vertical-align: top;\n",
       "    }\n",
       "\n",
       "    .dataframe thead th {\n",
       "        text-align: right;\n",
       "    }\n",
       "</style>\n",
       "<table border=\"1\" class=\"dataframe\">\n",
       "  <thead>\n",
       "    <tr style=\"text-align: right;\">\n",
       "      <th></th>\n",
       "      <th>0.455</th>\n",
       "      <th>0.365</th>\n",
       "      <th>0.095</th>\n",
       "      <th>0.514</th>\n",
       "      <th>0.2245</th>\n",
       "      <th>0.101</th>\n",
       "      <th>0.15</th>\n",
       "      <th>15</th>\n",
       "    </tr>\n",
       "  </thead>\n",
       "  <tbody>\n",
       "    <tr>\n",
       "      <th>count</th>\n",
       "      <td>4.000000</td>\n",
       "      <td>4.000000</td>\n",
       "      <td>4.000000</td>\n",
       "      <td>4.000000</td>\n",
       "      <td>4.000000</td>\n",
       "      <td>4.000000</td>\n",
       "      <td>4.000000</td>\n",
       "      <td>4.00</td>\n",
       "    </tr>\n",
       "    <tr>\n",
       "      <th>mean</th>\n",
       "      <td>0.412500</td>\n",
       "      <td>0.326250</td>\n",
       "      <td>0.107500</td>\n",
       "      <td>0.405875</td>\n",
       "      <td>0.165250</td>\n",
       "      <td>0.085875</td>\n",
       "      <td>0.122500</td>\n",
       "      <td>8.25</td>\n",
       "    </tr>\n",
       "    <tr>\n",
       "      <th>std</th>\n",
       "      <td>0.091788</td>\n",
       "      <td>0.079831</td>\n",
       "      <td>0.026615</td>\n",
       "      <td>0.229871</td>\n",
       "      <td>0.083492</td>\n",
       "      <td>0.049775</td>\n",
       "      <td>0.073087</td>\n",
       "      <td>1.50</td>\n",
       "    </tr>\n",
       "    <tr>\n",
       "      <th>min</th>\n",
       "      <td>0.330000</td>\n",
       "      <td>0.255000</td>\n",
       "      <td>0.080000</td>\n",
       "      <td>0.205000</td>\n",
       "      <td>0.089500</td>\n",
       "      <td>0.039500</td>\n",
       "      <td>0.055000</td>\n",
       "      <td>7.00</td>\n",
       "    </tr>\n",
       "    <tr>\n",
       "      <th>25%</th>\n",
       "      <td>0.345000</td>\n",
       "      <td>0.262500</td>\n",
       "      <td>0.087500</td>\n",
       "      <td>0.220375</td>\n",
       "      <td>0.097000</td>\n",
       "      <td>0.046250</td>\n",
       "      <td>0.066250</td>\n",
       "      <td>7.00</td>\n",
       "    </tr>\n",
       "    <tr>\n",
       "      <th>50%</th>\n",
       "      <td>0.395000</td>\n",
       "      <td>0.315000</td>\n",
       "      <td>0.107500</td>\n",
       "      <td>0.370750</td>\n",
       "      <td>0.157500</td>\n",
       "      <td>0.081250</td>\n",
       "      <td>0.112500</td>\n",
       "      <td>8.00</td>\n",
       "    </tr>\n",
       "    <tr>\n",
       "      <th>75%</th>\n",
       "      <td>0.462500</td>\n",
       "      <td>0.378750</td>\n",
       "      <td>0.127500</td>\n",
       "      <td>0.556250</td>\n",
       "      <td>0.225750</td>\n",
       "      <td>0.120875</td>\n",
       "      <td>0.168750</td>\n",
       "      <td>9.25</td>\n",
       "    </tr>\n",
       "    <tr>\n",
       "      <th>max</th>\n",
       "      <td>0.530000</td>\n",
       "      <td>0.420000</td>\n",
       "      <td>0.135000</td>\n",
       "      <td>0.677000</td>\n",
       "      <td>0.256500</td>\n",
       "      <td>0.141500</td>\n",
       "      <td>0.210000</td>\n",
       "      <td>10.00</td>\n",
       "    </tr>\n",
       "  </tbody>\n",
       "</table>\n",
       "</div>"
      ],
      "text/plain": [
       "          0.455     0.365     0.095     0.514    0.2245     0.101      0.15  \\\n",
       "count  4.000000  4.000000  4.000000  4.000000  4.000000  4.000000  4.000000   \n",
       "mean   0.412500  0.326250  0.107500  0.405875  0.165250  0.085875  0.122500   \n",
       "std    0.091788  0.079831  0.026615  0.229871  0.083492  0.049775  0.073087   \n",
       "min    0.330000  0.255000  0.080000  0.205000  0.089500  0.039500  0.055000   \n",
       "25%    0.345000  0.262500  0.087500  0.220375  0.097000  0.046250  0.066250   \n",
       "50%    0.395000  0.315000  0.107500  0.370750  0.157500  0.081250  0.112500   \n",
       "75%    0.462500  0.378750  0.127500  0.556250  0.225750  0.120875  0.168750   \n",
       "max    0.530000  0.420000  0.135000  0.677000  0.256500  0.141500  0.210000   \n",
       "\n",
       "          15  \n",
       "count   4.00  \n",
       "mean    8.25  \n",
       "std     1.50  \n",
       "min     7.00  \n",
       "25%     7.00  \n",
       "50%     8.00  \n",
       "75%     9.25  \n",
       "max    10.00  "
      ]
     },
     "execution_count": 62,
     "metadata": {},
     "output_type": "execute_result"
    }
   ],
   "source": [
    "import pandas as pd\n",
    "import numpy as np\n",
    "import csv\n",
    "df_abalone = pd.read_csv('데이터셋/abalone_mini.csv')\n",
    "df_abalone.describe()"
   ]
  },
  {
   "cell_type": "code",
   "execution_count": 63,
   "id": "e25ec38a-ebde-4fc2-acc8-af50b066e906",
   "metadata": {},
   "outputs": [],
   "source": [
    "def main_execute(epoch_coun = 10, mb_size = 10, report = 2, train_ratio = 0.8):\n",
    "    load_dataset()\n",
    "    weight_initial, bias_initial = init_param()\n",
    "    losses_mean_row, accs_mean_row, final_acc = train_and_test(epoch_count, mb_size, report, train_ratio)\n",
    "    return weight_initial, bias_initial, losses_mean_row, accs_mean_row, final_acc"
   ]
  },
  {
   "cell_type": "code",
   "execution_count": 64,
   "id": "0c6d8831-2d02-4030-be24-e998c051d2e6",
   "metadata": {},
   "outputs": [],
   "source": [
    "def load_dataset():\n",
    "    with open('데이터셋/abalone_mini.csv')as csvfile:\n",
    "        csvreader = csv.reader(csvfile)\n",
    "        next(csvreader)\n",
    "        rows = []\n",
    "        \n",
    "        for row in csvreader:\n",
    "            rows.append(row)\n",
    "            \n",
    "    global data, input_cnt, output_cnt\n",
    "    \n",
    "    input_cnt, output_cnt = 10, 1\n",
    "    data = np.zeros([len(rows), input_cnt + output_cnt])\n",
    "    \n",
    "    for n,row in enumerate(rows):\n",
    "        if row[0] == 'M': data[n,0] = 1\n",
    "        if row[0] == 'F': data[n,1] = 1\n",
    "        if row[0] == 'I': data[n,2] = 1\n",
    "        data[n, 3: ] = row[1:]"
   ]
  },
  {
   "cell_type": "code",
   "execution_count": 65,
   "id": "1544ab30-a4f3-4783-b051-48f71a218962",
   "metadata": {},
   "outputs": [],
   "source": [
    "load_dataset()"
   ]
  },
  {
   "cell_type": "code",
   "execution_count": 66,
   "id": "a4790193-3d1b-45b1-a21f-21f007c7c127",
   "metadata": {},
   "outputs": [],
   "source": [
    "%run MathUtils.ipynb"
   ]
  },
  {
   "cell_type": "code",
   "execution_count": 67,
   "id": "250756fb-af95-440b-ad8e-0af7a024c8be",
   "metadata": {},
   "outputs": [],
   "source": [
    "def init_param():\n",
    "    global weight, bias\n",
    "    \n",
    "    weight_initial =[]\n",
    "    bias_initial =[]\n",
    "    weight = np.random.normal(RND_MEAN, RND_STD, size = [input_cnt, output_cnt])\n",
    "    bias = np.zeros([output_cnt])\n",
    "    print(f\"initial Weight Value : \\n{weight}\")\n",
    "    print(f'initial Bias Value : \\n{bias}')\n",
    "    weight_initial.append(weight)\n",
    "    bias_initial.append(bias)\n",
    "    \n",
    "    return weight_initial, bias_initial"
   ]
  },
  {
   "cell_type": "code",
   "execution_count": 68,
   "id": "94d7acd5-3421-4d2c-ba59-4838ef8c9f20",
   "metadata": {},
   "outputs": [
    {
     "name": "stdout",
     "output_type": "stream",
     "text": [
      "initial Weight Value : \n",
      "[[-0.04931623]\n",
      " [-0.02197562]\n",
      " [ 0.0201902 ]\n",
      " [-0.00872151]\n",
      " [-0.00141418]\n",
      " [-0.01390358]\n",
      " [ 0.00808063]\n",
      " [ 0.00208285]\n",
      " [-0.03898588]\n",
      " [-0.01539986]]\n",
      "initial Bias Value : \n",
      "[0.]\n"
     ]
    }
   ],
   "source": [
    "weight_initial, bias_initial = init_param()"
   ]
  },
  {
   "cell_type": "code",
   "execution_count": 69,
   "id": "c7bb1377-f742-4894-a2e3-4c8a63ad73ee",
   "metadata": {},
   "outputs": [],
   "source": [
    "def train_and_test(epoch_count, mb_size, report, train_ratio):\n",
    "    pass"
   ]
  },
  {
   "cell_type": "code",
   "execution_count": 70,
   "id": "9d97e6d0-5cec-49ad-91e1-6bd90aa0bd15",
   "metadata": {},
   "outputs": [
    {
     "name": "stdout",
     "output_type": "stream",
     "text": [
      "(4, 11)\n"
     ]
    }
   ],
   "source": [
    "mb_size = 2\n",
    "train_ratio = 0.8\n",
    "print(data.shape)"
   ]
  },
  {
   "cell_type": "code",
   "execution_count": 71,
   "id": "158afdcf-19f7-4f7e-aeed-03179559595f",
   "metadata": {},
   "outputs": [],
   "source": [
    "def arrange_data(mb_size, train_ratio):\n",
    "    global shuffle_map, test_begin_index\n",
    "    \n",
    "    shuffle_map = np.arange(data.shape[0])\n",
    "    \n",
    "    np.random.shuffle(shuffle_map)\n",
    "    \n",
    "    mini_batch_step_count = int(data.shape[0] * train_ratio)//mb_size\n",
    "    \n",
    "    test_begin_index = mini_batch_step_count * mb_size\n",
    "    \n",
    "    return mini_batch_step_count"
   ]
  },
  {
   "cell_type": "code",
   "execution_count": 72,
   "id": "7e2c0b92-13e5-40ea-a761-509576437c90",
   "metadata": {},
   "outputs": [
    {
     "name": "stdout",
     "output_type": "stream",
     "text": [
      "mini_batch_step_count: 1\n",
      "shuffle_map: [0 3 1 2]\n",
      "test_begin_index: 2\n"
     ]
    }
   ],
   "source": [
    "mini_batch_step_count = arrange_data(mb_size=2, train_ratio=0.8)\n",
    "print(\"mini_batch_step_count:\", mini_batch_step_count)\n",
    "print(\"shuffle_map:\", shuffle_map[:5])\n",
    "print(\"test_begin_index:\", test_begin_index)"
   ]
  },
  {
   "cell_type": "code",
   "execution_count": 73,
   "id": "1aa46912-a17a-4f79-87c4-554c94903646",
   "metadata": {},
   "outputs": [],
   "source": [
    "def get_test_data():\n",
    "    test_data = data[shuffle_map[test_begin_index:]]\n",
    "    return test_data[:, :-output_cnt], test_data[:,-output_cnt:]"
   ]
  },
  {
   "cell_type": "code",
   "execution_count": 74,
   "id": "ba006101-b00f-4f9a-8974-34149055a80c",
   "metadata": {},
   "outputs": [
    {
     "name": "stdout",
     "output_type": "stream",
     "text": [
      "[[0.     1.     0.     0.53   0.42   0.135  0.677  0.2565 0.1415 0.21  ]\n",
      " [1.     0.     0.     0.44   0.365  0.125  0.516  0.2155 0.114  0.155 ]]\n",
      "=======================\n",
      "[[ 9.]\n",
      " [10.]]\n"
     ]
    }
   ],
   "source": [
    "test_x, test_y = get_test_data()\n",
    "print(test_x[:10])\n",
    "print(\"=======================\")\n",
    "print(test_y[:10])"
   ]
  },
  {
   "cell_type": "code",
   "execution_count": 75,
   "id": "e0b8cbd4-4f9d-42a3-acc8-10c9f9d7a6ea",
   "metadata": {},
   "outputs": [],
   "source": [
    "# nth :  미니배치 덩어리의 횟수\n",
    "def get_train_data(mb_size, nth):\n",
    "    if nth == 0:\n",
    "        np.random.shuffle(shuffle_map[:test_begin_index])\n",
    "        \n",
    "    train_data = data[shuffle_map[mb_size * nth : mb_size * (nth + 1)]]\n",
    "    \n",
    "    return train_data[:, :-output_cnt], train_data[:, -output_cnt:]"
   ]
  },
  {
   "cell_type": "code",
   "execution_count": 76,
   "id": "c54b41d0-8eee-4fd7-95e7-d6e9129b68f7",
   "metadata": {},
   "outputs": [
    {
     "name": "stdout",
     "output_type": "stream",
     "text": [
      "[[1.     0.     0.     0.35   0.265  0.09   0.2255 0.0995 0.0485 0.07  ]\n",
      " [0.     0.     1.     0.33   0.255  0.08   0.205  0.0895 0.0395 0.055 ]\n",
      " [0.     1.     0.     0.53   0.42   0.135  0.677  0.2565 0.1415 0.21  ]\n",
      " [1.     0.     0.     0.44   0.365  0.125  0.516  0.2155 0.114  0.155 ]]\n",
      "===================\n",
      "[[ 7.]\n",
      " [ 7.]\n",
      " [ 9.]\n",
      " [10.]]\n"
     ]
    }
   ],
   "source": [
    "train_x, train_y = get_train_data(mb_size = 10, nth = 0)\n",
    "print(train_x)\n",
    "print(\"===================\")\n",
    "print(train_y)"
   ]
  },
  {
   "cell_type": "code",
   "execution_count": 77,
   "id": "cd5892c2-dec3-4849-b950-8d0a3421cef5",
   "metadata": {},
   "outputs": [
    {
     "data": {
      "text/plain": [
       "100"
      ]
     },
     "execution_count": 77,
     "metadata": {},
     "output_type": "execute_result"
    }
   ],
   "source": [
    "def run_test(x,y):\n",
    "    accuracy = 100\n",
    "    return accuracy\n",
    "run_test(0,0)"
   ]
  },
  {
   "cell_type": "code",
   "execution_count": 78,
   "id": "54ca46b4-3611-4774-98bb-ae5e710147a6",
   "metadata": {},
   "outputs": [
    {
     "data": {
      "text/plain": [
       "(0, 95)"
      ]
     },
     "execution_count": 78,
     "metadata": {},
     "output_type": "execute_result"
    }
   ],
   "source": [
    "def run_train(x, y):\n",
    "    loss = 0\n",
    "    accuracy = 95\n",
    "    return loss, accuracy\n",
    "\n",
    "run_train(0,0)"
   ]
  },
  {
   "cell_type": "code",
   "execution_count": 94,
   "id": "e690d842-91b6-442b-809a-fc068a18f790",
   "metadata": {},
   "outputs": [],
   "source": [
    "def train_and_test(epoch_count, mb_size, report, train_ratio):\n",
    "    mini_batch_step_count = arrange_data(mb_size, train_ratio)\n",
    "    \n",
    "    test_x, test_y = get_test_data()\n",
    "    \n",
    "    losses_mean_row = []\n",
    "    accs_mean_row = []\n",
    "    \n",
    "    for epoch in range(epoch_count):\n",
    "        losses = []\n",
    "        accs = []\n",
    "        for n in range(mini_batch_step_count):\n",
    "            train_x, train_y = get_train_data(mb_size, n)\n",
    "            \n",
    "            loss, acc = run_train(train_x, train_y)\n",
    "            \n",
    "            losses.append(loss)\n",
    "            accs.append(acc)\n",
    "            \n",
    "        if report > 0 and (epoch+1)%report == 0:\n",
    "            acc = run_test(test_x, test_y)\n",
    "            print(f\"Epoch{epoch+1}: Train - Loss = {np.mean(losses):.3f}, Accuracy = {np.mean(accs):.3f}/Test - Accuracy = {acc:.3f}\")\n",
    "\n",
    "        losses_mean = np.mean(losses)\n",
    "        accs_mean = np.mean(accs) * 100\n",
    "\n",
    "        losses_mean_row.append(losses_mean)\n",
    "        accs_mean_row.append(accs_mean)\n",
    "    \n",
    "    final_acc = run_test(test_x, test_y)\n",
    "    print(\"=\"*30,'Final_TEST','='*30)\n",
    "    print(f\"\\n Final Accuracy: {final_acc:.3f}\")\n",
    "\n",
    "    return losses_mean_row, accs_mean_row, final_acc"
   ]
  },
  {
   "cell_type": "code",
   "execution_count": 95,
   "id": "0f0788df-ec68-49ca-a4d4-4c33f1ca9d9a",
   "metadata": {},
   "outputs": [],
   "source": [
    "def forward_neuralnet(x):\n",
    "    y_hat = np.matmul(x, weight) + bias\n",
    "    return y_hat"
   ]
  },
  {
   "cell_type": "code",
   "execution_count": 96,
   "id": "f7a4a52f-568f-47ff-9c34-43e742360853",
   "metadata": {},
   "outputs": [
    {
     "name": "stdout",
     "output_type": "stream",
     "text": [
      "[[-0.05493422]\n",
      " [ 0.01529521]\n",
      " [-0.03181459]\n",
      " [-0.05762073]]\n"
     ]
    }
   ],
   "source": [
    "y_hat = forward_neuralnet(train_x)\n",
    "print(y_hat)"
   ]
  },
  {
   "cell_type": "code",
   "execution_count": 97,
   "id": "ad0b88a2-f8cd-4c1d-af68-b42f814ff5ed",
   "metadata": {},
   "outputs": [],
   "source": [
    "def forward_postproc(y_hat, y):\n",
    "    diff = y_hat -y\n",
    "    square = np.square(diff)\n",
    "    loss = np.mean(square)\n",
    "    \n",
    "    return loss"
   ]
  },
  {
   "cell_type": "code",
   "execution_count": 98,
   "id": "5f6de2a3-6403-4d9a-8ad6-11b4cf963030",
   "metadata": {},
   "outputs": [
    {
     "name": "stdout",
     "output_type": "stream",
     "text": [
      "70.32190183599843\n"
     ]
    }
   ],
   "source": [
    "loss = forward_postproc(y_hat, train_y)\n",
    "print(loss)"
   ]
  },
  {
   "cell_type": "code",
   "execution_count": 99,
   "id": "8dc5d1f5-24ed-47eb-9b40-e88ba3cfdaf7",
   "metadata": {},
   "outputs": [],
   "source": [
    "def eval_accuracy(y_hat, y):\n",
    "    mdiff = np.mean(np.abs((y_hat - y) / y))\n",
    "    return 1 - mdiff"
   ]
  },
  {
   "cell_type": "code",
   "execution_count": 100,
   "id": "0b378a8f-1df6-4b46-92a3-a6041dc25ab5",
   "metadata": {},
   "outputs": [
    {
     "name": "stdout",
     "output_type": "stream",
     "text": [
      "accuracy : -0.004\n"
     ]
    }
   ],
   "source": [
    "accuracy = eval_accuracy(y_hat, train_y)\n",
    "print(f'accuracy : {accuracy:.3f}')"
   ]
  },
  {
   "cell_type": "code",
   "execution_count": 101,
   "id": "26f52fa0-9642-43d0-9569-c00f257f121d",
   "metadata": {},
   "outputs": [
    {
     "name": "stdout",
     "output_type": "stream",
     "text": [
      "Epoch2: Train - Loss = 0.000, Accuracy = 95.000/Test - Accuracy = 100.000\n",
      "Epoch4: Train - Loss = 0.000, Accuracy = 95.000/Test - Accuracy = 100.000\n",
      "Epoch6: Train - Loss = 0.000, Accuracy = 95.000/Test - Accuracy = 100.000\n",
      "Epoch8: Train - Loss = 0.000, Accuracy = 95.000/Test - Accuracy = 100.000\n",
      "Epoch10: Train - Loss = 0.000, Accuracy = 95.000/Test - Accuracy = 100.000\n",
      "============================== Final_TEST ==============================\n",
      "\n",
      " Final Accuracy: 100.000\n"
     ]
    }
   ],
   "source": [
    "result = train_and_test(epoch_count=10,\n",
    "                       mb_size = 2,\n",
    "                       report = 2,\n",
    "                       train_ratio = 0.8)"
   ]
  },
  {
   "cell_type": "code",
   "execution_count": 102,
   "id": "15a29a68-65d0-44e6-a4a4-8f70ddaf8a2e",
   "metadata": {},
   "outputs": [],
   "source": [
    "def backprop_neuralnet(G_output, x):\n",
    "    global weight, bias\n",
    "    x_transpose = x.transpose()\n",
    "    \n",
    "    G_w = np.matmul(x_transpose , G_output)\n",
    "    G_b = np.sum(G_output, axis = 0)\n",
    "    \n",
    "    weight -= LEARNING_RATE * G_w\n",
    "    bias -= LEARNING_RATE * G_b\n",
    "    "
   ]
  },
  {
   "cell_type": "code",
   "execution_count": 105,
   "id": "7e8e4363-b92f-46fa-b32f-397fb985a3df",
   "metadata": {},
   "outputs": [
    {
     "ename": "NameError",
     "evalue": "name 'X_train' is not defined",
     "output_type": "error",
     "traceback": [
      "\u001b[1;31m---------------------------------------------------------------------------\u001b[0m",
      "\u001b[1;31mNameError\u001b[0m                                 Traceback (most recent call last)",
      "\u001b[1;32m<ipython-input-105-931765772341>\u001b[0m in \u001b[0;36m<module>\u001b[1;34m\u001b[0m\n\u001b[1;32m----> 1\u001b[1;33m \u001b[0mX_train\u001b[0m\u001b[1;33m\u001b[0m\u001b[1;33m\u001b[0m\u001b[0m\n\u001b[0m",
      "\u001b[1;31mNameError\u001b[0m: name 'X_train' is not defined"
     ]
    }
   ],
   "source": []
  },
  {
   "cell_type": "code",
   "execution_count": null,
   "id": "b1ec6ecc-2498-47b1-8460-a7e2865e16d9",
   "metadata": {},
   "outputs": [],
   "source": []
  },
  {
   "cell_type": "code",
   "execution_count": null,
   "id": "f45b9fcc-3007-4db9-9046-3ff8b7e06e81",
   "metadata": {},
   "outputs": [],
   "source": []
  },
  {
   "cell_type": "code",
   "execution_count": null,
   "id": "1a9fe175-0d97-466d-bafd-a8fc965c6483",
   "metadata": {},
   "outputs": [],
   "source": []
  },
  {
   "cell_type": "code",
   "execution_count": null,
   "id": "63abc696-f92b-4af1-bb13-b978dd1abcb7",
   "metadata": {},
   "outputs": [],
   "source": []
  },
  {
   "cell_type": "code",
   "execution_count": null,
   "id": "83694d16-f563-49d1-a3dd-a29566d4bead",
   "metadata": {},
   "outputs": [],
   "source": []
  }
 ],
 "metadata": {
  "kernelspec": {
   "display_name": "Python 3",
   "language": "python",
   "name": "python3"
  },
  "language_info": {
   "codemirror_mode": {
    "name": "ipython",
    "version": 3
   },
   "file_extension": ".py",
   "mimetype": "text/x-python",
   "name": "python",
   "nbconvert_exporter": "python",
   "pygments_lexer": "ipython3",
   "version": "3.8.8"
  }
 },
 "nbformat": 4,
 "nbformat_minor": 5
}

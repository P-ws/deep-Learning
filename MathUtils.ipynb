{
 "cells": [
  {
   "cell_type": "code",
   "execution_count": null,
   "id": "8d63a5d6-4917-41ec-bdcc-2cc11be8b27e",
   "metadata": {},
   "outputs": [],
   "source": [
    "import numpy as np\n",
    "import pandas as pd \n",
    "import csv \n",
    "import matplotlib.pyplot as plt\n",
    "\n",
    "RND_MEAN = 0\n",
    "RND_STD  = 0.03\n",
    "\n",
    "LEARNING_RATE = 0.07"
   ]
  }
 ],
 "metadata": {
  "kernelspec": {
   "display_name": "Python 3",
   "language": "python",
   "name": "python3"
  },
  "language_info": {
   "codemirror_mode": {
    "name": "ipython",
    "version": 3
   },
   "file_extension": ".py",
   "mimetype": "text/x-python",
   "name": "python",
   "nbconvert_exporter": "python",
   "pygments_lexer": "ipython3",
   "version": "3.8.8"
  }
 },
 "nbformat": 4,
 "nbformat_minor": 5
}

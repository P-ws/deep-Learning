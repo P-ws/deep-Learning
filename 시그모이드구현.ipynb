{
 "cells": [
  {
   "cell_type": "code",
   "execution_count": 2,
   "id": "a9600c9a-1873-4934-8521-28770d6829a4",
   "metadata": {},
   "outputs": [
    {
     "data": {
      "text/html": [
       "<div>\n",
       "<style scoped>\n",
       "    .dataframe tbody tr th:only-of-type {\n",
       "        vertical-align: middle;\n",
       "    }\n",
       "\n",
       "    .dataframe tbody tr th {\n",
       "        vertical-align: top;\n",
       "    }\n",
       "\n",
       "    .dataframe thead th {\n",
       "        text-align: right;\n",
       "    }\n",
       "</style>\n",
       "<table border=\"1\" class=\"dataframe\">\n",
       "  <thead>\n",
       "    <tr style=\"text-align: right;\">\n",
       "      <th></th>\n",
       "      <th>Mean of the integrated profile</th>\n",
       "      <th>Standard deviation of the integrated profile</th>\n",
       "      <th>Excess kurtosis of the integrated profile</th>\n",
       "      <th>Skewness of the integrated profile</th>\n",
       "      <th>Mean of the DM-SNR curve</th>\n",
       "      <th>Standard deviation of the DM-SNR curve</th>\n",
       "      <th>Excess kurtosis of the DM-SNR curve</th>\n",
       "      <th>Skewness of the DM-SNR curve</th>\n",
       "      <th>target_class</th>\n",
       "    </tr>\n",
       "  </thead>\n",
       "  <tbody>\n",
       "    <tr>\n",
       "      <th>0</th>\n",
       "      <td>140.562500</td>\n",
       "      <td>55.683782</td>\n",
       "      <td>-0.234571</td>\n",
       "      <td>-0.699648</td>\n",
       "      <td>3.199833</td>\n",
       "      <td>19.110426</td>\n",
       "      <td>7.975532</td>\n",
       "      <td>74.242225</td>\n",
       "      <td>0</td>\n",
       "    </tr>\n",
       "    <tr>\n",
       "      <th>1</th>\n",
       "      <td>102.507812</td>\n",
       "      <td>58.882430</td>\n",
       "      <td>0.465318</td>\n",
       "      <td>-0.515088</td>\n",
       "      <td>1.677258</td>\n",
       "      <td>14.860146</td>\n",
       "      <td>10.576487</td>\n",
       "      <td>127.393580</td>\n",
       "      <td>0</td>\n",
       "    </tr>\n",
       "    <tr>\n",
       "      <th>2</th>\n",
       "      <td>103.015625</td>\n",
       "      <td>39.341649</td>\n",
       "      <td>0.323328</td>\n",
       "      <td>1.051164</td>\n",
       "      <td>3.121237</td>\n",
       "      <td>21.744669</td>\n",
       "      <td>7.735822</td>\n",
       "      <td>63.171909</td>\n",
       "      <td>0</td>\n",
       "    </tr>\n",
       "    <tr>\n",
       "      <th>3</th>\n",
       "      <td>136.750000</td>\n",
       "      <td>57.178449</td>\n",
       "      <td>-0.068415</td>\n",
       "      <td>-0.636238</td>\n",
       "      <td>3.642977</td>\n",
       "      <td>20.959280</td>\n",
       "      <td>6.896499</td>\n",
       "      <td>53.593661</td>\n",
       "      <td>0</td>\n",
       "    </tr>\n",
       "    <tr>\n",
       "      <th>4</th>\n",
       "      <td>88.726562</td>\n",
       "      <td>40.672225</td>\n",
       "      <td>0.600866</td>\n",
       "      <td>1.123492</td>\n",
       "      <td>1.178930</td>\n",
       "      <td>11.468720</td>\n",
       "      <td>14.269573</td>\n",
       "      <td>252.567306</td>\n",
       "      <td>0</td>\n",
       "    </tr>\n",
       "    <tr>\n",
       "      <th>...</th>\n",
       "      <td>...</td>\n",
       "      <td>...</td>\n",
       "      <td>...</td>\n",
       "      <td>...</td>\n",
       "      <td>...</td>\n",
       "      <td>...</td>\n",
       "      <td>...</td>\n",
       "      <td>...</td>\n",
       "      <td>...</td>\n",
       "    </tr>\n",
       "    <tr>\n",
       "      <th>17893</th>\n",
       "      <td>136.429688</td>\n",
       "      <td>59.847421</td>\n",
       "      <td>-0.187846</td>\n",
       "      <td>-0.738123</td>\n",
       "      <td>1.296823</td>\n",
       "      <td>12.166062</td>\n",
       "      <td>15.450260</td>\n",
       "      <td>285.931022</td>\n",
       "      <td>0</td>\n",
       "    </tr>\n",
       "    <tr>\n",
       "      <th>17894</th>\n",
       "      <td>122.554688</td>\n",
       "      <td>49.485605</td>\n",
       "      <td>0.127978</td>\n",
       "      <td>0.323061</td>\n",
       "      <td>16.409699</td>\n",
       "      <td>44.626893</td>\n",
       "      <td>2.945244</td>\n",
       "      <td>8.297092</td>\n",
       "      <td>0</td>\n",
       "    </tr>\n",
       "    <tr>\n",
       "      <th>17895</th>\n",
       "      <td>119.335938</td>\n",
       "      <td>59.935939</td>\n",
       "      <td>0.159363</td>\n",
       "      <td>-0.743025</td>\n",
       "      <td>21.430602</td>\n",
       "      <td>58.872000</td>\n",
       "      <td>2.499517</td>\n",
       "      <td>4.595173</td>\n",
       "      <td>0</td>\n",
       "    </tr>\n",
       "    <tr>\n",
       "      <th>17896</th>\n",
       "      <td>114.507812</td>\n",
       "      <td>53.902400</td>\n",
       "      <td>0.201161</td>\n",
       "      <td>-0.024789</td>\n",
       "      <td>1.946488</td>\n",
       "      <td>13.381731</td>\n",
       "      <td>10.007967</td>\n",
       "      <td>134.238910</td>\n",
       "      <td>0</td>\n",
       "    </tr>\n",
       "    <tr>\n",
       "      <th>17897</th>\n",
       "      <td>57.062500</td>\n",
       "      <td>85.797340</td>\n",
       "      <td>1.406391</td>\n",
       "      <td>0.089520</td>\n",
       "      <td>188.306020</td>\n",
       "      <td>64.712562</td>\n",
       "      <td>-1.597527</td>\n",
       "      <td>1.429475</td>\n",
       "      <td>0</td>\n",
       "    </tr>\n",
       "  </tbody>\n",
       "</table>\n",
       "<p>17898 rows × 9 columns</p>\n",
       "</div>"
      ],
      "text/plain": [
       "        Mean of the integrated profile  \\\n",
       "0                           140.562500   \n",
       "1                           102.507812   \n",
       "2                           103.015625   \n",
       "3                           136.750000   \n",
       "4                            88.726562   \n",
       "...                                ...   \n",
       "17893                       136.429688   \n",
       "17894                       122.554688   \n",
       "17895                       119.335938   \n",
       "17896                       114.507812   \n",
       "17897                        57.062500   \n",
       "\n",
       "        Standard deviation of the integrated profile  \\\n",
       "0                                          55.683782   \n",
       "1                                          58.882430   \n",
       "2                                          39.341649   \n",
       "3                                          57.178449   \n",
       "4                                          40.672225   \n",
       "...                                              ...   \n",
       "17893                                      59.847421   \n",
       "17894                                      49.485605   \n",
       "17895                                      59.935939   \n",
       "17896                                      53.902400   \n",
       "17897                                      85.797340   \n",
       "\n",
       "        Excess kurtosis of the integrated profile  \\\n",
       "0                                       -0.234571   \n",
       "1                                        0.465318   \n",
       "2                                        0.323328   \n",
       "3                                       -0.068415   \n",
       "4                                        0.600866   \n",
       "...                                           ...   \n",
       "17893                                   -0.187846   \n",
       "17894                                    0.127978   \n",
       "17895                                    0.159363   \n",
       "17896                                    0.201161   \n",
       "17897                                    1.406391   \n",
       "\n",
       "        Skewness of the integrated profile   Mean of the DM-SNR curve  \\\n",
       "0                                -0.699648                   3.199833   \n",
       "1                                -0.515088                   1.677258   \n",
       "2                                 1.051164                   3.121237   \n",
       "3                                -0.636238                   3.642977   \n",
       "4                                 1.123492                   1.178930   \n",
       "...                                    ...                        ...   \n",
       "17893                            -0.738123                   1.296823   \n",
       "17894                             0.323061                  16.409699   \n",
       "17895                            -0.743025                  21.430602   \n",
       "17896                            -0.024789                   1.946488   \n",
       "17897                             0.089520                 188.306020   \n",
       "\n",
       "        Standard deviation of the DM-SNR curve  \\\n",
       "0                                    19.110426   \n",
       "1                                    14.860146   \n",
       "2                                    21.744669   \n",
       "3                                    20.959280   \n",
       "4                                    11.468720   \n",
       "...                                        ...   \n",
       "17893                                12.166062   \n",
       "17894                                44.626893   \n",
       "17895                                58.872000   \n",
       "17896                                13.381731   \n",
       "17897                                64.712562   \n",
       "\n",
       "        Excess kurtosis of the DM-SNR curve   Skewness of the DM-SNR curve  \\\n",
       "0                                  7.975532                      74.242225   \n",
       "1                                 10.576487                     127.393580   \n",
       "2                                  7.735822                      63.171909   \n",
       "3                                  6.896499                      53.593661   \n",
       "4                                 14.269573                     252.567306   \n",
       "...                                     ...                            ...   \n",
       "17893                             15.450260                     285.931022   \n",
       "17894                              2.945244                       8.297092   \n",
       "17895                              2.499517                       4.595173   \n",
       "17896                             10.007967                     134.238910   \n",
       "17897                             -1.597527                       1.429475   \n",
       "\n",
       "       target_class  \n",
       "0                 0  \n",
       "1                 0  \n",
       "2                 0  \n",
       "3                 0  \n",
       "4                 0  \n",
       "...             ...  \n",
       "17893             0  \n",
       "17894             0  \n",
       "17895             0  \n",
       "17896             0  \n",
       "17897             0  \n",
       "\n",
       "[17898 rows x 9 columns]"
      ]
     },
     "execution_count": 2,
     "metadata": {},
     "output_type": "execute_result"
    }
   ],
   "source": [
    "import pandas as pd\n",
    "df = pd.read_csv('데이터셋/pulsar_stars.csv')\n",
    "df"
   ]
  },
  {
   "cell_type": "code",
   "execution_count": 3,
   "id": "f3e2e1ce-3171-4145-87ae-8a51d436d3d6",
   "metadata": {},
   "outputs": [
    {
     "name": "stdout",
     "output_type": "stream",
     "text": [
      "<class 'pandas.core.frame.DataFrame'>\n",
      "RangeIndex: 17898 entries, 0 to 17897\n",
      "Data columns (total 9 columns):\n",
      " #   Column                                         Non-Null Count  Dtype  \n",
      "---  ------                                         --------------  -----  \n",
      " 0    Mean of the integrated profile                17898 non-null  float64\n",
      " 1    Standard deviation of the integrated profile  17898 non-null  float64\n",
      " 2    Excess kurtosis of the integrated profile     17898 non-null  float64\n",
      " 3    Skewness of the integrated profile            17898 non-null  float64\n",
      " 4    Mean of the DM-SNR curve                      17898 non-null  float64\n",
      " 5    Standard deviation of the DM-SNR curve        17898 non-null  float64\n",
      " 6    Excess kurtosis of the DM-SNR curve           17898 non-null  float64\n",
      " 7    Skewness of the DM-SNR curve                  17898 non-null  float64\n",
      " 8   target_class                                   17898 non-null  int64  \n",
      "dtypes: float64(8), int64(1)\n",
      "memory usage: 1.2 MB\n"
     ]
    }
   ],
   "source": [
    "df.info()"
   ]
  },
  {
   "cell_type": "code",
   "execution_count": 4,
   "id": "300f4cc2-60b2-4d08-ab0b-7e6a36a6a309",
   "metadata": {},
   "outputs": [],
   "source": [
    "df = pd.read_csv('데이터셋/pulsar_stars.csv')\n",
    "\n",
    "import matplotlib.pyplot as plt\n",
    "import seaborn as sns"
   ]
  },
  {
   "cell_type": "code",
   "execution_count": 5,
   "id": "cc2cb132-a693-4389-b239-4167acca3bbf",
   "metadata": {},
   "outputs": [
    {
     "data": {
      "image/png": "[encoded data removed]",
      "text/plain": [
       "<Figure size 432x288 with 1 Axes>"
      ]
     },
     "metadata": {
      "needs_background": "light"
     },
     "output_type": "display_data"
    }
   ],
   "source": [
    "sns.histplot(df['target_class'])\n",
    "plt.show()"
   ]
  },
  {
   "cell_type": "code",
   "execution_count": 6,
   "id": "037e6e38-e010-4018-bd8e-c2aa62700111",
   "metadata": {},
   "outputs": [],
   "source": [
    "%run MathUtils.ipynb"
   ]
  },
  {
   "cell_type": "code",
   "execution_count": 7,
   "id": "ccb254b6-0ab8-4dd3-8f8b-875b02f459d3",
   "metadata": {},
   "outputs": [],
   "source": [
    "%run abalone_model.ipynb"
   ]
  },
  {
   "cell_type": "code",
   "execution_count": 8,
   "id": "d2b93dcd-433f-4d82-ada0-c906d4f24c2a",
   "metadata": {},
   "outputs": [],
   "source": [
    "def binary_classification_exec(epoch_count = 10, mb_size = 10, report = 1, train_ratio = 0.6, val_ratio = 0.2):\n",
    "    binary_load_dataset()\n",
    "    init_param()\n",
    "    train_metrics_mean_row, val_metrics_row, test_metrics = train_and_test(epoch_count, \n",
    "                                                                           mb_size, \n",
    "                                                                           report, \n",
    "                                                                           train_ratio, \n",
    "                                                                           val_ratio) # 검증데이터 추가 \n",
    "    return train_metrics_mean_row, val_metrics_row, test_metrics"
   ]
  },
  {
   "cell_type": "code",
   "execution_count": 9,
   "id": "7ac1aa4f-7479-4ef4-bbd5-10798369c11b",
   "metadata": {},
   "outputs": [],
   "source": [
    "def binary_load_dataset():\n",
    "    with open('데이터셋/pulsar_stars.csv') as csvfile:\n",
    "    #with open('/content/pulsar_stars_mini.csv') as csvfile:\n",
    "        csvreader = csv.reader(csvfile)\n",
    "        next(csvreader)\n",
    "\n",
    "        rows = []\n",
    "        for row in csvreader:\n",
    "            rows.append(row)\n",
    "    \n",
    "    global data, input_cnt, output_cnt\n",
    "\n",
    "    input_cnt, output_cnt = 8, 1\n",
    "\n",
    "    data = np.asarray(rows, dtype='float32')"
   ]
  },
  {
   "cell_type": "code",
   "execution_count": 10,
   "id": "b76f1027-1c70-41ed-b800-037e1cd74d12",
   "metadata": {},
   "outputs": [],
   "source": [
    "binary_load_dataset()"
   ]
  },
  {
   "cell_type": "code",
   "execution_count": 11,
   "id": "48aa79f6-c3b2-40e3-a019-5f80bd890549",
   "metadata": {},
   "outputs": [
    {
     "data": {
      "text/plain": [
       "(17898, 9)"
      ]
     },
     "execution_count": 11,
     "metadata": {},
     "output_type": "execute_result"
    }
   ],
   "source": [
    "data.shape"
   ]
  },
  {
   "cell_type": "code",
   "execution_count": 12,
   "id": "0b198245-fb51-4b81-8789-e7e83b1bf4d0",
   "metadata": {},
   "outputs": [
    {
     "data": {
      "text/plain": [
       "array([[ 1.40562500e+02,  5.56837807e+01, -2.34571412e-01,\n",
       "        -6.99648380e-01,  3.19983268e+00,  1.91104259e+01,\n",
       "         7.97553158e+00,  7.42422256e+01,  0.00000000e+00],\n",
       "       [ 1.02507812e+02,  5.88824310e+01,  4.65318143e-01,\n",
       "        -5.15087903e-01,  1.67725754e+00,  1.48601456e+01,\n",
       "         1.05764866e+01,  1.27393578e+02,  0.00000000e+00],\n",
       "       [ 1.03015625e+02,  3.93416481e+01,  3.23328376e-01,\n",
       "         1.05116439e+00,  3.12123752e+00,  2.17446690e+01,\n",
       "         7.73582220e+00,  6.31719093e+01,  0.00000000e+00],\n",
       "       [ 1.36750000e+02,  5.71784477e+01, -6.84146360e-02,\n",
       "        -6.36238396e-01,  3.64297652e+00,  2.09592800e+01,\n",
       "         6.89649868e+00,  5.35936623e+01,  0.00000000e+00],\n",
       "       [ 8.87265625e+01,  4.06722260e+01,  6.00866079e-01,\n",
       "         1.12349164e+00,  1.17892981e+00,  1.14687195e+01,\n",
       "         1.42695732e+01,  2.52567307e+02,  0.00000000e+00]], dtype=float32)"
      ]
     },
     "execution_count": 12,
     "metadata": {},
     "output_type": "execute_result"
    }
   ],
   "source": [
    "data[:5]"
   ]
  },
  {
   "cell_type": "code",
   "execution_count": 13,
   "id": "3a97e56a-5ad4-4fd1-a472-a33f9834b072",
   "metadata": {},
   "outputs": [],
   "source": [
    "def init_param():\n",
    "    global weight, bias \n",
    "\n",
    "    weight = np.random.normal(RND_MEAN, RND_STD, size = [input_cnt, output_cnt])\n",
    "    bias   = np.zeros([output_cnt])\n",
    "\n",
    "    print(\"Initial weight value : \\n\", weight)\n",
    "    print(\"Initial bias value : \\n\", bias)"
   ]
  },
  {
   "cell_type": "code",
   "execution_count": 14,
   "id": "70bb63af-419b-4f7e-8dc2-4f3b5e811c95",
   "metadata": {},
   "outputs": [
    {
     "name": "stdout",
     "output_type": "stream",
     "text": [
      "Initial weight value : \n",
      " [[-0.03235592]\n",
      " [ 0.0489499 ]\n",
      " [-0.00664527]\n",
      " [-0.03386406]\n",
      " [-0.03861422]\n",
      " [ 0.02148797]\n",
      " [ 0.01837244]\n",
      " [-0.0066863 ]]\n",
      "Initial bias value : \n",
      " [0.]\n"
     ]
    }
   ],
   "source": [
    "init_param()"
   ]
  },
  {
   "cell_type": "code",
   "execution_count": 15,
   "id": "f231c8eb-7665-4e30-bca0-a6327703cc8f",
   "metadata": {},
   "outputs": [],
   "source": [
    "def arrange_data(mb_size, train_ratio, val_ratio):\n",
    "    global shuffle_map, test_begin_index, val_begin_index\n",
    "\n",
    "    shuffle_map = np.arange(data.shape[0])\n",
    "\n",
    "    np.random.shuffle(shuffle_map)\n",
    "\n",
    "    mini_batch_step_count = int(data.shape[0] * train_ratio) // mb_size \n",
    "\n",
    "    val_begin_index = mini_batch_step_count * mb_size\n",
    "    test_begin_index = int(val_begin_index + (val_ratio * data.shape[0]))\n",
    "\n",
    "    return mini_batch_step_count"
   ]
  },
  {
   "cell_type": "code",
   "execution_count": 16,
   "id": "7d704aeb-f8cb-4d03-a97e-382d7c3b6175",
   "metadata": {},
   "outputs": [
    {
     "name": "stdout",
     "output_type": "stream",
     "text": [
      "mini_batch_step_count :  1789\n",
      "val_begin_index :  10734\n",
      "test_begin_index :  14313\n"
     ]
    }
   ],
   "source": [
    "mini_batch_step_count = arrange_data(mb_size = 6, train_ratio = 0.6, val_ratio = 0.2)\n",
    "print(\"mini_batch_step_count : \", mini_batch_step_count)\n",
    "print(\"val_begin_index : \", val_begin_index)\n",
    "print(\"test_begin_index : \", test_begin_index)"
   ]
  },
  {
   "cell_type": "code",
   "execution_count": 17,
   "id": "6d106d5b-a43d-43b2-a86b-2dbed3776abf",
   "metadata": {},
   "outputs": [],
   "source": [
    "def get_test_data():\n",
    "    test_data = data[shuffle_map[test_begin_index : ]]\n",
    "    return test_data[:, : -output_cnt], test_data[:, -output_cnt : ]\n",
    "\n",
    "def get_val_data():\n",
    "    val_data = data[shuffle_map[ val_begin_index : test_begin_index ]]\n",
    "    return val_data[:, : -output_cnt], val_data[:, -output_cnt : ]\n",
    "\n",
    "# 학습 데이터를 생성하는 함수 (미니배치 기능 추가)\n",
    "def get_train_data(mb_size, n):\n",
    "    from_idx = n * mb_size \n",
    "    to_idx   = (n + 1) * mb_size\n",
    "    \n",
    "    train_data = data[shuffle_map[from_idx : to_idx]]\n",
    "\n",
    "    return train_data[:, : -output_cnt], train_data[:, -output_cnt : ]"
   ]
  },
  {
   "cell_type": "code",
   "execution_count": 18,
   "id": "e86951a3-b3ba-494c-af3f-b46808f82c96",
   "metadata": {},
   "outputs": [],
   "source": [
    "test_X, test_Y   = get_test_data()\n",
    "val_X, val_Y     = get_val_data()\n",
    "train_X, train_Y = get_train_data(mb_size = 2,n = 0)"
   ]
  },
  {
   "cell_type": "code",
   "execution_count": 19,
   "id": "e2118be8-799e-4907-8ce2-6da6390a5cb4",
   "metadata": {},
   "outputs": [
    {
     "name": "stdout",
     "output_type": "stream",
     "text": [
      "(3585, 8) (3585, 1)\n",
      "(3579, 8) (3579, 1)\n",
      "(2, 8) (2, 1)\n"
     ]
    }
   ],
   "source": [
    "print(test_X.shape, test_Y.shape)\n",
    "print(val_X.shape, val_Y.shape)\n",
    "print(train_X.shape, train_Y.shape)"
   ]
  },
  {
   "cell_type": "code",
   "execution_count": 20,
   "id": "44eceb1e-df37-44b2-8900-7e84b1bcdc6e",
   "metadata": {},
   "outputs": [],
   "source": [
    "# 일단 틀만 만들어주기\n",
    "def run_train(x, y):\n",
    "    loss = 0\n",
    "    accuracy = 100\n",
    "    \n",
    "    return loss, accuracy  "
   ]
  },
  {
   "cell_type": "code",
   "execution_count": 21,
   "id": "54fd293d-5a7f-4a11-a1d5-768b84be69b9",
   "metadata": {},
   "outputs": [
    {
     "name": "stdout",
     "output_type": "stream",
     "text": [
      "0 100\n"
     ]
    }
   ],
   "source": [
    "train_loss, train_acc = run_train(0, 0)\n",
    "print(train_loss, train_acc)"
   ]
  },
  {
   "cell_type": "code",
   "execution_count": 22,
   "id": "70810c8f-de87-488d-a293-7b6995e75a95",
   "metadata": {},
   "outputs": [],
   "source": [
    "# 일단 틀만 만들어주기\n",
    "def run_test(x, y):\n",
    "    loss = 0\n",
    "    accuracy = 100\n",
    "    \n",
    "    return loss, accuracy"
   ]
  },
  {
   "cell_type": "code",
   "execution_count": 23,
   "id": "4bc96fd1-98d3-4ac1-8246-7837ed336e32",
   "metadata": {},
   "outputs": [
    {
     "name": "stdout",
     "output_type": "stream",
     "text": [
      "0 100\n"
     ]
    }
   ],
   "source": [
    "test_loss, test_acc = run_test(0, 0)\n",
    "print(test_loss, test_acc)"
   ]
  },
  {
   "cell_type": "code",
   "execution_count": 24,
   "id": "bb97c166-94f0-43c3-876d-e4af808a5ce0",
   "metadata": {},
   "outputs": [],
   "source": [
    "def train_and_test(epoch_count, mb_size, report, train_ratio, val_ratio):\n",
    "\n",
    "    mini_batch_step_count = arrange_data(mb_size, train_ratio, val_ratio)\n",
    "\n",
    "    test_x, test_y = get_test_data()\n",
    "    # 새롭게 추가된 코드 ▼\n",
    "    val_x, val_y   = get_val_data()\n",
    "\n",
    "    # 새롭게 추가된 코드 ▼\n",
    "    val_loss_row, val_acc_row      = [], []\n",
    "    losses_mean_row, accs_mean_row = [], []\n",
    "    # 에폭에 따른 반복문 \n",
    "    for epoch in range(epoch_count):\n",
    "\n",
    "        losses = []\n",
    "        accs   = []\n",
    "        # 배치에 따른 반복문 \n",
    "        for n in range(mini_batch_step_count):\n",
    "            train_x, train_y = get_train_data(mb_size, n)\n",
    "\n",
    "            loss, acc        = run_train(train_x, train_y)\n",
    "\n",
    "            losses.append(loss)\n",
    "            accs.append(acc)\n",
    "            \n",
    "        # 새롭게 추가된 코드 ▼\n",
    "        val_loss, val_acc = run_test(val_x, val_y)\n",
    "        val_loss_row.append(val_loss)\n",
    "        val_acc_row.append(val_acc)\n",
    "\n",
    "        if report > 0 and (epoch + 1) % report == 0:\n",
    "            print(\"Epoch {} : Train - Loss = {:.3f}, Accuracy = {:.3f} / Val - Loss = {:.3f}, Accuracy = {:.3f}\".\\\n",
    "                  format(epoch + 1, np.mean(losses), np.mean(accs), val_loss, val_acc))\n",
    "            \n",
    "        \n",
    "        losses_mean = np.mean(losses)\n",
    "        accs_mean   = np.mean(accs)\n",
    "\n",
    "        losses_mean_row.append(losses_mean)\n",
    "        accs_mean_row.append(accs_mean)\n",
    "\n",
    "    # 테스트 데이터를 가지고 테스트 수행\n",
    "    test_loss, test_acc = run_test(test_x, test_y)\n",
    "\n",
    "    print('\\n', \"=\" * 40, \"Final Test\", \"=\" * 40)\n",
    "    print(\"\\nTest Accuracy = {:.3f}\".format(test_acc))\n",
    "    print(\"\\nTest Loss     = {:.3f}\".format(test_loss))\n",
    "\n",
    "    return [losses_mean_row, accs_mean_row], [val_loss_row, val_acc_row], [test_loss, test_acc]\n"
   ]
  },
  {
   "cell_type": "code",
   "execution_count": 25,
   "id": "2c9b0d5f-25f0-49ac-be30-a5499351ee41",
   "metadata": {},
   "outputs": [
    {
     "name": "stdout",
     "output_type": "stream",
     "text": [
      "Epoch 1 : Train - Loss = 0.000, Accuracy = 100.000 / Val - Loss = 0.000, Accuracy = 100.000\n",
      "Epoch 2 : Train - Loss = 0.000, Accuracy = 100.000 / Val - Loss = 0.000, Accuracy = 100.000\n",
      "Epoch 3 : Train - Loss = 0.000, Accuracy = 100.000 / Val - Loss = 0.000, Accuracy = 100.000\n",
      "Epoch 4 : Train - Loss = 0.000, Accuracy = 100.000 / Val - Loss = 0.000, Accuracy = 100.000\n",
      "Epoch 5 : Train - Loss = 0.000, Accuracy = 100.000 / Val - Loss = 0.000, Accuracy = 100.000\n",
      "Epoch 6 : Train - Loss = 0.000, Accuracy = 100.000 / Val - Loss = 0.000, Accuracy = 100.000\n",
      "Epoch 7 : Train - Loss = 0.000, Accuracy = 100.000 / Val - Loss = 0.000, Accuracy = 100.000\n",
      "Epoch 8 : Train - Loss = 0.000, Accuracy = 100.000 / Val - Loss = 0.000, Accuracy = 100.000\n",
      "Epoch 9 : Train - Loss = 0.000, Accuracy = 100.000 / Val - Loss = 0.000, Accuracy = 100.000\n",
      "Epoch 10 : Train - Loss = 0.000, Accuracy = 100.000 / Val - Loss = 0.000, Accuracy = 100.000\n",
      "Epoch 11 : Train - Loss = 0.000, Accuracy = 100.000 / Val - Loss = 0.000, Accuracy = 100.000\n",
      "Epoch 12 : Train - Loss = 0.000, Accuracy = 100.000 / Val - Loss = 0.000, Accuracy = 100.000\n",
      "Epoch 13 : Train - Loss = 0.000, Accuracy = 100.000 / Val - Loss = 0.000, Accuracy = 100.000\n",
      "Epoch 14 : Train - Loss = 0.000, Accuracy = 100.000 / Val - Loss = 0.000, Accuracy = 100.000\n",
      "Epoch 15 : Train - Loss = 0.000, Accuracy = 100.000 / Val - Loss = 0.000, Accuracy = 100.000\n",
      "Epoch 16 : Train - Loss = 0.000, Accuracy = 100.000 / Val - Loss = 0.000, Accuracy = 100.000\n",
      "Epoch 17 : Train - Loss = 0.000, Accuracy = 100.000 / Val - Loss = 0.000, Accuracy = 100.000\n",
      "Epoch 18 : Train - Loss = 0.000, Accuracy = 100.000 / Val - Loss = 0.000, Accuracy = 100.000\n",
      "Epoch 19 : Train - Loss = 0.000, Accuracy = 100.000 / Val - Loss = 0.000, Accuracy = 100.000\n",
      "Epoch 20 : Train - Loss = 0.000, Accuracy = 100.000 / Val - Loss = 0.000, Accuracy = 100.000\n",
      "Epoch 21 : Train - Loss = 0.000, Accuracy = 100.000 / Val - Loss = 0.000, Accuracy = 100.000\n",
      "Epoch 22 : Train - Loss = 0.000, Accuracy = 100.000 / Val - Loss = 0.000, Accuracy = 100.000\n",
      "Epoch 23 : Train - Loss = 0.000, Accuracy = 100.000 / Val - Loss = 0.000, Accuracy = 100.000\n",
      "Epoch 24 : Train - Loss = 0.000, Accuracy = 100.000 / Val - Loss = 0.000, Accuracy = 100.000\n",
      "Epoch 25 : Train - Loss = 0.000, Accuracy = 100.000 / Val - Loss = 0.000, Accuracy = 100.000\n",
      "Epoch 26 : Train - Loss = 0.000, Accuracy = 100.000 / Val - Loss = 0.000, Accuracy = 100.000\n",
      "Epoch 27 : Train - Loss = 0.000, Accuracy = 100.000 / Val - Loss = 0.000, Accuracy = 100.000\n",
      "Epoch 28 : Train - Loss = 0.000, Accuracy = 100.000 / Val - Loss = 0.000, Accuracy = 100.000\n",
      "Epoch 29 : Train - Loss = 0.000, Accuracy = 100.000 / Val - Loss = 0.000, Accuracy = 100.000\n",
      "Epoch 30 : Train - Loss = 0.000, Accuracy = 100.000 / Val - Loss = 0.000, Accuracy = 100.000\n",
      "Epoch 31 : Train - Loss = 0.000, Accuracy = 100.000 / Val - Loss = 0.000, Accuracy = 100.000\n",
      "Epoch 32 : Train - Loss = 0.000, Accuracy = 100.000 / Val - Loss = 0.000, Accuracy = 100.000\n",
      "Epoch 33 : Train - Loss = 0.000, Accuracy = 100.000 / Val - Loss = 0.000, Accuracy = 100.000\n",
      "Epoch 34 : Train - Loss = 0.000, Accuracy = 100.000 / Val - Loss = 0.000, Accuracy = 100.000\n",
      "Epoch 35 : Train - Loss = 0.000, Accuracy = 100.000 / Val - Loss = 0.000, Accuracy = 100.000\n",
      "Epoch 36 : Train - Loss = 0.000, Accuracy = 100.000 / Val - Loss = 0.000, Accuracy = 100.000\n",
      "Epoch 37 : Train - Loss = 0.000, Accuracy = 100.000 / Val - Loss = 0.000, Accuracy = 100.000\n",
      "Epoch 38 : Train - Loss = 0.000, Accuracy = 100.000 / Val - Loss = 0.000, Accuracy = 100.000\n",
      "Epoch 39 : Train - Loss = 0.000, Accuracy = 100.000 / Val - Loss = 0.000, Accuracy = 100.000\n",
      "Epoch 40 : Train - Loss = 0.000, Accuracy = 100.000 / Val - Loss = 0.000, Accuracy = 100.000\n",
      "Epoch 41 : Train - Loss = 0.000, Accuracy = 100.000 / Val - Loss = 0.000, Accuracy = 100.000\n",
      "Epoch 42 : Train - Loss = 0.000, Accuracy = 100.000 / Val - Loss = 0.000, Accuracy = 100.000\n",
      "Epoch 43 : Train - Loss = 0.000, Accuracy = 100.000 / Val - Loss = 0.000, Accuracy = 100.000\n",
      "Epoch 44 : Train - Loss = 0.000, Accuracy = 100.000 / Val - Loss = 0.000, Accuracy = 100.000\n",
      "Epoch 45 : Train - Loss = 0.000, Accuracy = 100.000 / Val - Loss = 0.000, Accuracy = 100.000\n",
      "Epoch 46 : Train - Loss = 0.000, Accuracy = 100.000 / Val - Loss = 0.000, Accuracy = 100.000\n",
      "Epoch 47 : Train - Loss = 0.000, Accuracy = 100.000 / Val - Loss = 0.000, Accuracy = 100.000\n",
      "Epoch 48 : Train - Loss = 0.000, Accuracy = 100.000 / Val - Loss = 0.000, Accuracy = 100.000\n",
      "Epoch 49 : Train - Loss = 0.000, Accuracy = 100.000 / Val - Loss = 0.000, Accuracy = 100.000\n",
      "Epoch 50 : Train - Loss = 0.000, Accuracy = 100.000 / Val - Loss = 0.000, Accuracy = 100.000\n",
      "Epoch 51 : Train - Loss = 0.000, Accuracy = 100.000 / Val - Loss = 0.000, Accuracy = 100.000\n",
      "Epoch 52 : Train - Loss = 0.000, Accuracy = 100.000 / Val - Loss = 0.000, Accuracy = 100.000\n",
      "Epoch 53 : Train - Loss = 0.000, Accuracy = 100.000 / Val - Loss = 0.000, Accuracy = 100.000\n",
      "Epoch 54 : Train - Loss = 0.000, Accuracy = 100.000 / Val - Loss = 0.000, Accuracy = 100.000\n",
      "Epoch 55 : Train - Loss = 0.000, Accuracy = 100.000 / Val - Loss = 0.000, Accuracy = 100.000\n",
      "Epoch 56 : Train - Loss = 0.000, Accuracy = 100.000 / Val - Loss = 0.000, Accuracy = 100.000\n",
      "Epoch 57 : Train - Loss = 0.000, Accuracy = 100.000 / Val - Loss = 0.000, Accuracy = 100.000\n",
      "Epoch 58 : Train - Loss = 0.000, Accuracy = 100.000 / Val - Loss = 0.000, Accuracy = 100.000\n",
      "Epoch 59 : Train - Loss = 0.000, Accuracy = 100.000 / Val - Loss = 0.000, Accuracy = 100.000\n",
      "Epoch 60 : Train - Loss = 0.000, Accuracy = 100.000 / Val - Loss = 0.000, Accuracy = 100.000\n",
      "Epoch 61 : Train - Loss = 0.000, Accuracy = 100.000 / Val - Loss = 0.000, Accuracy = 100.000\n",
      "Epoch 62 : Train - Loss = 0.000, Accuracy = 100.000 / Val - Loss = 0.000, Accuracy = 100.000\n",
      "Epoch 63 : Train - Loss = 0.000, Accuracy = 100.000 / Val - Loss = 0.000, Accuracy = 100.000\n",
      "Epoch 64 : Train - Loss = 0.000, Accuracy = 100.000 / Val - Loss = 0.000, Accuracy = 100.000\n",
      "Epoch 65 : Train - Loss = 0.000, Accuracy = 100.000 / Val - Loss = 0.000, Accuracy = 100.000\n",
      "Epoch 66 : Train - Loss = 0.000, Accuracy = 100.000 / Val - Loss = 0.000, Accuracy = 100.000\n",
      "Epoch 67 : Train - Loss = 0.000, Accuracy = 100.000 / Val - Loss = 0.000, Accuracy = 100.000\n",
      "Epoch 68 : Train - Loss = 0.000, Accuracy = 100.000 / Val - Loss = 0.000, Accuracy = 100.000\n",
      "Epoch 69 : Train - Loss = 0.000, Accuracy = 100.000 / Val - Loss = 0.000, Accuracy = 100.000\n",
      "Epoch 70 : Train - Loss = 0.000, Accuracy = 100.000 / Val - Loss = 0.000, Accuracy = 100.000\n",
      "Epoch 71 : Train - Loss = 0.000, Accuracy = 100.000 / Val - Loss = 0.000, Accuracy = 100.000\n",
      "Epoch 72 : Train - Loss = 0.000, Accuracy = 100.000 / Val - Loss = 0.000, Accuracy = 100.000\n",
      "Epoch 73 : Train - Loss = 0.000, Accuracy = 100.000 / Val - Loss = 0.000, Accuracy = 100.000\n",
      "Epoch 74 : Train - Loss = 0.000, Accuracy = 100.000 / Val - Loss = 0.000, Accuracy = 100.000\n",
      "Epoch 75 : Train - Loss = 0.000, Accuracy = 100.000 / Val - Loss = 0.000, Accuracy = 100.000\n",
      "Epoch 76 : Train - Loss = 0.000, Accuracy = 100.000 / Val - Loss = 0.000, Accuracy = 100.000\n",
      "Epoch 77 : Train - Loss = 0.000, Accuracy = 100.000 / Val - Loss = 0.000, Accuracy = 100.000\n",
      "Epoch 78 : Train - Loss = 0.000, Accuracy = 100.000 / Val - Loss = 0.000, Accuracy = 100.000\n",
      "Epoch 79 : Train - Loss = 0.000, Accuracy = 100.000 / Val - Loss = 0.000, Accuracy = 100.000\n",
      "Epoch 80 : Train - Loss = 0.000, Accuracy = 100.000 / Val - Loss = 0.000, Accuracy = 100.000\n",
      "Epoch 81 : Train - Loss = 0.000, Accuracy = 100.000 / Val - Loss = 0.000, Accuracy = 100.000\n",
      "Epoch 82 : Train - Loss = 0.000, Accuracy = 100.000 / Val - Loss = 0.000, Accuracy = 100.000\n",
      "Epoch 83 : Train - Loss = 0.000, Accuracy = 100.000 / Val - Loss = 0.000, Accuracy = 100.000\n",
      "Epoch 84 : Train - Loss = 0.000, Accuracy = 100.000 / Val - Loss = 0.000, Accuracy = 100.000\n",
      "Epoch 85 : Train - Loss = 0.000, Accuracy = 100.000 / Val - Loss = 0.000, Accuracy = 100.000\n",
      "Epoch 86 : Train - Loss = 0.000, Accuracy = 100.000 / Val - Loss = 0.000, Accuracy = 100.000\n",
      "Epoch 87 : Train - Loss = 0.000, Accuracy = 100.000 / Val - Loss = 0.000, Accuracy = 100.000\n",
      "Epoch 88 : Train - Loss = 0.000, Accuracy = 100.000 / Val - Loss = 0.000, Accuracy = 100.000\n",
      "Epoch 89 : Train - Loss = 0.000, Accuracy = 100.000 / Val - Loss = 0.000, Accuracy = 100.000\n",
      "Epoch 90 : Train - Loss = 0.000, Accuracy = 100.000 / Val - Loss = 0.000, Accuracy = 100.000\n",
      "Epoch 91 : Train - Loss = 0.000, Accuracy = 100.000 / Val - Loss = 0.000, Accuracy = 100.000\n",
      "Epoch 92 : Train - Loss = 0.000, Accuracy = 100.000 / Val - Loss = 0.000, Accuracy = 100.000\n",
      "Epoch 93 : Train - Loss = 0.000, Accuracy = 100.000 / Val - Loss = 0.000, Accuracy = 100.000\n",
      "Epoch 94 : Train - Loss = 0.000, Accuracy = 100.000 / Val - Loss = 0.000, Accuracy = 100.000\n",
      "Epoch 95 : Train - Loss = 0.000, Accuracy = 100.000 / Val - Loss = 0.000, Accuracy = 100.000\n",
      "Epoch 96 : Train - Loss = 0.000, Accuracy = 100.000 / Val - Loss = 0.000, Accuracy = 100.000\n",
      "Epoch 97 : Train - Loss = 0.000, Accuracy = 100.000 / Val - Loss = 0.000, Accuracy = 100.000\n",
      "Epoch 98 : Train - Loss = 0.000, Accuracy = 100.000 / Val - Loss = 0.000, Accuracy = 100.000\n",
      "Epoch 99 : Train - Loss = 0.000, Accuracy = 100.000 / Val - Loss = 0.000, Accuracy = 100.000\n",
      "Epoch 100 : Train - Loss = 0.000, Accuracy = 100.000 / Val - Loss = 0.000, Accuracy = 100.000\n",
      "\n",
      " ======================================== Final Test ========================================\n",
      "\n",
      "Test Accuracy = 100.000\n",
      "\n",
      "Test Loss     = 0.000\n"
     ]
    }
   ],
   "source": [
    "train_metrics_mean_row, val_metrics_row, test_metrics = train_and_test(epoch_count     = 100, \n",
    "                                                                           mb_size     = 1, \n",
    "                                                                           report      = 1, \n",
    "                                                                           train_ratio = 0.6, \n",
    "                                                                           val_ratio   = 0.2)"
   ]
  },
  {
   "cell_type": "code",
   "execution_count": 26,
   "id": "ff0dbf23-d384-4f7f-a9fe-c07d793cc8c1",
   "metadata": {},
   "outputs": [],
   "source": [
    "def forward_neuralnet(x):\n",
    "    y_hat = np.matmul(x, weight) + bias\n",
    "    return y_hat, x"
   ]
  },
  {
   "cell_type": "code",
   "execution_count": 27,
   "id": "5910196c-5df4-4272-bb63-c061c5cf7857",
   "metadata": {},
   "outputs": [
    {
     "name": "stdout",
     "output_type": "stream",
     "text": [
      "y_hat : \n",
      " [[-1.52371172]\n",
      " [-1.72823986]]\n"
     ]
    }
   ],
   "source": [
    "y_hat, _ = forward_neuralnet(train_X)\n",
    "print(\"y_hat : \\n\", y_hat)"
   ]
  },
  {
   "cell_type": "code",
   "execution_count": 28,
   "id": "907c4674-11bd-4c51-bf57-cbae883d0536",
   "metadata": {},
   "outputs": [],
   "source": [
    "def relu(x):\n",
    "    return np.maximum(x,0)"
   ]
  },
  {
   "cell_type": "code",
   "execution_count": 29,
   "id": "78510107-4bbc-4fa2-b164-ffb6c2a2109a",
   "metadata": {},
   "outputs": [],
   "source": [
    "# z 는 실제 확률 분포 / x는 신경망이 출력해낸 값\n",
    "def sigmoid_cross_entropy_with_logits(z, x):\n",
    "    return relu(x) - x * z + np.log(1 + np.exp(-np.abs(x)))"
   ]
  },
  {
   "cell_type": "code",
   "execution_count": 30,
   "id": "e3c139b9-0454-4a2a-b907-013e88ba1b6c",
   "metadata": {},
   "outputs": [
    {
     "name": "stdout",
     "output_type": "stream",
     "text": [
      "loss : \n",
      " [[0.19712937]\n",
      " [0.16347569]]\n"
     ]
    }
   ],
   "source": [
    "loss = sigmoid_cross_entropy_with_logits(train_Y, y_hat)\n",
    "print(\"loss : \\n\",loss)"
   ]
  },
  {
   "cell_type": "code",
   "execution_count": 32,
   "id": "e76bcea5-5bb0-4fc1-9db6-887b2a2bd123",
   "metadata": {},
   "outputs": [
    {
     "data": {
      "text/plain": [
       "array([[0.],\n",
       "       [0.]], dtype=float32)"
      ]
     },
     "execution_count": 32,
     "metadata": {},
     "output_type": "execute_result"
    }
   ],
   "source": [
    "train_Y"
   ]
  },
  {
   "cell_type": "code",
   "execution_count": 33,
   "id": "8bb4ff74-9b0f-48d7-9a62-87099f6400b4",
   "metadata": {},
   "outputs": [
    {
     "data": {
      "text/plain": [
       "array([[-1.52371172],\n",
       "       [-1.72823986]])"
      ]
     },
     "execution_count": 33,
     "metadata": {},
     "output_type": "execute_result"
    }
   ],
   "source": [
    "y_hat"
   ]
  },
  {
   "cell_type": "code",
   "execution_count": 34,
   "id": "370308c9-6b61-4b0e-856c-efb529cfedf2",
   "metadata": {},
   "outputs": [],
   "source": [
    "def forward_postproc(output, y):\n",
    "    CEE   = sigmoid_cross_entropy_with_logits(y, output)\n",
    "    loss  = np.mean(CEE)\n",
    "\n",
    "    return loss, [y, output, CEE]"
   ]
  },
  {
   "cell_type": "code",
   "execution_count": 35,
   "id": "5fbc40af-ef89-4943-84d3-c45738b8d97c",
   "metadata": {},
   "outputs": [
    {
     "name": "stdout",
     "output_type": "stream",
     "text": [
      "loss :  0.18030253268599022\n"
     ]
    }
   ],
   "source": [
    "loss, _ = forward_postproc(y_hat, train_Y)\n",
    "print(\"loss : \", loss)"
   ]
  },
  {
   "cell_type": "code",
   "execution_count": 36,
   "id": "b556a0d0-c418-49f9-8e64-5def61bbadd5",
   "metadata": {},
   "outputs": [],
   "source": [
    "def backprop_neuralnet(G_output, x):\n",
    "    global weight, bias \n",
    "\n",
    "    x_transpose = x.transpose()\n",
    "    G_w = np.matmul(x_transpose, G_output)\n",
    "    \n",
    "    G_b = np.sum(G_output, axis = 0)\n",
    "\n",
    "    weight -= LEARNING_RATE * G_w\n",
    "    bias   -= LEARNING_RATE * G_b"
   ]
  },
  {
   "cell_type": "code",
   "execution_count": 37,
   "id": "b6502bc0-da0e-49ef-9d3a-d25732b2acb4",
   "metadata": {},
   "outputs": [],
   "source": [
    "def sigmoid(x):\n",
    "    return np.exp(-relu(-x)) / (1.0 + np.exp(-np.abs(x)))"
   ]
  },
  {
   "cell_type": "code",
   "execution_count": 38,
   "id": "80263aff-c782-4e25-9ff7-519bfa1ce026",
   "metadata": {},
   "outputs": [],
   "source": [
    "def sigmoid_cross_entropy_with_logits_derv(z, x):\n",
    "    return -z + sigmoid(x)"
   ]
  },
  {
   "cell_type": "code",
   "execution_count": 39,
   "id": "490244db-7376-459b-8de4-fd8385109cc3",
   "metadata": {},
   "outputs": [
    {
     "name": "stdout",
     "output_type": "stream",
     "text": [
      "[[0.1789156 ]\n",
      " [0.15081286]]\n"
     ]
    }
   ],
   "source": [
    "result = sigmoid_cross_entropy_with_logits_derv(z = train_Y, x = y_hat)\n",
    "print(result)"
   ]
  },
  {
   "cell_type": "code",
   "execution_count": 42,
   "id": "09371063-dcd7-4f02-9a62-c80d511575f4",
   "metadata": {},
   "outputs": [
    {
     "data": {
      "text/plain": [
       "array([[0.1789156 ],\n",
       "       [0.15081286]])"
      ]
     },
     "execution_count": 42,
     "metadata": {},
     "output_type": "execute_result"
    }
   ],
   "source": [
    "sigmoid_cross_entropy_with_logits_derv(z=train_Y, x=y_hat)"
   ]
  },
  {
   "cell_type": "code",
   "execution_count": 43,
   "id": "7750d676-eda3-4678-97b0-ccb96633a17d",
   "metadata": {},
   "outputs": [],
   "source": [
    "def backprop_postproc(aux_pp_y_output_CEE):\n",
    "\n",
    "    y, output, CEE = aux_pp_y_output_CEE\n",
    "\n",
    "    g_loss_entropy   = 1.0 / np.prod(CEE.shape)\n",
    "    g_entropy_output = sigmoid_cross_entropy_with_logits_derv(y, output)\n",
    "\n",
    "    G_output = g_entropy_output * g_loss_entropy \n",
    "\n",
    "    return G_output"
   ]
  },
  {
   "cell_type": "code",
   "execution_count": 44,
   "id": "990b9722-75d9-47b1-a396-a969b103168a",
   "metadata": {},
   "outputs": [
    {
     "name": "stdout",
     "output_type": "stream",
     "text": [
      "False\n",
      "False\n",
      "False\n",
      "True\n",
      "True\n"
     ]
    }
   ],
   "source": [
    "output_list = [-10, -5, 0, 5 , 10]\n",
    "\n",
    "for output in output_list:\n",
    "    result = np.greater(output, 0)\n",
    "    print(result)"
   ]
  },
  {
   "cell_type": "code",
   "execution_count": 45,
   "id": "ef7710f4-a1e5-4ebe-a7a7-55a4cc459dd8",
   "metadata": {},
   "outputs": [],
   "source": [
    "def eval_accuracy(output, y):\n",
    "\n",
    "    estimate = np.greater(output, 0)\n",
    "\n",
    "    answer   = np.greater(y, 0.5)\n",
    "\n",
    "    correct = np.equal(estimate, answer)\n",
    "\n",
    "    return np.mean(correct)"
   ]
  },
  {
   "cell_type": "code",
   "execution_count": 46,
   "id": "bd7d8a6c-f116-4981-9009-bb65b1ab9c10",
   "metadata": {},
   "outputs": [
    {
     "name": "stdout",
     "output_type": "stream",
     "text": [
      "Acc : 100.00 %\n"
     ]
    }
   ],
   "source": [
    "acc = eval_accuracy(y_hat, train_Y)\n",
    "print(\"Acc : {:.2f} %\".format(acc * 100))"
   ]
  },
  {
   "cell_type": "code",
   "execution_count": 56,
   "id": "990e74bf-a45f-42fa-865d-b4aeb73c40fe",
   "metadata": {},
   "outputs": [
    {
     "data": {
      "text/plain": [
       "True"
      ]
     },
     "execution_count": 56,
     "metadata": {},
     "output_type": "execute_result"
    }
   ],
   "source": [
    "np.greater(2, 0)\n"
   ]
  },
  {
   "cell_type": "code",
   "execution_count": 47,
   "id": "0e8765d5-6e59-4774-a425-3972584e7adc",
   "metadata": {},
   "outputs": [],
   "source": [
    "def run_train(x, y):\n",
    "    y_hat, aux_nn_x           = forward_neuralnet(x)\n",
    "    loss, aux_pp_y_output_CEE = forward_postproc(y_hat, y)\n",
    "\n",
    "    accuracy = eval_accuracy(y_hat, y)\n",
    "\n",
    "    G_output = backprop_postproc(aux_pp_y_output_CEE)\n",
    "    backprop_neuralnet(G_output, aux_nn_x)\n",
    "\n",
    "    return loss, accuracy"
   ]
  },
  {
   "cell_type": "code",
   "execution_count": 48,
   "id": "24fdb7ca-fabf-432b-b96c-60222d8006bc",
   "metadata": {},
   "outputs": [],
   "source": [
    "def run_test(x,y):\n",
    "    y_hat, _ = forward_neuralnet(x)\n",
    "    loss, _  = forward_postproc(y_hat, y)\n",
    "    accuracy = eval_accuracy(y_hat, y)\n",
    "\n",
    "    return loss, accuracy"
   ]
  },
  {
   "cell_type": "code",
   "execution_count": 49,
   "id": "011d9b22-e815-452e-8b59-2d1c5ffcd79a",
   "metadata": {},
   "outputs": [
    {
     "name": "stdout",
     "output_type": "stream",
     "text": [
      "Initial weight value : \n",
      " [[-0.00639331]\n",
      " [ 0.03169445]\n",
      " [-0.01766583]\n",
      " [-0.00204796]\n",
      " [ 0.00602446]\n",
      " [ 0.03103029]\n",
      " [ 0.02753671]\n",
      " [ 0.04506816]]\n",
      "Initial bias value : \n",
      " [0.]\n",
      "Epoch 1 : Train - Loss = 7.692, Accuracy = 0.942 / Val - Loss = 4.506, Accuracy = 0.953\n",
      "Epoch 2 : Train - Loss = 5.422, Accuracy = 0.953 / Val - Loss = 10.818, Accuracy = 0.960\n",
      "Epoch 3 : Train - Loss = 7.226, Accuracy = 0.950 / Val - Loss = 11.989, Accuracy = 0.965\n",
      "Epoch 4 : Train - Loss = 6.809, Accuracy = 0.954 / Val - Loss = 7.311, Accuracy = 0.969\n",
      "Epoch 5 : Train - Loss = 6.155, Accuracy = 0.955 / Val - Loss = 10.086, Accuracy = 0.968\n",
      "Epoch 6 : Train - Loss = 5.328, Accuracy = 0.957 / Val - Loss = 3.777, Accuracy = 0.874\n",
      "Epoch 7 : Train - Loss = 4.976, Accuracy = 0.957 / Val - Loss = 3.545, Accuracy = 0.944\n",
      "Epoch 8 : Train - Loss = 3.803, Accuracy = 0.959 / Val - Loss = 1.735, Accuracy = 0.946\n",
      "Epoch 9 : Train - Loss = 4.496, Accuracy = 0.958 / Val - Loss = 2.123, Accuracy = 0.910\n",
      "Epoch 10 : Train - Loss = 4.578, Accuracy = 0.956 / Val - Loss = 2.698, Accuracy = 0.899\n",
      "Epoch 11 : Train - Loss = 5.802, Accuracy = 0.954 / Val - Loss = 8.931, Accuracy = 0.968\n",
      "Epoch 12 : Train - Loss = 5.599, Accuracy = 0.957 / Val - Loss = 2.868, Accuracy = 0.906\n",
      "Epoch 13 : Train - Loss = 6.523, Accuracy = 0.957 / Val - Loss = 6.844, Accuracy = 0.972\n",
      "Epoch 14 : Train - Loss = 5.574, Accuracy = 0.958 / Val - Loss = 3.472, Accuracy = 0.973\n",
      "Epoch 15 : Train - Loss = 3.962, Accuracy = 0.957 / Val - Loss = 4.805, Accuracy = 0.972\n",
      "Epoch 16 : Train - Loss = 5.079, Accuracy = 0.959 / Val - Loss = 3.309, Accuracy = 0.882\n",
      "Epoch 17 : Train - Loss = 5.805, Accuracy = 0.959 / Val - Loss = 7.343, Accuracy = 0.972\n",
      "Epoch 18 : Train - Loss = 4.914, Accuracy = 0.959 / Val - Loss = 7.750, Accuracy = 0.971\n",
      "Epoch 19 : Train - Loss = 5.378, Accuracy = 0.958 / Val - Loss = 3.629, Accuracy = 0.885\n",
      "Epoch 20 : Train - Loss = 4.865, Accuracy = 0.959 / Val - Loss = 11.230, Accuracy = 0.910\n",
      "Epoch 21 : Train - Loss = 5.659, Accuracy = 0.958 / Val - Loss = 4.671, Accuracy = 0.972\n",
      "Epoch 22 : Train - Loss = 3.297, Accuracy = 0.962 / Val - Loss = 2.434, Accuracy = 0.915\n",
      "Epoch 23 : Train - Loss = 5.437, Accuracy = 0.959 / Val - Loss = 2.022, Accuracy = 0.959\n",
      "Epoch 24 : Train - Loss = 5.372, Accuracy = 0.960 / Val - Loss = 11.886, Accuracy = 0.912\n",
      "Epoch 25 : Train - Loss = 4.892, Accuracy = 0.959 / Val - Loss = 2.868, Accuracy = 0.972\n",
      "Epoch 26 : Train - Loss = 4.911, Accuracy = 0.958 / Val - Loss = 2.482, Accuracy = 0.932\n",
      "Epoch 27 : Train - Loss = 4.530, Accuracy = 0.961 / Val - Loss = 8.067, Accuracy = 0.972\n",
      "Epoch 28 : Train - Loss = 5.682, Accuracy = 0.957 / Val - Loss = 11.430, Accuracy = 0.917\n",
      "Epoch 29 : Train - Loss = 3.701, Accuracy = 0.961 / Val - Loss = 3.263, Accuracy = 0.889\n",
      "Epoch 30 : Train - Loss = 2.883, Accuracy = 0.960 / Val - Loss = 5.023, Accuracy = 0.839\n",
      "Epoch 31 : Train - Loss = 5.189, Accuracy = 0.958 / Val - Loss = 10.684, Accuracy = 0.931\n",
      "Epoch 32 : Train - Loss = 5.859, Accuracy = 0.958 / Val - Loss = 5.521, Accuracy = 0.885\n",
      "Epoch 33 : Train - Loss = 3.056, Accuracy = 0.963 / Val - Loss = 3.766, Accuracy = 0.866\n",
      "Epoch 34 : Train - Loss = 3.709, Accuracy = 0.959 / Val - Loss = 4.616, Accuracy = 0.885\n",
      "Epoch 35 : Train - Loss = 4.901, Accuracy = 0.960 / Val - Loss = 8.944, Accuracy = 0.895\n",
      "Epoch 36 : Train - Loss = 5.455, Accuracy = 0.959 / Val - Loss = 3.727, Accuracy = 0.901\n",
      "Epoch 37 : Train - Loss = 3.582, Accuracy = 0.962 / Val - Loss = 2.915, Accuracy = 0.973\n",
      "Epoch 38 : Train - Loss = 5.197, Accuracy = 0.959 / Val - Loss = 3.978, Accuracy = 0.972\n",
      "Epoch 39 : Train - Loss = 4.763, Accuracy = 0.960 / Val - Loss = 2.325, Accuracy = 0.934\n",
      "Epoch 40 : Train - Loss = 5.032, Accuracy = 0.959 / Val - Loss = 2.932, Accuracy = 0.922\n",
      "Epoch 41 : Train - Loss = 6.067, Accuracy = 0.959 / Val - Loss = 9.497, Accuracy = 0.972\n",
      "Epoch 42 : Train - Loss = 3.772, Accuracy = 0.960 / Val - Loss = 4.610, Accuracy = 0.853\n",
      "Epoch 43 : Train - Loss = 4.238, Accuracy = 0.958 / Val - Loss = 4.368, Accuracy = 0.972\n",
      "Epoch 44 : Train - Loss = 5.008, Accuracy = 0.959 / Val - Loss = 2.698, Accuracy = 0.913\n",
      "Epoch 45 : Train - Loss = 4.963, Accuracy = 0.959 / Val - Loss = 2.969, Accuracy = 0.903\n",
      "Epoch 46 : Train - Loss = 5.484, Accuracy = 0.960 / Val - Loss = 7.993, Accuracy = 0.947\n",
      "Epoch 47 : Train - Loss = 5.083, Accuracy = 0.960 / Val - Loss = 8.039, Accuracy = 0.971\n",
      "Epoch 48 : Train - Loss = 2.996, Accuracy = 0.961 / Val - Loss = 3.787, Accuracy = 0.972\n",
      "Epoch 49 : Train - Loss = 3.639, Accuracy = 0.960 / Val - Loss = 2.408, Accuracy = 0.923\n",
      "Epoch 50 : Train - Loss = 3.989, Accuracy = 0.960 / Val - Loss = 2.967, Accuracy = 0.967\n",
      "Epoch 51 : Train - Loss = 5.184, Accuracy = 0.959 / Val - Loss = 2.571, Accuracy = 0.922\n",
      "Epoch 52 : Train - Loss = 4.001, Accuracy = 0.961 / Val - Loss = 3.493, Accuracy = 0.911\n",
      "Epoch 53 : Train - Loss = 4.998, Accuracy = 0.958 / Val - Loss = 10.509, Accuracy = 0.927\n",
      "Epoch 54 : Train - Loss = 5.493, Accuracy = 0.958 / Val - Loss = 3.904, Accuracy = 0.973\n",
      "Epoch 55 : Train - Loss = 3.145, Accuracy = 0.962 / Val - Loss = 3.110, Accuracy = 0.895\n",
      "Epoch 56 : Train - Loss = 3.580, Accuracy = 0.962 / Val - Loss = 4.539, Accuracy = 0.862\n",
      "Epoch 57 : Train - Loss = 6.151, Accuracy = 0.957 / Val - Loss = 11.372, Accuracy = 0.928\n",
      "Epoch 58 : Train - Loss = 4.096, Accuracy = 0.962 / Val - Loss = 3.847, Accuracy = 0.896\n",
      "Epoch 59 : Train - Loss = 5.382, Accuracy = 0.958 / Val - Loss = 3.347, Accuracy = 0.891\n",
      "Epoch 60 : Train - Loss = 4.281, Accuracy = 0.960 / Val - Loss = 8.052, Accuracy = 0.948\n",
      "Epoch 61 : Train - Loss = 4.903, Accuracy = 0.959 / Val - Loss = 3.377, Accuracy = 0.888\n",
      "Epoch 62 : Train - Loss = 3.616, Accuracy = 0.961 / Val - Loss = 2.651, Accuracy = 0.973\n",
      "Epoch 63 : Train - Loss = 5.065, Accuracy = 0.959 / Val - Loss = 5.006, Accuracy = 0.969\n",
      "Epoch 64 : Train - Loss = 4.840, Accuracy = 0.960 / Val - Loss = 8.067, Accuracy = 0.913\n",
      "Epoch 65 : Train - Loss = 5.003, Accuracy = 0.960 / Val - Loss = 2.017, Accuracy = 0.967\n",
      "Epoch 66 : Train - Loss = 4.542, Accuracy = 0.960 / Val - Loss = 9.203, Accuracy = 0.956\n",
      "Epoch 67 : Train - Loss = 4.295, Accuracy = 0.960 / Val - Loss = 8.654, Accuracy = 0.966\n",
      "Epoch 68 : Train - Loss = 4.987, Accuracy = 0.959 / Val - Loss = 3.975, Accuracy = 0.888\n",
      "Epoch 69 : Train - Loss = 3.173, Accuracy = 0.962 / Val - Loss = 2.207, Accuracy = 0.972\n",
      "Epoch 70 : Train - Loss = 5.771, Accuracy = 0.956 / Val - Loss = 3.930, Accuracy = 0.973\n",
      "Epoch 71 : Train - Loss = 2.890, Accuracy = 0.961 / Val - Loss = 2.453, Accuracy = 0.972\n",
      "Epoch 72 : Train - Loss = 4.187, Accuracy = 0.958 / Val - Loss = 3.048, Accuracy = 0.897\n",
      "Epoch 73 : Train - Loss = 5.041, Accuracy = 0.959 / Val - Loss = 2.449, Accuracy = 0.971\n",
      "Epoch 74 : Train - Loss = 4.154, Accuracy = 0.960 / Val - Loss = 2.717, Accuracy = 0.908\n",
      "Epoch 75 : Train - Loss = 5.192, Accuracy = 0.959 / Val - Loss = 5.459, Accuracy = 0.968\n",
      "Epoch 76 : Train - Loss = 4.725, Accuracy = 0.960 / Val - Loss = 2.425, Accuracy = 0.972\n",
      "Epoch 77 : Train - Loss = 4.981, Accuracy = 0.958 / Val - Loss = 2.559, Accuracy = 0.922\n",
      "Epoch 78 : Train - Loss = 3.613, Accuracy = 0.960 / Val - Loss = 6.359, Accuracy = 0.968\n",
      "Epoch 79 : Train - Loss = 4.847, Accuracy = 0.960 / Val - Loss = 9.806, Accuracy = 0.915\n",
      "Epoch 80 : Train - Loss = 4.062, Accuracy = 0.959 / Val - Loss = 12.224, Accuracy = 0.966\n",
      "Epoch 81 : Train - Loss = 3.794, Accuracy = 0.961 / Val - Loss = 3.107, Accuracy = 0.896\n",
      "Epoch 82 : Train - Loss = 5.160, Accuracy = 0.959 / Val - Loss = 8.092, Accuracy = 0.939\n",
      "Epoch 83 : Train - Loss = 4.972, Accuracy = 0.960 / Val - Loss = 2.912, Accuracy = 0.903\n",
      "Epoch 84 : Train - Loss = 3.723, Accuracy = 0.959 / Val - Loss = 4.229, Accuracy = 0.972\n",
      "Epoch 85 : Train - Loss = 5.283, Accuracy = 0.960 / Val - Loss = 3.272, Accuracy = 0.972\n",
      "Epoch 86 : Train - Loss = 4.910, Accuracy = 0.960 / Val - Loss = 3.773, Accuracy = 0.973\n",
      "Epoch 87 : Train - Loss = 5.828, Accuracy = 0.959 / Val - Loss = 2.493, Accuracy = 0.949\n",
      "Epoch 88 : Train - Loss = 5.089, Accuracy = 0.959 / Val - Loss = 9.860, Accuracy = 0.936\n",
      "Epoch 89 : Train - Loss = 3.614, Accuracy = 0.960 / Val - Loss = 2.283, Accuracy = 0.973\n",
      "Epoch 90 : Train - Loss = 4.823, Accuracy = 0.960 / Val - Loss = 4.192, Accuracy = 0.973\n",
      "Epoch 91 : Train - Loss = 5.229, Accuracy = 0.959 / Val - Loss = 2.801, Accuracy = 0.909\n",
      "Epoch 92 : Train - Loss = 5.497, Accuracy = 0.958 / Val - Loss = 5.822, Accuracy = 0.913\n",
      "Epoch 93 : Train - Loss = 5.170, Accuracy = 0.959 / Val - Loss = 10.191, Accuracy = 0.929\n",
      "Epoch 94 : Train - Loss = 5.266, Accuracy = 0.958 / Val - Loss = 10.827, Accuracy = 0.916\n",
      "Epoch 95 : Train - Loss = 5.243, Accuracy = 0.959 / Val - Loss = 3.129, Accuracy = 0.912\n",
      "Epoch 96 : Train - Loss = 4.823, Accuracy = 0.960 / Val - Loss = 10.342, Accuracy = 0.923\n",
      "Epoch 97 : Train - Loss = 4.116, Accuracy = 0.961 / Val - Loss = 3.433, Accuracy = 0.970\n",
      "Epoch 98 : Train - Loss = 5.106, Accuracy = 0.961 / Val - Loss = 3.411, Accuracy = 0.970\n",
      "Epoch 99 : Train - Loss = 4.931, Accuracy = 0.961 / Val - Loss = 3.194, Accuracy = 0.889\n",
      "Epoch 100 : Train - Loss = 5.264, Accuracy = 0.961 / Val - Loss = 6.826, Accuracy = 0.972\n",
      "\n",
      " ======================================== Final Test ========================================\n",
      "\n",
      "Test Accuracy = 0.974\n",
      "\n",
      "Test Loss     = 3.530\n"
     ]
    }
   ],
   "source": [
    "train_metrics_mean_row, val_metrics_row, test_metrics = binary_classification_exec(epoch_count = 100, \n",
    "                                                                                   mb_size = 32, \n",
    "                                                                                   report = 1, \n",
    "                                                                                   train_ratio = 0.6, \n",
    "                                                                                   val_ratio = 0.2)"
   ]
  },
  {
   "cell_type": "code",
   "execution_count": 50,
   "id": "a2c0e5b8-9e26-4896-9caf-8cd0b6dac8f0",
   "metadata": {},
   "outputs": [
    {
     "data": {
      "image/png": "[encoded data removed]",
      "text/plain": [
       "<Figure size 864x288 with 2 Axes>"
      ]
     },
     "metadata": {
      "needs_background": "light"
     },
     "output_type": "display_data"
    }
   ],
   "source": [
    "import matplotlib.pyplot as plt\n",
    "\n",
    "plt.figure(figsize=(12, 4))\n",
    "plt.subplot(1, 2, 1)\n",
    "\n",
    "plt.plot(train_metrics_mean_row[0], '--o', color = 'red', label = 'Train Loss')\n",
    "plt.plot(val_metrics_row[0], '-o', color = 'blue', label = 'Val Loss')\n",
    "\n",
    "plt.title('Single layer Perceptron Model \\nTrain Loss : {:.3f}\\nVal Loss: {:.3f}'.format(train_metrics_mean_row[0][-1] , val_metrics_row[0][-1]))\n",
    "plt.xlabel('Epochs')\n",
    "plt.ylabel('loss')\n",
    "plt.grid()\n",
    "plt.legend()\n",
    "\n",
    "plt.subplot(1, 2, 2)\n",
    "\n",
    "plt.plot(train_metrics_mean_row[1], '--o', color = 'red', label = 'Train Acc')\n",
    "plt.plot(val_metrics_row[1], '-o', color = 'blue', label = 'Val Acc')\n",
    "\n",
    "plt.title('Single layer Perceptron Model \\nTrain Acc : {:.3f}\\nVal Acc: {:.3f}'.format(train_metrics_mean_row[1][-1] * 100 , val_metrics_row[1][-1] * 100))\n",
    "plt.xlabel('Epochs')\n",
    "plt.ylabel('Acc')\n",
    "#plt.ylim(0.9,1)\n",
    "plt.grid()\n",
    "plt.legend()\n",
    "\n",
    "plt.show()"
   ]
  },
  {
   "cell_type": "code",
   "execution_count": null,
   "id": "bbcf274f-eab2-4339-ae1e-c109125de521",
   "metadata": {},
   "outputs": [],
   "source": []
  },
  {
   "cell_type": "code",
   "execution_count": null,
   "id": "376a285d-982d-4ec0-92a3-62682601c8ae",
   "metadata": {},
   "outputs": [],
   "source": []
  },
  {
   "cell_type": "code",
   "execution_count": null,
   "id": "1854eb8c-2cf3-44c8-924a-5d78ea8a6fd1",
   "metadata": {},
   "outputs": [],
   "source": []
  },
  {
   "cell_type": "code",
   "execution_count": null,
   "id": "b60ba4ae-6d93-4875-afee-4fd78b79b93a",
   "metadata": {},
   "outputs": [],
   "source": []
  },
  {
   "cell_type": "code",
   "execution_count": null,
   "id": "cefbc17e-c505-4ada-b3d2-3faa84f8b003",
   "metadata": {},
   "outputs": [],
   "source": []
  },
  {
   "cell_type": "code",
   "execution_count": null,
   "id": "5e5e45c1-6319-4b5e-9aaf-a9d973ad3505",
   "metadata": {},
   "outputs": [],
   "source": []
  },
  {
   "cell_type": "code",
   "execution_count": null,
   "id": "b6f79cde-27e0-400a-9e00-91156194f40f",
   "metadata": {},
   "outputs": [],
   "source": []
  },
  {
   "cell_type": "code",
   "execution_count": null,
   "id": "c974feb5-765d-42ee-99fd-2b351cbb8edb",
   "metadata": {},
   "outputs": [],
   "source": []
  },
  {
   "cell_type": "code",
   "execution_count": null,
   "id": "4c243da9-61aa-4430-b652-0e769acbb7ee",
   "metadata": {},
   "outputs": [],
   "source": []
  },
  {
   "cell_type": "code",
   "execution_count": null,
   "id": "6e8e9687-5f2c-4176-8305-b9dd8a8f17cf",
   "metadata": {},
   "outputs": [],
   "source": []
  },
  {
   "cell_type": "code",
   "execution_count": null,
   "id": "70337636-07fa-4078-8c16-a3d488bba324",
   "metadata": {},
   "outputs": [],
   "source": []
  }
 ],
 "metadata": {
  "kernelspec": {
   "display_name": "Python 3",
   "language": "python",
   "name": "python3"
  },
  "language_info": {
   "codemirror_mode": {
    "name": "ipython",
    "version": 3
   },
   "file_extension": ".py",
   "mimetype": "text/x-python",
   "name": "python",
   "nbconvert_exporter": "python",
   "pygments_lexer": "ipython3",
   "version": "3.8.8"
  }
 },
 "nbformat": 4,
 "nbformat_minor": 5
}

{
 "cells": [
  {
   "cell_type": "code",
   "execution_count": 1,
   "id": "6a3dbf08-1926-49b0-8aa5-97bcace9e4ab",
   "metadata": {},
   "outputs": [],
   "source": [
    "x = [580, 700, 810, 840]\n",
    "y = [374, 385, 375, 401]"
   ]
  },
  {
   "cell_type": "code",
   "execution_count": 2,
   "id": "334f1bed-e289-4328-96c9-cc6653970a2c",
   "metadata": {},
   "outputs": [],
   "source": [
    "import numpy as np\n",
    "\n",
    "x = np.asarray([580, 700, 810, 840])\n",
    "y_label_total = np.asarray([374, 385, 375, 401])\n"
   ]
  },
  {
   "cell_type": "code",
   "execution_count": 3,
   "id": "001177f7-f2d1-4f66-ac33-46daa675a5a4",
   "metadata": {},
   "outputs": [],
   "source": [
    "input_cnt = 1\n",
    "output_cnt = 1\n",
    "RND_MEAN = 0\n",
    "RND_STD = 1"
   ]
  },
  {
   "cell_type": "code",
   "execution_count": 4,
   "id": "11e017e3-c050-45f4-94e8-565b2fd25408",
   "metadata": {},
   "outputs": [],
   "source": [
    "def main_execute(x, y, epoch_count, report, lr = 0.001 ): # epoch가 100번 돌린다 하면 다보는 것도 좋지만 3번째 마다 보여주는것도 좋음\n",
    "    model_init()\n",
    "    sse_row, theta_0_row, theta_1_row = run_train(x, y, epoch_count, report, lr)\n",
    "    \n",
    "    return sse_row, theta_0_row, theta_1_row"
   ]
  },
  {
   "cell_type": "code",
   "execution_count": 5,
   "id": "735805e7-8c17-4943-a3ba-4d965e8bd571",
   "metadata": {},
   "outputs": [],
   "source": [
    "def model_init():\n",
    "    global theta_0, theta_1\n",
    "    theta_1 = np.random.normal(RND_MEAN, RND_STD, [input_cnt, output_cnt])\n",
    "    theta_0 = np.random.normal(RND_MEAN, RND_STD, [output_cnt])"
   ]
  },
  {
   "cell_type": "code",
   "execution_count": 6,
   "id": "d4388df7-e057-493a-b660-dbda1b9460cc",
   "metadata": {},
   "outputs": [],
   "source": [
    "def forward_neuralnet(input_x):  # 입력값들 받아 예상 y출력\n",
    "    y_hat = theta_0+theta_1*input_x\n",
    "    \n",
    "    return y_hat"
   ]
  },
  {
   "cell_type": "code",
   "execution_count": 7,
   "id": "25052ac1-9c4d-462d-8dac-137d634baa80",
   "metadata": {},
   "outputs": [],
   "source": [
    "def forward_postproc(output, y):\n",
    "    diff = output - y\n",
    "    square = np.square(diff)\n",
    "    sse = 1/2 * (np.sum(square))\n",
    "    \n",
    "    return sse"
   ]
  },
  {
   "cell_type": "code",
   "execution_count": 8,
   "id": "5ce82bee-15c4-4606-a120-2717b22d8f16",
   "metadata": {},
   "outputs": [],
   "source": [
    "def back_propagation(y_hat, lr): #theta 값들을 갱신해주기때문에 return 값 없음\n",
    "    global theta_0, theta_1\n",
    "    theta_0 = theta_0 - lr*(np.sum(y_hat - y_label_total))\n",
    "    theta_1 = theta_1 - lr*(np.sum((y_hat - y_label_total) * x))"
   ]
  },
  {
   "cell_type": "code",
   "execution_count": 9,
   "id": "89b6662b-87ec-4b21-bf74-9e722f1b0983",
   "metadata": {},
   "outputs": [],
   "source": [
    "def run_train(x, y, epoch_count, report, lr):\n",
    "    print('initial theta_0:{}'.format(theta_0))\n",
    "    print('initial theta_1:{}'.format(theta_1))\n",
    "    sse_row = []\n",
    "    theta_0_row = []\n",
    "    theta_1_row = []\n",
    "    \n",
    "    for epoch in range(epoch_count):\n",
    "        y_hat = forward_neuralnet(x)\n",
    "        sse = forward_postproc(y_hat,y_label_total)\n",
    "        sse_row.append(sse)\n",
    "        \n",
    "        \n",
    "        back_propagation(y_hat, lr) \n",
    "        \n",
    "        theta_0_row.append(theta_0)\n",
    "        theta_1_row.append(theta_1)\n",
    "        \n",
    "        if report > 0 and (epoch)%report == 0:\n",
    "            print(\"Epoch - {}\".format(epoch+1))\n",
    "            print(\"SSE: {}\".format(sse))\n",
    "            \n",
    "    print(\"=====================================\")\n",
    "    print('Final SSE :{}'.format(sse))\n",
    "    \n",
    "    return sse_row, theta_0_row, theta_1_row\n",
    "        "
   ]
  },
  {
   "cell_type": "code",
   "execution_count": 11,
   "id": "827fbd5e-13d6-4123-9063-c64e72d733f1",
   "metadata": {},
   "outputs": [
    {
     "name": "stdout",
     "output_type": "stream",
     "text": [
      "initial theta_0:[0.85082559]\n",
      "initial theta_1:[[3.91410167]]\n",
      "Epoch - 1\n",
      "SSE: 12653040.661154088\n",
      "Epoch - 4\n",
      "SSE: 2879112.227548731\n",
      "Epoch - 7\n",
      "SSE: 657808.7446287284\n",
      "Epoch - 10\n",
      "SSE: 152977.01827467704\n",
      "Epoch - 13\n",
      "SSE: 38244.80173691061\n",
      "Epoch - 16\n",
      "SSE: 12169.813013576317\n",
      "Epoch - 19\n",
      "SSE: 6243.796144735729\n",
      "Epoch - 22\n",
      "SSE: 4897.000584765019\n",
      "Epoch - 25\n",
      "SSE: 4590.916578070491\n",
      "Epoch - 28\n",
      "SSE: 4521.353251218321\n",
      "=====================================\n",
      "Final SSE :4508.513194962696\n"
     ]
    }
   ],
   "source": [
    "sse_row, theta_0_row, theta_1_row = main_execute(x, y_label_total, epoch_count= 30, report = 3, lr=0.0000001)"
   ]
  },
  {
   "cell_type": "code",
   "execution_count": 15,
   "id": "bbeb398e-0368-48c1-82f0-e7e1aec8fe1d",
   "metadata": {},
   "outputs": [],
   "source": [
    "import matplotlib.pyplot as plt"
   ]
  },
  {
   "cell_type": "code",
   "execution_count": 14,
   "id": "313a93e1-eefa-4fe1-b149-cd00c5bb5c20",
   "metadata": {},
   "outputs": [
    {
     "data": {
      "image/png": "[encoded data removed]",
      "text/plain": [
       "<Figure size 432x288 with 1 Axes>"
      ]
     },
     "metadata": {
      "needs_background": "light"
     },
     "output_type": "display_data"
    }
   ],
   "source": [
    "plt.plot(sse_row, '--o', color = 'red')\n",
    "plt.xlabel(\"EPOCH\")\n",
    "plt.ylabel(\"SSE\")\n",
    "plt.grid()\n",
    "plt.show()"
   ]
  },
  {
   "cell_type": "code",
   "execution_count": null,
   "id": "1f212716-7131-4d96-ba4a-bb5a7af61c66",
   "metadata": {},
   "outputs": [],
   "source": [
    "sse_row"
   ]
  },
  {
   "cell_type": "code",
   "execution_count": 7,
   "id": "745d22fa-c214-4e2b-b6c8-9c8c01dff2c9",
   "metadata": {},
   "outputs": [
    {
     "name": "stdout",
     "output_type": "stream",
     "text": [
      "C:\\Users\\woosung\\Anaconda3\\lib\\site-packages\\matplotlib\\mpl-data\\matplotlibrc\n"
     ]
    }
   ],
   "source": [
    "import matplotlib\n",
    "print(matplotlib.matplotlib_fname())"
   ]
  },
  {
   "cell_type": "code",
   "execution_count": null,
   "id": "190ac731-eaa2-46a8-aefd-86a9682a10c2",
   "metadata": {},
   "outputs": [],
   "source": [
    " "
   ]
  },
  {
   "cell_type": "code",
   "execution_count": null,
   "id": "c7517738-7e0c-48f6-991b-eecd3201aa36",
   "metadata": {},
   "outputs": [],
   "source": []
  },
  {
   "cell_type": "code",
   "execution_count": null,
   "id": "36176f18-2510-427d-a998-219a1d416122",
   "metadata": {},
   "outputs": [],
   "source": []
  },
  {
   "cell_type": "code",
   "execution_count": null,
   "id": "72f9f934-3076-4007-b7d9-1ae23b0ee6ab",
   "metadata": {},
   "outputs": [],
   "source": []
  },
  {
   "cell_type": "code",
   "execution_count": null,
   "id": "9ef2eab8-ffa6-4819-b90d-85389342e996",
   "metadata": {},
   "outputs": [],
   "source": []
  },
  {
   "cell_type": "code",
   "execution_count": null,
   "id": "c8edfa83-7d2e-460f-a313-e4ca3bf81232",
   "metadata": {},
   "outputs": [],
   "source": []
  },
  {
   "cell_type": "code",
   "execution_count": null,
   "id": "2c570263-7438-46d1-9309-786c1722c61a",
   "metadata": {},
   "outputs": [],
   "source": []
  },
  {
   "cell_type": "code",
   "execution_count": null,
   "id": "3640d6d3-8bfc-4e6c-becd-d9f36b59b53d",
   "metadata": {},
   "outputs": [],
   "source": []
  },
  {
   "cell_type": "code",
   "execution_count": null,
   "id": "e17a9cd4-8f8a-4e13-a5cb-8e4cc14ac500",
   "metadata": {},
   "outputs": [],
   "source": []
  },
  {
   "cell_type": "code",
   "execution_count": null,
   "id": "247391e1-fe44-4813-98cd-bd3e369d1c58",
   "metadata": {},
   "outputs": [],
   "source": []
  },
  {
   "cell_type": "code",
   "execution_count": null,
   "id": "0fd12b0b-539b-4e2a-844d-1257baf55655",
   "metadata": {},
   "outputs": [],
   "source": []
  }
 ],
 "metadata": {
  "kernelspec": {
   "display_name": "Python 3",
   "language": "python",
   "name": "python3"
  },
  "language_info": {
   "codemirror_mode": {
    "name": "ipython",
    "version": 3
   },
   "file_extension": ".py",
   "mimetype": "text/x-python",
   "name": "python",
   "nbconvert_exporter": "python",
   "pygments_lexer": "ipython3",
   "version": "3.8.8"
  }
 },
 "nbformat": 4,
 "nbformat_minor": 5
}

{
 "cells": [
  {
   "cell_type": "code",
   "execution_count": 2,
   "id": "260381bc-6287-48c9-90d2-6092865ca968",
   "metadata": {},
   "outputs": [],
   "source": [
    "import pandas as pd\n",
    "import numpy as np\n",
    "import seaborn as sns\n",
    "import matplotlib.pyplot as plt\n",
    "import csv"
   ]
  },
  {
   "cell_type": "code",
   "execution_count": 3,
   "id": "539ae78c-742d-41b0-8890-de39bd05e2e9",
   "metadata": {},
   "outputs": [],
   "source": [
    "with open('데이터셋/abalone.csv') as csvfile:\n",
    "    csvreader = csv.reader(csvfile)\n",
    "    next(csvreader) #한줄 건너 뛰기\n",
    "    \n",
    "    rows = []\n",
    "    for row in csvreader:\n",
    "        rows.append(row)\n",
    "        "
   ]
  },
  {
   "cell_type": "code",
   "execution_count": 4,
   "id": "67eae214-c4fe-48f0-a517-2882163b807e",
   "metadata": {},
   "outputs": [
    {
     "name": "stdout",
     "output_type": "stream",
     "text": [
      "(4177, 11)\n"
     ]
    }
   ],
   "source": [
    "input_cnt, output_cnt = 10, 1\n",
    "data = np.zeros([len(rows), input_cnt + output_cnt])\n",
    "print(data.shape)"
   ]
  },
  {
   "cell_type": "code",
   "execution_count": 5,
   "id": "e4914327-eaef-4a1c-994c-3fdfa31565de",
   "metadata": {},
   "outputs": [],
   "source": [
    "for n, row in enumerate(rows):\n",
    "    if row[0] == 'M' : data[n,0] = 1\n",
    "    if row[0] == 'F' : data[n,1] = 1\n",
    "    if row[0] == 'I' : data[n,2] = 1\n",
    "    data[n, 3:] = row[1:]"
   ]
  },
  {
   "cell_type": "code",
   "execution_count": 6,
   "id": "e47cf327-589f-49e8-a8f5-f039fb694c4b",
   "metadata": {},
   "outputs": [
    {
     "name": "stdout",
     "output_type": "stream",
     "text": [
      "test_begin_idx:  3341\n"
     ]
    }
   ],
   "source": [
    "train_ratio = 0.8\n",
    "test_begin_idx = int(data.shape[0]* train_ratio)\n",
    "print(\"test_begin_idx: \", test_begin_idx)"
   ]
  },
  {
   "cell_type": "code",
   "execution_count": 7,
   "id": "396a9fa6-8685-4acb-bd0d-e9963f150eb4",
   "metadata": {},
   "outputs": [
    {
     "data": {
      "text/plain": [
       "array([   0,    1,    2, ..., 4174, 4175, 4176])"
      ]
     },
     "execution_count": 7,
     "metadata": {},
     "output_type": "execute_result"
    }
   ],
   "source": [
    "np.arange(data.shape[0])"
   ]
  },
  {
   "cell_type": "code",
   "execution_count": 8,
   "id": "23955112-b3ef-4216-bcf2-cf297f4bfbda",
   "metadata": {},
   "outputs": [],
   "source": [
    "shuffle_map = np.arange(data.shape[0])\n",
    "np.random.shuffle(shuffle_map)"
   ]
  },
  {
   "cell_type": "code",
   "execution_count": 9,
   "id": "7f34e87c-0a6e-4905-8333-969bee5c431b",
   "metadata": {},
   "outputs": [
    {
     "data": {
      "text/plain": [
       "array([2374, 4043,  490, 2421, 1363])"
      ]
     },
     "execution_count": 9,
     "metadata": {},
     "output_type": "execute_result"
    }
   ],
   "source": [
    "shuffle_map[:5]"
   ]
  },
  {
   "cell_type": "code",
   "execution_count": 10,
   "id": "cb624ea8-5354-45b6-a199-809aedea9226",
   "metadata": {},
   "outputs": [
    {
     "data": {
      "text/plain": [
       "(836,)"
      ]
     },
     "execution_count": 10,
     "metadata": {},
     "output_type": "execute_result"
    }
   ],
   "source": [
    "shuffle_map[test_begin_idx:].shape"
   ]
  },
  {
   "cell_type": "code",
   "execution_count": 11,
   "id": "b9ac0083-6083-4f5f-a318-74325af5dfee",
   "metadata": {},
   "outputs": [
    {
     "name": "stdout",
     "output_type": "stream",
     "text": [
      "(836, 11)\n",
      "(3341, 11)\n"
     ]
    }
   ],
   "source": [
    "test_data = data[shuffle_map[test_begin_idx:]] #픽셀 인덱스 추출\n",
    "print(test_data.shape)\n",
    "train_data = data[shuffle_map[:test_begin_idx]]\n",
    "print(train_data.shape)"
   ]
  },
  {
   "cell_type": "code",
   "execution_count": 12,
   "id": "4e979879-05a0-4f8b-9d3b-874d5ac745d7",
   "metadata": {},
   "outputs": [],
   "source": [
    "train_X, train_Y = train_data[:, :-output_cnt], train_data[:,-output_cnt:]\n",
    "test_X, test_Y = test_data[:, :-output_cnt], test_data[:,-output_cnt:]"
   ]
  },
  {
   "cell_type": "code",
   "execution_count": 13,
   "id": "86f5ccea-c96d-408f-a815-0f693fd30f58",
   "metadata": {},
   "outputs": [
    {
     "name": "stdout",
     "output_type": "stream",
     "text": [
      "(3341, 10)\n",
      "(836, 10)\n",
      "(3341, 1)\n",
      "(836, 1)\n"
     ]
    }
   ],
   "source": [
    "print(train_X.shape)\n",
    "print(test_X.shape)\n",
    "\n",
    "print(train_Y.shape)\n",
    "print(test_Y.shape)"
   ]
  },
  {
   "cell_type": "code",
   "execution_count": 14,
   "id": "68be861a-f9c5-4091-afca-af63b662b208",
   "metadata": {},
   "outputs": [],
   "source": [
    "train_x_mean = np.mean(train_X, axis=0)\n",
    "train_x_std = train_X.std(axis = 0)"
   ]
  },
  {
   "cell_type": "code",
   "execution_count": 15,
   "id": "f44b80d2-3d77-4c8d-b3e1-474c0c88669e",
   "metadata": {},
   "outputs": [],
   "source": [
    "#질문 \n",
    "train_X -= train_x_mean\n",
    "train_X /= train_x_std"
   ]
  },
  {
   "cell_type": "code",
   "execution_count": 16,
   "id": "f0c17dc0-5e3d-4e97-887d-65c04722bfa3",
   "metadata": {},
   "outputs": [
    {
     "data": {
      "text/plain": [
       "array([[-0.76234128, -0.67604968,  1.46187865, ..., -0.9270776 ,\n",
       "        -1.04259496, -0.75024541],\n",
       "       [-0.76234128,  1.47918123, -0.6840513 , ...,  0.18553551,\n",
       "         0.24373554,  0.25689454],\n",
       "       [ 1.31174847, -0.67604968, -0.6840513 , ...,  0.51211224,\n",
       "         0.07893875,  0.32883311],\n",
       "       ...,\n",
       "       [ 1.31174847, -0.67604968, -0.6840513 , ...,  0.04364356,\n",
       "         0.13844871,  0.36480239],\n",
       "       [-0.76234128,  1.47918123, -0.6840513 , ...,  0.42202211,\n",
       "        -0.01261502, -0.08121673],\n",
       "       [-0.76234128, -0.67604968,  1.46187865, ..., -1.35725798,\n",
       "        -1.31725628, -1.46963109]])"
      ]
     },
     "execution_count": 16,
     "metadata": {},
     "output_type": "execute_result"
    }
   ],
   "source": [
    "train_X"
   ]
  },
  {
   "cell_type": "code",
   "execution_count": 17,
   "id": "2c1ef9bf-c678-47c7-a019-8ae6708aaa7e",
   "metadata": {},
   "outputs": [],
   "source": [
    "test_X -=train_x_mean\n",
    "test_X /=train_x_std"
   ]
  },
  {
   "cell_type": "code",
   "execution_count": 18,
   "id": "0c5d2e03-0e8d-4343-8084-03dfe98bc531",
   "metadata": {},
   "outputs": [
    {
     "data": {
      "text/plain": [
       "(836,)"
      ]
     },
     "execution_count": 18,
     "metadata": {},
     "output_type": "execute_result"
    }
   ],
   "source": [
    "test_X[:,0].shape"
   ]
  },
  {
   "cell_type": "code",
   "execution_count": 19,
   "id": "58a9c467-0496-42cd-833c-b89daf417767",
   "metadata": {},
   "outputs": [
    {
     "data": {
      "text/html": [
       "<div>\n",
       "<style scoped>\n",
       "    .dataframe tbody tr th:only-of-type {\n",
       "        vertical-align: middle;\n",
       "    }\n",
       "\n",
       "    .dataframe tbody tr th {\n",
       "        vertical-align: top;\n",
       "    }\n",
       "\n",
       "    .dataframe thead th {\n",
       "        text-align: right;\n",
       "    }\n",
       "</style>\n",
       "<table border=\"1\" class=\"dataframe\">\n",
       "  <thead>\n",
       "    <tr style=\"text-align: right;\">\n",
       "      <th></th>\n",
       "      <th>0</th>\n",
       "      <th>1</th>\n",
       "      <th>2</th>\n",
       "      <th>3</th>\n",
       "      <th>4</th>\n",
       "      <th>5</th>\n",
       "      <th>6</th>\n",
       "      <th>7</th>\n",
       "      <th>8</th>\n",
       "      <th>9</th>\n",
       "    </tr>\n",
       "  </thead>\n",
       "  <tbody>\n",
       "    <tr>\n",
       "      <th>count</th>\n",
       "      <td>836.000000</td>\n",
       "      <td>836.000000</td>\n",
       "      <td>836.000000</td>\n",
       "      <td>836.000000</td>\n",
       "      <td>836.000000</td>\n",
       "      <td>836.000000</td>\n",
       "      <td>836.000000</td>\n",
       "      <td>836.000000</td>\n",
       "      <td>836.000000</td>\n",
       "      <td>836.000000</td>\n",
       "    </tr>\n",
       "    <tr>\n",
       "      <th>mean</th>\n",
       "      <td>-0.018051</td>\n",
       "      <td>-0.008341</td>\n",
       "      <td>0.026981</td>\n",
       "      <td>-0.042365</td>\n",
       "      <td>-0.044951</td>\n",
       "      <td>-0.026481</td>\n",
       "      <td>-0.029826</td>\n",
       "      <td>-0.043744</td>\n",
       "      <td>-0.035876</td>\n",
       "      <td>-0.016494</td>\n",
       "    </tr>\n",
       "    <tr>\n",
       "      <th>std</th>\n",
       "      <td>0.995461</td>\n",
       "      <td>0.997207</td>\n",
       "      <td>1.010683</td>\n",
       "      <td>1.035355</td>\n",
       "      <td>1.031200</td>\n",
       "      <td>0.965190</td>\n",
       "      <td>1.012548</td>\n",
       "      <td>0.998400</td>\n",
       "      <td>1.017172</td>\n",
       "      <td>1.006894</td>\n",
       "    </tr>\n",
       "    <tr>\n",
       "      <th>min</th>\n",
       "      <td>-0.762341</td>\n",
       "      <td>-0.676050</td>\n",
       "      <td>-0.684051</td>\n",
       "      <td>-3.480948</td>\n",
       "      <td>-3.232903</td>\n",
       "      <td>-2.724520</td>\n",
       "      <td>-1.683964</td>\n",
       "      <td>-1.616267</td>\n",
       "      <td>-1.642272</td>\n",
       "      <td>-1.699835</td>\n",
       "    </tr>\n",
       "    <tr>\n",
       "      <th>25%</th>\n",
       "      <td>-0.762341</td>\n",
       "      <td>-0.676050</td>\n",
       "      <td>-0.684051</td>\n",
       "      <td>-0.671046</td>\n",
       "      <td>-0.646729</td>\n",
       "      <td>-0.706174</td>\n",
       "      <td>-0.821191</td>\n",
       "      <td>-0.844870</td>\n",
       "      <td>-0.864065</td>\n",
       "      <td>-0.796106</td>\n",
       "    </tr>\n",
       "    <tr>\n",
       "      <th>50%</th>\n",
       "      <td>-0.762341</td>\n",
       "      <td>-0.676050</td>\n",
       "      <td>-0.684051</td>\n",
       "      <td>0.125791</td>\n",
       "      <td>0.139265</td>\n",
       "      <td>0.006183</td>\n",
       "      <td>-0.107155</td>\n",
       "      <td>-0.153429</td>\n",
       "      <td>-0.147657</td>\n",
       "      <td>-0.066829</td>\n",
       "    </tr>\n",
       "    <tr>\n",
       "      <th>75%</th>\n",
       "      <td>1.311748</td>\n",
       "      <td>1.479181</td>\n",
       "      <td>1.461879</td>\n",
       "      <td>0.712935</td>\n",
       "      <td>0.722421</td>\n",
       "      <td>0.599814</td>\n",
       "      <td>0.644704</td>\n",
       "      <td>0.587000</td>\n",
       "      <td>0.687771</td>\n",
       "      <td>0.672340</td>\n",
       "    </tr>\n",
       "    <tr>\n",
       "      <th>max</th>\n",
       "      <td>1.311748</td>\n",
       "      <td>1.479181</td>\n",
       "      <td>1.461879</td>\n",
       "      <td>2.096916</td>\n",
       "      <td>2.192991</td>\n",
       "      <td>8.910651</td>\n",
       "      <td>3.421113</td>\n",
       "      <td>3.762114</td>\n",
       "      <td>3.374875</td>\n",
       "      <td>3.889792</td>\n",
       "    </tr>\n",
       "  </tbody>\n",
       "</table>\n",
       "</div>"
      ],
      "text/plain": [
       "                0           1           2           3           4           5  \\\n",
       "count  836.000000  836.000000  836.000000  836.000000  836.000000  836.000000   \n",
       "mean    -0.018051   -0.008341    0.026981   -0.042365   -0.044951   -0.026481   \n",
       "std      0.995461    0.997207    1.010683    1.035355    1.031200    0.965190   \n",
       "min     -0.762341   -0.676050   -0.684051   -3.480948   -3.232903   -2.724520   \n",
       "25%     -0.762341   -0.676050   -0.684051   -0.671046   -0.646729   -0.706174   \n",
       "50%     -0.762341   -0.676050   -0.684051    0.125791    0.139265    0.006183   \n",
       "75%      1.311748    1.479181    1.461879    0.712935    0.722421    0.599814   \n",
       "max      1.311748    1.479181    1.461879    2.096916    2.192991    8.910651   \n",
       "\n",
       "                6           7           8           9  \n",
       "count  836.000000  836.000000  836.000000  836.000000  \n",
       "mean    -0.029826   -0.043744   -0.035876   -0.016494  \n",
       "std      1.012548    0.998400    1.017172    1.006894  \n",
       "min     -1.683964   -1.616267   -1.642272   -1.699835  \n",
       "25%     -0.821191   -0.844870   -0.864065   -0.796106  \n",
       "50%     -0.107155   -0.153429   -0.147657   -0.066829  \n",
       "75%      0.644704    0.587000    0.687771    0.672340  \n",
       "max      3.421113    3.762114    3.374875    3.889792  "
      ]
     },
     "execution_count": 19,
     "metadata": {},
     "output_type": "execute_result"
    }
   ],
   "source": [
    "df_test_X = pd.DataFrame(test_X)\n",
    "df_test_X.describe()"
   ]
  },
  {
   "cell_type": "code",
   "execution_count": 20,
   "id": "8ca8011d-a0cd-4405-8831-c172246ce760",
   "metadata": {},
   "outputs": [],
   "source": [
    "import tensorflow as tf\n",
    "\n",
    "GJ_NET_MODEL = tf.keras.Sequential([\n",
    "    tf.keras.layers.Dense(units=10, activation = 'elu', input_shape =(10,)),\n",
    "    tf.keras.layers.Dense(units=24, activation = 'elu'),\n",
    "    tf.keras.layers.Dense(units=36 , activation = 'elu'),\n",
    "    tf.keras.layers.Dense(units=1)\n",
    "])"
   ]
  },
  {
   "cell_type": "code",
   "execution_count": 21,
   "id": "7fe33337-fd1e-4a65-9f0c-6ec4521b52dd",
   "metadata": {},
   "outputs": [
    {
     "name": "stdout",
     "output_type": "stream",
     "text": [
      "Model: \"sequential\"\n",
      "_________________________________________________________________\n",
      "Layer (type)                 Output Shape              Param #   \n",
      "=================================================================\n",
      "dense (Dense)                (None, 10)                110       \n",
      "_________________________________________________________________\n",
      "dense_1 (Dense)              (None, 24)                264       \n",
      "_________________________________________________________________\n",
      "dense_2 (Dense)              (None, 36)                900       \n",
      "_________________________________________________________________\n",
      "dense_3 (Dense)              (None, 1)                 37        \n",
      "=================================================================\n",
      "Total params: 1,311\n",
      "Trainable params: 1,311\n",
      "Non-trainable params: 0\n",
      "_________________________________________________________________\n"
     ]
    }
   ],
   "source": [
    "GJ_NET_MODEL.summary()"
   ]
  },
  {
   "cell_type": "code",
   "execution_count": 22,
   "id": "7e323a29-a86e-47aa-b0dd-a4067c738495",
   "metadata": {},
   "outputs": [],
   "source": [
    "GJ_NET_MODEL.compile(optimizer=tf.keras.optimizers.Adam(learning_rate=0.07), loss = 'mse')"
   ]
  },
  {
   "cell_type": "code",
   "execution_count": 23,
   "id": "7e7a6bea-3ef1-4eae-94a0-698d84c8f841",
   "metadata": {},
   "outputs": [
    {
     "name": "stdout",
     "output_type": "stream",
     "text": [
      "Epoch 1/25\n",
      "84/84 [==============================] - 1s 2ms/step - loss: 9.9237 - val_loss: 6.1894\n",
      "Epoch 2/25\n",
      "84/84 [==============================] - 0s 757us/step - loss: 5.2966 - val_loss: 5.8361\n",
      "Epoch 3/25\n",
      "84/84 [==============================] - 0s 674us/step - loss: 5.1473 - val_loss: 5.5417\n",
      "Epoch 4/25\n",
      "84/84 [==============================] - 0s 627us/step - loss: 5.7674 - val_loss: 6.2615\n",
      "Epoch 5/25\n",
      "84/84 [==============================] - 0s 578us/step - loss: 5.4206 - val_loss: 5.4742\n",
      "Epoch 6/25\n",
      "84/84 [==============================] - 0s 725us/step - loss: 5.1294 - val_loss: 7.9320\n",
      "Epoch 7/25\n",
      "84/84 [==============================] - 0s 602us/step - loss: 5.1757 - val_loss: 6.0046\n",
      "Epoch 8/25\n",
      "84/84 [==============================] - 0s 674us/step - loss: 5.0290 - val_loss: 9.7073\n",
      "Epoch 9/25\n",
      "84/84 [==============================] - 0s 674us/step - loss: 6.6780 - val_loss: 5.5600\n",
      "Epoch 10/25\n",
      "84/84 [==============================] - 0s 674us/step - loss: 5.5735 - val_loss: 5.3501\n",
      "Epoch 11/25\n",
      "84/84 [==============================] - 0s 674us/step - loss: 5.3261 - val_loss: 5.2711\n",
      "Epoch 12/25\n",
      "84/84 [==============================] - 0s 605us/step - loss: 5.1466 - val_loss: 8.9687\n",
      "Epoch 13/25\n",
      "84/84 [==============================] - 0s 631us/step - loss: 5.1442 - val_loss: 5.4886\n",
      "Epoch 14/25\n",
      "84/84 [==============================] - 0s 771us/step - loss: 5.0777 - val_loss: 5.0914\n",
      "Epoch 15/25\n",
      "84/84 [==============================] - 0s 647us/step - loss: 4.9239 - val_loss: 5.1958\n",
      "Epoch 16/25\n",
      "84/84 [==============================] - 0s 585us/step - loss: 5.4682 - val_loss: 5.6452\n",
      "Epoch 17/25\n",
      "84/84 [==============================] - 0s 578us/step - loss: 5.0535 - val_loss: 5.3095\n",
      "Epoch 18/25\n",
      "84/84 [==============================] - 0s 646us/step - loss: 5.3193 - val_loss: 5.5596\n",
      "Epoch 19/25\n",
      "84/84 [==============================] - 0s 674us/step - loss: 5.5863 - val_loss: 5.2644\n"
     ]
    }
   ],
   "source": [
    "history_1 = GJ_NET_MODEL.fit(train_X, train_Y, epochs = 25, batch_size = 32, validation_split= 0.2, callbacks = [tf.keras.callbacks.EarlyStopping(patience = 5, monitor = 'val_loss')]) #validation_split(검증에대한 로스값 훈련데이터 0.2로만), callback 값튀는게 있다면 멈춰라"
   ]
  },
  {
   "cell_type": "code",
   "execution_count": 24,
   "id": "c2c2104a-5e15-4e11-98c7-c1e1e6d51c2a",
   "metadata": {},
   "outputs": [
    {
     "data": {
      "image/png": "[encoded data removed]",
      "text/plain": [
       "<Figure size 432x288 with 1 Axes>"
      ]
     },
     "metadata": {
      "needs_background": "light"
     },
     "output_type": "display_data"
    }
   ],
   "source": [
    "plt.plot(history_1.history['loss'], '--o', color = 'red', label = 'train_loss')\n",
    "plt.plot(history_1.history['val_loss'], '--o', color = 'blue', label = 'val_loss')\n",
    "plt.xlabel('Epochs')\n",
    "plt.ylabel('Loss')\n",
    "plt.legend()\n",
    "plt.grid()"
   ]
  },
  {
   "cell_type": "code",
   "execution_count": 25,
   "id": "ca8909fa-04b9-4326-868b-242e198fa0dd",
   "metadata": {},
   "outputs": [
    {
     "name": "stdout",
     "output_type": "stream",
     "text": [
      "27/27 [==============================] - 0s 614us/step - loss: 4.7199\n"
     ]
    },
    {
     "data": {
      "text/plain": [
       "4.719864368438721"
      ]
     },
     "execution_count": 25,
     "metadata": {},
     "output_type": "execute_result"
    }
   ],
   "source": [
    "GJ_NET_MODEL.evaluate(test_X, test_Y)"
   ]
  },
  {
   "cell_type": "code",
   "execution_count": 26,
   "id": "bf84f129-48fe-4d3f-8dfc-8bb65bc94790",
   "metadata": {},
   "outputs": [
    {
     "name": "stdout",
     "output_type": "stream",
     "text": [
      "[[14.711174 ]\n",
      " [14.711341 ]\n",
      " [10.418029 ]\n",
      " [11.683045 ]\n",
      " [12.248942 ]\n",
      " [ 6.677123 ]\n",
      " [11.301252 ]\n",
      " [ 5.8390856]\n",
      " [10.922939 ]\n",
      " [10.765513 ]]\n"
     ]
    }
   ],
   "source": [
    "pred_Y = GJ_NET_MODEL.predict(test_X)\n",
    "print(pred_Y[:10])"
   ]
  },
  {
   "cell_type": "code",
   "execution_count": 27,
   "id": "180a381b-f725-473b-a91f-215e281ae9a0",
   "metadata": {},
   "outputs": [
    {
     "data": {
      "image/png": "[encoded data removed]",
      "text/plain": [
       "<Figure size 432x288 with 1 Axes>"
      ]
     },
     "metadata": {
      "needs_background": "light"
     },
     "output_type": "display_data"
    }
   ],
   "source": [
    "plt.plot(pred_Y[:], 'o', color ='red', label = 'pred_Y')\n",
    "plt.plot(test_Y[:], '+', color = 'blue', label = 'test_Y')\n",
    "plt.grid()\n",
    "plt.legend()\n",
    "plt.show()"
   ]
  },
  {
   "cell_type": "code",
   "execution_count": 28,
   "id": "dfb087dc-2a7d-407a-b7c4-ebe56efe9f08",
   "metadata": {},
   "outputs": [],
   "source": [
    "###################################################은닉계층 다버리고 학습시켜보기##################################################"
   ]
  },
  {
   "cell_type": "code",
   "execution_count": 29,
   "id": "7c6ff002-048c-420d-a7ac-8bdb6eeacfc6",
   "metadata": {},
   "outputs": [],
   "source": [
    "GJ_NET_MODEL_V2 = tf.keras.Sequential([\n",
    "    tf.keras.layers.Dense(units=1, input_shape = (10,))\n",
    "])"
   ]
  },
  {
   "cell_type": "code",
   "execution_count": 30,
   "id": "d5c4da05-8eeb-48d2-8642-d7087c2efa8e",
   "metadata": {},
   "outputs": [],
   "source": [
    "GJ_NET_MODEL_V2.compile(optimizer=tf.keras.optimizers.Adam(learning_rate=0.07),loss='mse')"
   ]
  },
  {
   "cell_type": "code",
   "execution_count": 31,
   "id": "820b0839-5fc5-4f95-a923-fd1ed3c1d568",
   "metadata": {},
   "outputs": [
    {
     "name": "stdout",
     "output_type": "stream",
     "text": [
      "Model: \"sequential_1\"\n",
      "_________________________________________________________________\n",
      "Layer (type)                 Output Shape              Param #   \n",
      "=================================================================\n",
      "dense_4 (Dense)              (None, 1)                 11        \n",
      "=================================================================\n",
      "Total params: 11\n",
      "Trainable params: 11\n",
      "Non-trainable params: 0\n",
      "_________________________________________________________________\n"
     ]
    }
   ],
   "source": [
    "GJ_NET_MODEL_V2.summary()"
   ]
  },
  {
   "cell_type": "code",
   "execution_count": 32,
   "id": "d42d8f92-52da-4b1c-bc8b-98c5619f0806",
   "metadata": {},
   "outputs": [
    {
     "name": "stdout",
     "output_type": "stream",
     "text": [
      "Epoch 1/25\n",
      "105/105 [==============================] - 0s 418us/step - loss: 53.8857\n",
      "Epoch 2/25\n",
      "105/105 [==============================] - 0s 307us/step - loss: 10.3960\n",
      "Epoch 3/25\n",
      "105/105 [==============================] - 0s 307us/step - loss: 5.3895\n",
      "Epoch 4/25\n",
      "105/105 [==============================] - 0s 307us/step - loss: 5.1107\n",
      "Epoch 5/25\n",
      "105/105 [==============================] - 0s 307us/step - loss: 5.1143\n",
      "Epoch 6/25\n",
      "105/105 [==============================] - 0s 307us/step - loss: 5.1251\n",
      "Epoch 7/25\n",
      "105/105 [==============================] - 0s 307us/step - loss: 5.0802\n",
      "Epoch 8/25\n",
      "105/105 [==============================] - 0s 307us/step - loss: 5.0870\n",
      "Epoch 9/25\n",
      "105/105 [==============================] - 0s 307us/step - loss: 5.0234\n",
      "Epoch 10/25\n",
      "105/105 [==============================] - 0s 384us/step - loss: 5.0967\n",
      "Epoch 11/25\n",
      "105/105 [==============================] - 0s 307us/step - loss: 5.0671\n",
      "Epoch 12/25\n",
      "105/105 [==============================] - 0s 347us/step - loss: 5.0858\n",
      "Epoch 13/25\n",
      "105/105 [==============================] - 0s 384us/step - loss: 5.1030\n",
      "Epoch 14/25\n",
      "105/105 [==============================] - 0s 307us/step - loss: 5.1607\n",
      "Epoch 15/25\n",
      "105/105 [==============================] - 0s 384us/step - loss: 5.0586\n",
      "Epoch 16/25\n",
      "105/105 [==============================] - 0s 307us/step - loss: 5.0913\n",
      "Epoch 17/25\n",
      "105/105 [==============================] - 0s 384us/step - loss: 5.0133\n",
      "Epoch 18/25\n",
      "105/105 [==============================] - 0s 307us/step - loss: 5.0488\n",
      "Epoch 19/25\n",
      "105/105 [==============================] - 0s 461us/step - loss: 5.0545\n",
      "Epoch 20/25\n",
      "105/105 [==============================] - 0s 384us/step - loss: 5.1277\n",
      "Epoch 21/25\n",
      "105/105 [==============================] - 0s 307us/step - loss: 5.0692\n",
      "Epoch 22/25\n",
      "105/105 [==============================] - 0s 308us/step - loss: 5.0675\n",
      "Epoch 23/25\n",
      "105/105 [==============================] - 0s 307us/step - loss: 5.0794\n",
      "Epoch 24/25\n",
      "105/105 [==============================] - 0s 384us/step - loss: 4.9954\n",
      "Epoch 25/25\n",
      "105/105 [==============================] - 0s 307us/step - loss: 5.0527\n"
     ]
    }
   ],
   "source": [
    "history_2 = GJ_NET_MODEL_V2.fit(train_X, train_Y, epochs=25, batch_size = 32)"
   ]
  },
  {
   "cell_type": "code",
   "execution_count": 33,
   "id": "9f4f9709-1384-4fd1-af2b-81de47e023e4",
   "metadata": {},
   "outputs": [
    {
     "name": "stdout",
     "output_type": "stream",
     "text": [
      "27/27 [==============================] - 0s 727us/step - loss: 4.5571\n"
     ]
    },
    {
     "data": {
      "text/plain": [
       "4.55712890625"
      ]
     },
     "execution_count": 33,
     "metadata": {},
     "output_type": "execute_result"
    }
   ],
   "source": [
    "GJ_NET_MODEL_V2.evaluate(test_X, test_Y)"
   ]
  },
  {
   "cell_type": "code",
   "execution_count": 34,
   "id": "57b7c056-85a1-4011-b340-66d6c04ff343",
   "metadata": {},
   "outputs": [
    {
     "data": {
      "image/png": "[encoded data removed]",
      "text/plain": [
       "<Figure size 432x288 with 1 Axes>"
      ]
     },
     "metadata": {
      "needs_background": "light"
     },
     "output_type": "display_data"
    }
   ],
   "source": [
    "plt.plot(history_2.history['loss'], '--o', color = 'red', label = 'train_loss')\n",
    "plt.xlabel('Epochs')\n",
    "plt.ylabel('Loss')\n",
    "plt.legend()\n",
    "plt.grid()"
   ]
  },
  {
   "cell_type": "code",
   "execution_count": 35,
   "id": "6653e587-5a5e-4f51-949d-3992c3dbf653",
   "metadata": {},
   "outputs": [
    {
     "name": "stdout",
     "output_type": "stream",
     "text": [
      "[[16.816284 ]\n",
      " [13.417703 ]\n",
      " [10.347684 ]\n",
      " [11.253138 ]\n",
      " [11.223349 ]\n",
      " [ 6.2198606]\n",
      " [10.419015 ]\n",
      " [ 5.5213566]\n",
      " [11.549007 ]\n",
      " [ 9.616653 ]]\n"
     ]
    }
   ],
   "source": [
    "pred_Y = GJ_NET_MODEL_V2.predict(test_X)\n",
    "print(pred_Y[:10])"
   ]
  },
  {
   "cell_type": "code",
   "execution_count": 36,
   "id": "c61d7af6-dea6-4add-9cc1-58467f3bbcc5",
   "metadata": {},
   "outputs": [
    {
     "name": "stdout",
     "output_type": "stream",
     "text": [
      "[[15.]\n",
      " [16.]\n",
      " [11.]\n",
      " [11.]\n",
      " [10.]\n",
      " [ 7.]\n",
      " [ 8.]\n",
      " [ 6.]\n",
      " [ 9.]\n",
      " [11.]]\n"
     ]
    }
   ],
   "source": [
    "print(test_Y[:10])"
   ]
  },
  {
   "cell_type": "code",
   "execution_count": 37,
   "id": "95004067-269e-43bd-827a-67b10f397a99",
   "metadata": {},
   "outputs": [
    {
     "data": {
      "image/png": "[encoded data removed]",
      "text/plain": [
       "<Figure size 432x288 with 1 Axes>"
      ]
     },
     "metadata": {
      "needs_background": "light"
     },
     "output_type": "display_data"
    }
   ],
   "source": [
    "plt.plot(pred_Y[:], 'o', color = 'red', label = 'pred_Y')\n",
    "plt.plot(test_Y[:], '+', color = 'blue', label = 'test_Y')\n",
    "plt.legend()\n",
    "plt.grid()\n",
    "plt.show()"
   ]
  },
  {
   "cell_type": "code",
   "execution_count": 38,
   "id": "404e0fda-db88-431e-a772-4a7e95710e24",
   "metadata": {},
   "outputs": [
    {
     "name": "stdout",
     "output_type": "stream",
     "text": [
      "GJ_NET_MODEL_V2 - ACC 0.84%\n"
     ]
    }
   ],
   "source": [
    "acc = 1 - np.mean(np.abs((pred_Y - test_Y)/test_Y))\n",
    "print(f'GJ_NET_MODEL_V2 - ACC {acc:.2f}%')"
   ]
  },
  {
   "cell_type": "code",
   "execution_count": 39,
   "id": "b6700ee1-1fdc-4f94-9ccc-26072ab218d2",
   "metadata": {},
   "outputs": [],
   "source": [
    "GJ_NET_MODEL_V2.save('my_model_2.h5')"
   ]
  },
  {
   "cell_type": "code",
   "execution_count": 41,
   "id": "d3b917fc-23ce-470e-9b8e-de3b8a551d68",
   "metadata": {},
   "outputs": [
    {
     "name": "stdout",
     "output_type": "stream",
     "text": [
      "[array([[ 0.27632457],\n",
      "       [-0.11917903],\n",
      "       [-0.43218163],\n",
      "       [-0.14338097],\n",
      "       [ 1.1933292 ],\n",
      "       [ 0.31312743],\n",
      "       [ 4.0222964 ],\n",
      "       [-4.0315356 ],\n",
      "       [-1.035772  ],\n",
      "       [ 1.369693  ]], dtype=float32), array([9.916878], dtype=float32)]\n"
     ]
    }
   ],
   "source": [
    "GJ_NET_MODEL_V2_param = GJ_NET_MODEL_V2.get_weights()\n",
    "print(GJ_NET_MODEL_V2_param)"
   ]
  },
  {
   "cell_type": "code",
   "execution_count": 42,
   "id": "ef716e8a-38b9-46b7-870f-77ca7adafadc",
   "metadata": {},
   "outputs": [
    {
     "name": "stdout",
     "output_type": "stream",
     "text": [
      "weight: \n",
      " [[ 0.27632457]\n",
      " [-0.11917903]\n",
      " [-0.43218163]\n",
      " [-0.14338097]\n",
      " [ 1.1933292 ]\n",
      " [ 0.31312743]\n",
      " [ 4.0222964 ]\n",
      " [-4.0315356 ]\n",
      " [-1.035772  ]\n",
      " [ 1.369693  ]]\n",
      "bias: \n",
      " [9.916878]\n"
     ]
    }
   ],
   "source": [
    "print('weight: \\n', GJ_NET_MODEL_V2_param[0])\n",
    "print('bias: \\n', GJ_NET_MODEL_V2_param[1])"
   ]
  },
  {
   "cell_type": "code",
   "execution_count": null,
   "id": "2ed18002-18b3-47ff-b41b-bd4e15d557be",
   "metadata": {},
   "outputs": [],
   "source": []
  }
 ],
 "metadata": {
  "kernelspec": {
   "display_name": "Python 3",
   "language": "python",
   "name": "python3"
  },
  "language_info": {
   "codemirror_mode": {
    "name": "ipython",
    "version": 3
   },
   "file_extension": ".py",
   "mimetype": "text/x-python",
   "name": "python",
   "nbconvert_exporter": "python",
   "pygments_lexer": "ipython3",
   "version": "3.8.8"
  }
 },
 "nbformat": 4,
 "nbformat_minor": 5
}

{
 "cells": [
  {
   "cell_type": "code",
   "execution_count": 89,
   "id": "260381bc-6287-48c9-90d2-6092865ca968",
   "metadata": {},
   "outputs": [],
   "source": [
    "import pandas as pd\n",
    "import numpy as np\n",
    "import seaborn as sns\n",
    "import matplotlib.pyplot as plt\n",
    "import csv"
   ]
  },
  {
   "cell_type": "code",
   "execution_count": 90,
   "id": "539ae78c-742d-41b0-8890-de39bd05e2e9",
   "metadata": {},
   "outputs": [],
   "source": [
    "with open('데이터셋/abalone.csv') as csvfile:\n",
    "    csvreader = csv.reader(csvfile)\n",
    "    next(csvreader) #한줄 건너 뛰기\n",
    "    \n",
    "    rows = []\n",
    "    for row in csvreader:\n",
    "        rows.append(row)\n",
    "        "
   ]
  },
  {
   "cell_type": "code",
   "execution_count": 91,
   "id": "67eae214-c4fe-48f0-a517-2882163b807e",
   "metadata": {},
   "outputs": [
    {
     "name": "stdout",
     "output_type": "stream",
     "text": [
      "(4177, 11)\n"
     ]
    }
   ],
   "source": [
    "input_cnt, output_cnt = 10, 1\n",
    "data = np.zeros([len(rows), input_cnt + output_cnt])\n",
    "print(data.shape)"
   ]
  },
  {
   "cell_type": "code",
   "execution_count": 92,
   "id": "e4914327-eaef-4a1c-994c-3fdfa31565de",
   "metadata": {},
   "outputs": [],
   "source": [
    "for n, row in enumerate(rows):\n",
    "    if row[0] == 'M' : data[n,0] = 1\n",
    "    if row[0] == 'F' : data[n,1] = 1\n",
    "    if row[0] == 'I' : data[n,2] = 1\n",
    "    data[n, 3:] = row[1:]"
   ]
  },
  {
   "cell_type": "code",
   "execution_count": 93,
   "id": "e47cf327-589f-49e8-a8f5-f039fb694c4b",
   "metadata": {},
   "outputs": [
    {
     "name": "stdout",
     "output_type": "stream",
     "text": [
      "test_begin_idx:  3341\n"
     ]
    }
   ],
   "source": [
    "train_ratio = 0.8\n",
    "test_begin_idx = int(data.shape[0]* train_ratio)\n",
    "print(\"test_begin_idx: \", test_begin_idx)"
   ]
  },
  {
   "cell_type": "code",
   "execution_count": 94,
   "id": "396a9fa6-8685-4acb-bd0d-e9963f150eb4",
   "metadata": {},
   "outputs": [
    {
     "data": {
      "text/plain": [
       "array([   0,    1,    2, ..., 4174, 4175, 4176])"
      ]
     },
     "execution_count": 94,
     "metadata": {},
     "output_type": "execute_result"
    }
   ],
   "source": [
    "np.arange(data.shape[0])"
   ]
  },
  {
   "cell_type": "code",
   "execution_count": 95,
   "id": "23955112-b3ef-4216-bcf2-cf297f4bfbda",
   "metadata": {},
   "outputs": [],
   "source": [
    "shuffle_map = np.arange(data.shape[0])\n",
    "np.random.shuffle(shuffle_map)"
   ]
  },
  {
   "cell_type": "code",
   "execution_count": 96,
   "id": "7f34e87c-0a6e-4905-8333-969bee5c431b",
   "metadata": {},
   "outputs": [
    {
     "data": {
      "text/plain": [
       "array([2444,  959, 1701,  802, 3632])"
      ]
     },
     "execution_count": 96,
     "metadata": {},
     "output_type": "execute_result"
    }
   ],
   "source": [
    "shuffle_map[:5]"
   ]
  },
  {
   "cell_type": "code",
   "execution_count": 97,
   "id": "cb624ea8-5354-45b6-a199-809aedea9226",
   "metadata": {},
   "outputs": [
    {
     "data": {
      "text/plain": [
       "(836,)"
      ]
     },
     "execution_count": 97,
     "metadata": {},
     "output_type": "execute_result"
    }
   ],
   "source": [
    "shuffle_map[test_begin_idx:].shape"
   ]
  },
  {
   "cell_type": "code",
   "execution_count": 86,
   "id": "b9ac0083-6083-4f5f-a318-74325af5dfee",
   "metadata": {},
   "outputs": [
    {
     "name": "stdout",
     "output_type": "stream",
     "text": [
      "(836, 11)\n",
      "(3341, 11)\n"
     ]
    }
   ],
   "source": [
    "test_data = data[shuffle_map[test_begin_idx:]] #픽셀 인덱스 추출\n",
    "print(test_data.shape)\n",
    "train_data = data[shuffle_map[:test_begin_idx]]\n",
    "print(train_data.shape)"
   ]
  },
  {
   "cell_type": "code",
   "execution_count": 99,
   "id": "4e979879-05a0-4f8b-9d3b-874d5ac745d7",
   "metadata": {},
   "outputs": [],
   "source": [
    "train_X, train_Y = train_data[:, :-output_cnt], train_data[:,-output_cnt:]\n",
    "test_X, test_Y = test_data[:, :-output_cnt], test_data[:,-output_cnt:]"
   ]
  },
  {
   "cell_type": "code",
   "execution_count": 88,
   "id": "86f5ccea-c96d-408f-a815-0f693fd30f58",
   "metadata": {},
   "outputs": [
    {
     "name": "stdout",
     "output_type": "stream",
     "text": [
      "(3341, 10)\n",
      "(836, 10)\n",
      "(3341, 1)\n",
      "(836, 1)\n"
     ]
    }
   ],
   "source": [
    "print(train_X.shape)\n",
    "print(test_X.shape)\n",
    "\n",
    "print(train_Y.shape)\n",
    "print(test_Y.shape)"
   ]
  },
  {
   "cell_type": "code",
   "execution_count": 13,
   "id": "68be861a-f9c5-4091-afca-af63b662b208",
   "metadata": {},
   "outputs": [],
   "source": [
    "train_x_mean = np.mean(train_X, axis=0)\n",
    "train_x_std = train_X.std(axis = 0)"
   ]
  },
  {
   "cell_type": "code",
   "execution_count": 14,
   "id": "f44b80d2-3d77-4c8d-b3e1-474c0c88669e",
   "metadata": {},
   "outputs": [],
   "source": [
    "#질문 \n",
    "train_X -= train_x_mean\n",
    "train_X /= train_x_std"
   ]
  },
  {
   "cell_type": "code",
   "execution_count": 15,
   "id": "f0c17dc0-5e3d-4e97-887d-65c04722bfa3",
   "metadata": {},
   "outputs": [
    {
     "data": {
      "text/plain": [
       "array([[ 1.30753633, -0.67745994, -0.68028273, ..., -0.40820618,\n",
       "        -0.38009457, -0.79264104],\n",
       "       [-0.7647971 ,  1.47610205, -0.68028273, ..., -0.15454006,\n",
       "        -0.59353391, -0.02449504],\n",
       "       [-0.7647971 ,  1.47610205, -0.68028273, ...,  0.24055055,\n",
       "         0.16031568,  0.23631733],\n",
       "       ...,\n",
       "       [-0.7647971 ,  1.47610205, -0.68028273, ..., -0.95594544,\n",
       "        -0.91596355, -0.8748148 ],\n",
       "       [-0.7647971 ,  1.47610205, -0.68028273, ...,  2.21600359,\n",
       "         1.14122839,  1.14022867],\n",
       "       [ 1.30753633, -0.67745994, -0.68028273, ...,  0.94542811,\n",
       "         0.88237642,  0.4828386 ]])"
      ]
     },
     "execution_count": 15,
     "metadata": {},
     "output_type": "execute_result"
    }
   ],
   "source": [
    "train_X"
   ]
  },
  {
   "cell_type": "code",
   "execution_count": 16,
   "id": "2c1ef9bf-c678-47c7-a019-8ae6708aaa7e",
   "metadata": {},
   "outputs": [],
   "source": [
    "test_X -=train_x_mean\n",
    "test_X /=train_x_std"
   ]
  },
  {
   "cell_type": "code",
   "execution_count": 17,
   "id": "0c5d2e03-0e8d-4343-8084-03dfe98bc531",
   "metadata": {},
   "outputs": [
    {
     "data": {
      "text/plain": [
       "(836,)"
      ]
     },
     "execution_count": 17,
     "metadata": {},
     "output_type": "execute_result"
    }
   ],
   "source": [
    "test_X[:,0].shape"
   ]
  },
  {
   "cell_type": "code",
   "execution_count": 18,
   "id": "58a9c467-0496-42cd-833c-b89daf417767",
   "metadata": {},
   "outputs": [
    {
     "data": {
      "text/html": [
       "<div>\n",
       "<style scoped>\n",
       "    .dataframe tbody tr th:only-of-type {\n",
       "        vertical-align: middle;\n",
       "    }\n",
       "\n",
       "    .dataframe tbody tr th {\n",
       "        vertical-align: top;\n",
       "    }\n",
       "\n",
       "    .dataframe thead th {\n",
       "        text-align: right;\n",
       "    }\n",
       "</style>\n",
       "<table border=\"1\" class=\"dataframe\">\n",
       "  <thead>\n",
       "    <tr style=\"text-align: right;\">\n",
       "      <th></th>\n",
       "      <th>0</th>\n",
       "      <th>1</th>\n",
       "      <th>2</th>\n",
       "      <th>3</th>\n",
       "      <th>4</th>\n",
       "      <th>5</th>\n",
       "      <th>6</th>\n",
       "      <th>7</th>\n",
       "      <th>8</th>\n",
       "      <th>9</th>\n",
       "    </tr>\n",
       "  </thead>\n",
       "  <tbody>\n",
       "    <tr>\n",
       "      <th>count</th>\n",
       "      <td>836.000000</td>\n",
       "      <td>836.000000</td>\n",
       "      <td>836.000000</td>\n",
       "      <td>836.000000</td>\n",
       "      <td>836.000000</td>\n",
       "      <td>836.000000</td>\n",
       "      <td>836.000000</td>\n",
       "      <td>836.000000</td>\n",
       "      <td>836.000000</td>\n",
       "      <td>836.000000</td>\n",
       "    </tr>\n",
       "    <tr>\n",
       "      <th>mean</th>\n",
       "      <td>-0.033531</td>\n",
       "      <td>-0.017996</td>\n",
       "      <td>0.052760</td>\n",
       "      <td>-0.011675</td>\n",
       "      <td>-0.020723</td>\n",
       "      <td>-0.019197</td>\n",
       "      <td>-0.036130</td>\n",
       "      <td>-0.034855</td>\n",
       "      <td>-0.034280</td>\n",
       "      <td>-0.039171</td>\n",
       "    </tr>\n",
       "    <tr>\n",
       "      <th>std</th>\n",
       "      <td>0.990884</td>\n",
       "      <td>0.993219</td>\n",
       "      <td>1.019865</td>\n",
       "      <td>0.973953</td>\n",
       "      <td>0.968424</td>\n",
       "      <td>0.867331</td>\n",
       "      <td>0.979746</td>\n",
       "      <td>0.982076</td>\n",
       "      <td>0.977184</td>\n",
       "      <td>0.972465</td>\n",
       "    </tr>\n",
       "    <tr>\n",
       "      <th>min</th>\n",
       "      <td>-0.764797</td>\n",
       "      <td>-0.677460</td>\n",
       "      <td>-0.680283</td>\n",
       "      <td>-3.721816</td>\n",
       "      <td>-3.537947</td>\n",
       "      <td>-3.022743</td>\n",
       "      <td>-1.686526</td>\n",
       "      <td>-1.615926</td>\n",
       "      <td>-1.642566</td>\n",
       "      <td>-1.703698</td>\n",
       "    </tr>\n",
       "    <tr>\n",
       "      <th>25%</th>\n",
       "      <td>-0.764797</td>\n",
       "      <td>-0.677460</td>\n",
       "      <td>-0.680283</td>\n",
       "      <td>-0.615292</td>\n",
       "      <td>-0.633849</td>\n",
       "      <td>-0.575296</td>\n",
       "      <td>-0.796852</td>\n",
       "      <td>-0.788144</td>\n",
       "      <td>-0.811515</td>\n",
       "      <td>-0.825689</td>\n",
       "    </tr>\n",
       "    <tr>\n",
       "      <th>50%</th>\n",
       "      <td>-0.764797</td>\n",
       "      <td>-0.677460</td>\n",
       "      <td>-0.680283</td>\n",
       "      <td>0.088853</td>\n",
       "      <td>0.117211</td>\n",
       "      <td>0.007430</td>\n",
       "      <td>-0.100144</td>\n",
       "      <td>-0.176988</td>\n",
       "      <td>-0.130325</td>\n",
       "      <td>-0.085232</td>\n",
       "    </tr>\n",
       "    <tr>\n",
       "      <th>75%</th>\n",
       "      <td>1.307536</td>\n",
       "      <td>1.476102</td>\n",
       "      <td>1.469977</td>\n",
       "      <td>0.710158</td>\n",
       "      <td>0.667988</td>\n",
       "      <td>0.590156</td>\n",
       "      <td>0.577522</td>\n",
       "      <td>0.596918</td>\n",
       "      <td>0.573571</td>\n",
       "      <td>0.574837</td>\n",
       "    </tr>\n",
       "    <tr>\n",
       "      <th>max</th>\n",
       "      <td>1.307536</td>\n",
       "      <td>1.476102</td>\n",
       "      <td>1.469977</td>\n",
       "      <td>2.118449</td>\n",
       "      <td>2.220179</td>\n",
       "      <td>2.338333</td>\n",
       "      <td>3.706363</td>\n",
       "      <td>5.060207</td>\n",
       "      <td>3.570804</td>\n",
       "      <td>4.109202</td>\n",
       "    </tr>\n",
       "  </tbody>\n",
       "</table>\n",
       "</div>"
      ],
      "text/plain": [
       "                0           1           2           3           4           5  \\\n",
       "count  836.000000  836.000000  836.000000  836.000000  836.000000  836.000000   \n",
       "mean    -0.033531   -0.017996    0.052760   -0.011675   -0.020723   -0.019197   \n",
       "std      0.990884    0.993219    1.019865    0.973953    0.968424    0.867331   \n",
       "min     -0.764797   -0.677460   -0.680283   -3.721816   -3.537947   -3.022743   \n",
       "25%     -0.764797   -0.677460   -0.680283   -0.615292   -0.633849   -0.575296   \n",
       "50%     -0.764797   -0.677460   -0.680283    0.088853    0.117211    0.007430   \n",
       "75%      1.307536    1.476102    1.469977    0.710158    0.667988    0.590156   \n",
       "max      1.307536    1.476102    1.469977    2.118449    2.220179    2.338333   \n",
       "\n",
       "                6           7           8           9  \n",
       "count  836.000000  836.000000  836.000000  836.000000  \n",
       "mean    -0.036130   -0.034855   -0.034280   -0.039171  \n",
       "std      0.979746    0.982076    0.977184    0.972465  \n",
       "min     -1.686526   -1.615926   -1.642566   -1.703698  \n",
       "25%     -0.796852   -0.788144   -0.811515   -0.825689  \n",
       "50%     -0.100144   -0.176988   -0.130325   -0.085232  \n",
       "75%      0.577522    0.596918    0.573571    0.574837  \n",
       "max      3.706363    5.060207    3.570804    4.109202  "
      ]
     },
     "execution_count": 18,
     "metadata": {},
     "output_type": "execute_result"
    }
   ],
   "source": [
    "df_test_X = pd.DataFrame(test_X)\n",
    "df_test_X.describe()"
   ]
  },
  {
   "cell_type": "code",
   "execution_count": 19,
   "id": "8ca8011d-a0cd-4405-8831-c172246ce760",
   "metadata": {},
   "outputs": [],
   "source": [
    "import tensorflow as tf\n",
    "\n",
    "GJ_NET_MODEL = tf.keras.Sequential([\n",
    "    tf.keras.layers.Dense(units=10, activation = 'elu', input_shape =(10,)),\n",
    "    tf.keras.layers.Dense(units=24, activation = 'elu'),\n",
    "    tf.keras.layers.Dense(units=36 , activation = 'elu'),\n",
    "    tf.keras.layers.Dense(units=1)\n",
    "])"
   ]
  },
  {
   "cell_type": "code",
   "execution_count": 20,
   "id": "7fe33337-fd1e-4a65-9f0c-6ec4521b52dd",
   "metadata": {},
   "outputs": [
    {
     "name": "stdout",
     "output_type": "stream",
     "text": [
      "Model: \"sequential\"\n",
      "_________________________________________________________________\n",
      "Layer (type)                 Output Shape              Param #   \n",
      "=================================================================\n",
      "dense (Dense)                (None, 10)                110       \n",
      "_________________________________________________________________\n",
      "dense_1 (Dense)              (None, 24)                264       \n",
      "_________________________________________________________________\n",
      "dense_2 (Dense)              (None, 36)                900       \n",
      "_________________________________________________________________\n",
      "dense_3 (Dense)              (None, 1)                 37        \n",
      "=================================================================\n",
      "Total params: 1,311\n",
      "Trainable params: 1,311\n",
      "Non-trainable params: 0\n",
      "_________________________________________________________________\n"
     ]
    }
   ],
   "source": [
    "GJ_NET_MODEL.summary()"
   ]
  },
  {
   "cell_type": "code",
   "execution_count": 21,
   "id": "7e323a29-a86e-47aa-b0dd-a4067c738495",
   "metadata": {},
   "outputs": [],
   "source": [
    "GJ_NET_MODEL.compile(optimizer=tf.keras.optimizers.Adam(learning_rate=0.07), loss = 'mse')"
   ]
  },
  {
   "cell_type": "code",
   "execution_count": 41,
   "id": "7e7a6bea-3ef1-4eae-94a0-698d84c8f841",
   "metadata": {},
   "outputs": [
    {
     "name": "stdout",
     "output_type": "stream",
     "text": [
      "Epoch 1/25\n",
      "84/84 [==============================] - 0s 818us/step - loss: 11.0897 - val_loss: 9.5710\n",
      "Epoch 2/25\n",
      "84/84 [==============================] - 0s 840us/step - loss: 11.0450 - val_loss: 9.7188\n",
      "Epoch 3/25\n",
      "84/84 [==============================] - 0s 637us/step - loss: 10.9700 - val_loss: 10.4921\n",
      "Epoch 4/25\n",
      "84/84 [==============================] - 0s 649us/step - loss: 11.0567 - val_loss: 9.3212\n",
      "Epoch 5/25\n",
      "84/84 [==============================] - 0s 649us/step - loss: 10.9772 - val_loss: 9.2748\n",
      "Epoch 6/25\n",
      "84/84 [==============================] - 0s 625us/step - loss: 11.0233 - val_loss: 9.3385\n",
      "Epoch 7/25\n",
      "84/84 [==============================] - 0s 613us/step - loss: 11.0249 - val_loss: 9.3781\n",
      "Epoch 8/25\n",
      "84/84 [==============================] - 0s 613us/step - loss: 11.0025 - val_loss: 10.5401\n",
      "Epoch 9/25\n",
      "84/84 [==============================] - 0s 625us/step - loss: 11.2271 - val_loss: 9.3029\n",
      "Epoch 10/25\n",
      "84/84 [==============================] - 0s 637us/step - loss: 11.1662 - val_loss: 9.2852\n"
     ]
    }
   ],
   "source": [
    "history_1 = GJ_NET_MODEL.fit(train_X, train_Y, epochs = 25, batch_size = 32, validation_split= 0.2, callbacks = [tf.keras.callbacks.EarlyStopping(patience = 5, monitor = 'val_loss')]) #validation_split(검증에대한 로스값 훈련데이터 0.2로만), callback 값튀는게 있다면 멈춰라"
   ]
  },
  {
   "cell_type": "code",
   "execution_count": 42,
   "id": "c2c2104a-5e15-4e11-98c7-c1e1e6d51c2a",
   "metadata": {},
   "outputs": [
    {
     "data": {
      "image/png": "[encoded data removed]",
      "text/plain": [
       "<Figure size 432x288 with 1 Axes>"
      ]
     },
     "metadata": {
      "needs_background": "light"
     },
     "output_type": "display_data"
    }
   ],
   "source": [
    "plt.plot(history_1.history['loss'], '--o', color = 'red', label = 'train_loss')\n",
    "plt.plot(history_1.history['val_loss'], '--o', color = 'blue', label = 'val_loss')\n",
    "plt.xlabel('Epochs')\n",
    "plt.ylabel('Loss')\n",
    "plt.legend()\n",
    "plt.grid()"
   ]
  },
  {
   "cell_type": "code",
   "execution_count": 24,
   "id": "ca8909fa-04b9-4326-868b-242e198fa0dd",
   "metadata": {},
   "outputs": [
    {
     "name": "stdout",
     "output_type": "stream",
     "text": [
      "27/27 [==============================] - 0s 460us/step - loss: 9.9223\n"
     ]
    },
    {
     "data": {
      "text/plain": [
       "9.922258377075195"
      ]
     },
     "execution_count": 24,
     "metadata": {},
     "output_type": "execute_result"
    }
   ],
   "source": [
    "GJ_NET_MODEL.evaluate(test_X, test_Y)"
   ]
  },
  {
   "cell_type": "code",
   "execution_count": 25,
   "id": "bf84f129-48fe-4d3f-8dfc-8bb65bc94790",
   "metadata": {},
   "outputs": [
    {
     "name": "stdout",
     "output_type": "stream",
     "text": [
      "[[9.459807]\n",
      " [8.886728]\n",
      " [9.459807]\n",
      " [9.459807]\n",
      " [9.459807]\n",
      " [9.459807]\n",
      " [9.459807]\n",
      " [9.459807]\n",
      " [9.459807]\n",
      " [9.459807]]\n"
     ]
    }
   ],
   "source": [
    "pred_Y = GJ_NET_MODEL.predict(test_X)\n",
    "print(pred_Y[:10])"
   ]
  },
  {
   "cell_type": "code",
   "execution_count": 26,
   "id": "180a381b-f725-473b-a91f-215e281ae9a0",
   "metadata": {},
   "outputs": [
    {
     "data": {
      "image/png": "[encoded data removed]",
      "text/plain": [
       "<Figure size 432x288 with 1 Axes>"
      ]
     },
     "metadata": {
      "needs_background": "light"
     },
     "output_type": "display_data"
    }
   ],
   "source": [
    "plt.plot(pred_Y[:], 'o', color ='red', label = 'pred_Y')\n",
    "plt.plot(test_Y[:], '+', color = 'blue', label = 'test_Y')\n",
    "plt.grid()\n",
    "plt.legend()\n",
    "plt.show()"
   ]
  },
  {
   "cell_type": "code",
   "execution_count": 27,
   "id": "dfb087dc-2a7d-407a-b7c4-ebe56efe9f08",
   "metadata": {},
   "outputs": [],
   "source": [
    "###################################################은닉계층 다버리고 학습시켜보기##################################################"
   ]
  },
  {
   "cell_type": "code",
   "execution_count": 28,
   "id": "7c6ff002-048c-420d-a7ac-8bdb6eeacfc6",
   "metadata": {},
   "outputs": [],
   "source": [
    "GJ_NET_MODEL_V2 = tf.keras.Sequential([\n",
    "    tf.keras.layers.Dense(units=1, input_shape = (10,))\n",
    "])"
   ]
  },
  {
   "cell_type": "code",
   "execution_count": 29,
   "id": "d5c4da05-8eeb-48d2-8642-d7087c2efa8e",
   "metadata": {},
   "outputs": [],
   "source": [
    "GJ_NET_MODEL_V2.compile(optimizer=tf.keras.optimizers.Adam(learning_rate=0.07),loss='mse')"
   ]
  },
  {
   "cell_type": "code",
   "execution_count": 30,
   "id": "820b0839-5fc5-4f95-a923-fd1ed3c1d568",
   "metadata": {},
   "outputs": [
    {
     "name": "stdout",
     "output_type": "stream",
     "text": [
      "Model: \"sequential_1\"\n",
      "_________________________________________________________________\n",
      "Layer (type)                 Output Shape              Param #   \n",
      "=================================================================\n",
      "dense_4 (Dense)              (None, 1)                 11        \n",
      "=================================================================\n",
      "Total params: 11\n",
      "Trainable params: 11\n",
      "Non-trainable params: 0\n",
      "_________________________________________________________________\n"
     ]
    }
   ],
   "source": [
    "GJ_NET_MODEL_V2.summary()"
   ]
  },
  {
   "cell_type": "code",
   "execution_count": 31,
   "id": "d42d8f92-52da-4b1c-bc8b-98c5619f0806",
   "metadata": {},
   "outputs": [
    {
     "name": "stdout",
     "output_type": "stream",
     "text": [
      "Epoch 1/25\n",
      "105/105 [==============================] - 0s 377us/step - loss: 53.9577\n",
      "Epoch 2/25\n",
      "105/105 [==============================] - 0s 316us/step - loss: 10.4141\n",
      "Epoch 3/25\n",
      "105/105 [==============================] - 0s 336us/step - loss: 5.3372\n",
      "Epoch 4/25\n",
      "105/105 [==============================] - 0s 336us/step - loss: 5.1505\n",
      "Epoch 5/25\n",
      "105/105 [==============================] - 0s 316us/step - loss: 5.1826\n",
      "Epoch 6/25\n",
      "105/105 [==============================] - 0s 326us/step - loss: 5.0837\n",
      "Epoch 7/25\n",
      "105/105 [==============================] - 0s 336us/step - loss: 5.0450\n",
      "Epoch 8/25\n",
      "105/105 [==============================] - 0s 336us/step - loss: 5.0983\n",
      "Epoch 9/25\n",
      "105/105 [==============================] - 0s 326us/step - loss: 5.0198\n",
      "Epoch 10/25\n",
      "105/105 [==============================] - 0s 326us/step - loss: 5.0396\n",
      "Epoch 11/25\n",
      "105/105 [==============================] - 0s 336us/step - loss: 5.0085\n",
      "Epoch 12/25\n",
      "105/105 [==============================] - 0s 326us/step - loss: 5.0338\n",
      "Epoch 13/25\n",
      "105/105 [==============================] - 0s 326us/step - loss: 5.0051\n",
      "Epoch 14/25\n",
      "105/105 [==============================] - 0s 316us/step - loss: 5.0100\n",
      "Epoch 15/25\n",
      "105/105 [==============================] - 0s 336us/step - loss: 5.0230\n",
      "Epoch 16/25\n",
      "105/105 [==============================] - 0s 326us/step - loss: 5.0439\n",
      "Epoch 17/25\n",
      "105/105 [==============================] - 0s 336us/step - loss: 4.9682\n",
      "Epoch 18/25\n",
      "105/105 [==============================] - 0s 326us/step - loss: 5.0034\n",
      "Epoch 19/25\n",
      "105/105 [==============================] - 0s 326us/step - loss: 4.9594\n",
      "Epoch 20/25\n",
      "105/105 [==============================] - 0s 326us/step - loss: 4.9763\n",
      "Epoch 21/25\n",
      "105/105 [==============================] - 0s 326us/step - loss: 4.9898\n",
      "Epoch 22/25\n",
      "105/105 [==============================] - 0s 316us/step - loss: 4.9370\n",
      "Epoch 23/25\n",
      "105/105 [==============================] - 0s 326us/step - loss: 4.9801\n",
      "Epoch 24/25\n",
      "105/105 [==============================] - 0s 336us/step - loss: 4.9978\n",
      "Epoch 25/25\n",
      "105/105 [==============================] - 0s 326us/step - loss: 4.9571\n"
     ]
    }
   ],
   "source": [
    "history_2 = GJ_NET_MODEL_V2.fit(train_X, train_Y, epochs=25, batch_size = 32)"
   ]
  },
  {
   "cell_type": "code",
   "execution_count": 32,
   "id": "9f4f9709-1384-4fd1-af2b-81de47e023e4",
   "metadata": {},
   "outputs": [
    {
     "name": "stdout",
     "output_type": "stream",
     "text": [
      "27/27 [==============================] - 0s 384us/step - loss: 4.8169\n"
     ]
    },
    {
     "data": {
      "text/plain": [
       "4.816929340362549"
      ]
     },
     "execution_count": 32,
     "metadata": {},
     "output_type": "execute_result"
    }
   ],
   "source": [
    "GJ_NET_MODEL_V2.evaluate(test_X, test_Y)"
   ]
  },
  {
   "cell_type": "code",
   "execution_count": 34,
   "id": "57b7c056-85a1-4011-b340-66d6c04ff343",
   "metadata": {},
   "outputs": [
    {
     "data": {
      "image/png": "[encoded data removed]",
      "text/plain": [
       "<Figure size 432x288 with 1 Axes>"
      ]
     },
     "metadata": {
      "needs_background": "light"
     },
     "output_type": "display_data"
    }
   ],
   "source": [
    "plt.plot(history_2.history['loss'], '--o', color = 'red', label = 'train_loss')\n",
    "plt.xlabel('Epochs')\n",
    "plt.ylabel('Loss')\n",
    "plt.legend()\n",
    "plt.grid()"
   ]
  },
  {
   "cell_type": "code",
   "execution_count": 35,
   "id": "6653e587-5a5e-4f51-949d-3992c3dbf653",
   "metadata": {},
   "outputs": [
    {
     "name": "stdout",
     "output_type": "stream",
     "text": [
      "[[ 8.122778 ]\n",
      " [ 8.745664 ]\n",
      " [ 9.014262 ]\n",
      " [14.688904 ]\n",
      " [ 3.882412 ]\n",
      " [ 6.3764606]\n",
      " [12.293568 ]\n",
      " [10.508714 ]\n",
      " [10.206242 ]\n",
      " [12.065241 ]]\n"
     ]
    }
   ],
   "source": [
    "pred_Y = GJ_NET_MODEL_V2.predict(test_X)\n",
    "print(pred_Y[:10])"
   ]
  },
  {
   "cell_type": "code",
   "execution_count": 36,
   "id": "c61d7af6-dea6-4add-9cc1-58467f3bbcc5",
   "metadata": {},
   "outputs": [
    {
     "name": "stdout",
     "output_type": "stream",
     "text": [
      "[[ 7.]\n",
      " [ 8.]\n",
      " [ 9.]\n",
      " [17.]\n",
      " [ 3.]\n",
      " [ 7.]\n",
      " [ 8.]\n",
      " [ 9.]\n",
      " [10.]\n",
      " [10.]]\n"
     ]
    }
   ],
   "source": [
    "print(test_Y[:10])"
   ]
  },
  {
   "cell_type": "code",
   "execution_count": 104,
   "id": "95004067-269e-43bd-827a-67b10f397a99",
   "metadata": {},
   "outputs": [
    {
     "data": {
      "image/png": "[encoded data removed]",
      "text/plain": [
       "<Figure size 432x288 with 1 Axes>"
      ]
     },
     "metadata": {
      "needs_background": "light"
     },
     "output_type": "display_data"
    }
   ],
   "source": [
    "plt.plot(pred_Y[:], 'o', color = 'red', label = 'pred_Y')\n",
    "plt.plot(test_Y[:], '+', color = 'blue', label = 'test_Y')\n",
    "plt.legend()\n",
    "plt.grid()\n",
    "plt.show()"
   ]
  },
  {
   "cell_type": "code",
   "execution_count": 105,
   "id": "404e0fda-db88-431e-a772-4a7e95710e24",
   "metadata": {},
   "outputs": [
    {
     "name": "stdout",
     "output_type": "stream",
     "text": [
      "GJ_NET_MODEL_V2 - ACC 0.65%\n"
     ]
    }
   ],
   "source": [
    "acc = 1 - np.mean(np.abs((pred_Y - test_Y)/test_Y))\n",
    "print(f'GJ_NET_MODEL_V2 - ACC {acc:.2f}%')"
   ]
  },
  {
   "cell_type": "code",
   "execution_count": null,
   "id": "b6700ee1-1fdc-4f94-9ccc-26072ab218d2",
   "metadata": {},
   "outputs": [],
   "source": []
  },
  {
   "cell_type": "code",
   "execution_count": null,
   "id": "d3b917fc-23ce-470e-9b8e-de3b8a551d68",
   "metadata": {},
   "outputs": [],
   "source": []
  },
  {
   "cell_type": "code",
   "execution_count": null,
   "id": "ef716e8a-38b9-46b7-870f-77ca7adafadc",
   "metadata": {},
   "outputs": [],
   "source": []
  },
  {
   "cell_type": "code",
   "execution_count": 74,
   "id": "e238e1cf-3d0b-4591-9291-93e06964cc4f",
   "metadata": {},
   "outputs": [],
   "source": [
    "df_mini = pd.read_csv('데이터셋/faults_mini.csv')"
   ]
  },
  {
   "cell_type": "code",
   "execution_count": 75,
   "id": "a6455b60-a168-44c1-9985-ab0b6bbe88e2",
   "metadata": {},
   "outputs": [
    {
     "data": {
      "text/html": [
       "<div>\n",
       "<style scoped>\n",
       "    .dataframe tbody tr th:only-of-type {\n",
       "        vertical-align: middle;\n",
       "    }\n",
       "\n",
       "    .dataframe tbody tr th {\n",
       "        vertical-align: top;\n",
       "    }\n",
       "\n",
       "    .dataframe thead th {\n",
       "        text-align: right;\n",
       "    }\n",
       "</style>\n",
       "<table border=\"1\" class=\"dataframe\">\n",
       "  <thead>\n",
       "    <tr style=\"text-align: right;\">\n",
       "      <th></th>\n",
       "      <th>X_Minimum</th>\n",
       "      <th>Y_Minimum</th>\n",
       "      <th>Pixels_Areas</th>\n",
       "      <th>Steel_Plate_Thickness</th>\n",
       "      <th>Pastry</th>\n",
       "      <th>Z_Scratch</th>\n",
       "      <th>K_Scatch</th>\n",
       "    </tr>\n",
       "  </thead>\n",
       "  <tbody>\n",
       "    <tr>\n",
       "      <th>0</th>\n",
       "      <td>42</td>\n",
       "      <td>270900</td>\n",
       "      <td>267</td>\n",
       "      <td>80</td>\n",
       "      <td>1</td>\n",
       "      <td>0</td>\n",
       "      <td>0</td>\n",
       "    </tr>\n",
       "    <tr>\n",
       "      <th>1</th>\n",
       "      <td>1084</td>\n",
       "      <td>185575</td>\n",
       "      <td>108</td>\n",
       "      <td>40</td>\n",
       "      <td>0</td>\n",
       "      <td>0</td>\n",
       "      <td>1</td>\n",
       "    </tr>\n",
       "    <tr>\n",
       "      <th>2</th>\n",
       "      <td>1109</td>\n",
       "      <td>1170194</td>\n",
       "      <td>130</td>\n",
       "      <td>175</td>\n",
       "      <td>0</td>\n",
       "      <td>1</td>\n",
       "      <td>0</td>\n",
       "    </tr>\n",
       "    <tr>\n",
       "      <th>3</th>\n",
       "      <td>190</td>\n",
       "      <td>210936</td>\n",
       "      <td>132</td>\n",
       "      <td>150</td>\n",
       "      <td>1</td>\n",
       "      <td>0</td>\n",
       "      <td>0</td>\n",
       "    </tr>\n",
       "    <tr>\n",
       "      <th>4</th>\n",
       "      <td>330</td>\n",
       "      <td>429227</td>\n",
       "      <td>264</td>\n",
       "      <td>150</td>\n",
       "      <td>1</td>\n",
       "      <td>0</td>\n",
       "      <td>0</td>\n",
       "    </tr>\n",
       "    <tr>\n",
       "      <th>5</th>\n",
       "      <td>74</td>\n",
       "      <td>779144</td>\n",
       "      <td>1506</td>\n",
       "      <td>150</td>\n",
       "      <td>1</td>\n",
       "      <td>0</td>\n",
       "      <td>0</td>\n",
       "    </tr>\n",
       "    <tr>\n",
       "      <th>6</th>\n",
       "      <td>51</td>\n",
       "      <td>585861</td>\n",
       "      <td>139</td>\n",
       "      <td>70</td>\n",
       "      <td>0</td>\n",
       "      <td>1</td>\n",
       "      <td>0</td>\n",
       "    </tr>\n",
       "    <tr>\n",
       "      <th>7</th>\n",
       "      <td>397</td>\n",
       "      <td>604478</td>\n",
       "      <td>444</td>\n",
       "      <td>70</td>\n",
       "      <td>0</td>\n",
       "      <td>1</td>\n",
       "      <td>0</td>\n",
       "    </tr>\n",
       "    <tr>\n",
       "      <th>8</th>\n",
       "      <td>43</td>\n",
       "      <td>366881</td>\n",
       "      <td>4048</td>\n",
       "      <td>40</td>\n",
       "      <td>0</td>\n",
       "      <td>0</td>\n",
       "      <td>1</td>\n",
       "    </tr>\n",
       "    <tr>\n",
       "      <th>9</th>\n",
       "      <td>48</td>\n",
       "      <td>377537</td>\n",
       "      <td>3985</td>\n",
       "      <td>40</td>\n",
       "      <td>0</td>\n",
       "      <td>0</td>\n",
       "      <td>1</td>\n",
       "    </tr>\n",
       "  </tbody>\n",
       "</table>\n",
       "</div>"
      ],
      "text/plain": [
       "   X_Minimum  Y_Minimum  Pixels_Areas  Steel_Plate_Thickness  Pastry  \\\n",
       "0         42     270900           267                     80       1   \n",
       "1       1084     185575           108                     40       0   \n",
       "2       1109    1170194           130                    175       0   \n",
       "3        190     210936           132                    150       1   \n",
       "4        330     429227           264                    150       1   \n",
       "5         74     779144          1506                    150       1   \n",
       "6         51     585861           139                     70       0   \n",
       "7        397     604478           444                     70       0   \n",
       "8         43     366881          4048                     40       0   \n",
       "9         48     377537          3985                     40       0   \n",
       "\n",
       "   Z_Scratch  K_Scatch  \n",
       "0          0         0  \n",
       "1          0         1  \n",
       "2          1         0  \n",
       "3          0         0  \n",
       "4          0         0  \n",
       "5          0         0  \n",
       "6          1         0  \n",
       "7          1         0  \n",
       "8          0         1  \n",
       "9          0         1  "
      ]
     },
     "execution_count": 75,
     "metadata": {},
     "output_type": "execute_result"
    }
   ],
   "source": [
    "df_mini"
   ]
  },
  {
   "cell_type": "code",
   "execution_count": 76,
   "id": "29bd586f-707b-4e2c-9b22-d13bf87357ff",
   "metadata": {},
   "outputs": [],
   "source": [
    "mean = np.mean(df_mini, axis = 0)\n",
    "std = np.std(df_mini, axis = 0)"
   ]
  },
  {
   "cell_type": "code",
   "execution_count": 77,
   "id": "c723e73f-5ab0-43fb-87dd-60bd515496f4",
   "metadata": {},
   "outputs": [
    {
     "name": "stdout",
     "output_type": "stream",
     "text": [
      "X_Minimum                   398.396486\n",
      "Y_Minimum                286001.148814\n",
      "Pixels_Areas               1509.547684\n",
      "Steel_Plate_Thickness        50.992647\n",
      "Pastry                        0.489898\n",
      "Z_Scratch                     0.458258\n",
      "K_Scatch                      0.458258\n",
      "dtype: float64\n",
      "X_Minimum                   336.8\n",
      "Y_Minimum                498073.3\n",
      "Pixels_Areas               1102.3\n",
      "Steel_Plate_Thickness        96.5\n",
      "Pastry                        0.4\n",
      "Z_Scratch                     0.3\n",
      "K_Scatch                      0.3\n",
      "dtype: float64\n"
     ]
    }
   ],
   "source": [
    "print(std)\n",
    "print(mean)"
   ]
  },
  {
   "cell_type": "code",
   "execution_count": 78,
   "id": "a64d35f5-ac1b-4b8e-9662-2f272d1ef735",
   "metadata": {},
   "outputs": [],
   "source": [
    "df_mini -= mean"
   ]
  },
  {
   "cell_type": "code",
   "execution_count": 79,
   "id": "94ef7673-1a10-4ec4-9aa2-dd4f090038c4",
   "metadata": {},
   "outputs": [
    {
     "data": {
      "text/html": [
       "<div>\n",
       "<style scoped>\n",
       "    .dataframe tbody tr th:only-of-type {\n",
       "        vertical-align: middle;\n",
       "    }\n",
       "\n",
       "    .dataframe tbody tr th {\n",
       "        vertical-align: top;\n",
       "    }\n",
       "\n",
       "    .dataframe thead th {\n",
       "        text-align: right;\n",
       "    }\n",
       "</style>\n",
       "<table border=\"1\" class=\"dataframe\">\n",
       "  <thead>\n",
       "    <tr style=\"text-align: right;\">\n",
       "      <th></th>\n",
       "      <th>X_Minimum</th>\n",
       "      <th>Y_Minimum</th>\n",
       "      <th>Pixels_Areas</th>\n",
       "      <th>Steel_Plate_Thickness</th>\n",
       "      <th>Pastry</th>\n",
       "      <th>Z_Scratch</th>\n",
       "      <th>K_Scatch</th>\n",
       "    </tr>\n",
       "  </thead>\n",
       "  <tbody>\n",
       "    <tr>\n",
       "      <th>0</th>\n",
       "      <td>-294.8</td>\n",
       "      <td>-227173.3</td>\n",
       "      <td>-835.3</td>\n",
       "      <td>-16.5</td>\n",
       "      <td>0.6</td>\n",
       "      <td>-0.3</td>\n",
       "      <td>-0.3</td>\n",
       "    </tr>\n",
       "    <tr>\n",
       "      <th>1</th>\n",
       "      <td>747.2</td>\n",
       "      <td>-312498.3</td>\n",
       "      <td>-994.3</td>\n",
       "      <td>-56.5</td>\n",
       "      <td>-0.4</td>\n",
       "      <td>-0.3</td>\n",
       "      <td>0.7</td>\n",
       "    </tr>\n",
       "    <tr>\n",
       "      <th>2</th>\n",
       "      <td>772.2</td>\n",
       "      <td>672120.7</td>\n",
       "      <td>-972.3</td>\n",
       "      <td>78.5</td>\n",
       "      <td>-0.4</td>\n",
       "      <td>0.7</td>\n",
       "      <td>-0.3</td>\n",
       "    </tr>\n",
       "    <tr>\n",
       "      <th>3</th>\n",
       "      <td>-146.8</td>\n",
       "      <td>-287137.3</td>\n",
       "      <td>-970.3</td>\n",
       "      <td>53.5</td>\n",
       "      <td>0.6</td>\n",
       "      <td>-0.3</td>\n",
       "      <td>-0.3</td>\n",
       "    </tr>\n",
       "    <tr>\n",
       "      <th>4</th>\n",
       "      <td>-6.8</td>\n",
       "      <td>-68846.3</td>\n",
       "      <td>-838.3</td>\n",
       "      <td>53.5</td>\n",
       "      <td>0.6</td>\n",
       "      <td>-0.3</td>\n",
       "      <td>-0.3</td>\n",
       "    </tr>\n",
       "    <tr>\n",
       "      <th>5</th>\n",
       "      <td>-262.8</td>\n",
       "      <td>281070.7</td>\n",
       "      <td>403.7</td>\n",
       "      <td>53.5</td>\n",
       "      <td>0.6</td>\n",
       "      <td>-0.3</td>\n",
       "      <td>-0.3</td>\n",
       "    </tr>\n",
       "    <tr>\n",
       "      <th>6</th>\n",
       "      <td>-285.8</td>\n",
       "      <td>87787.7</td>\n",
       "      <td>-963.3</td>\n",
       "      <td>-26.5</td>\n",
       "      <td>-0.4</td>\n",
       "      <td>0.7</td>\n",
       "      <td>-0.3</td>\n",
       "    </tr>\n",
       "    <tr>\n",
       "      <th>7</th>\n",
       "      <td>60.2</td>\n",
       "      <td>106404.7</td>\n",
       "      <td>-658.3</td>\n",
       "      <td>-26.5</td>\n",
       "      <td>-0.4</td>\n",
       "      <td>0.7</td>\n",
       "      <td>-0.3</td>\n",
       "    </tr>\n",
       "    <tr>\n",
       "      <th>8</th>\n",
       "      <td>-293.8</td>\n",
       "      <td>-131192.3</td>\n",
       "      <td>2945.7</td>\n",
       "      <td>-56.5</td>\n",
       "      <td>-0.4</td>\n",
       "      <td>-0.3</td>\n",
       "      <td>0.7</td>\n",
       "    </tr>\n",
       "    <tr>\n",
       "      <th>9</th>\n",
       "      <td>-288.8</td>\n",
       "      <td>-120536.3</td>\n",
       "      <td>2882.7</td>\n",
       "      <td>-56.5</td>\n",
       "      <td>-0.4</td>\n",
       "      <td>-0.3</td>\n",
       "      <td>0.7</td>\n",
       "    </tr>\n",
       "  </tbody>\n",
       "</table>\n",
       "</div>"
      ],
      "text/plain": [
       "   X_Minimum  Y_Minimum  Pixels_Areas  Steel_Plate_Thickness  Pastry  \\\n",
       "0     -294.8  -227173.3        -835.3                  -16.5     0.6   \n",
       "1      747.2  -312498.3        -994.3                  -56.5    -0.4   \n",
       "2      772.2   672120.7        -972.3                   78.5    -0.4   \n",
       "3     -146.8  -287137.3        -970.3                   53.5     0.6   \n",
       "4       -6.8   -68846.3        -838.3                   53.5     0.6   \n",
       "5     -262.8   281070.7         403.7                   53.5     0.6   \n",
       "6     -285.8    87787.7        -963.3                  -26.5    -0.4   \n",
       "7       60.2   106404.7        -658.3                  -26.5    -0.4   \n",
       "8     -293.8  -131192.3        2945.7                  -56.5    -0.4   \n",
       "9     -288.8  -120536.3        2882.7                  -56.5    -0.4   \n",
       "\n",
       "   Z_Scratch  K_Scatch  \n",
       "0       -0.3      -0.3  \n",
       "1       -0.3       0.7  \n",
       "2        0.7      -0.3  \n",
       "3       -0.3      -0.3  \n",
       "4       -0.3      -0.3  \n",
       "5       -0.3      -0.3  \n",
       "6        0.7      -0.3  \n",
       "7        0.7      -0.3  \n",
       "8       -0.3       0.7  \n",
       "9       -0.3       0.7  "
      ]
     },
     "execution_count": 79,
     "metadata": {},
     "output_type": "execute_result"
    }
   ],
   "source": [
    "df_mini"
   ]
  },
  {
   "cell_type": "code",
   "execution_count": null,
   "id": "2ed18002-18b3-47ff-b41b-bd4e15d557be",
   "metadata": {},
   "outputs": [],
   "source": []
  }
 ],
 "metadata": {
  "kernelspec": {
   "display_name": "Python 3",
   "language": "python",
   "name": "python3"
  },
  "language_info": {
   "codemirror_mode": {
    "name": "ipython",
    "version": 3
   },
   "file_extension": ".py",
   "mimetype": "text/x-python",
   "name": "python",
   "nbconvert_exporter": "python",
   "pygments_lexer": "ipython3",
   "version": "3.8.8"
  }
 },
 "nbformat": 4,
 "nbformat_minor": 5
}

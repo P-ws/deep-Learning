{
 "cells": [
  {
   "cell_type": "code",
   "execution_count": 1,
   "id": "58bf0535-c835-440a-af11-bb28271a6fc6",
   "metadata": {},
   "outputs": [],
   "source": [
    "import pandas as pd"
   ]
  },
  {
   "cell_type": "code",
   "execution_count": 3,
   "id": "75690fe9-0ddc-42cf-a8ae-8d72fd9bff57",
   "metadata": {},
   "outputs": [],
   "source": [
    "df = pd.read_csv('데이터셋/abalone.csv')"
   ]
  },
  {
   "cell_type": "code",
   "execution_count": 5,
   "id": "4e4a0a81-552a-4f60-9ec8-f73671885a12",
   "metadata": {},
   "outputs": [
    {
     "name": "stdout",
     "output_type": "stream",
     "text": [
      "<class 'pandas.core.frame.DataFrame'>\n",
      "RangeIndex: 4177 entries, 0 to 4176\n",
      "Data columns (total 9 columns):\n",
      " #   Column          Non-Null Count  Dtype  \n",
      "---  ------          --------------  -----  \n",
      " 0   Sex             4177 non-null   object \n",
      " 1   Length          4177 non-null   float64\n",
      " 2   Diameter        4177 non-null   float64\n",
      " 3   Height          4177 non-null   float64\n",
      " 4   Whole weight    4177 non-null   float64\n",
      " 5   Shucked weight  4177 non-null   float64\n",
      " 6   Viscera weight  4177 non-null   float64\n",
      " 7   Shell weight    4177 non-null   float64\n",
      " 8   Rings           4177 non-null   int64  \n",
      "dtypes: float64(7), int64(1), object(1)\n",
      "memory usage: 293.8+ KB\n"
     ]
    }
   ],
   "source": [
    "df.info()"
   ]
  },
  {
   "cell_type": "code",
   "execution_count": 21,
   "id": "3e5a2925-3948-4c8c-b5bb-3ae1cb8ffccb",
   "metadata": {},
   "outputs": [],
   "source": [
    "import csv\n",
    "import numpy as np\n",
    "with open('데이터셋/abalone.csv') as csvfile:\n",
    "    csvreader = csv.reader(csvfile)\n",
    "    next(csvreader) #한줄 건너 뛰기\n",
    "    \n",
    "    rows = []\n",
    "    for row in csvreader:\n",
    "        rows.append(row)\n",
    "        "
   ]
  },
  {
   "cell_type": "code",
   "execution_count": 26,
   "id": "b1d080b4-c03f-44d0-aab4-d49c5b6bd1f3",
   "metadata": {},
   "outputs": [
    {
     "name": "stdout",
     "output_type": "stream",
     "text": [
      "(4177, 11)\n"
     ]
    }
   ],
   "source": [
    "input_cnt, output_cnt = 10, 1\n",
    "data = np.zeros([len(rows), input_cnt + output_cnt])\n",
    "print(data.shape)"
   ]
  },
  {
   "cell_type": "code",
   "execution_count": 27,
   "id": "55d4ac14-4bf5-4215-a437-cda8f7f2cc78",
   "metadata": {},
   "outputs": [],
   "source": [
    "for n, row in enumerate(rows):\n",
    "    if row[0] == 'M' : data[n,0] = 1\n",
    "    if row[0] == 'F' : data[n,1] = 1\n",
    "    if row[0] == 'I' : data[n,2] = 1\n",
    "    data[n, 3:] = row[1:]\n"
   ]
  },
  {
   "cell_type": "code",
   "execution_count": 28,
   "id": "8c36c764-be26-4fec-b8f4-dcb609aa91d3",
   "metadata": {},
   "outputs": [
    {
     "data": {
      "text/plain": [
       "array([[ 1.    ,  0.    ,  0.    ,  0.455 ,  0.365 ,  0.095 ,  0.514 ,\n",
       "         0.2245,  0.101 ,  0.15  , 15.    ],\n",
       "       [ 1.    ,  0.    ,  0.    ,  0.35  ,  0.265 ,  0.09  ,  0.2255,\n",
       "         0.0995,  0.0485,  0.07  ,  7.    ],\n",
       "       [ 0.    ,  1.    ,  0.    ,  0.53  ,  0.42  ,  0.135 ,  0.677 ,\n",
       "         0.2565,  0.1415,  0.21  ,  9.    ],\n",
       "       [ 1.    ,  0.    ,  0.    ,  0.44  ,  0.365 ,  0.125 ,  0.516 ,\n",
       "         0.2155,  0.114 ,  0.155 , 10.    ],\n",
       "       [ 0.    ,  0.    ,  1.    ,  0.33  ,  0.255 ,  0.08  ,  0.205 ,\n",
       "         0.0895,  0.0395,  0.055 ,  7.    ]])"
      ]
     },
     "execution_count": 28,
     "metadata": {},
     "output_type": "execute_result"
    }
   ],
   "source": [
    "data[:5]"
   ]
  },
  {
   "cell_type": "code",
   "execution_count": 29,
   "id": "24dc2874-46b7-495b-8170-aaa8202d99d2",
   "metadata": {},
   "outputs": [
    {
     "name": "stdout",
     "output_type": "stream",
     "text": [
      "test_begin_idx:  3341\n"
     ]
    }
   ],
   "source": [
    "train_ratio = 0.8\n",
    "test_begin_idx = int(data.shape[0]* train_ratio)\n",
    "print(\"test_begin_idx: \", test_begin_idx)"
   ]
  },
  {
   "cell_type": "code",
   "execution_count": 31,
   "id": "5c178eb4-0654-4278-9a8e-1d1b1ea82a15",
   "metadata": {},
   "outputs": [],
   "source": [
    "shuffle_map = np.arange(data.shape[0])\n",
    "np.random.shuffle(shuffle_map)"
   ]
  },
  {
   "cell_type": "code",
   "execution_count": 34,
   "id": "860e5874-58c6-45a5-acd5-a0c3c88994cd",
   "metadata": {},
   "outputs": [
    {
     "data": {
      "text/plain": [
       "array([3911, 2121, 2132,  372, 1302])"
      ]
     },
     "execution_count": 34,
     "metadata": {},
     "output_type": "execute_result"
    }
   ],
   "source": [
    "shuffle_map[:5]"
   ]
  },
  {
   "cell_type": "code",
   "execution_count": 35,
   "id": "57bb4571-9ca3-4406-a6a9-e6d2335dc18c",
   "metadata": {},
   "outputs": [
    {
     "name": "stdout",
     "output_type": "stream",
     "text": [
      "(836, 11)\n",
      "(3341, 11)\n"
     ]
    }
   ],
   "source": [
    "test_data = data[shuffle_map[test_begin_idx:]]\n",
    "print(test_data.shape)\n",
    "train_data = data[shuffle_map[:test_begin_idx]]\n",
    "print(train_data.shape)"
   ]
  },
  {
   "cell_type": "code",
   "execution_count": 38,
   "id": "3130a8e5-50e5-4a3f-ba3a-cb9b96c3e447",
   "metadata": {},
   "outputs": [],
   "source": [
    "train_X, train_Y = train_data[:, :-output_cnt], train_data[:,-output_cnt:]\n",
    "test_X, test_Y = test_data[:, :-output_cnt], test_data[:,-output_cnt:]"
   ]
  },
  {
   "cell_type": "code",
   "execution_count": 40,
   "id": "a0ef23ee-4145-48ed-b528-44aab19c1e68",
   "metadata": {},
   "outputs": [
    {
     "name": "stdout",
     "output_type": "stream",
     "text": [
      "(3341, 10)\n",
      "(836, 10)\n",
      "(3341, 1)\n",
      "(836, 1)\n"
     ]
    }
   ],
   "source": [
    "print(train_X.shape)\n",
    "print(test_X.shape)\n",
    "\n",
    "print(train_Y.shape)\n",
    "print(test_Y.shape)"
   ]
  },
  {
   "cell_type": "code",
   "execution_count": 41,
   "id": "bb073ef2-d67e-46d6-93d6-ea83fcc06644",
   "metadata": {},
   "outputs": [],
   "source": [
    "train_x_mean = np.mean(train_X, axis=0)\n",
    "train_x_std = train_X.std(axis = 0)"
   ]
  },
  {
   "cell_type": "code",
   "execution_count": 43,
   "id": "7e4247a2-d710-40aa-80d4-4142dc98a578",
   "metadata": {},
   "outputs": [],
   "source": [
    "train_X -= train_x_mean\n",
    "train_X /= train_x_std"
   ]
  },
  {
   "cell_type": "code",
   "execution_count": 46,
   "id": "ea7577ad-18b7-4ce9-9225-e106ed3f234c",
   "metadata": {},
   "outputs": [
    {
     "data": {
      "text/plain": [
       "array([[-0.75450736, -0.68028273,  1.45485548, ..., -1.25098718,\n",
       "        -1.30736669, -1.17387857],\n",
       "       [-0.75450736, -0.68028273,  1.45485548, ..., -0.82195067,\n",
       "        -0.76147458, -0.66807178],\n",
       "       [-0.75450736,  1.46997706, -0.68735349, ..., -0.28565503,\n",
       "        -0.1559472 , -0.16226499],\n",
       "       ...,\n",
       "       [-0.75450736,  1.46997706, -0.68735349, ...,  2.18815124,\n",
       "         1.58265034,  1.71644594],\n",
       "       [-0.75450736, -0.68028273,  1.45485548, ..., -0.81282224,\n",
       "        -0.69725198, -0.45129744],\n",
       "       [-0.75450736, -0.68028273,  1.45485548, ..., -1.15057438,\n",
       "        -1.30736669, -1.35452385]])"
      ]
     },
     "execution_count": 46,
     "metadata": {},
     "output_type": "execute_result"
    }
   ],
   "source": [
    "train_X"
   ]
  },
  {
   "cell_type": "code",
   "execution_count": 47,
   "id": "05b14be6-6c87-473d-bb90-d4819d43fe4e",
   "metadata": {},
   "outputs": [],
   "source": [
    "test_X -= train_x_mean\n",
    "test_X /= train_x_std"
   ]
  },
  {
   "cell_type": "code",
   "execution_count": null,
   "id": "bf0e6af5-cc07-4c2f-b8bf-472d2042d4a4",
   "metadata": {},
   "outputs": [],
   "source": []
  }
 ],
 "metadata": {
  "kernelspec": {
   "display_name": "Python 3",
   "language": "python",
   "name": "python3"
  },
  "language_info": {
   "codemirror_mode": {
    "name": "ipython",
    "version": 3
   },
   "file_extension": ".py",
   "mimetype": "text/x-python",
   "name": "python",
   "nbconvert_exporter": "python",
   "pygments_lexer": "ipython3",
   "version": "3.8.8"
  }
 },
 "nbformat": 4,
 "nbformat_minor": 5
}

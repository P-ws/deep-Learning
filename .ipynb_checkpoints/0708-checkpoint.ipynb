{
 "cells": [
  {
   "cell_type": "code",
   "execution_count": 4,
   "id": "19e15034-8bd5-4f56-b246-1b977e08dd7c",
   "metadata": {},
   "outputs": [],
   "source": [
    "import pandas as pd\n",
    "import numpy as np"
   ]
  },
  {
   "cell_type": "code",
   "execution_count": 5,
   "id": "6fa7078f-263f-4cd0-afe8-e42b026c0394",
   "metadata": {},
   "outputs": [],
   "source": [
    "df = pd.read_csv('데이터셋/faults.csv')"
   ]
  },
  {
   "cell_type": "code",
   "execution_count": 8,
   "id": "0f8aeb81-1cf0-4d56-8ce1-f0ebe3083a1d",
   "metadata": {},
   "outputs": [
    {
     "name": "stdout",
     "output_type": "stream",
     "text": [
      "<class 'pandas.core.frame.DataFrame'>\n",
      "RangeIndex: 1941 entries, 0 to 1940\n",
      "Data columns (total 34 columns):\n",
      " #   Column                 Non-Null Count  Dtype  \n",
      "---  ------                 --------------  -----  \n",
      " 0   X_Minimum              1941 non-null   int64  \n",
      " 1   X_Maximum              1941 non-null   int64  \n",
      " 2   Y_Minimum              1941 non-null   int64  \n",
      " 3   Y_Maximum              1941 non-null   int64  \n",
      " 4   Pixels_Areas           1941 non-null   int64  \n",
      " 5   X_Perimeter            1941 non-null   int64  \n",
      " 6   Y_Perimeter            1941 non-null   int64  \n",
      " 7   Sum_of_Luminosity      1941 non-null   int64  \n",
      " 8   Minimum_of_Luminosity  1941 non-null   int64  \n",
      " 9   Maximum_of_Luminosity  1941 non-null   int64  \n",
      " 10  Length_of_Conveyer     1941 non-null   int64  \n",
      " 11  TypeOfSteel_A300       1941 non-null   int64  \n",
      " 12  TypeOfSteel_A400       1941 non-null   int64  \n",
      " 13  Steel_Plate_Thickness  1941 non-null   int64  \n",
      " 14  Edges_Index            1941 non-null   float64\n",
      " 15  Empty_Index            1941 non-null   float64\n",
      " 16  Square_Index           1941 non-null   float64\n",
      " 17  Outside_X_Index        1941 non-null   float64\n",
      " 18  Edges_X_Index          1941 non-null   float64\n",
      " 19  Edges_Y_Index          1941 non-null   float64\n",
      " 20  Outside_Global_Index   1941 non-null   float64\n",
      " 21  LogOfAreas             1941 non-null   float64\n",
      " 22  Log_X_Index            1941 non-null   float64\n",
      " 23  Log_Y_Index            1941 non-null   float64\n",
      " 24  Orientation_Index      1941 non-null   float64\n",
      " 25  Luminosity_Index       1941 non-null   float64\n",
      " 26  SigmoidOfAreas         1941 non-null   float64\n",
      " 27  Pastry                 1941 non-null   int64  \n",
      " 28  Z_Scratch              1941 non-null   int64  \n",
      " 29  K_Scatch               1941 non-null   int64  \n",
      " 30  Stains                 1941 non-null   int64  \n",
      " 31  Dirtiness              1941 non-null   int64  \n",
      " 32  Bumps                  1941 non-null   int64  \n",
      " 33  Other_Faults           1941 non-null   int64  \n",
      "dtypes: float64(13), int64(21)\n",
      "memory usage: 515.7 KB\n"
     ]
    }
   ],
   "source": [
    "df.info()"
   ]
  },
  {
   "cell_type": "code",
   "execution_count": 9,
   "id": "edfdf8c7-9250-447c-b3a1-051080da6540",
   "metadata": {},
   "outputs": [
    {
     "name": "stdout",
     "output_type": "stream",
     "text": [
      "df_dataset.shape :  (1941, 7)\n",
      "<class 'pandas.core.frame.DataFrame'>\n",
      "RangeIndex: 1941 entries, 0 to 1940\n",
      "Data columns (total 7 columns):\n",
      " #   Column                 Non-Null Count  Dtype  \n",
      "---  ------                 --------------  -----  \n",
      " 0   X_Minimum              1941 non-null   int64  \n",
      " 1   X_Maximum              1941 non-null   int64  \n",
      " 2   Steel_Plate_Thickness  1941 non-null   int64  \n",
      " 3   LogOfAreas             1941 non-null   float64\n",
      " 4   Pastry                 1941 non-null   int64  \n",
      " 5   Z_Scratch              1941 non-null   int64  \n",
      " 6   Bumps                  1941 non-null   int64  \n",
      "dtypes: float64(1), int64(6)\n",
      "memory usage: 106.3 KB\n",
      "None\n"
     ]
    }
   ],
   "source": [
    "df_dataset = df[['X_Minimum','X_Maximum','Steel_Plate_Thickness','LogOfAreas',\n",
    "                 'Pastry','Z_Scratch','Bumps']]\n",
    "print(\"df_dataset.shape : \", df_dataset.shape)\n",
    "print(df_dataset.info())"
   ]
  },
  {
   "cell_type": "code",
   "execution_count": 10,
   "id": "f6c74929-3d22-43ec-ba72-db802b701fc3",
   "metadata": {},
   "outputs": [],
   "source": [
    "df_dataset = np.asarray(df_dataset, dtype = 'float32')"
   ]
  },
  {
   "cell_type": "code",
   "execution_count": 16,
   "id": "da922aa7-b374-4138-a86e-a98b80571b7f",
   "metadata": {},
   "outputs": [
    {
     "name": "stdout",
     "output_type": "stream",
     "text": [
      "df_dataset_x:[[42.     50.     80.      2.4265]] \n",
      "df_dataset_x.shape: (1, 4)\n",
      "df_dataset_y:[[1. 0. 0.]] \n",
      "df_dataset_y.shape: (1, 3)\n"
     ]
    }
   ],
   "source": [
    "df_data_x = df_dataset[0:1, :-3]\n",
    "df_data_y = df_dataset[0:1, -3:]\n",
    "\n",
    "print('df_dataset_x:{} \\ndf_dataset_x.shape: {}'.format(df_data_x,df_data_x.shape))\n",
    "print('df_dataset_y:{} \\ndf_dataset_y.shape: {}'.format(df_data_y,df_data_y.shape))"
   ]
  },
  {
   "cell_type": "code",
   "execution_count": 21,
   "id": "b06bde10-3ab4-491e-83a1-a937df527ef7",
   "metadata": {},
   "outputs": [
    {
     "name": "stdout",
     "output_type": "stream",
     "text": [
      "weight.shape:  (4, 3)\n",
      "bias.shape:  (3,)\n",
      "--------------------\n",
      "df_data_x: \n",
      " [[42.     50.     80.      2.4265]]\n",
      "weight: \n",
      " [[-0.35317832  0.13575903  0.17442707]\n",
      " [ 1.73292716  0.76753871  0.29037821]\n",
      " [-0.12359762  0.75560024 -0.99719055]\n",
      " [ 0.0253663  -0.86337803 -0.94193555]]\n",
      "bias: \n",
      " [ 1.9540912   0.98496461 -0.34668731]\n"
     ]
    }
   ],
   "source": [
    "RND_MEAN = 0\n",
    "RND_STD = 1\n",
    "input_cnt = df_data_x.shape[-1]\n",
    "output_cnt = df_data_y.shape[-1]\n",
    "\n",
    "weight = np.random.normal(RND_MEAN, RND_STD, size = [input_cnt, output_cnt])\n",
    "bias = np.random.normal(RND_MEAN, RND_STD, size = [output_cnt])\n",
    "\n",
    "print('weight.shape: ',weight.shape)\n",
    "print('bias.shape: ',bias.shape)\n",
    "print('-'*20)\n",
    "print('df_data_x: \\n',df_data_x)\n",
    "print('weight: \\n',weight)\n",
    "print('bias: \\n',bias)"
   ]
  },
  {
   "cell_type": "code",
   "execution_count": 31,
   "id": "ba0e0bbe-aaa1-443a-bc36-9fd3034b4e4c",
   "metadata": {},
   "outputs": [],
   "source": [
    "P = np.matmul(df_data_x,weight)+bias"
   ]
  },
  {
   "cell_type": "code",
   "execution_count": 32,
   "id": "475420aa-3bae-46d9-8c10-d86702a9da21",
   "metadata": {},
   "outputs": [
    {
     "data": {
      "text/plain": [
       "array([[ 63.94070133, 103.41681147, -60.56269041]])"
      ]
     },
     "execution_count": 32,
     "metadata": {},
     "output_type": "execute_result"
    }
   ],
   "source": [
    "P"
   ]
  },
  {
   "cell_type": "code",
   "execution_count": 33,
   "id": "d1a17845-c8e3-41b0-a639-73ddacf83626",
   "metadata": {},
   "outputs": [],
   "source": [
    "# 파라미터 - 가중치 / 편향 (값 변함)\n",
    "# 하이퍼 파라미터 - lr, mean, std, .... (값 고정)"
   ]
  },
  {
   "cell_type": "code",
   "execution_count": 53,
   "id": "a66a4718-01a6-47c6-a4aa-0df011e10323",
   "metadata": {},
   "outputs": [
    {
     "name": "stdout",
     "output_type": "stream",
     "text": [
      "[[4.200000e+01 2.709000e+05 2.670000e+02 8.000000e+01 1.000000e+00\n",
      "  0.000000e+00 0.000000e+00]\n",
      " [1.084000e+03 1.855750e+05 1.080000e+02 4.000000e+01 0.000000e+00\n",
      "  0.000000e+00 1.000000e+00]\n",
      " [1.109000e+03 1.170194e+06 1.300000e+02 1.750000e+02 0.000000e+00\n",
      "  1.000000e+00 0.000000e+00]\n",
      " [1.900000e+02 2.109360e+05 1.320000e+02 1.500000e+02 1.000000e+00\n",
      "  0.000000e+00 0.000000e+00]\n",
      " [3.300000e+02 4.292270e+05 2.640000e+02 1.500000e+02 1.000000e+00\n",
      "  0.000000e+00 0.000000e+00]\n",
      " [7.400000e+01 7.791440e+05 1.506000e+03 1.500000e+02 1.000000e+00\n",
      "  0.000000e+00 0.000000e+00]\n",
      " [5.100000e+01 5.858610e+05 1.390000e+02 7.000000e+01 0.000000e+00\n",
      "  1.000000e+00 0.000000e+00]\n",
      " [3.970000e+02 6.044780e+05 4.440000e+02 7.000000e+01 0.000000e+00\n",
      "  1.000000e+00 0.000000e+00]\n",
      " [4.300000e+01 3.668810e+05 4.048000e+03 4.000000e+01 0.000000e+00\n",
      "  0.000000e+00 1.000000e+00]\n",
      " [4.800000e+01 3.775370e+05 3.985000e+03 4.000000e+01 0.000000e+00\n",
      "  0.000000e+00 1.000000e+00]]\n",
      "wegiht.shape:  (4, 3)\n",
      "bias.shape: (3,)\n",
      "data.shape: (10, 7)\n"
     ]
    }
   ],
   "source": [
    "df = pd.read_csv('데이터셋/faults_mini.csv')\n",
    "input_cnt, output_cnt = 4, 3\n",
    "data = np.asarray(df, dtype = 'float32')\n",
    "print(data)\n",
    "\n",
    "weight = np.random.normal(RND_MEAN, RND_STD, size = [input_cnt, output_cnt])\n",
    "bias = np.random.normal(RND_MEAN, RND_STD, size = [output_cnt])\n",
    "\n",
    "print(\"wegiht.shape: \", weight.shape)\n",
    "print(\"bias.shape:\", bias.shape)\n",
    "print(\"data.shape:\", data.shape)\n"
   ]
  },
  {
   "cell_type": "code",
   "execution_count": 54,
   "id": "89641a36-28ed-4bf8-9896-87d9e2350618",
   "metadata": {},
   "outputs": [
    {
     "name": "stdout",
     "output_type": "stream",
     "text": [
      "MiniBath_step_count : 4.0\n",
      "test_begin_index:  8.0\n",
      "(10, 7)\n"
     ]
    }
   ],
   "source": [
    "#시험 출제\n",
    "mb_size = 2\n",
    "train_ratio = 0.8\n",
    "MiniBath_step_count = (data.shape[0]*train_ratio)//mb_size #몫이 나와야지 카운트가 0.4로 출력 안됨\n",
    "print(\"MiniBath_step_count :\", MiniBath_step_count)\n",
    "\n",
    "test_begin_index = MiniBath_step_count * mb_size\n",
    "print(\"test_begin_index: \", test_begin_index)\n",
    "print(data.shape)"
   ]
  },
  {
   "cell_type": "code",
   "execution_count": 58,
   "id": "0abe2beb-df24-4555-a115-0a5058262f75",
   "metadata": {},
   "outputs": [
    {
     "name": "stdout",
     "output_type": "stream",
     "text": [
      "shuffle_map_before: [0 1 2 3 4 5 6 7 8 9]\n",
      "shffle_map_After: [3 6 0 7 5 8 1 9 2 4]\n"
     ]
    }
   ],
   "source": [
    "# 썩는법\n",
    "shuffle_map = np.arange(data.shape[0])\n",
    "print(\"shuffle_map_before:\",shuffle_map)\n",
    "\n",
    "np.random.shuffle(shuffle_map)\n",
    "print(\"shffle_map_After:\",shuffle_map)"
   ]
  },
  {
   "cell_type": "code",
   "execution_count": 60,
   "id": "5cba9d64-c7ae-4e61-9f5b-a847e4bed07b",
   "metadata": {},
   "outputs": [
    {
     "name": "stdout",
     "output_type": "stream",
     "text": [
      "mb_data_1 \n",
      " [[1.90000e+02 2.10936e+05 1.32000e+02 1.50000e+02 1.00000e+00 0.00000e+00\n",
      "  0.00000e+00]\n",
      " [5.10000e+01 5.85861e+05 1.39000e+02 7.00000e+01 0.00000e+00 1.00000e+00\n",
      "  0.00000e+00]]\n",
      "mb_data_2 \n",
      " [[4.20000e+01 2.70900e+05 2.67000e+02 8.00000e+01 1.00000e+00 0.00000e+00\n",
      "  0.00000e+00]\n",
      " [3.97000e+02 6.04478e+05 4.44000e+02 7.00000e+01 0.00000e+00 1.00000e+00\n",
      "  0.00000e+00]]\n",
      "mb_data_3 \n",
      " [[7.40000e+01 7.79144e+05 1.50600e+03 1.50000e+02 1.00000e+00 0.00000e+00\n",
      "  0.00000e+00]\n",
      " [4.30000e+01 3.66881e+05 4.04800e+03 4.00000e+01 0.00000e+00 0.00000e+00\n",
      "  1.00000e+00]]\n",
      "mb_data_4 \n",
      " [[1.08400e+03 1.85575e+05 1.08000e+02 4.00000e+01 0.00000e+00 0.00000e+00\n",
      "  1.00000e+00]\n",
      " [4.80000e+01 3.77537e+05 3.98500e+03 4.00000e+01 0.00000e+00 0.00000e+00\n",
      "  1.00000e+00]]\n"
     ]
    }
   ],
   "source": [
    "mb_data_1 = data[shuffle_map[0:2]]\n",
    "mb_data_2 = data[shuffle_map[2:4]]\n",
    "mb_data_3 = data[shuffle_map[4:6]]\n",
    "mb_data_4 = data[shuffle_map[6:8]]\n",
    "\n",
    "print('mb_data_1 \\n', mb_data_1)\n",
    "print('mb_data_2 \\n', mb_data_2)\n",
    "print('mb_data_3 \\n', mb_data_3)\n",
    "print('mb_data_4 \\n', mb_data_4)\n"
   ]
  },
  {
   "cell_type": "code",
   "execution_count": 65,
   "id": "8431f820-b4ac-4488-9767-0621f4457f7b",
   "metadata": {},
   "outputs": [
    {
     "name": "stdout",
     "output_type": "stream",
     "text": [
      "1 번째 미니배치 데이터의 행과 열\n",
      "mb_1_train_x:\n",
      " [[1.90000e+02 2.10936e+05 1.32000e+02 1.50000e+02]\n",
      " [5.10000e+01 5.85861e+05 1.39000e+02 7.00000e+01]]\n",
      "mb_1_train_y:\n",
      " [[1. 0. 0.]\n",
      " [0. 1. 0.]]\n",
      "2 번째 미니배치 데이터의 행과 열\n",
      "mb_2_train_x:\n",
      " [[4.20000e+01 2.70900e+05 2.67000e+02 8.00000e+01]\n",
      " [3.97000e+02 6.04478e+05 4.44000e+02 7.00000e+01]]\n",
      "mb_2_train_y:\n",
      " [[1. 0. 0.]\n",
      " [0. 1. 0.]]\n",
      "3 번째 미니배치 데이터의 행과 열\n",
      "mb_3_train_x:\n",
      " [[7.40000e+01 7.79144e+05 1.50600e+03 1.50000e+02]\n",
      " [4.30000e+01 3.66881e+05 4.04800e+03 4.00000e+01]]\n",
      "mb_3_train_y:\n",
      " [[1. 0. 0.]\n",
      " [0. 0. 1.]]\n",
      "4 번째 미니배치 데이터의 행과 열\n",
      "mb_4_train_x:\n",
      " [[1.08400e+03 1.85575e+05 1.08000e+02 4.00000e+01]\n",
      " [4.80000e+01 3.77537e+05 3.98500e+03 4.00000e+01]]\n",
      "mb_4_train_y:\n",
      " [[0. 0. 1.]\n",
      " [0. 0. 1.]]\n"
     ]
    }
   ],
   "source": [
    "print('1 번째 미니배치 데이터의 행과 열')\n",
    "mb_1_train_x = mb_data_1[: , :-output_cnt]\n",
    "mb_1_train_y = mb_data_1[: ,-output_cnt:]\n",
    "print('mb_1_train_x:\\n', mb_1_train_x)\n",
    "print('mb_1_train_y:\\n', mb_1_train_y)\n",
    "\n",
    "print('2 번째 미니배치 데이터의 행과 열')\n",
    "mb_2_train_x = mb_data_2[: , :-output_cnt]\n",
    "mb_2_train_y = mb_data_2[: ,-output_cnt:]\n",
    "print('mb_2_train_x:\\n', mb_2_train_x)\n",
    "print('mb_2_train_y:\\n', mb_2_train_y)\n",
    "\n",
    "print('3 번째 미니배치 데이터의 행과 열')\n",
    "mb_3_train_x = mb_data_3[: , :-output_cnt]\n",
    "mb_3_train_y = mb_data_3[: ,-output_cnt:]\n",
    "print('mb_3_train_x:\\n', mb_3_train_x)\n",
    "print('mb_3_train_y:\\n', mb_3_train_y)\n",
    "\n",
    "print('4 번째 미니배치 데이터의 행과 열')\n",
    "mb_4_train_x = mb_data_4[: , :-output_cnt]\n",
    "mb_4_train_y = mb_data_4[: ,-output_cnt:]\n",
    "print('mb_4_train_x:\\n', mb_4_train_x)\n",
    "print('mb_4_train_y:\\n', mb_4_train_y)"
   ]
  },
  {
   "cell_type": "code",
   "execution_count": 70,
   "id": "ca8cdfd4-3136-4fea-bc38-bf3a651f36e8",
   "metadata": {},
   "outputs": [
    {
     "name": "stdout",
     "output_type": "stream",
     "text": [
      "-------------1 번째 미니배치 신경망 연산 결과(P1, P2, P3)---------\n",
      "mb_1_y_hat_1 : [312024.15441595 866227.73624654]\n",
      "mb_1_y_hat_2 : [ -40448.4109644  -112296.93793878]\n",
      "mb_1_y_hat_3 : [-26187.7850235 -71993.3094652]\n",
      "-------------2 번째 미니배치 신경망 연산 결과(P1, P2, P3)---------\n",
      "mb_2_y_hat_1 : [400218.90139805 893681.69902929]\n",
      "mb_2_y_hat_2 : [ -51874.23375413 -115922.26328506]\n",
      "mb_2_y_hat_3 : [-33680.91138561 -75149.75249921]\n",
      "-------------3 번째 미니배치 신경망 연산 결과(P1, P2, P3)---------\n",
      "mb_3_y_hat_1 : [1149643.11274805  535274.72952791]\n",
      "mb_3_y_hat_2 : [-149021.8993942   -69391.58667779]\n",
      "mb_3_y_hat_3 : [-98273.58917497 -52706.73558502]\n",
      "-------------4 번째 미니배치 신경망 연산 결과(P1, P2, P3)---------\n",
      "mb_4_y_hat_1 : [275745.29250573 551154.24693579]\n",
      "mb_4_y_hat_2 : [-35947.31373874 -71451.39154225]\n",
      "mb_4_y_hat_3 : [-23822.0907117  -53894.05712114]\n"
     ]
    }
   ],
   "source": [
    "print('-------------1 번째 미니배치 신경망 연산 결과(P1, P2, P3)---------')\n",
    "mb_1_y_hat_1 = np.matmul(mb_1_train_x,weight[:, 0])+bias[0]\n",
    "mb_1_y_hat_2 = np.matmul(mb_1_train_x,weight[:, 1])+bias[1]\n",
    "mb_1_y_hat_3 = np.matmul(mb_1_train_x,weight[:, 2])+bias[2]\n",
    "print('mb_1_y_hat_1 :', mb_1_y_hat_1)\n",
    "print('mb_1_y_hat_2 :', mb_1_y_hat_2)\n",
    "print('mb_1_y_hat_3 :', mb_1_y_hat_3)\n",
    "\n",
    "print('-------------2 번째 미니배치 신경망 연산 결과(P1, P2, P3)---------')\n",
    "mb_2_y_hat_1 = np.matmul(mb_2_train_x,weight[:, 0])+bias[0]\n",
    "mb_2_y_hat_2 = np.matmul(mb_2_train_x,weight[:, 1])+bias[1]\n",
    "mb_2_y_hat_3 = np.matmul(mb_2_train_x,weight[:, 2])+bias[2]\n",
    "print('mb_2_y_hat_1 :', mb_2_y_hat_1)\n",
    "print('mb_2_y_hat_2 :', mb_2_y_hat_2)\n",
    "print('mb_2_y_hat_3 :', mb_2_y_hat_3)\n",
    "\n",
    "print('-------------3 번째 미니배치 신경망 연산 결과(P1, P2, P3)---------')\n",
    "mb_3_y_hat_1 = np.matmul(mb_3_train_x,weight[:, 0])+bias[0]\n",
    "mb_3_y_hat_2 = np.matmul(mb_3_train_x,weight[:, 1])+bias[1]\n",
    "mb_3_y_hat_3 = np.matmul(mb_3_train_x,weight[:, 2])+bias[2]\n",
    "print('mb_3_y_hat_1 :', mb_3_y_hat_1)\n",
    "print('mb_3_y_hat_2 :', mb_3_y_hat_2)\n",
    "print('mb_3_y_hat_3 :', mb_3_y_hat_3)\n",
    "\n",
    "print('-------------4 번째 미니배치 신경망 연산 결과(P1, P2, P3)---------')\n",
    "mb_4_y_hat_1 = np.matmul(mb_4_train_x,weight[:, 0])+bias[0]\n",
    "mb_4_y_hat_2 = np.matmul(mb_4_train_x,weight[:, 1])+bias[1]\n",
    "mb_4_y_hat_3 = np.matmul(mb_4_train_x,weight[:, 2])+bias[2]\n",
    "print('mb_4_y_hat_1 :', mb_4_y_hat_1)\n",
    "print('mb_4_y_hat_2 :', mb_4_y_hat_2)\n",
    "print('mb_4_y_hat_3 :', mb_4_y_hat_3)"
   ]
  },
  {
   "cell_type": "code",
   "execution_count": 71,
   "id": "032e5b02-f84c-4c80-bf9d-81b7c108f8b0",
   "metadata": {},
   "outputs": [
    {
     "name": "stdout",
     "output_type": "stream",
     "text": [
      "[312024.15441595 866227.73624654] [ -40448.4109644  -112296.93793878] [-26187.7850235 -71993.3094652]\n",
      "[400218.90139805 893681.69902929] [ -51874.23375413 -115922.26328506] [-33680.91138561 -75149.75249921]\n",
      "[1149643.11274805  535274.72952791] [-149021.8993942   -69391.58667779] [-98273.58917497 -52706.73558502]\n",
      "[275745.29250573 551154.24693579] [-35947.31373874 -71451.39154225] [-23822.0907117  -53894.05712114]\n"
     ]
    }
   ],
   "source": [
    "print(mb_1_y_hat_1, mb_1_y_hat_2, mb_1_y_hat_3)\n",
    "print(mb_2_y_hat_1, mb_2_y_hat_2, mb_2_y_hat_3)\n",
    "print(mb_3_y_hat_1, mb_3_y_hat_2, mb_3_y_hat_3)\n",
    "print(mb_4_y_hat_1, mb_4_y_hat_2, mb_4_y_hat_3)"
   ]
  },
  {
   "cell_type": "code",
   "execution_count": 72,
   "id": "bf893744-df1e-43c8-8ce6-bbe1f6670179",
   "metadata": {},
   "outputs": [
    {
     "name": "stdout",
     "output_type": "stream",
     "text": [
      "mb_data_total_x.shape: (8, 4)\n"
     ]
    }
   ],
   "source": [
    "# np.vstack (데이터 합쳐줌)\n",
    "\n",
    "mb_data_total = np.vstack((mb_data_1, mb_data_2, mb_data_3, mb_data_4))\n",
    "mb_data_total_x = mb_data_total[:, :-3]\n",
    "print('mb_data_total_x.shape:', mb_data_total_x.shape)"
   ]
  },
  {
   "cell_type": "code",
   "execution_count": 74,
   "id": "0fb1cc85-adfb-4e0f-9318-a57113571e22",
   "metadata": {},
   "outputs": [
    {
     "data": {
      "text/html": [
       "<div>\n",
       "<style scoped>\n",
       "    .dataframe tbody tr th:only-of-type {\n",
       "        vertical-align: middle;\n",
       "    }\n",
       "\n",
       "    .dataframe tbody tr th {\n",
       "        vertical-align: top;\n",
       "    }\n",
       "\n",
       "    .dataframe thead th {\n",
       "        text-align: right;\n",
       "    }\n",
       "</style>\n",
       "<table border=\"1\" class=\"dataframe\">\n",
       "  <thead>\n",
       "    <tr style=\"text-align: right;\">\n",
       "      <th></th>\n",
       "      <th>0</th>\n",
       "      <th>1</th>\n",
       "      <th>2</th>\n",
       "      <th>3</th>\n",
       "    </tr>\n",
       "  </thead>\n",
       "  <tbody>\n",
       "    <tr>\n",
       "      <th>0</th>\n",
       "      <td>190.0</td>\n",
       "      <td>210936.0</td>\n",
       "      <td>132.0</td>\n",
       "      <td>150.0</td>\n",
       "    </tr>\n",
       "    <tr>\n",
       "      <th>1</th>\n",
       "      <td>51.0</td>\n",
       "      <td>585861.0</td>\n",
       "      <td>139.0</td>\n",
       "      <td>70.0</td>\n",
       "    </tr>\n",
       "    <tr>\n",
       "      <th>2</th>\n",
       "      <td>42.0</td>\n",
       "      <td>270900.0</td>\n",
       "      <td>267.0</td>\n",
       "      <td>80.0</td>\n",
       "    </tr>\n",
       "    <tr>\n",
       "      <th>3</th>\n",
       "      <td>397.0</td>\n",
       "      <td>604478.0</td>\n",
       "      <td>444.0</td>\n",
       "      <td>70.0</td>\n",
       "    </tr>\n",
       "    <tr>\n",
       "      <th>4</th>\n",
       "      <td>74.0</td>\n",
       "      <td>779144.0</td>\n",
       "      <td>1506.0</td>\n",
       "      <td>150.0</td>\n",
       "    </tr>\n",
       "    <tr>\n",
       "      <th>5</th>\n",
       "      <td>43.0</td>\n",
       "      <td>366881.0</td>\n",
       "      <td>4048.0</td>\n",
       "      <td>40.0</td>\n",
       "    </tr>\n",
       "    <tr>\n",
       "      <th>6</th>\n",
       "      <td>1084.0</td>\n",
       "      <td>185575.0</td>\n",
       "      <td>108.0</td>\n",
       "      <td>40.0</td>\n",
       "    </tr>\n",
       "    <tr>\n",
       "      <th>7</th>\n",
       "      <td>48.0</td>\n",
       "      <td>377537.0</td>\n",
       "      <td>3985.0</td>\n",
       "      <td>40.0</td>\n",
       "    </tr>\n",
       "  </tbody>\n",
       "</table>\n",
       "</div>"
      ],
      "text/plain": [
       "        0         1       2      3\n",
       "0   190.0  210936.0   132.0  150.0\n",
       "1    51.0  585861.0   139.0   70.0\n",
       "2    42.0  270900.0   267.0   80.0\n",
       "3   397.0  604478.0   444.0   70.0\n",
       "4    74.0  779144.0  1506.0  150.0\n",
       "5    43.0  366881.0  4048.0   40.0\n",
       "6  1084.0  185575.0   108.0   40.0\n",
       "7    48.0  377537.0  3985.0   40.0"
      ]
     },
     "metadata": {},
     "output_type": "display_data"
    }
   ],
   "source": [
    "display(pd.DataFrame(mb_data_total_x))"
   ]
  },
  {
   "cell_type": "code",
   "execution_count": 75,
   "id": "faf027b3-b5c4-4d42-b984-e21924ffcd46",
   "metadata": {},
   "outputs": [
    {
     "name": "stdout",
     "output_type": "stream",
     "text": [
      "[[ 312024.15441595  -40448.4109644   -26187.7850235 ]\n",
      " [ 866227.73624654 -112296.93793878  -71993.3094652 ]\n",
      " [ 400218.90139805  -51874.23375413  -33680.91138561]\n",
      " [ 893681.69902929 -115922.26328506  -75149.75249921]\n",
      " [1149643.11274805 -149021.8993942   -98273.58917497]\n",
      " [ 535274.72952791  -69391.58667779  -52706.73558502]\n",
      " [ 275745.29250573  -35947.31373874  -23822.0907117 ]\n",
      " [ 551154.24693579  -71451.39154225  -53894.05712114]]\n"
     ]
    }
   ],
   "source": [
    "mb_total_y_hat = np.matmul(mb_data_total_x, weight)+bias\n",
    "print(mb_total_y_hat)"
   ]
  },
  {
   "cell_type": "code",
   "execution_count": null,
   "id": "41c58de3-767f-415c-ae07-5fbf35e45eb9",
   "metadata": {},
   "outputs": [],
   "source": []
  }
 ],
 "metadata": {
  "kernelspec": {
   "display_name": "Python 3",
   "language": "python",
   "name": "python3"
  },
  "language_info": {
   "codemirror_mode": {
    "name": "ipython",
    "version": 3
   },
   "file_extension": ".py",
   "mimetype": "text/x-python",
   "name": "python",
   "nbconvert_exporter": "python",
   "pygments_lexer": "ipython3",
   "version": "3.8.8"
  }
 },
 "nbformat": 4,
 "nbformat_minor": 5
}

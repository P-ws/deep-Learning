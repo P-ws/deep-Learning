{
 "cells": [
  {
   "cell_type": "code",
   "execution_count": 1,
   "id": "e595956d-2072-45c4-a7d0-3b68ff6546d1",
   "metadata": {},
   "outputs": [],
   "source": [
    "class Y_pred():\n",
    "    def __init__(self, theta_0, theta_1):\n",
    "        self.theta_0 = theta_0\n",
    "        self.theta_1 = theta_1"
   ]
  },
  {
   "cell_type": "code",
   "execution_count": 2,
   "id": "7474e4ff-ab53-447c-b2f8-deb308494470",
   "metadata": {},
   "outputs": [],
   "source": [
    "def out_y_hat(self, input_x):\n",
    "    y_hat_row = []\n",
    "    \n",
    "    for i in range(len(input_x)):\n",
    "        y_hat = self.theta_0 + self.theta_1 * input_x[i]\n",
    "        y_hat_row.append(y_hat)\n",
    "        \n",
    "    return y_hat_row\n",
    "    \n",
    "Y_pred.y_hat = out_y_hat # class에 함수 넣기"
   ]
  },
  {
   "cell_type": "code",
   "execution_count": 5,
   "id": "45f4c84d-c80c-4895-9c02-a98c2d9e1b00",
   "metadata": {},
   "outputs": [
    {
     "data": {
      "text/plain": [
       "[2001]"
      ]
     },
     "execution_count": 5,
     "metadata": {},
     "output_type": "execute_result"
    }
   ],
   "source": [
    "Y_pred_C = Y_pred(theta_0= 1, theta_1= 2)\n",
    "\n",
    "x = [1000]\n",
    "Y_pred_C.y_hat(input_x= x)"
   ]
  },
  {
   "cell_type": "code",
   "execution_count": 6,
   "id": "5a961ee6-5d6b-409c-ae7b-cf0e5850330e",
   "metadata": {},
   "outputs": [
    {
     "data": {
      "text/plain": [
       "[1161, 1401, 1621, 1681]"
      ]
     },
     "execution_count": 6,
     "metadata": {},
     "output_type": "execute_result"
    }
   ],
   "source": [
    "x = [580, 700, 810, 840]\n",
    "Y_pred_C = Y_pred(theta_0= 1, theta_1= 2)\n",
    "Y_pred_C.y_hat(input_x= x)"
   ]
  },
  {
   "cell_type": "code",
   "execution_count": 7,
   "id": "f5882d42-0392-4367-942e-c0a748f08087",
   "metadata": {},
   "outputs": [],
   "source": [
    "# 손실함수는 MSE외에도 다양하게 존재합니다.\n",
    "# 목적함수 또한 Sum of square error (SSE)외에도 다양하게 존재합니다.\n",
    "# 손실함수와 목적함수는 서로 비슷한 의미를 내포하고 있다.\n",
    "# 목적함수는 어떠한 값이 높여지거나 낮아지거나, 손실함수는 값만 딱 구함"
   ]
  },
  {
   "cell_type": "code",
   "execution_count": 8,
   "id": "22cba8f2-ba0d-4a25-ba52-f6720df2ebaa",
   "metadata": {},
   "outputs": [],
   "source": [
    "import numpy as np\n",
    "x = [580, 700, 810, 840]\n",
    "y_label_total = [374, 385, 375, 401]\n",
    "y_hat_total = [1161, 1401, 1621, 1681]\n",
    "\n",
    "diff_row = []\n",
    "\n",
    "for i in range(len(y_label_total)):\n",
    "    diff = y_label_total[i]-y_hat_total[i]\n",
    "    diff_row.append(diff)\n",
    "    square = np.square(diff_row)\n",
    "    sse = 1/2*(np.sum(square))\n",
    "    \n",
    "# np.square들어있는 값 각각 제곱"
   ]
  },
  {
   "cell_type": "code",
   "execution_count": 9,
   "id": "1cf61cec-5ed9-40b2-b813-c21253300c49",
   "metadata": {},
   "outputs": [],
   "source": [
    "# 학습률: 1\n",
    "# 에폭: 3\n",
    "# x: 3"
   ]
  },
  {
   "cell_type": "code",
   "execution_count": 12,
   "id": "2840f9f1-f639-483a-8108-b5e13ed8020d",
   "metadata": {},
   "outputs": [],
   "source": [
    "def g(x, eta):\n",
    "    print(\"현재 x 값:\" , x)\n",
    "    epoch_1_x = x - eta*(2*x-2)\n",
    "    print(\"첫 번째 에폭 x 값 : {}\".format(epoch_1_x))\n",
    "    \n",
    "    epoch_2_x = epoch_1_x - eta*(2*epoch_1_x-2)\n",
    "    print(\"두 번째 에폭 x 값 : {}\".format(epoch_2_x))\n",
    "    \n",
    "    epoch_3_x = epoch_2_x - eta*(2*epoch_2_x-2)\n",
    "    print(\"세 번째 에폭 x 값 : {}\".format(epoch_3_x))"
   ]
  },
  {
   "cell_type": "code",
   "execution_count": 21,
   "id": "3d3940b1-111d-4a8f-b8f8-00b0c937c9d7",
   "metadata": {},
   "outputs": [
    {
     "name": "stdout",
     "output_type": "stream",
     "text": [
      "현재 x 값: 3\n",
      "첫 번째 에폭 x 값 : 2.96\n",
      "두 번째 에폭 x 값 : 2.9208\n",
      "세 번째 에폭 x 값 : 2.882384\n"
     ]
    }
   ],
   "source": [
    "result = g(x=3, eta=0.01)"
   ]
  },
  {
   "cell_type": "code",
   "execution_count": 22,
   "id": "068d7ab0-c1df-4288-87cd-da4b80666bea",
   "metadata": {},
   "outputs": [],
   "source": [
    "# 학습률: 0.01\n",
    "# 반복 갱신 횟수: 10\n",
    "# x: 3"
   ]
  },
  {
   "cell_type": "code",
   "execution_count": 60,
   "id": "00a353f4-af5d-4aaa-9a2e-9555c401f485",
   "metadata": {},
   "outputs": [],
   "source": [
    "import matplotlib.pyplot as plt\n",
    "import numpy as np\n",
    "\n",
    "def g(learning_rate, epoch_count, random_value_bool = False, x = -2):\n",
    "    if random_value_bool:\n",
    "        x = np.random.normal(0, 1, 1)\n",
    "        \n",
    "    print(\"Now 'X' value:\", x)\n",
    "    print(\"NOW Learning Rate Value : {}\".format(learning_rate))\n",
    "    \n",
    "    \n",
    "    x_row = []\n",
    "    \n",
    "    for i in range(epoch_count):\n",
    "        x = x - learning_rate*(2*x - 2)\n",
    "        print(\"Epoch{} - x{}\".format(i+1, np.round(x,3)))\n",
    "        x_row.append(x)\n",
    "        \n",
    "    return x_row"
   ]
  },
  {
   "cell_type": "code",
   "execution_count": 61,
   "id": "ab1f3acd-de79-4ef5-bc02-5ee64225ad10",
   "metadata": {},
   "outputs": [
    {
     "name": "stdout",
     "output_type": "stream",
     "text": [
      "Now 'X' value: -2\n",
      "NOW Learning Rate Value : 0.1\n",
      "Epoch1 - x-1.4\n",
      "Epoch2 - x-0.92\n",
      "Epoch3 - x-0.536\n",
      "Epoch4 - x-0.229\n",
      "Epoch5 - x0.017\n",
      "Epoch6 - x0.214\n",
      "Epoch7 - x0.371\n",
      "Epoch8 - x0.497\n",
      "Epoch9 - x0.597\n",
      "Epoch10 - x0.678\n",
      "Epoch11 - x0.742\n",
      "Epoch12 - x0.794\n",
      "Epoch13 - x0.835\n",
      "Epoch14 - x0.868\n",
      "Epoch15 - x0.894\n",
      "Epoch16 - x0.916\n",
      "Epoch17 - x0.932\n",
      "Epoch18 - x0.946\n",
      "Epoch19 - x0.957\n",
      "Epoch20 - x0.965\n",
      "Epoch21 - x0.972\n",
      "Epoch22 - x0.978\n",
      "Epoch23 - x0.982\n",
      "Epoch24 - x0.986\n",
      "Epoch25 - x0.989\n",
      "Epoch26 - x0.991\n",
      "Epoch27 - x0.993\n",
      "Epoch28 - x0.994\n",
      "Epoch29 - x0.995\n",
      "Epoch30 - x0.996\n",
      "Epoch31 - x0.997\n",
      "Epoch32 - x0.998\n",
      "Epoch33 - x0.998\n",
      "Epoch34 - x0.998\n",
      "Epoch35 - x0.999\n",
      "Epoch36 - x0.999\n",
      "Epoch37 - x0.999\n",
      "Epoch38 - x0.999\n",
      "Epoch39 - x1.0\n",
      "Epoch40 - x1.0\n",
      "Epoch41 - x1.0\n",
      "Epoch42 - x1.0\n",
      "Epoch43 - x1.0\n",
      "Epoch44 - x1.0\n",
      "Epoch45 - x1.0\n",
      "Epoch46 - x1.0\n",
      "Epoch47 - x1.0\n",
      "Epoch48 - x1.0\n",
      "Epoch49 - x1.0\n",
      "Epoch50 - x1.0\n",
      "Epoch51 - x1.0\n",
      "Epoch52 - x1.0\n",
      "Epoch53 - x1.0\n",
      "Epoch54 - x1.0\n",
      "Epoch55 - x1.0\n",
      "Epoch56 - x1.0\n",
      "Epoch57 - x1.0\n",
      "Epoch58 - x1.0\n",
      "Epoch59 - x1.0\n",
      "Epoch60 - x1.0\n",
      "Epoch61 - x1.0\n",
      "Epoch62 - x1.0\n",
      "Epoch63 - x1.0\n",
      "Epoch64 - x1.0\n",
      "Epoch65 - x1.0\n",
      "Epoch66 - x1.0\n",
      "Epoch67 - x1.0\n",
      "Epoch68 - x1.0\n",
      "Epoch69 - x1.0\n",
      "Epoch70 - x1.0\n",
      "Epoch71 - x1.0\n",
      "Epoch72 - x1.0\n",
      "Epoch73 - x1.0\n",
      "Epoch74 - x1.0\n",
      "Epoch75 - x1.0\n",
      "Epoch76 - x1.0\n",
      "Epoch77 - x1.0\n",
      "Epoch78 - x1.0\n",
      "Epoch79 - x1.0\n",
      "Epoch80 - x1.0\n",
      "Epoch81 - x1.0\n",
      "Epoch82 - x1.0\n",
      "Epoch83 - x1.0\n",
      "Epoch84 - x1.0\n",
      "Epoch85 - x1.0\n",
      "Epoch86 - x1.0\n",
      "Epoch87 - x1.0\n",
      "Epoch88 - x1.0\n",
      "Epoch89 - x1.0\n",
      "Epoch90 - x1.0\n",
      "Epoch91 - x1.0\n",
      "Epoch92 - x1.0\n",
      "Epoch93 - x1.0\n",
      "Epoch94 - x1.0\n",
      "Epoch95 - x1.0\n",
      "Epoch96 - x1.0\n",
      "Epoch97 - x1.0\n",
      "Epoch98 - x1.0\n",
      "Epoch99 - x1.0\n",
      "Epoch100 - x1.0\n"
     ]
    }
   ],
   "source": [
    "result = g(learning_rate=0.1, epoch_count=100, x = -2)"
   ]
  },
  {
   "cell_type": "code",
   "execution_count": 33,
   "id": "8b2550f0-d178-4cbb-b4eb-58dae17d1fe7",
   "metadata": {},
   "outputs": [
    {
     "data": {
      "image/png": "[encoded data removed]",
      "text/plain": [
       "<Figure size 432x288 with 1 Axes>"
      ]
     },
     "metadata": {
      "needs_background": "light"
     },
     "output_type": "display_data"
    }
   ],
   "source": [
    "plt.plot(result, '--o', color ='red')\n",
    "plt.xlabel('Epochs')\n",
    "plt.ylabel('x value')\n",
    "plt.grid()\n",
    "plt.show()"
   ]
  },
  {
   "cell_type": "code",
   "execution_count": null,
   "id": "52d062e2-b19f-4512-bc9d-dc4e9a99195c",
   "metadata": {},
   "outputs": [],
   "source": []
  }
 ],
 "metadata": {
  "kernelspec": {
   "display_name": "Python 3",
   "language": "python",
   "name": "python3"
  },
  "language_info": {
   "codemirror_mode": {
    "name": "ipython",
    "version": 3
   },
   "file_extension": ".py",
   "mimetype": "text/x-python",
   "name": "python",
   "nbconvert_exporter": "python",
   "pygments_lexer": "ipython3",
   "version": "3.8.8"
  }
 },
 "nbformat": 4,
 "nbformat_minor": 5
}

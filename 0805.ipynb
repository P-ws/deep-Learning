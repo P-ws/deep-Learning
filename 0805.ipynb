{
 "cells": [
  {
   "cell_type": "code",
   "execution_count": 1,
   "id": "2f288336-f1a5-4e0c-80a4-50ff357de7cd",
   "metadata": {},
   "outputs": [],
   "source": [
    "import numpy as np\n",
    "Real_Prob = np.array([0.526, 0.295, 0.179])\n",
    "Human_Q = np.array([0.6, 0.2, 0.2])\n",
    "Al_Q = np.array([0.4, 0.3, 0.3])"
   ]
  },
  {
   "cell_type": "code",
   "execution_count": 2,
   "id": "bc082db3-0411-423b-a583-ec99501b254d",
   "metadata": {},
   "outputs": [],
   "source": [
    "class Entropy():\n",
    "    def __init__(self, Prob, Q):\n",
    "        self.Prob = Prob\n",
    "        self.Q    = Q"
   ]
  },
  {
   "cell_type": "code",
   "execution_count": null,
   "id": "dad51c82-df0b-4e07-90a4-93847b614a22",
   "metadata": {},
   "outputs": [],
   "source": [
    "def out_entropy(self, H_Q = True):\n",
    "    \n",
    "    if H_Q == True:\n",
    "        for i in range(self.Q)\n",
    "\n",
    "    else:\n",
    "        pass # 정보 엔트로피 구할 자리 \n"
   ]
  }
 ],
 "metadata": {
  "kernelspec": {
   "display_name": "Python 3",
   "language": "python",
   "name": "python3"
  },
  "language_info": {
   "codemirror_mode": {
    "name": "ipython",
    "version": 3
   },
   "file_extension": ".py",
   "mimetype": "text/x-python",
   "name": "python",
   "nbconvert_exporter": "python",
   "pygments_lexer": "ipython3",
   "version": "3.8.8"
  }
 },
 "nbformat": 4,
 "nbformat_minor": 5
}

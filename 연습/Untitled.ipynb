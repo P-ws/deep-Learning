{
 "cells": [
  {
   "cell_type": "code",
   "execution_count": 1,
   "id": "c23eca02-3834-44f4-9a42-b04a86bbb74c",
   "metadata": {},
   "outputs": [],
   "source": [
    "import numpy as np\n",
    "\n",
    "x = np.asarray([580, 700, 810, 840])\n",
    "y = np.asarray([374, 385, 375, 401])"
   ]
  },
  {
   "cell_type": "code",
   "execution_count": 38,
   "id": "e5015431-3045-4d59-be8c-40ad3da60843",
   "metadata": {},
   "outputs": [
    {
     "name": "stdout",
     "output_type": "stream",
     "text": [
      "[[0.32250609]]\n",
      "[-0.30170675]\n"
     ]
    }
   ],
   "source": [
    "input_count = 1\n",
    "output_count = 1\n",
    "R_MEAN = 0\n",
    "R_STD = 1\n",
    "\n",
    "def main_execute(x, y, lr, epoch_count):\n",
    "    model_init()\n",
    "    sse_row, theta_0_row, theta_1_row = run_train(x,y,epoch_count,lr)\n",
    "    return sse_row, theta_0_row, theta_1_row\n",
    "    \n",
    "\n",
    "\n",
    "def model_init():\n",
    "    global theta_0, theta_1\n",
    "    theta_0 = np.random.normal(R_MEAN, R_STD, [input_count, output_count])\n",
    "    theta_1 = np.random.normal(R_MEAN, R_STD, [output_count])\n",
    "    \n",
    "print(theta_0)\n",
    "print(theta_1)"
   ]
  },
  {
   "cell_type": "code",
   "execution_count": 39,
   "id": "77092778-da5f-487c-bfda-177c53e15378",
   "metadata": {},
   "outputs": [],
   "source": [
    "def forward_neuralnet(input_x):\n",
    "    y_hat = theta_0 + theta_1 * input_x\n",
    "    return y_hat"
   ]
  },
  {
   "cell_type": "code",
   "execution_count": 40,
   "id": "913f8b67-7f05-4c86-b1f2-c70acfd8b213",
   "metadata": {},
   "outputs": [
    {
     "data": {
      "text/plain": [
       "463563.5"
      ]
     },
     "execution_count": 40,
     "metadata": {},
     "output_type": "execute_result"
    }
   ],
   "source": [
    "def forward_postproc(output, y):\n",
    "    sse = (1/2)*np.sum(np.square(output - y))\n",
    "    return sse\n",
    "output = np.asarray([1000,900,800,700])\n",
    "forward_postproc(output, y)"
   ]
  },
  {
   "cell_type": "code",
   "execution_count": 41,
   "id": "65faee3f-7cd9-4290-b7b6-4083ec4d818a",
   "metadata": {},
   "outputs": [],
   "source": [
    "def forward_postproc(output, y):\n",
    "    diff = output - y\n",
    "    square = np.square(diff)\n",
    "    sse = 1/2 * (np.sum(square))\n",
    "    \n",
    "    return sse"
   ]
  },
  {
   "cell_type": "code",
   "execution_count": 42,
   "id": "62590589-c414-4aeb-a6e3-387766b4ff13",
   "metadata": {},
   "outputs": [],
   "source": [
    "def back_propagation(y_hat, lr):\n",
    "    global theta_0, theta_1\n",
    "    theta_0 = theta_0 - lr*(np.sum(y_hat -y))\n",
    "    theta_1 = theta_1 -lr*(np.sum((y_hat - y)*x))"
   ]
  },
  {
   "cell_type": "code",
   "execution_count": 43,
   "id": "6ea3b705-e87f-42ac-a9d1-ff761a9d5d29",
   "metadata": {},
   "outputs": [],
   "source": [
    "def run_train(x,y,epoch_count,lr):\n",
    "    print(\"initial theta_0:{}\".format(theta_0))\n",
    "    print(\"initial theta_1:{}\".format(theta_1))\n",
    "    sse_row = []\n",
    "    theta_0_row = []\n",
    "    theta_1_row = []\n",
    "    \n",
    "    for epoch in range(epoch_count):\n",
    "        y_hat = forward_neuralnet(x)\n",
    "        sse = forward_postproc(y_hat, y)\n",
    "        sse_row.append(sse)\n",
    "        \n",
    "        back_propagation(y_hat, lr)\n",
    "        \n",
    "        theta_0_row.append(theta_0)\n",
    "        theta_1_row.append(theta_1)\n",
    "\n",
    "        print(\"Epoch - {}\".format(epoch+1))\n",
    "        print(\"SSE: {}\".format(sse))\n",
    "            \n",
    "    print(\"==================================\")\n",
    "    print(\"Final SSE : {}\".format(sse))\n",
    "    \n",
    "    return sse_row, theta_0_row, theta_1_row"
   ]
  },
  {
   "cell_type": "code",
   "execution_count": 44,
   "id": "c732e8bd-30b2-477e-aa4a-40187cc9825e",
   "metadata": {},
   "outputs": [
    {
     "name": "stdout",
     "output_type": "stream",
     "text": [
      "initial theta_0:[[-0.87638111]]\n",
      "initial theta_1:[-0.61109948]\n",
      "Epoch - 1\n",
      "SSE: 1394959.5418961295\n",
      "Epoch - 2\n",
      "SSE: 6650939717227.041\n",
      "Epoch - 3\n",
      "SSE: 3.1814261797389877e+19\n",
      "Epoch - 4\n",
      "SSE: 1.521810898064306e+26\n",
      "Epoch - 5\n",
      "SSE: 7.279466121880262e+32\n",
      "Epoch - 6\n",
      "SSE: 3.482076983875249e+39\n",
      "Epoch - 7\n",
      "SSE: 1.6656249124079917e+46\n",
      "Epoch - 8\n",
      "SSE: 7.967389468071344e+52\n",
      "Epoch - 9\n",
      "SSE: 3.811139858863078e+59\n",
      "Epoch - 10\n",
      "SSE: 1.8230296236956614e+66\n",
      "==================================\n",
      "Final SSE : 1.8230296236956614e+66\n"
     ]
    }
   ],
   "source": [
    "sse_row, theta_0_row, theta_1_row = main_execute(x=x, y=y, lr = 0.001, epoch_count = 10)"
   ]
  },
  {
   "cell_type": "code",
   "execution_count": 47,
   "id": "c1a6cfd5-46ef-4035-8269-72bedf792b3f",
   "metadata": {},
   "outputs": [
    {
     "data": {
      "image/png": "[encoded data removed]",
      "text/plain": [
       "<Figure size 432x288 with 1 Axes>"
      ]
     },
     "metadata": {
      "needs_background": "light"
     },
     "output_type": "display_data"
    }
   ],
   "source": [
    "import matplotlib.pyplot as plt\n",
    "plt.plot(sse_row, '--o', color = 'red')\n",
    "plt.xlabel(\"EPOCH\")\n",
    "plt.ylabel(\"SSE\")\n",
    "plt.grid()\n",
    "plt.show()"
   ]
  },
  {
   "cell_type": "code",
   "execution_count": null,
   "id": "e8cac6c9-5ace-470e-ba06-84e659f33e6e",
   "metadata": {},
   "outputs": [],
   "source": []
  }
 ],
 "metadata": {
  "kernelspec": {
   "display_name": "Python 3",
   "language": "python",
   "name": "python3"
  },
  "language_info": {
   "codemirror_mode": {
    "name": "ipython",
    "version": 3
   },
   "file_extension": ".py",
   "mimetype": "text/x-python",
   "name": "python",
   "nbconvert_exporter": "python",
   "pygments_lexer": "ipython3",
   "version": "3.8.8"
  }
 },
 "nbformat": 4,
 "nbformat_minor": 5
}

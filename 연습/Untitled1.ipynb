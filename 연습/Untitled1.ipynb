{
 "cells": [
  {
   "cell_type": "code",
   "execution_count": 42,
   "id": "8f99a772-e3eb-4609-ad3e-2587813ed0e1",
   "metadata": {},
   "outputs": [],
   "source": [
    "import numpy as np\n",
    "AB_weight = np.array([200, 50, 0, 0])\n",
    "OPS_y = np.array([0.9, 0.4, 0.0, 0.0])\n",
    "Pred_y_hat = np.array([0.95, 0.35, 0.5, 0.3])\n"
   ]
  },
  {
   "cell_type": "code",
   "execution_count": 43,
   "id": "2d5add42-7709-40af-906a-ce1014ca4a64",
   "metadata": {},
   "outputs": [],
   "source": [
    "class Main():\n",
    "    def __init__(self, weight, y, y_hat):\n",
    "        self.weight = weight\n",
    "        self.y = y\n",
    "        self.y_hat = y_hat\n",
    "        \n",
    "    def wrmse(self):\n",
    "        diff = (np.square(self.y-self.y_hat)*self.weight)/np.sum(self.weight)\n",
    "        WRMSE = np.sum(np.sqrt(diff))\n",
    "        WRMSE = round(WRMSE,6)\n",
    "        return WRMSE"
   ]
  },
  {
   "cell_type": "code",
   "execution_count": 44,
   "id": "c015bdde-2e83-4883-bb71-961857c2e73b",
   "metadata": {},
   "outputs": [
    {
     "data": {
      "text/plain": [
       "0.067082"
      ]
     },
     "execution_count": 44,
     "metadata": {},
     "output_type": "execute_result"
    }
   ],
   "source": [
    "Main(AB_weight, OPS_y, Pred_y_hat).wrmse()"
   ]
  },
  {
   "cell_type": "code",
   "execution_count": 35,
   "id": "27667054-7207-4067-9935-ceee39965654",
   "metadata": {},
   "outputs": [],
   "source": [
    "import numpy as np\n",
    "\n",
    "AB = np.array([200,50,0,0])\n",
    "OPS = np.array([0.9,0.4,0.0,0.0])\n",
    "Pred = np.array([0.95,0.35,0.5,0.3])"
   ]
  },
  {
   "cell_type": "code",
   "execution_count": 36,
   "id": "dc7304d3-edb2-48de-b85d-2f11a0268abf",
   "metadata": {},
   "outputs": [],
   "source": [
    "class Metrics():\n",
    "    def __init__(self, ops, pred, ab):\n",
    "        self.ops = ops \n",
    "        self.pred = pred\n",
    "        self.ab = ab"
   ]
  },
  {
   "cell_type": "code",
   "execution_count": 37,
   "id": "537ac0a8-244c-4758-80aa-72b4208f29be",
   "metadata": {},
   "outputs": [],
   "source": [
    "def out_wrmse(self):\n",
    "    wrmse_value = np.sqrt(((self.ops - self.pred) ** 2) * self.ab / np.sum(self.ab))\n",
    "    print(\"wrmse_value_i : \", np.round(wrmse_value,4))\n",
    "    wrmse_total = np.sum(wrmse_value)\n",
    "    wrmse_total = np.round(wrmse_total,4)\n",
    "    return wrmse_total\n",
    "\n",
    "Metrics.wrmse= out_wrmse"
   ]
  },
  {
   "cell_type": "code",
   "execution_count": 38,
   "id": "24319e49-7aa2-4d22-8412-d4d7ea4f2e1a",
   "metadata": {},
   "outputs": [],
   "source": [
    "C_wrmse = Metrics(OPS, Pred, AB)"
   ]
  },
  {
   "cell_type": "code",
   "execution_count": 39,
   "id": "99ee5873-882f-4f27-b384-a946d54b9445",
   "metadata": {},
   "outputs": [
    {
     "name": "stdout",
     "output_type": "stream",
     "text": [
      "wrmse_value_i :  [0.0447 0.0224 0.     0.    ]\n",
      "wrmse_value_total :  0.0671\n"
     ]
    }
   ],
   "source": [
    "print(\"wrmse_value_total : \",C_wrmse.wrmse())"
   ]
  },
  {
   "cell_type": "code",
   "execution_count": null,
   "id": "f9b187ee-2ec7-458d-b5bc-dcc85906459b",
   "metadata": {},
   "outputs": [],
   "source": []
  }
 ],
 "metadata": {
  "kernelspec": {
   "display_name": "Python 3",
   "language": "python",
   "name": "python3"
  },
  "language_info": {
   "codemirror_mode": {
    "name": "ipython",
    "version": 3
   },
   "file_extension": ".py",
   "mimetype": "text/x-python",
   "name": "python",
   "nbconvert_exporter": "python",
   "pygments_lexer": "ipython3",
   "version": "3.8.8"
  }
 },
 "nbformat": 4,
 "nbformat_minor": 5
}

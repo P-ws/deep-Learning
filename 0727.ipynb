{
 "cells": [
  {
   "cell_type": "code",
   "execution_count": 113,
   "id": "cfc375c8-a53f-4d85-b3bb-4069e5b517e7",
   "metadata": {},
   "outputs": [],
   "source": [
    "import tensorflow as tf\n",
    "import numpy as np\n",
    "import pandas as pd\n",
    "import seaborn as sns\n",
    "import matplotlib.pyplot as plt"
   ]
  },
  {
   "cell_type": "code",
   "execution_count": 114,
   "id": "3211e0d8-fb7a-4b92-953f-4b3535092463",
   "metadata": {},
   "outputs": [],
   "source": [
    "red = pd.read_csv('데이터셋/winequality-red.csv',sep=';')\n",
    "white = pd.read_csv('데이터셋/winequality-white.csv',sep=';')"
   ]
  },
  {
   "cell_type": "code",
   "execution_count": 115,
   "id": "68cf7702-42b7-4878-9994-bc15dbf05adf",
   "metadata": {},
   "outputs": [
    {
     "data": {
      "text/html": [
       "<div>\n",
       "<style scoped>\n",
       "    .dataframe tbody tr th:only-of-type {\n",
       "        vertical-align: middle;\n",
       "    }\n",
       "\n",
       "    .dataframe tbody tr th {\n",
       "        vertical-align: top;\n",
       "    }\n",
       "\n",
       "    .dataframe thead th {\n",
       "        text-align: right;\n",
       "    }\n",
       "</style>\n",
       "<table border=\"1\" class=\"dataframe\">\n",
       "  <thead>\n",
       "    <tr style=\"text-align: right;\">\n",
       "      <th></th>\n",
       "      <th>fixed acidity</th>\n",
       "      <th>volatile acidity</th>\n",
       "      <th>citric acid</th>\n",
       "      <th>residual sugar</th>\n",
       "      <th>chlorides</th>\n",
       "      <th>free sulfur dioxide</th>\n",
       "      <th>total sulfur dioxide</th>\n",
       "      <th>density</th>\n",
       "      <th>pH</th>\n",
       "      <th>sulphates</th>\n",
       "      <th>alcohol</th>\n",
       "      <th>quality</th>\n",
       "    </tr>\n",
       "  </thead>\n",
       "  <tbody>\n",
       "    <tr>\n",
       "      <th>0</th>\n",
       "      <td>7.4</td>\n",
       "      <td>0.70</td>\n",
       "      <td>0.00</td>\n",
       "      <td>1.9</td>\n",
       "      <td>0.076</td>\n",
       "      <td>11.0</td>\n",
       "      <td>34.0</td>\n",
       "      <td>0.9978</td>\n",
       "      <td>3.51</td>\n",
       "      <td>0.56</td>\n",
       "      <td>9.4</td>\n",
       "      <td>5</td>\n",
       "    </tr>\n",
       "    <tr>\n",
       "      <th>1</th>\n",
       "      <td>7.8</td>\n",
       "      <td>0.88</td>\n",
       "      <td>0.00</td>\n",
       "      <td>2.6</td>\n",
       "      <td>0.098</td>\n",
       "      <td>25.0</td>\n",
       "      <td>67.0</td>\n",
       "      <td>0.9968</td>\n",
       "      <td>3.20</td>\n",
       "      <td>0.68</td>\n",
       "      <td>9.8</td>\n",
       "      <td>5</td>\n",
       "    </tr>\n",
       "    <tr>\n",
       "      <th>2</th>\n",
       "      <td>7.8</td>\n",
       "      <td>0.76</td>\n",
       "      <td>0.04</td>\n",
       "      <td>2.3</td>\n",
       "      <td>0.092</td>\n",
       "      <td>15.0</td>\n",
       "      <td>54.0</td>\n",
       "      <td>0.9970</td>\n",
       "      <td>3.26</td>\n",
       "      <td>0.65</td>\n",
       "      <td>9.8</td>\n",
       "      <td>5</td>\n",
       "    </tr>\n",
       "    <tr>\n",
       "      <th>3</th>\n",
       "      <td>11.2</td>\n",
       "      <td>0.28</td>\n",
       "      <td>0.56</td>\n",
       "      <td>1.9</td>\n",
       "      <td>0.075</td>\n",
       "      <td>17.0</td>\n",
       "      <td>60.0</td>\n",
       "      <td>0.9980</td>\n",
       "      <td>3.16</td>\n",
       "      <td>0.58</td>\n",
       "      <td>9.8</td>\n",
       "      <td>6</td>\n",
       "    </tr>\n",
       "    <tr>\n",
       "      <th>4</th>\n",
       "      <td>7.4</td>\n",
       "      <td>0.70</td>\n",
       "      <td>0.00</td>\n",
       "      <td>1.9</td>\n",
       "      <td>0.076</td>\n",
       "      <td>11.0</td>\n",
       "      <td>34.0</td>\n",
       "      <td>0.9978</td>\n",
       "      <td>3.51</td>\n",
       "      <td>0.56</td>\n",
       "      <td>9.4</td>\n",
       "      <td>5</td>\n",
       "    </tr>\n",
       "  </tbody>\n",
       "</table>\n",
       "</div>"
      ],
      "text/plain": [
       "   fixed acidity  volatile acidity  citric acid  residual sugar  chlorides  \\\n",
       "0            7.4              0.70         0.00             1.9      0.076   \n",
       "1            7.8              0.88         0.00             2.6      0.098   \n",
       "2            7.8              0.76         0.04             2.3      0.092   \n",
       "3           11.2              0.28         0.56             1.9      0.075   \n",
       "4            7.4              0.70         0.00             1.9      0.076   \n",
       "\n",
       "   free sulfur dioxide  total sulfur dioxide  density    pH  sulphates  \\\n",
       "0                 11.0                  34.0   0.9978  3.51       0.56   \n",
       "1                 25.0                  67.0   0.9968  3.20       0.68   \n",
       "2                 15.0                  54.0   0.9970  3.26       0.65   \n",
       "3                 17.0                  60.0   0.9980  3.16       0.58   \n",
       "4                 11.0                  34.0   0.9978  3.51       0.56   \n",
       "\n",
       "   alcohol  quality  \n",
       "0      9.4        5  \n",
       "1      9.8        5  \n",
       "2      9.8        5  \n",
       "3      9.8        6  \n",
       "4      9.4        5  "
      ]
     },
     "execution_count": 115,
     "metadata": {},
     "output_type": "execute_result"
    }
   ],
   "source": [
    "red.head()"
   ]
  },
  {
   "cell_type": "code",
   "execution_count": 116,
   "id": "ed218495-ad77-46d6-bbfc-6aaced1fd23f",
   "metadata": {},
   "outputs": [
    {
     "data": {
      "text/html": [
       "<div>\n",
       "<style scoped>\n",
       "    .dataframe tbody tr th:only-of-type {\n",
       "        vertical-align: middle;\n",
       "    }\n",
       "\n",
       "    .dataframe tbody tr th {\n",
       "        vertical-align: top;\n",
       "    }\n",
       "\n",
       "    .dataframe thead th {\n",
       "        text-align: right;\n",
       "    }\n",
       "</style>\n",
       "<table border=\"1\" class=\"dataframe\">\n",
       "  <thead>\n",
       "    <tr style=\"text-align: right;\">\n",
       "      <th></th>\n",
       "      <th>fixed acidity</th>\n",
       "      <th>volatile acidity</th>\n",
       "      <th>citric acid</th>\n",
       "      <th>residual sugar</th>\n",
       "      <th>chlorides</th>\n",
       "      <th>free sulfur dioxide</th>\n",
       "      <th>total sulfur dioxide</th>\n",
       "      <th>density</th>\n",
       "      <th>pH</th>\n",
       "      <th>sulphates</th>\n",
       "      <th>alcohol</th>\n",
       "      <th>quality</th>\n",
       "    </tr>\n",
       "  </thead>\n",
       "  <tbody>\n",
       "    <tr>\n",
       "      <th>0</th>\n",
       "      <td>7.0</td>\n",
       "      <td>0.27</td>\n",
       "      <td>0.36</td>\n",
       "      <td>20.7</td>\n",
       "      <td>0.045</td>\n",
       "      <td>45.0</td>\n",
       "      <td>170.0</td>\n",
       "      <td>1.0010</td>\n",
       "      <td>3.00</td>\n",
       "      <td>0.45</td>\n",
       "      <td>8.8</td>\n",
       "      <td>6</td>\n",
       "    </tr>\n",
       "    <tr>\n",
       "      <th>1</th>\n",
       "      <td>6.3</td>\n",
       "      <td>0.30</td>\n",
       "      <td>0.34</td>\n",
       "      <td>1.6</td>\n",
       "      <td>0.049</td>\n",
       "      <td>14.0</td>\n",
       "      <td>132.0</td>\n",
       "      <td>0.9940</td>\n",
       "      <td>3.30</td>\n",
       "      <td>0.49</td>\n",
       "      <td>9.5</td>\n",
       "      <td>6</td>\n",
       "    </tr>\n",
       "    <tr>\n",
       "      <th>2</th>\n",
       "      <td>8.1</td>\n",
       "      <td>0.28</td>\n",
       "      <td>0.40</td>\n",
       "      <td>6.9</td>\n",
       "      <td>0.050</td>\n",
       "      <td>30.0</td>\n",
       "      <td>97.0</td>\n",
       "      <td>0.9951</td>\n",
       "      <td>3.26</td>\n",
       "      <td>0.44</td>\n",
       "      <td>10.1</td>\n",
       "      <td>6</td>\n",
       "    </tr>\n",
       "    <tr>\n",
       "      <th>3</th>\n",
       "      <td>7.2</td>\n",
       "      <td>0.23</td>\n",
       "      <td>0.32</td>\n",
       "      <td>8.5</td>\n",
       "      <td>0.058</td>\n",
       "      <td>47.0</td>\n",
       "      <td>186.0</td>\n",
       "      <td>0.9956</td>\n",
       "      <td>3.19</td>\n",
       "      <td>0.40</td>\n",
       "      <td>9.9</td>\n",
       "      <td>6</td>\n",
       "    </tr>\n",
       "    <tr>\n",
       "      <th>4</th>\n",
       "      <td>7.2</td>\n",
       "      <td>0.23</td>\n",
       "      <td>0.32</td>\n",
       "      <td>8.5</td>\n",
       "      <td>0.058</td>\n",
       "      <td>47.0</td>\n",
       "      <td>186.0</td>\n",
       "      <td>0.9956</td>\n",
       "      <td>3.19</td>\n",
       "      <td>0.40</td>\n",
       "      <td>9.9</td>\n",
       "      <td>6</td>\n",
       "    </tr>\n",
       "  </tbody>\n",
       "</table>\n",
       "</div>"
      ],
      "text/plain": [
       "   fixed acidity  volatile acidity  citric acid  residual sugar  chlorides  \\\n",
       "0            7.0              0.27         0.36            20.7      0.045   \n",
       "1            6.3              0.30         0.34             1.6      0.049   \n",
       "2            8.1              0.28         0.40             6.9      0.050   \n",
       "3            7.2              0.23         0.32             8.5      0.058   \n",
       "4            7.2              0.23         0.32             8.5      0.058   \n",
       "\n",
       "   free sulfur dioxide  total sulfur dioxide  density    pH  sulphates  \\\n",
       "0                 45.0                 170.0   1.0010  3.00       0.45   \n",
       "1                 14.0                 132.0   0.9940  3.30       0.49   \n",
       "2                 30.0                  97.0   0.9951  3.26       0.44   \n",
       "3                 47.0                 186.0   0.9956  3.19       0.40   \n",
       "4                 47.0                 186.0   0.9956  3.19       0.40   \n",
       "\n",
       "   alcohol  quality  \n",
       "0      8.8        6  \n",
       "1      9.5        6  \n",
       "2     10.1        6  \n",
       "3      9.9        6  \n",
       "4      9.9        6  "
      ]
     },
     "execution_count": 116,
     "metadata": {},
     "output_type": "execute_result"
    }
   ],
   "source": [
    "white.head()"
   ]
  },
  {
   "cell_type": "code",
   "execution_count": 117,
   "id": "5578e890-f7f1-46c2-a2f3-71d4b766e1cd",
   "metadata": {},
   "outputs": [
    {
     "name": "stdout",
     "output_type": "stream",
     "text": [
      "   fixed acidity  volatile acidity  citric acid  residual sugar  chlorides  \\\n",
      "0            7.4              0.70          0.0             1.9      0.076   \n",
      "1            7.8              0.88          0.0             2.6      0.098   \n",
      "\n",
      "   free sulfur dioxide  total sulfur dioxide  density    pH  sulphates  \\\n",
      "0                 11.0                  34.0   0.9978  3.51       0.56   \n",
      "1                 25.0                  67.0   0.9968  3.20       0.68   \n",
      "\n",
      "   alcohol  quality  type  \n",
      "0      9.4        5     0  \n",
      "1      9.8        5     0  \n",
      "   fixed acidity  volatile acidity  citric acid  residual sugar  chlorides  \\\n",
      "0            7.0              0.27         0.36            20.7      0.045   \n",
      "1            6.3              0.30         0.34             1.6      0.049   \n",
      "\n",
      "   free sulfur dioxide  total sulfur dioxide  density   pH  sulphates  \\\n",
      "0                 45.0                 170.0    1.001  3.0       0.45   \n",
      "1                 14.0                 132.0    0.994  3.3       0.49   \n",
      "\n",
      "   alcohol  quality  type  \n",
      "0      8.8        6     1  \n",
      "1      9.5        6     1  \n"
     ]
    }
   ],
   "source": [
    "red['type'] = 0 \n",
    "white['type'] = 1\n",
    "\n",
    "print(red.head(2))\n",
    "print(white.head(2))"
   ]
  },
  {
   "cell_type": "code",
   "execution_count": 118,
   "id": "91abd561-f9fa-4199-8e05-684ea896af52",
   "metadata": {},
   "outputs": [
    {
     "data": {
      "text/html": [
       "<div>\n",
       "<style scoped>\n",
       "    .dataframe tbody tr th:only-of-type {\n",
       "        vertical-align: middle;\n",
       "    }\n",
       "\n",
       "    .dataframe tbody tr th {\n",
       "        vertical-align: top;\n",
       "    }\n",
       "\n",
       "    .dataframe thead th {\n",
       "        text-align: right;\n",
       "    }\n",
       "</style>\n",
       "<table border=\"1\" class=\"dataframe\">\n",
       "  <thead>\n",
       "    <tr style=\"text-align: right;\">\n",
       "      <th></th>\n",
       "      <th>fixed acidity</th>\n",
       "      <th>volatile acidity</th>\n",
       "      <th>citric acid</th>\n",
       "      <th>residual sugar</th>\n",
       "      <th>chlorides</th>\n",
       "      <th>free sulfur dioxide</th>\n",
       "      <th>total sulfur dioxide</th>\n",
       "      <th>density</th>\n",
       "      <th>pH</th>\n",
       "      <th>sulphates</th>\n",
       "      <th>alcohol</th>\n",
       "      <th>quality</th>\n",
       "      <th>type</th>\n",
       "    </tr>\n",
       "  </thead>\n",
       "  <tbody>\n",
       "    <tr>\n",
       "      <th>0</th>\n",
       "      <td>7.4</td>\n",
       "      <td>0.70</td>\n",
       "      <td>0.00</td>\n",
       "      <td>1.9</td>\n",
       "      <td>0.076</td>\n",
       "      <td>11.0</td>\n",
       "      <td>34.0</td>\n",
       "      <td>0.9978</td>\n",
       "      <td>3.51</td>\n",
       "      <td>0.56</td>\n",
       "      <td>9.4</td>\n",
       "      <td>5</td>\n",
       "      <td>0</td>\n",
       "    </tr>\n",
       "    <tr>\n",
       "      <th>1</th>\n",
       "      <td>7.8</td>\n",
       "      <td>0.88</td>\n",
       "      <td>0.00</td>\n",
       "      <td>2.6</td>\n",
       "      <td>0.098</td>\n",
       "      <td>25.0</td>\n",
       "      <td>67.0</td>\n",
       "      <td>0.9968</td>\n",
       "      <td>3.20</td>\n",
       "      <td>0.68</td>\n",
       "      <td>9.8</td>\n",
       "      <td>5</td>\n",
       "      <td>0</td>\n",
       "    </tr>\n",
       "    <tr>\n",
       "      <th>2</th>\n",
       "      <td>7.8</td>\n",
       "      <td>0.76</td>\n",
       "      <td>0.04</td>\n",
       "      <td>2.3</td>\n",
       "      <td>0.092</td>\n",
       "      <td>15.0</td>\n",
       "      <td>54.0</td>\n",
       "      <td>0.9970</td>\n",
       "      <td>3.26</td>\n",
       "      <td>0.65</td>\n",
       "      <td>9.8</td>\n",
       "      <td>5</td>\n",
       "      <td>0</td>\n",
       "    </tr>\n",
       "    <tr>\n",
       "      <th>3</th>\n",
       "      <td>11.2</td>\n",
       "      <td>0.28</td>\n",
       "      <td>0.56</td>\n",
       "      <td>1.9</td>\n",
       "      <td>0.075</td>\n",
       "      <td>17.0</td>\n",
       "      <td>60.0</td>\n",
       "      <td>0.9980</td>\n",
       "      <td>3.16</td>\n",
       "      <td>0.58</td>\n",
       "      <td>9.8</td>\n",
       "      <td>6</td>\n",
       "      <td>0</td>\n",
       "    </tr>\n",
       "    <tr>\n",
       "      <th>4</th>\n",
       "      <td>7.4</td>\n",
       "      <td>0.70</td>\n",
       "      <td>0.00</td>\n",
       "      <td>1.9</td>\n",
       "      <td>0.076</td>\n",
       "      <td>11.0</td>\n",
       "      <td>34.0</td>\n",
       "      <td>0.9978</td>\n",
       "      <td>3.51</td>\n",
       "      <td>0.56</td>\n",
       "      <td>9.4</td>\n",
       "      <td>5</td>\n",
       "      <td>0</td>\n",
       "    </tr>\n",
       "  </tbody>\n",
       "</table>\n",
       "</div>"
      ],
      "text/plain": [
       "   fixed acidity  volatile acidity  citric acid  residual sugar  chlorides  \\\n",
       "0            7.4              0.70         0.00             1.9      0.076   \n",
       "1            7.8              0.88         0.00             2.6      0.098   \n",
       "2            7.8              0.76         0.04             2.3      0.092   \n",
       "3           11.2              0.28         0.56             1.9      0.075   \n",
       "4            7.4              0.70         0.00             1.9      0.076   \n",
       "\n",
       "   free sulfur dioxide  total sulfur dioxide  density    pH  sulphates  \\\n",
       "0                 11.0                  34.0   0.9978  3.51       0.56   \n",
       "1                 25.0                  67.0   0.9968  3.20       0.68   \n",
       "2                 15.0                  54.0   0.9970  3.26       0.65   \n",
       "3                 17.0                  60.0   0.9980  3.16       0.58   \n",
       "4                 11.0                  34.0   0.9978  3.51       0.56   \n",
       "\n",
       "   alcohol  quality  type  \n",
       "0      9.4        5     0  \n",
       "1      9.8        5     0  \n",
       "2      9.8        5     0  \n",
       "3      9.8        6     0  \n",
       "4      9.4        5     0  "
      ]
     },
     "execution_count": 118,
     "metadata": {},
     "output_type": "execute_result"
    }
   ],
   "source": [
    "red.head()"
   ]
  },
  {
   "cell_type": "code",
   "execution_count": 119,
   "id": "afd26547-b786-4d77-a6ed-1a5364119ccf",
   "metadata": {},
   "outputs": [
    {
     "data": {
      "text/html": [
       "<div>\n",
       "<style scoped>\n",
       "    .dataframe tbody tr th:only-of-type {\n",
       "        vertical-align: middle;\n",
       "    }\n",
       "\n",
       "    .dataframe tbody tr th {\n",
       "        vertical-align: top;\n",
       "    }\n",
       "\n",
       "    .dataframe thead th {\n",
       "        text-align: right;\n",
       "    }\n",
       "</style>\n",
       "<table border=\"1\" class=\"dataframe\">\n",
       "  <thead>\n",
       "    <tr style=\"text-align: right;\">\n",
       "      <th></th>\n",
       "      <th>fixed acidity</th>\n",
       "      <th>volatile acidity</th>\n",
       "      <th>citric acid</th>\n",
       "      <th>residual sugar</th>\n",
       "      <th>chlorides</th>\n",
       "      <th>free sulfur dioxide</th>\n",
       "      <th>total sulfur dioxide</th>\n",
       "      <th>density</th>\n",
       "      <th>pH</th>\n",
       "      <th>sulphates</th>\n",
       "      <th>alcohol</th>\n",
       "      <th>quality</th>\n",
       "      <th>type</th>\n",
       "    </tr>\n",
       "  </thead>\n",
       "  <tbody>\n",
       "    <tr>\n",
       "      <th>0</th>\n",
       "      <td>7.0</td>\n",
       "      <td>0.27</td>\n",
       "      <td>0.36</td>\n",
       "      <td>20.7</td>\n",
       "      <td>0.045</td>\n",
       "      <td>45.0</td>\n",
       "      <td>170.0</td>\n",
       "      <td>1.0010</td>\n",
       "      <td>3.00</td>\n",
       "      <td>0.45</td>\n",
       "      <td>8.8</td>\n",
       "      <td>6</td>\n",
       "      <td>1</td>\n",
       "    </tr>\n",
       "    <tr>\n",
       "      <th>1</th>\n",
       "      <td>6.3</td>\n",
       "      <td>0.30</td>\n",
       "      <td>0.34</td>\n",
       "      <td>1.6</td>\n",
       "      <td>0.049</td>\n",
       "      <td>14.0</td>\n",
       "      <td>132.0</td>\n",
       "      <td>0.9940</td>\n",
       "      <td>3.30</td>\n",
       "      <td>0.49</td>\n",
       "      <td>9.5</td>\n",
       "      <td>6</td>\n",
       "      <td>1</td>\n",
       "    </tr>\n",
       "    <tr>\n",
       "      <th>2</th>\n",
       "      <td>8.1</td>\n",
       "      <td>0.28</td>\n",
       "      <td>0.40</td>\n",
       "      <td>6.9</td>\n",
       "      <td>0.050</td>\n",
       "      <td>30.0</td>\n",
       "      <td>97.0</td>\n",
       "      <td>0.9951</td>\n",
       "      <td>3.26</td>\n",
       "      <td>0.44</td>\n",
       "      <td>10.1</td>\n",
       "      <td>6</td>\n",
       "      <td>1</td>\n",
       "    </tr>\n",
       "    <tr>\n",
       "      <th>3</th>\n",
       "      <td>7.2</td>\n",
       "      <td>0.23</td>\n",
       "      <td>0.32</td>\n",
       "      <td>8.5</td>\n",
       "      <td>0.058</td>\n",
       "      <td>47.0</td>\n",
       "      <td>186.0</td>\n",
       "      <td>0.9956</td>\n",
       "      <td>3.19</td>\n",
       "      <td>0.40</td>\n",
       "      <td>9.9</td>\n",
       "      <td>6</td>\n",
       "      <td>1</td>\n",
       "    </tr>\n",
       "    <tr>\n",
       "      <th>4</th>\n",
       "      <td>7.2</td>\n",
       "      <td>0.23</td>\n",
       "      <td>0.32</td>\n",
       "      <td>8.5</td>\n",
       "      <td>0.058</td>\n",
       "      <td>47.0</td>\n",
       "      <td>186.0</td>\n",
       "      <td>0.9956</td>\n",
       "      <td>3.19</td>\n",
       "      <td>0.40</td>\n",
       "      <td>9.9</td>\n",
       "      <td>6</td>\n",
       "      <td>1</td>\n",
       "    </tr>\n",
       "  </tbody>\n",
       "</table>\n",
       "</div>"
      ],
      "text/plain": [
       "   fixed acidity  volatile acidity  citric acid  residual sugar  chlorides  \\\n",
       "0            7.0              0.27         0.36            20.7      0.045   \n",
       "1            6.3              0.30         0.34             1.6      0.049   \n",
       "2            8.1              0.28         0.40             6.9      0.050   \n",
       "3            7.2              0.23         0.32             8.5      0.058   \n",
       "4            7.2              0.23         0.32             8.5      0.058   \n",
       "\n",
       "   free sulfur dioxide  total sulfur dioxide  density    pH  sulphates  \\\n",
       "0                 45.0                 170.0   1.0010  3.00       0.45   \n",
       "1                 14.0                 132.0   0.9940  3.30       0.49   \n",
       "2                 30.0                  97.0   0.9951  3.26       0.44   \n",
       "3                 47.0                 186.0   0.9956  3.19       0.40   \n",
       "4                 47.0                 186.0   0.9956  3.19       0.40   \n",
       "\n",
       "   alcohol  quality  type  \n",
       "0      8.8        6     1  \n",
       "1      9.5        6     1  \n",
       "2     10.1        6     1  \n",
       "3      9.9        6     1  \n",
       "4      9.9        6     1  "
      ]
     },
     "execution_count": 119,
     "metadata": {},
     "output_type": "execute_result"
    }
   ],
   "source": [
    "white.head()"
   ]
  },
  {
   "cell_type": "code",
   "execution_count": 120,
   "id": "b78d380f-76a8-4d78-a7e3-c26daba71f34",
   "metadata": {},
   "outputs": [],
   "source": [
    "wine = pd.concat([red, white])\n",
    "#print(wine.describe())"
   ]
  },
  {
   "cell_type": "code",
   "execution_count": 121,
   "id": "2cee414c-f4e1-4688-9a28-047d7c0dabc3",
   "metadata": {},
   "outputs": [
    {
     "data": {
      "text/html": [
       "<div>\n",
       "<style scoped>\n",
       "    .dataframe tbody tr th:only-of-type {\n",
       "        vertical-align: middle;\n",
       "    }\n",
       "\n",
       "    .dataframe tbody tr th {\n",
       "        vertical-align: top;\n",
       "    }\n",
       "\n",
       "    .dataframe thead th {\n",
       "        text-align: right;\n",
       "    }\n",
       "</style>\n",
       "<table border=\"1\" class=\"dataframe\">\n",
       "  <thead>\n",
       "    <tr style=\"text-align: right;\">\n",
       "      <th></th>\n",
       "      <th>fixed acidity</th>\n",
       "      <th>volatile acidity</th>\n",
       "      <th>citric acid</th>\n",
       "      <th>residual sugar</th>\n",
       "      <th>chlorides</th>\n",
       "      <th>free sulfur dioxide</th>\n",
       "      <th>total sulfur dioxide</th>\n",
       "      <th>density</th>\n",
       "      <th>pH</th>\n",
       "      <th>sulphates</th>\n",
       "      <th>alcohol</th>\n",
       "      <th>quality</th>\n",
       "      <th>type</th>\n",
       "    </tr>\n",
       "  </thead>\n",
       "  <tbody>\n",
       "    <tr>\n",
       "      <th>count</th>\n",
       "      <td>6497.000000</td>\n",
       "      <td>6497.000000</td>\n",
       "      <td>6497.000000</td>\n",
       "      <td>6497.000000</td>\n",
       "      <td>6497.000000</td>\n",
       "      <td>6497.000000</td>\n",
       "      <td>6497.000000</td>\n",
       "      <td>6497.000000</td>\n",
       "      <td>6497.000000</td>\n",
       "      <td>6497.000000</td>\n",
       "      <td>6497.000000</td>\n",
       "      <td>6497.000000</td>\n",
       "      <td>6497.000000</td>\n",
       "    </tr>\n",
       "    <tr>\n",
       "      <th>mean</th>\n",
       "      <td>7.215307</td>\n",
       "      <td>0.339666</td>\n",
       "      <td>0.318633</td>\n",
       "      <td>5.443235</td>\n",
       "      <td>0.056034</td>\n",
       "      <td>30.525319</td>\n",
       "      <td>115.744574</td>\n",
       "      <td>0.994697</td>\n",
       "      <td>3.218501</td>\n",
       "      <td>0.531268</td>\n",
       "      <td>10.491801</td>\n",
       "      <td>5.818378</td>\n",
       "      <td>0.753886</td>\n",
       "    </tr>\n",
       "    <tr>\n",
       "      <th>std</th>\n",
       "      <td>1.296434</td>\n",
       "      <td>0.164636</td>\n",
       "      <td>0.145318</td>\n",
       "      <td>4.757804</td>\n",
       "      <td>0.035034</td>\n",
       "      <td>17.749400</td>\n",
       "      <td>56.521855</td>\n",
       "      <td>0.002999</td>\n",
       "      <td>0.160787</td>\n",
       "      <td>0.148806</td>\n",
       "      <td>1.192712</td>\n",
       "      <td>0.873255</td>\n",
       "      <td>0.430779</td>\n",
       "    </tr>\n",
       "    <tr>\n",
       "      <th>min</th>\n",
       "      <td>3.800000</td>\n",
       "      <td>0.080000</td>\n",
       "      <td>0.000000</td>\n",
       "      <td>0.600000</td>\n",
       "      <td>0.009000</td>\n",
       "      <td>1.000000</td>\n",
       "      <td>6.000000</td>\n",
       "      <td>0.987110</td>\n",
       "      <td>2.720000</td>\n",
       "      <td>0.220000</td>\n",
       "      <td>8.000000</td>\n",
       "      <td>3.000000</td>\n",
       "      <td>0.000000</td>\n",
       "    </tr>\n",
       "    <tr>\n",
       "      <th>25%</th>\n",
       "      <td>6.400000</td>\n",
       "      <td>0.230000</td>\n",
       "      <td>0.250000</td>\n",
       "      <td>1.800000</td>\n",
       "      <td>0.038000</td>\n",
       "      <td>17.000000</td>\n",
       "      <td>77.000000</td>\n",
       "      <td>0.992340</td>\n",
       "      <td>3.110000</td>\n",
       "      <td>0.430000</td>\n",
       "      <td>9.500000</td>\n",
       "      <td>5.000000</td>\n",
       "      <td>1.000000</td>\n",
       "    </tr>\n",
       "    <tr>\n",
       "      <th>50%</th>\n",
       "      <td>7.000000</td>\n",
       "      <td>0.290000</td>\n",
       "      <td>0.310000</td>\n",
       "      <td>3.000000</td>\n",
       "      <td>0.047000</td>\n",
       "      <td>29.000000</td>\n",
       "      <td>118.000000</td>\n",
       "      <td>0.994890</td>\n",
       "      <td>3.210000</td>\n",
       "      <td>0.510000</td>\n",
       "      <td>10.300000</td>\n",
       "      <td>6.000000</td>\n",
       "      <td>1.000000</td>\n",
       "    </tr>\n",
       "    <tr>\n",
       "      <th>75%</th>\n",
       "      <td>7.700000</td>\n",
       "      <td>0.400000</td>\n",
       "      <td>0.390000</td>\n",
       "      <td>8.100000</td>\n",
       "      <td>0.065000</td>\n",
       "      <td>41.000000</td>\n",
       "      <td>156.000000</td>\n",
       "      <td>0.996990</td>\n",
       "      <td>3.320000</td>\n",
       "      <td>0.600000</td>\n",
       "      <td>11.300000</td>\n",
       "      <td>6.000000</td>\n",
       "      <td>1.000000</td>\n",
       "    </tr>\n",
       "    <tr>\n",
       "      <th>max</th>\n",
       "      <td>15.900000</td>\n",
       "      <td>1.580000</td>\n",
       "      <td>1.660000</td>\n",
       "      <td>65.800000</td>\n",
       "      <td>0.611000</td>\n",
       "      <td>289.000000</td>\n",
       "      <td>440.000000</td>\n",
       "      <td>1.038980</td>\n",
       "      <td>4.010000</td>\n",
       "      <td>2.000000</td>\n",
       "      <td>14.900000</td>\n",
       "      <td>9.000000</td>\n",
       "      <td>1.000000</td>\n",
       "    </tr>\n",
       "  </tbody>\n",
       "</table>\n",
       "</div>"
      ],
      "text/plain": [
       "       fixed acidity  volatile acidity  citric acid  residual sugar  \\\n",
       "count    6497.000000       6497.000000  6497.000000     6497.000000   \n",
       "mean        7.215307          0.339666     0.318633        5.443235   \n",
       "std         1.296434          0.164636     0.145318        4.757804   \n",
       "min         3.800000          0.080000     0.000000        0.600000   \n",
       "25%         6.400000          0.230000     0.250000        1.800000   \n",
       "50%         7.000000          0.290000     0.310000        3.000000   \n",
       "75%         7.700000          0.400000     0.390000        8.100000   \n",
       "max        15.900000          1.580000     1.660000       65.800000   \n",
       "\n",
       "         chlorides  free sulfur dioxide  total sulfur dioxide      density  \\\n",
       "count  6497.000000          6497.000000           6497.000000  6497.000000   \n",
       "mean      0.056034            30.525319            115.744574     0.994697   \n",
       "std       0.035034            17.749400             56.521855     0.002999   \n",
       "min       0.009000             1.000000              6.000000     0.987110   \n",
       "25%       0.038000            17.000000             77.000000     0.992340   \n",
       "50%       0.047000            29.000000            118.000000     0.994890   \n",
       "75%       0.065000            41.000000            156.000000     0.996990   \n",
       "max       0.611000           289.000000            440.000000     1.038980   \n",
       "\n",
       "                pH    sulphates      alcohol      quality         type  \n",
       "count  6497.000000  6497.000000  6497.000000  6497.000000  6497.000000  \n",
       "mean      3.218501     0.531268    10.491801     5.818378     0.753886  \n",
       "std       0.160787     0.148806     1.192712     0.873255     0.430779  \n",
       "min       2.720000     0.220000     8.000000     3.000000     0.000000  \n",
       "25%       3.110000     0.430000     9.500000     5.000000     1.000000  \n",
       "50%       3.210000     0.510000    10.300000     6.000000     1.000000  \n",
       "75%       3.320000     0.600000    11.300000     6.000000     1.000000  \n",
       "max       4.010000     2.000000    14.900000     9.000000     1.000000  "
      ]
     },
     "execution_count": 121,
     "metadata": {},
     "output_type": "execute_result"
    }
   ],
   "source": [
    "wine.describe()"
   ]
  },
  {
   "cell_type": "code",
   "execution_count": 122,
   "id": "fbbcf988-6bf0-40c0-b39b-20a708049826",
   "metadata": {},
   "outputs": [
    {
     "data": {
      "image/png": "[encoded data removed]",
      "text/plain": [
       "<Figure size 432x288 with 1 Axes>"
      ]
     },
     "metadata": {
      "needs_background": "light"
     },
     "output_type": "display_data"
    }
   ],
   "source": [
    "sns.histplot(wine['type'], color='green', alpha=0.5)\n",
    "plt.title(f\"{wine['type'].value_counts():}\")\n",
    "plt.grid()\n",
    "plt.show()"
   ]
  },
  {
   "cell_type": "code",
   "execution_count": 124,
   "id": "b5d0e57c-7685-4b03-98d2-57ed46344a57",
   "metadata": {},
   "outputs": [
    {
     "data": {
      "text/html": [
       "<div>\n",
       "<style scoped>\n",
       "    .dataframe tbody tr th:only-of-type {\n",
       "        vertical-align: middle;\n",
       "    }\n",
       "\n",
       "    .dataframe tbody tr th {\n",
       "        vertical-align: top;\n",
       "    }\n",
       "\n",
       "    .dataframe thead th {\n",
       "        text-align: right;\n",
       "    }\n",
       "</style>\n",
       "<table border=\"1\" class=\"dataframe\">\n",
       "  <thead>\n",
       "    <tr style=\"text-align: right;\">\n",
       "      <th></th>\n",
       "      <th>fixed acidity</th>\n",
       "      <th>volatile acidity</th>\n",
       "      <th>citric acid</th>\n",
       "      <th>residual sugar</th>\n",
       "      <th>chlorides</th>\n",
       "      <th>free sulfur dioxide</th>\n",
       "      <th>total sulfur dioxide</th>\n",
       "      <th>density</th>\n",
       "      <th>pH</th>\n",
       "      <th>sulphates</th>\n",
       "      <th>alcohol</th>\n",
       "      <th>quality</th>\n",
       "      <th>type</th>\n",
       "    </tr>\n",
       "  </thead>\n",
       "  <tbody>\n",
       "    <tr>\n",
       "      <th>480</th>\n",
       "      <td>6.7</td>\n",
       "      <td>0.47</td>\n",
       "      <td>0.34</td>\n",
       "      <td>8.90</td>\n",
       "      <td>0.043</td>\n",
       "      <td>31.0</td>\n",
       "      <td>172.0</td>\n",
       "      <td>0.99640</td>\n",
       "      <td>3.22</td>\n",
       "      <td>0.60</td>\n",
       "      <td>9.2</td>\n",
       "      <td>5</td>\n",
       "      <td>1</td>\n",
       "    </tr>\n",
       "    <tr>\n",
       "      <th>773</th>\n",
       "      <td>6.1</td>\n",
       "      <td>0.27</td>\n",
       "      <td>0.30</td>\n",
       "      <td>16.70</td>\n",
       "      <td>0.039</td>\n",
       "      <td>49.0</td>\n",
       "      <td>172.0</td>\n",
       "      <td>0.99985</td>\n",
       "      <td>3.40</td>\n",
       "      <td>0.45</td>\n",
       "      <td>9.4</td>\n",
       "      <td>5</td>\n",
       "      <td>1</td>\n",
       "    </tr>\n",
       "    <tr>\n",
       "      <th>278</th>\n",
       "      <td>10.3</td>\n",
       "      <td>0.32</td>\n",
       "      <td>0.45</td>\n",
       "      <td>6.40</td>\n",
       "      <td>0.073</td>\n",
       "      <td>5.0</td>\n",
       "      <td>13.0</td>\n",
       "      <td>0.99760</td>\n",
       "      <td>3.23</td>\n",
       "      <td>0.82</td>\n",
       "      <td>12.6</td>\n",
       "      <td>8</td>\n",
       "      <td>0</td>\n",
       "    </tr>\n",
       "    <tr>\n",
       "      <th>539</th>\n",
       "      <td>6.8</td>\n",
       "      <td>0.25</td>\n",
       "      <td>0.24</td>\n",
       "      <td>4.55</td>\n",
       "      <td>0.053</td>\n",
       "      <td>41.0</td>\n",
       "      <td>211.0</td>\n",
       "      <td>0.99550</td>\n",
       "      <td>3.37</td>\n",
       "      <td>0.67</td>\n",
       "      <td>9.5</td>\n",
       "      <td>6</td>\n",
       "      <td>1</td>\n",
       "    </tr>\n",
       "    <tr>\n",
       "      <th>2984</th>\n",
       "      <td>6.9</td>\n",
       "      <td>0.30</td>\n",
       "      <td>0.30</td>\n",
       "      <td>10.55</td>\n",
       "      <td>0.037</td>\n",
       "      <td>4.0</td>\n",
       "      <td>28.0</td>\n",
       "      <td>0.99184</td>\n",
       "      <td>3.07</td>\n",
       "      <td>0.32</td>\n",
       "      <td>12.7</td>\n",
       "      <td>6</td>\n",
       "      <td>1</td>\n",
       "    </tr>\n",
       "  </tbody>\n",
       "</table>\n",
       "</div>"
      ],
      "text/plain": [
       "      fixed acidity  volatile acidity  citric acid  residual sugar  chlorides  \\\n",
       "480             6.7              0.47         0.34            8.90      0.043   \n",
       "773             6.1              0.27         0.30           16.70      0.039   \n",
       "278            10.3              0.32         0.45            6.40      0.073   \n",
       "539             6.8              0.25         0.24            4.55      0.053   \n",
       "2984            6.9              0.30         0.30           10.55      0.037   \n",
       "\n",
       "      free sulfur dioxide  total sulfur dioxide  density    pH  sulphates  \\\n",
       "480                  31.0                 172.0  0.99640  3.22       0.60   \n",
       "773                  49.0                 172.0  0.99985  3.40       0.45   \n",
       "278                   5.0                  13.0  0.99760  3.23       0.82   \n",
       "539                  41.0                 211.0  0.99550  3.37       0.67   \n",
       "2984                  4.0                  28.0  0.99184  3.07       0.32   \n",
       "\n",
       "      alcohol  quality  type  \n",
       "480       9.2        5     1  \n",
       "773       9.4        5     1  \n",
       "278      12.6        8     0  \n",
       "539       9.5        6     1  \n",
       "2984     12.7        6     1  "
      ]
     },
     "execution_count": 124,
     "metadata": {},
     "output_type": "execute_result"
    }
   ],
   "source": [
    "wine_shuffle=wine.sample(frac=1)\n",
    "wine_shuffle.head()"
   ]
  },
  {
   "cell_type": "code",
   "execution_count": 125,
   "id": "009eb0aa-d7e9-4bbc-940e-149868d7db68",
   "metadata": {},
   "outputs": [
    {
     "name": "stdout",
     "output_type": "stream",
     "text": [
      "<class 'numpy.ndarray'>\n"
     ]
    }
   ],
   "source": [
    "wine_np = wine_shuffle.to_numpy()\n",
    "print(type(wine_np))"
   ]
  },
  {
   "cell_type": "code",
   "execution_count": 126,
   "id": "a5e4646a-dee0-4f57-998f-e7c637299b48",
   "metadata": {},
   "outputs": [
    {
     "name": "stdout",
     "output_type": "stream",
     "text": [
      "Total dataset Index :  6497\n",
      "train_idx :  5197\n"
     ]
    }
   ],
   "source": [
    "print(\"Total dataset Index : \",len(wine_np))\n",
    "train_idx = int(len(wine_np) * 0.8)\n",
    "print(\"train_idx : \", train_idx)"
   ]
  },
  {
   "cell_type": "code",
   "execution_count": 127,
   "id": "3da828ec-9b5b-427e-a382-48e6210d62f8",
   "metadata": {},
   "outputs": [
    {
     "name": "stdout",
     "output_type": "stream",
     "text": [
      "(5197, 12)\n",
      "(5197,)\n",
      "(1300, 12)\n",
      "(1300,)\n"
     ]
    }
   ],
   "source": [
    "train_X, train_Y = wine_np[ : train_idx, : -1 ], wine_np[ :train_idx , -1 ]\n",
    "test_X,  test_Y  = wine_np[  train_idx: ,: -1 ], wine_np[train_idx : , -1 ]\n",
    "\n",
    "print(train_X.shape)\n",
    "print(train_Y.shape)\n",
    "print(test_X.shape)\n",
    "print(test_Y.shape)"
   ]
  },
  {
   "cell_type": "code",
   "execution_count": 128,
   "id": "477cc218-6088-4f2d-8f7d-240c227bde5d",
   "metadata": {},
   "outputs": [
    {
     "name": "stdout",
     "output_type": "stream",
     "text": [
      "\n",
      " After - to_categorical : \n",
      "\n",
      "1.0\n",
      "1.0\n",
      "0.0\n"
     ]
    }
   ],
   "source": [
    "\n",
    "#train_Y = tf.keras.utils.to_categorical(train_Y, num_classes=2)\n",
    "#test_Y = tf.keras.utils.to_categorical(test_Y, num_classes=2)\n",
    "\n",
    "print(\"\\n After - to_categorical : \\n\")\n",
    "print(train_Y[0])\n",
    "print(train_Y[1])\n",
    "print(train_Y[2])"
   ]
  },
  {
   "cell_type": "code",
   "execution_count": 129,
   "id": "0b4c6f84-30c0-45b5-b264-fb3f9e727251",
   "metadata": {},
   "outputs": [
    {
     "data": {
      "text/plain": [
       "array([1., 1., 0., ..., 1., 1., 1.])"
      ]
     },
     "execution_count": 129,
     "metadata": {},
     "output_type": "execute_result"
    }
   ],
   "source": [
    "train_Y"
   ]
  },
  {
   "cell_type": "code",
   "execution_count": 130,
   "id": "079ce9a3-91df-48ea-8e20-3f718869397d",
   "metadata": {},
   "outputs": [
    {
     "data": {
      "text/plain": [
       "((5197,), (1300,))"
      ]
     },
     "execution_count": 130,
     "metadata": {},
     "output_type": "execute_result"
    }
   ],
   "source": [
    "train_Y.shape, test_Y.shape"
   ]
  },
  {
   "cell_type": "code",
   "execution_count": 131,
   "id": "e97d04d8-fb64-4c73-b6d4-0a21da8242e3",
   "metadata": {},
   "outputs": [
    {
     "name": "stdout",
     "output_type": "stream",
     "text": [
      "\n",
      " Before - to_categorical : \n",
      "\n",
      "1.0\n",
      "1.0\n",
      "0.0\n",
      "\n",
      " After - to_categorical : \n",
      "\n",
      "[0. 1.]\n",
      "[0. 1.]\n",
      "[1. 0.]\n",
      "\n",
      " After - to_categorical_5 : \n",
      "\n",
      "[[0. 1. 0. 0. 0.]\n",
      " [0. 1. 0. 0. 0.]\n",
      " [0. 1. 0. 0. 0.]]\n"
     ]
    }
   ],
   "source": [
    "print(\"\\n Before - to_categorical : \\n\")\n",
    "print(train_Y[0])\n",
    "print(train_Y[1])\n",
    "print(train_Y[2])\n",
    "\n",
    "train_Y_to_categorical = tf.keras.utils.to_categorical(train_Y, num_classes = 2)\n",
    "test_Y_to_categorical  = tf.keras.utils.to_categorical(test_Y, num_classes = 2)\n",
    "\n",
    "test_Y_to_categorical_5  = tf.keras.utils.to_categorical(test_Y, num_classes = 5)\n",
    "\n",
    "print(\"\\n After - to_categorical : \\n\")\n",
    "print(train_Y_to_categorical[0])\n",
    "print(train_Y_to_categorical[1])\n",
    "print(train_Y_to_categorical[2])\n",
    "\n",
    "print(\"\\n After - to_categorical_5 : \\n\")\n",
    "print(test_Y_to_categorical_5[:3])"
   ]
  },
  {
   "cell_type": "code",
   "execution_count": 133,
   "id": "7833a10e-79fc-4697-9c0d-976999a84341",
   "metadata": {},
   "outputs": [],
   "source": [
    "model_swish_sigmoid = tf.keras.Sequential([\n",
    "                                        tf.keras.layers.Dense(units = 48, activation = 'swish', input_shape = (12,)),\n",
    "                                        tf.keras.layers.Dense(units = 24, activation = 'swish'),\n",
    "                                        tf.keras.layers.Dense(units = 12, activation = 'swish'),\n",
    "                                        tf.keras.layers.Dense(units = 2, activation = 'sigmoid'),\n",
    "])"
   ]
  },
  {
   "cell_type": "code",
   "execution_count": 134,
   "id": "6a168abf-8d23-4170-9d31-e51485ad66f5",
   "metadata": {},
   "outputs": [
    {
     "name": "stdout",
     "output_type": "stream",
     "text": [
      "Model: \"sequential_6\"\n",
      "_________________________________________________________________\n",
      "Layer (type)                 Output Shape              Param #   \n",
      "=================================================================\n",
      "dense_24 (Dense)             (None, 48)                624       \n",
      "_________________________________________________________________\n",
      "dense_25 (Dense)             (None, 24)                1176      \n",
      "_________________________________________________________________\n",
      "dense_26 (Dense)             (None, 12)                300       \n",
      "_________________________________________________________________\n",
      "dense_27 (Dense)             (None, 2)                 26        \n",
      "=================================================================\n",
      "Total params: 2,126\n",
      "Trainable params: 2,126\n",
      "Non-trainable params: 0\n",
      "_________________________________________________________________\n"
     ]
    }
   ],
   "source": [
    "model_swish_sigmoid.summary()"
   ]
  },
  {
   "cell_type": "code",
   "execution_count": 19,
   "id": "7e91f829-770e-42dc-a9fc-276b1f8fd19d",
   "metadata": {},
   "outputs": [],
   "source": [
    "model_swish_sigmoid.compile(optimizer = tf.keras.optimizers.Adam(learning_rate = 0.07),\n",
    "                            loss = 'binary_crossentropy',\n",
    "                            metrics = ['accuracy'])"
   ]
  },
  {
   "cell_type": "code",
   "execution_count": 20,
   "id": "296fe3cc-a242-4cb4-a9d3-dda660794ada",
   "metadata": {},
   "outputs": [
    {
     "name": "stdout",
     "output_type": "stream",
     "text": [
      "Epoch 1/50\n",
      "130/130 [==============================] - 1s 2ms/step - loss: 0.8077 - accuracy: 0.8542 - val_loss: 0.2359 - val_accuracy: 0.9269\n",
      "Epoch 2/50\n",
      "130/130 [==============================] - 0s 994us/step - loss: 0.2153 - accuracy: 0.9338 - val_loss: 0.5251 - val_accuracy: 0.8856\n",
      "Epoch 3/50\n",
      "130/130 [==============================] - 0s 1ms/step - loss: 0.2542 - accuracy: 0.9242 - val_loss: 0.1876 - val_accuracy: 0.9404\n",
      "Epoch 4/50\n",
      "130/130 [==============================] - 0s 1ms/step - loss: 0.2276 - accuracy: 0.9338 - val_loss: 0.1853 - val_accuracy: 0.9442\n",
      "Epoch 5/50\n",
      "130/130 [==============================] - 0s 1ms/step - loss: 0.1694 - accuracy: 0.9495 - val_loss: 0.2473 - val_accuracy: 0.9250\n",
      "Epoch 6/50\n",
      "130/130 [==============================] - 0s 1ms/step - loss: 0.1627 - accuracy: 0.9529 - val_loss: 0.0984 - val_accuracy: 0.9750\n",
      "Epoch 7/50\n",
      "130/130 [==============================] - 0s 1ms/step - loss: 0.1176 - accuracy: 0.9644 - val_loss: 0.1400 - val_accuracy: 0.9500\n",
      "Epoch 8/50\n",
      "130/130 [==============================] - 0s 1ms/step - loss: 0.1637 - accuracy: 0.9485 - val_loss: 0.1515 - val_accuracy: 0.9644\n",
      "Epoch 9/50\n",
      "130/130 [==============================] - 0s 1ms/step - loss: 0.5869 - accuracy: 0.7732 - val_loss: 0.5645 - val_accuracy: 0.7481\n",
      "Epoch 10/50\n",
      "130/130 [==============================] - 0s 1ms/step - loss: 0.5575 - accuracy: 0.7546 - val_loss: 0.5645 - val_accuracy: 0.7481\n",
      "Epoch 11/50\n",
      "130/130 [==============================] - 0s 1ms/step - loss: 0.5583 - accuracy: 0.7546 - val_loss: 0.5655 - val_accuracy: 0.7481\n"
     ]
    }
   ],
   "source": [
    "tf.random.set_seed(9876)\n",
    "\n",
    "history = model_swish_sigmoid.fit(train_X, train_Y_to_categorical, epochs = 50, batch_size = 32, \n",
    "                                  validation_split = 0.2,\n",
    "                                  callbacks = [tf.keras.callbacks.EarlyStopping(patience = 5, \n",
    "                                                                                monitor='val_loss')])"
   ]
  },
  {
   "cell_type": "code",
   "execution_count": 21,
   "id": "a777f2c2-08b3-4cf7-9fea-f861d86b2b0f",
   "metadata": {},
   "outputs": [
    {
     "data": {
      "image/png": "[encoded data removed]",
      "text/plain": [
       "<Figure size 864x288 with 2 Axes>"
      ]
     },
     "metadata": {
      "needs_background": "light"
     },
     "output_type": "display_data"
    }
   ],
   "source": [
    "val_accuracy = history.history['val_accuracy']\n",
    "accuracy     = history.history['accuracy']\n",
    "\n",
    "val_loss = history.history['val_loss']\n",
    "loss     = history.history['loss']\n",
    "\n",
    "plt.figure(figsize=(12,4))\n",
    "plt.subplot(1,2,1)\n",
    "\n",
    "plt.plot(history.history['loss'], 'b-',      label = 'Train_loss')\n",
    "plt.plot(history.history['val_loss'], 'r--', label = 'Val_loss')\n",
    "\n",
    "plt.xlabel('Epochs')\n",
    "\n",
    "plt.title(\"Train_Loss : {:.3f} \\nVal_Loss : {:.3f}\".format(loss[-1], val_loss[-1]),\n",
    "          fontsize = 15)\n",
    "\n",
    "plt.legend()\n",
    "plt.grid()\n",
    "\n",
    "plt.subplot(1,2,2)\n",
    "\n",
    "plt.plot(history.history['accuracy'], 'g-',      label = 'Train_ACC')\n",
    "plt.plot(history.history['val_accuracy'], 'k--', label = 'Val_ACC')\n",
    "plt.xlabel('Epochs')\n",
    "\n",
    "plt.title(\"Train_ACC : {:.3f} \\nVal_ACC : {:.3f}\".format(accuracy[-1], val_accuracy[-1]),\n",
    "          fontsize = 15)\n",
    "\n",
    "plt.legend()\n",
    "plt.grid()\n",
    "plt.show()"
   ]
  },
  {
   "cell_type": "code",
   "execution_count": 22,
   "id": "feb85598-1137-4c1b-bac5-ce0fe87ccab8",
   "metadata": {},
   "outputs": [],
   "source": [
    "val_loss = history.history['val_loss']\n",
    "loss     = history.history['loss']"
   ]
  },
  {
   "cell_type": "code",
   "execution_count": 23,
   "id": "59801b4c-1b61-4e99-b9bc-008057a765be",
   "metadata": {},
   "outputs": [
    {
     "data": {
      "text/plain": [
       "[0.807731032371521,\n",
       " 0.21525640785694122,\n",
       " 0.25415390729904175,\n",
       " 0.22760233283042908,\n",
       " 0.16935047507286072,\n",
       " 0.16267521679401398,\n",
       " 0.11763664335012436,\n",
       " 0.16374829411506653,\n",
       " 0.586888313293457,\n",
       " 0.5575175881385803,\n",
       " 0.558254599571228]"
      ]
     },
     "execution_count": 23,
     "metadata": {},
     "output_type": "execute_result"
    }
   ],
   "source": [
    "loss"
   ]
  },
  {
   "cell_type": "code",
   "execution_count": 24,
   "id": "387415f4-6cdc-4d54-bde9-68e4bb51292e",
   "metadata": {},
   "outputs": [
    {
     "name": "stdout",
     "output_type": "stream",
     "text": [
      "41/41 [==============================] - 0s 473us/step - loss: 0.5558 - accuracy: 0.7562\n"
     ]
    },
    {
     "data": {
      "text/plain": [
       "[0.5558277368545532, 0.7561538219451904]"
      ]
     },
     "execution_count": 24,
     "metadata": {},
     "output_type": "execute_result"
    }
   ],
   "source": [
    "model_swish_sigmoid.evaluate(test_X, test_Y_to_categorical)"
   ]
  },
  {
   "cell_type": "code",
   "execution_count": 25,
   "id": "e685d64b-0d6f-483d-8de6-83c026a2f5d4",
   "metadata": {},
   "outputs": [
    {
     "name": "stdout",
     "output_type": "stream",
     "text": [
      "[[0.23 0.77]\n",
      " [0.23 0.77]\n",
      " [0.23 0.77]\n",
      " [0.23 0.77]\n",
      " [0.23 0.77]\n",
      " [0.23 0.77]\n",
      " [0.23 0.77]\n",
      " [0.23 0.77]\n",
      " [0.23 0.77]\n",
      " [0.23 0.77]\n",
      " [0.23 0.77]\n",
      " [0.23 0.77]\n",
      " [0.23 0.77]\n",
      " [0.23 0.77]\n",
      " [0.23 0.77]\n",
      " [0.23 0.77]\n",
      " [0.23 0.77]\n",
      " [0.23 0.77]\n",
      " [0.23 0.77]\n",
      " [0.23 0.77]]\n"
     ]
    }
   ],
   "source": [
    "pred_Y = model_swish_sigmoid.predict(test_X)\n",
    "print(np.round(pred_Y[:20], 2))"
   ]
  },
  {
   "cell_type": "code",
   "execution_count": 26,
   "id": "1ed0ae08-d135-4b6f-be4e-4071fceac49a",
   "metadata": {},
   "outputs": [
    {
     "name": "stdout",
     "output_type": "stream",
     "text": [
      "[[0. 1.]\n",
      " [0. 1.]\n",
      " [0. 1.]\n",
      " [0. 1.]\n",
      " [0. 1.]\n",
      " [0. 1.]\n",
      " [0. 1.]\n",
      " [0. 1.]\n",
      " [0. 1.]\n",
      " [0. 1.]\n",
      " [0. 1.]\n",
      " [0. 1.]\n",
      " [0. 1.]\n",
      " [0. 1.]\n",
      " [0. 1.]\n",
      " [0. 1.]\n",
      " [0. 1.]\n",
      " [0. 1.]\n",
      " [0. 1.]\n",
      " [0. 1.]]\n"
     ]
    }
   ],
   "source": [
    "pred_Y = np.round(pred_Y)\n",
    "print(pred_Y[:20])"
   ]
  },
  {
   "cell_type": "code",
   "execution_count": 27,
   "id": "c0da9319-9caf-42ff-adc3-bfa90460130f",
   "metadata": {},
   "outputs": [
    {
     "name": "stdout",
     "output_type": "stream",
     "text": [
      "[[0. 1.]\n",
      " [0. 1.]\n",
      " [0. 1.]\n",
      " [0. 1.]\n",
      " [1. 0.]\n",
      " [1. 0.]\n",
      " [1. 0.]\n",
      " [0. 1.]\n",
      " [0. 1.]\n",
      " [1. 0.]\n",
      " [0. 1.]\n",
      " [1. 0.]\n",
      " [0. 1.]\n",
      " [0. 1.]\n",
      " [0. 1.]\n",
      " [0. 1.]\n",
      " [0. 1.]\n",
      " [0. 1.]\n",
      " [0. 1.]\n",
      " [0. 1.]]\n"
     ]
    }
   ],
   "source": [
    "print(test_Y_to_categorical[:20])"
   ]
  },
  {
   "cell_type": "code",
   "execution_count": 28,
   "id": "19177f81-d155-4841-bf8d-75ba3622113b",
   "metadata": {},
   "outputs": [
    {
     "name": "stdout",
     "output_type": "stream",
     "text": [
      "count    6497.000000\n",
      "mean        5.818378\n",
      "std         0.873255\n",
      "min         3.000000\n",
      "25%         5.000000\n",
      "50%         6.000000\n",
      "75%         6.000000\n",
      "max         9.000000\n",
      "Name: quality, dtype: float64\n"
     ]
    }
   ],
   "source": [
    "print(wine['quality'].describe())\n"
   ]
  },
  {
   "cell_type": "code",
   "execution_count": 30,
   "id": "bd3e98c1-ddf1-4761-968c-747e026ff693",
   "metadata": {},
   "outputs": [
    {
     "data": {
      "image/png": "[encoded data removed]",
      "text/plain": [
       "<Figure size 432x288 with 1 Axes>"
      ]
     },
     "metadata": {
      "needs_background": "light"
     },
     "output_type": "display_data"
    }
   ],
   "source": [
    "sns.histplot(wine['quality'], color='red', binwidth= 0.5)\n",
    "plt.show()"
   ]
  },
  {
   "cell_type": "code",
   "execution_count": 31,
   "id": "fb069eef-f9a1-4ab7-b1ad-d492664780ab",
   "metadata": {},
   "outputs": [],
   "source": [
    "wine.loc[wine['quality'] <= 5 , 'new_quality'] = 0 #bad\n",
    "wine.loc[wine['quality'] == 6 , 'new_quality'] = 1 #normal\n",
    "wine.loc[wine['quality'] >=7 , 'new_quality'] = 2 #good"
   ]
  },
  {
   "cell_type": "code",
   "execution_count": 32,
   "id": "b0d59d68-2d07-46df-825c-91879b7413e4",
   "metadata": {},
   "outputs": [
    {
     "data": {
      "text/plain": [
       "0       0.0\n",
       "1       0.0\n",
       "2       0.0\n",
       "3       1.0\n",
       "4       0.0\n",
       "       ... \n",
       "4893    1.0\n",
       "4894    0.0\n",
       "4895    1.0\n",
       "4896    2.0\n",
       "4897    1.0\n",
       "Name: new_quality, Length: 6497, dtype: float64"
      ]
     },
     "execution_count": 32,
     "metadata": {},
     "output_type": "execute_result"
    }
   ],
   "source": [
    "wine['new_quality']"
   ]
  },
  {
   "cell_type": "code",
   "execution_count": 33,
   "id": "5beb532a-3ef2-499e-b049-345d6c590112",
   "metadata": {},
   "outputs": [
    {
     "name": "stdout",
     "output_type": "stream",
     "text": [
      "count    6497.000000\n",
      "mean        0.829614\n",
      "std         0.731124\n",
      "min         0.000000\n",
      "25%         0.000000\n",
      "50%         1.000000\n",
      "75%         1.000000\n",
      "max         2.000000\n",
      "Name: new_quality, dtype: float64\n",
      "1.0    2836\n",
      "0.0    2384\n",
      "2.0    1277\n",
      "Name: new_quality, dtype: int64\n"
     ]
    }
   ],
   "source": [
    "print(wine['new_quality'].describe())\n",
    "print(wine['new_quality'].value_counts())"
   ]
  },
  {
   "cell_type": "code",
   "execution_count": 35,
   "id": "11e83740-ae4b-4712-b97c-6f509931c6a7",
   "metadata": {},
   "outputs": [
    {
     "data": {
      "image/png": "[encoded data removed]",
      "text/plain": [
       "<Figure size 432x288 with 1 Axes>"
      ]
     },
     "metadata": {
      "needs_background": "light"
     },
     "output_type": "display_data"
    }
   ],
   "source": [
    "sns.histplot(wine['new_quality'], color='red', binwidth= 0.3)\n",
    "plt.xticks(ticks=[0,2,1])\n",
    "plt.show()"
   ]
  },
  {
   "cell_type": "code",
   "execution_count": 36,
   "id": "076e220c-6bd9-44a8-89f8-9e5791ec3f2d",
   "metadata": {},
   "outputs": [
    {
     "data": {
      "text/html": [
       "<div>\n",
       "<style scoped>\n",
       "    .dataframe tbody tr th:only-of-type {\n",
       "        vertical-align: middle;\n",
       "    }\n",
       "\n",
       "    .dataframe tbody tr th {\n",
       "        vertical-align: top;\n",
       "    }\n",
       "\n",
       "    .dataframe thead th {\n",
       "        text-align: right;\n",
       "    }\n",
       "</style>\n",
       "<table border=\"1\" class=\"dataframe\">\n",
       "  <thead>\n",
       "    <tr style=\"text-align: right;\">\n",
       "      <th></th>\n",
       "      <th>fixed acidity</th>\n",
       "      <th>volatile acidity</th>\n",
       "      <th>citric acid</th>\n",
       "      <th>residual sugar</th>\n",
       "      <th>chlorides</th>\n",
       "      <th>free sulfur dioxide</th>\n",
       "      <th>total sulfur dioxide</th>\n",
       "      <th>density</th>\n",
       "      <th>pH</th>\n",
       "      <th>sulphates</th>\n",
       "      <th>alcohol</th>\n",
       "      <th>type</th>\n",
       "      <th>new_quality</th>\n",
       "    </tr>\n",
       "  </thead>\n",
       "  <tbody>\n",
       "    <tr>\n",
       "      <th>0</th>\n",
       "      <td>7.4</td>\n",
       "      <td>0.70</td>\n",
       "      <td>0.00</td>\n",
       "      <td>1.9</td>\n",
       "      <td>0.076</td>\n",
       "      <td>11.0</td>\n",
       "      <td>34.0</td>\n",
       "      <td>0.99780</td>\n",
       "      <td>3.51</td>\n",
       "      <td>0.56</td>\n",
       "      <td>9.4</td>\n",
       "      <td>0</td>\n",
       "      <td>0.0</td>\n",
       "    </tr>\n",
       "    <tr>\n",
       "      <th>1</th>\n",
       "      <td>7.8</td>\n",
       "      <td>0.88</td>\n",
       "      <td>0.00</td>\n",
       "      <td>2.6</td>\n",
       "      <td>0.098</td>\n",
       "      <td>25.0</td>\n",
       "      <td>67.0</td>\n",
       "      <td>0.99680</td>\n",
       "      <td>3.20</td>\n",
       "      <td>0.68</td>\n",
       "      <td>9.8</td>\n",
       "      <td>0</td>\n",
       "      <td>0.0</td>\n",
       "    </tr>\n",
       "    <tr>\n",
       "      <th>2</th>\n",
       "      <td>7.8</td>\n",
       "      <td>0.76</td>\n",
       "      <td>0.04</td>\n",
       "      <td>2.3</td>\n",
       "      <td>0.092</td>\n",
       "      <td>15.0</td>\n",
       "      <td>54.0</td>\n",
       "      <td>0.99700</td>\n",
       "      <td>3.26</td>\n",
       "      <td>0.65</td>\n",
       "      <td>9.8</td>\n",
       "      <td>0</td>\n",
       "      <td>0.0</td>\n",
       "    </tr>\n",
       "    <tr>\n",
       "      <th>3</th>\n",
       "      <td>11.2</td>\n",
       "      <td>0.28</td>\n",
       "      <td>0.56</td>\n",
       "      <td>1.9</td>\n",
       "      <td>0.075</td>\n",
       "      <td>17.0</td>\n",
       "      <td>60.0</td>\n",
       "      <td>0.99800</td>\n",
       "      <td>3.16</td>\n",
       "      <td>0.58</td>\n",
       "      <td>9.8</td>\n",
       "      <td>0</td>\n",
       "      <td>1.0</td>\n",
       "    </tr>\n",
       "    <tr>\n",
       "      <th>4</th>\n",
       "      <td>7.4</td>\n",
       "      <td>0.70</td>\n",
       "      <td>0.00</td>\n",
       "      <td>1.9</td>\n",
       "      <td>0.076</td>\n",
       "      <td>11.0</td>\n",
       "      <td>34.0</td>\n",
       "      <td>0.99780</td>\n",
       "      <td>3.51</td>\n",
       "      <td>0.56</td>\n",
       "      <td>9.4</td>\n",
       "      <td>0</td>\n",
       "      <td>0.0</td>\n",
       "    </tr>\n",
       "    <tr>\n",
       "      <th>...</th>\n",
       "      <td>...</td>\n",
       "      <td>...</td>\n",
       "      <td>...</td>\n",
       "      <td>...</td>\n",
       "      <td>...</td>\n",
       "      <td>...</td>\n",
       "      <td>...</td>\n",
       "      <td>...</td>\n",
       "      <td>...</td>\n",
       "      <td>...</td>\n",
       "      <td>...</td>\n",
       "      <td>...</td>\n",
       "      <td>...</td>\n",
       "    </tr>\n",
       "    <tr>\n",
       "      <th>4893</th>\n",
       "      <td>6.2</td>\n",
       "      <td>0.21</td>\n",
       "      <td>0.29</td>\n",
       "      <td>1.6</td>\n",
       "      <td>0.039</td>\n",
       "      <td>24.0</td>\n",
       "      <td>92.0</td>\n",
       "      <td>0.99114</td>\n",
       "      <td>3.27</td>\n",
       "      <td>0.50</td>\n",
       "      <td>11.2</td>\n",
       "      <td>1</td>\n",
       "      <td>1.0</td>\n",
       "    </tr>\n",
       "    <tr>\n",
       "      <th>4894</th>\n",
       "      <td>6.6</td>\n",
       "      <td>0.32</td>\n",
       "      <td>0.36</td>\n",
       "      <td>8.0</td>\n",
       "      <td>0.047</td>\n",
       "      <td>57.0</td>\n",
       "      <td>168.0</td>\n",
       "      <td>0.99490</td>\n",
       "      <td>3.15</td>\n",
       "      <td>0.46</td>\n",
       "      <td>9.6</td>\n",
       "      <td>1</td>\n",
       "      <td>0.0</td>\n",
       "    </tr>\n",
       "    <tr>\n",
       "      <th>4895</th>\n",
       "      <td>6.5</td>\n",
       "      <td>0.24</td>\n",
       "      <td>0.19</td>\n",
       "      <td>1.2</td>\n",
       "      <td>0.041</td>\n",
       "      <td>30.0</td>\n",
       "      <td>111.0</td>\n",
       "      <td>0.99254</td>\n",
       "      <td>2.99</td>\n",
       "      <td>0.46</td>\n",
       "      <td>9.4</td>\n",
       "      <td>1</td>\n",
       "      <td>1.0</td>\n",
       "    </tr>\n",
       "    <tr>\n",
       "      <th>4896</th>\n",
       "      <td>5.5</td>\n",
       "      <td>0.29</td>\n",
       "      <td>0.30</td>\n",
       "      <td>1.1</td>\n",
       "      <td>0.022</td>\n",
       "      <td>20.0</td>\n",
       "      <td>110.0</td>\n",
       "      <td>0.98869</td>\n",
       "      <td>3.34</td>\n",
       "      <td>0.38</td>\n",
       "      <td>12.8</td>\n",
       "      <td>1</td>\n",
       "      <td>2.0</td>\n",
       "    </tr>\n",
       "    <tr>\n",
       "      <th>4897</th>\n",
       "      <td>6.0</td>\n",
       "      <td>0.21</td>\n",
       "      <td>0.38</td>\n",
       "      <td>0.8</td>\n",
       "      <td>0.020</td>\n",
       "      <td>22.0</td>\n",
       "      <td>98.0</td>\n",
       "      <td>0.98941</td>\n",
       "      <td>3.26</td>\n",
       "      <td>0.32</td>\n",
       "      <td>11.8</td>\n",
       "      <td>1</td>\n",
       "      <td>1.0</td>\n",
       "    </tr>\n",
       "  </tbody>\n",
       "</table>\n",
       "<p>6497 rows × 13 columns</p>\n",
       "</div>"
      ],
      "text/plain": [
       "      fixed acidity  volatile acidity  citric acid  residual sugar  chlorides  \\\n",
       "0               7.4              0.70         0.00             1.9      0.076   \n",
       "1               7.8              0.88         0.00             2.6      0.098   \n",
       "2               7.8              0.76         0.04             2.3      0.092   \n",
       "3              11.2              0.28         0.56             1.9      0.075   \n",
       "4               7.4              0.70         0.00             1.9      0.076   \n",
       "...             ...               ...          ...             ...        ...   \n",
       "4893            6.2              0.21         0.29             1.6      0.039   \n",
       "4894            6.6              0.32         0.36             8.0      0.047   \n",
       "4895            6.5              0.24         0.19             1.2      0.041   \n",
       "4896            5.5              0.29         0.30             1.1      0.022   \n",
       "4897            6.0              0.21         0.38             0.8      0.020   \n",
       "\n",
       "      free sulfur dioxide  total sulfur dioxide  density    pH  sulphates  \\\n",
       "0                    11.0                  34.0  0.99780  3.51       0.56   \n",
       "1                    25.0                  67.0  0.99680  3.20       0.68   \n",
       "2                    15.0                  54.0  0.99700  3.26       0.65   \n",
       "3                    17.0                  60.0  0.99800  3.16       0.58   \n",
       "4                    11.0                  34.0  0.99780  3.51       0.56   \n",
       "...                   ...                   ...      ...   ...        ...   \n",
       "4893                 24.0                  92.0  0.99114  3.27       0.50   \n",
       "4894                 57.0                 168.0  0.99490  3.15       0.46   \n",
       "4895                 30.0                 111.0  0.99254  2.99       0.46   \n",
       "4896                 20.0                 110.0  0.98869  3.34       0.38   \n",
       "4897                 22.0                  98.0  0.98941  3.26       0.32   \n",
       "\n",
       "      alcohol  type  new_quality  \n",
       "0         9.4     0          0.0  \n",
       "1         9.8     0          0.0  \n",
       "2         9.8     0          0.0  \n",
       "3         9.8     0          1.0  \n",
       "4         9.4     0          0.0  \n",
       "...       ...   ...          ...  \n",
       "4893     11.2     1          1.0  \n",
       "4894      9.6     1          0.0  \n",
       "4895      9.4     1          1.0  \n",
       "4896     12.8     1          2.0  \n",
       "4897     11.8     1          1.0  \n",
       "\n",
       "[6497 rows x 13 columns]"
      ]
     },
     "execution_count": 36,
     "metadata": {},
     "output_type": "execute_result"
    }
   ],
   "source": [
    "wine.drop(columns='quality', inplace=True)\n",
    "wine"
   ]
  },
  {
   "cell_type": "code",
   "execution_count": 37,
   "id": "7235062d-6306-4426-a8e1-0bfaa4c8be1d",
   "metadata": {},
   "outputs": [
    {
     "data": {
      "text/html": [
       "<div>\n",
       "<style scoped>\n",
       "    .dataframe tbody tr th:only-of-type {\n",
       "        vertical-align: middle;\n",
       "    }\n",
       "\n",
       "    .dataframe tbody tr th {\n",
       "        vertical-align: top;\n",
       "    }\n",
       "\n",
       "    .dataframe thead th {\n",
       "        text-align: right;\n",
       "    }\n",
       "</style>\n",
       "<table border=\"1\" class=\"dataframe\">\n",
       "  <thead>\n",
       "    <tr style=\"text-align: right;\">\n",
       "      <th></th>\n",
       "      <th>fixed acidity</th>\n",
       "      <th>volatile acidity</th>\n",
       "      <th>citric acid</th>\n",
       "      <th>residual sugar</th>\n",
       "      <th>chlorides</th>\n",
       "      <th>free sulfur dioxide</th>\n",
       "      <th>total sulfur dioxide</th>\n",
       "      <th>density</th>\n",
       "      <th>pH</th>\n",
       "      <th>sulphates</th>\n",
       "      <th>alcohol</th>\n",
       "      <th>type</th>\n",
       "      <th>new_quality</th>\n",
       "    </tr>\n",
       "  </thead>\n",
       "  <tbody>\n",
       "    <tr>\n",
       "      <th>0</th>\n",
       "      <td>0.297521</td>\n",
       "      <td>0.413333</td>\n",
       "      <td>0.000000</td>\n",
       "      <td>0.019939</td>\n",
       "      <td>0.111296</td>\n",
       "      <td>0.034722</td>\n",
       "      <td>0.064516</td>\n",
       "      <td>0.206092</td>\n",
       "      <td>0.612403</td>\n",
       "      <td>0.191011</td>\n",
       "      <td>0.202899</td>\n",
       "      <td>0.0</td>\n",
       "      <td>0.0</td>\n",
       "    </tr>\n",
       "    <tr>\n",
       "      <th>1</th>\n",
       "      <td>0.330579</td>\n",
       "      <td>0.533333</td>\n",
       "      <td>0.000000</td>\n",
       "      <td>0.030675</td>\n",
       "      <td>0.147841</td>\n",
       "      <td>0.083333</td>\n",
       "      <td>0.140553</td>\n",
       "      <td>0.186813</td>\n",
       "      <td>0.372093</td>\n",
       "      <td>0.258427</td>\n",
       "      <td>0.260870</td>\n",
       "      <td>0.0</td>\n",
       "      <td>0.0</td>\n",
       "    </tr>\n",
       "    <tr>\n",
       "      <th>2</th>\n",
       "      <td>0.330579</td>\n",
       "      <td>0.453333</td>\n",
       "      <td>0.024096</td>\n",
       "      <td>0.026074</td>\n",
       "      <td>0.137874</td>\n",
       "      <td>0.048611</td>\n",
       "      <td>0.110599</td>\n",
       "      <td>0.190669</td>\n",
       "      <td>0.418605</td>\n",
       "      <td>0.241573</td>\n",
       "      <td>0.260870</td>\n",
       "      <td>0.0</td>\n",
       "      <td>0.0</td>\n",
       "    </tr>\n",
       "    <tr>\n",
       "      <th>3</th>\n",
       "      <td>0.611570</td>\n",
       "      <td>0.133333</td>\n",
       "      <td>0.337349</td>\n",
       "      <td>0.019939</td>\n",
       "      <td>0.109635</td>\n",
       "      <td>0.055556</td>\n",
       "      <td>0.124424</td>\n",
       "      <td>0.209948</td>\n",
       "      <td>0.341085</td>\n",
       "      <td>0.202247</td>\n",
       "      <td>0.260870</td>\n",
       "      <td>0.0</td>\n",
       "      <td>0.5</td>\n",
       "    </tr>\n",
       "    <tr>\n",
       "      <th>4</th>\n",
       "      <td>0.297521</td>\n",
       "      <td>0.413333</td>\n",
       "      <td>0.000000</td>\n",
       "      <td>0.019939</td>\n",
       "      <td>0.111296</td>\n",
       "      <td>0.034722</td>\n",
       "      <td>0.064516</td>\n",
       "      <td>0.206092</td>\n",
       "      <td>0.612403</td>\n",
       "      <td>0.191011</td>\n",
       "      <td>0.202899</td>\n",
       "      <td>0.0</td>\n",
       "      <td>0.0</td>\n",
       "    </tr>\n",
       "    <tr>\n",
       "      <th>...</th>\n",
       "      <td>...</td>\n",
       "      <td>...</td>\n",
       "      <td>...</td>\n",
       "      <td>...</td>\n",
       "      <td>...</td>\n",
       "      <td>...</td>\n",
       "      <td>...</td>\n",
       "      <td>...</td>\n",
       "      <td>...</td>\n",
       "      <td>...</td>\n",
       "      <td>...</td>\n",
       "      <td>...</td>\n",
       "      <td>...</td>\n",
       "    </tr>\n",
       "    <tr>\n",
       "      <th>4893</th>\n",
       "      <td>0.198347</td>\n",
       "      <td>0.086667</td>\n",
       "      <td>0.174699</td>\n",
       "      <td>0.015337</td>\n",
       "      <td>0.049834</td>\n",
       "      <td>0.079861</td>\n",
       "      <td>0.198157</td>\n",
       "      <td>0.077694</td>\n",
       "      <td>0.426357</td>\n",
       "      <td>0.157303</td>\n",
       "      <td>0.463768</td>\n",
       "      <td>1.0</td>\n",
       "      <td>0.5</td>\n",
       "    </tr>\n",
       "    <tr>\n",
       "      <th>4894</th>\n",
       "      <td>0.231405</td>\n",
       "      <td>0.160000</td>\n",
       "      <td>0.216867</td>\n",
       "      <td>0.113497</td>\n",
       "      <td>0.063123</td>\n",
       "      <td>0.194444</td>\n",
       "      <td>0.373272</td>\n",
       "      <td>0.150183</td>\n",
       "      <td>0.333333</td>\n",
       "      <td>0.134831</td>\n",
       "      <td>0.231884</td>\n",
       "      <td>1.0</td>\n",
       "      <td>0.0</td>\n",
       "    </tr>\n",
       "    <tr>\n",
       "      <th>4895</th>\n",
       "      <td>0.223140</td>\n",
       "      <td>0.106667</td>\n",
       "      <td>0.114458</td>\n",
       "      <td>0.009202</td>\n",
       "      <td>0.053156</td>\n",
       "      <td>0.100694</td>\n",
       "      <td>0.241935</td>\n",
       "      <td>0.104685</td>\n",
       "      <td>0.209302</td>\n",
       "      <td>0.134831</td>\n",
       "      <td>0.202899</td>\n",
       "      <td>1.0</td>\n",
       "      <td>0.5</td>\n",
       "    </tr>\n",
       "    <tr>\n",
       "      <th>4896</th>\n",
       "      <td>0.140496</td>\n",
       "      <td>0.140000</td>\n",
       "      <td>0.180723</td>\n",
       "      <td>0.007669</td>\n",
       "      <td>0.021595</td>\n",
       "      <td>0.065972</td>\n",
       "      <td>0.239631</td>\n",
       "      <td>0.030461</td>\n",
       "      <td>0.480620</td>\n",
       "      <td>0.089888</td>\n",
       "      <td>0.695652</td>\n",
       "      <td>1.0</td>\n",
       "      <td>1.0</td>\n",
       "    </tr>\n",
       "    <tr>\n",
       "      <th>4897</th>\n",
       "      <td>0.181818</td>\n",
       "      <td>0.086667</td>\n",
       "      <td>0.228916</td>\n",
       "      <td>0.003067</td>\n",
       "      <td>0.018272</td>\n",
       "      <td>0.072917</td>\n",
       "      <td>0.211982</td>\n",
       "      <td>0.044342</td>\n",
       "      <td>0.418605</td>\n",
       "      <td>0.056180</td>\n",
       "      <td>0.550725</td>\n",
       "      <td>1.0</td>\n",
       "      <td>0.5</td>\n",
       "    </tr>\n",
       "  </tbody>\n",
       "</table>\n",
       "<p>6497 rows × 13 columns</p>\n",
       "</div>"
      ],
      "text/plain": [
       "      fixed acidity  volatile acidity  citric acid  residual sugar  chlorides  \\\n",
       "0          0.297521          0.413333     0.000000        0.019939   0.111296   \n",
       "1          0.330579          0.533333     0.000000        0.030675   0.147841   \n",
       "2          0.330579          0.453333     0.024096        0.026074   0.137874   \n",
       "3          0.611570          0.133333     0.337349        0.019939   0.109635   \n",
       "4          0.297521          0.413333     0.000000        0.019939   0.111296   \n",
       "...             ...               ...          ...             ...        ...   \n",
       "4893       0.198347          0.086667     0.174699        0.015337   0.049834   \n",
       "4894       0.231405          0.160000     0.216867        0.113497   0.063123   \n",
       "4895       0.223140          0.106667     0.114458        0.009202   0.053156   \n",
       "4896       0.140496          0.140000     0.180723        0.007669   0.021595   \n",
       "4897       0.181818          0.086667     0.228916        0.003067   0.018272   \n",
       "\n",
       "      free sulfur dioxide  total sulfur dioxide   density        pH  \\\n",
       "0                0.034722              0.064516  0.206092  0.612403   \n",
       "1                0.083333              0.140553  0.186813  0.372093   \n",
       "2                0.048611              0.110599  0.190669  0.418605   \n",
       "3                0.055556              0.124424  0.209948  0.341085   \n",
       "4                0.034722              0.064516  0.206092  0.612403   \n",
       "...                   ...                   ...       ...       ...   \n",
       "4893             0.079861              0.198157  0.077694  0.426357   \n",
       "4894             0.194444              0.373272  0.150183  0.333333   \n",
       "4895             0.100694              0.241935  0.104685  0.209302   \n",
       "4896             0.065972              0.239631  0.030461  0.480620   \n",
       "4897             0.072917              0.211982  0.044342  0.418605   \n",
       "\n",
       "      sulphates   alcohol  type  new_quality  \n",
       "0      0.191011  0.202899   0.0          0.0  \n",
       "1      0.258427  0.260870   0.0          0.0  \n",
       "2      0.241573  0.260870   0.0          0.0  \n",
       "3      0.202247  0.260870   0.0          0.5  \n",
       "4      0.191011  0.202899   0.0          0.0  \n",
       "...         ...       ...   ...          ...  \n",
       "4893   0.157303  0.463768   1.0          0.5  \n",
       "4894   0.134831  0.231884   1.0          0.0  \n",
       "4895   0.134831  0.202899   1.0          0.5  \n",
       "4896   0.089888  0.695652   1.0          1.0  \n",
       "4897   0.056180  0.550725   1.0          0.5  \n",
       "\n",
       "[6497 rows x 13 columns]"
      ]
     },
     "execution_count": 37,
     "metadata": {},
     "output_type": "execute_result"
    }
   ],
   "source": [
    "wine_norm = (wine-wine.min())/ (wine.max() - wine.min())\n",
    "wine_norm"
   ]
  },
  {
   "cell_type": "code",
   "execution_count": 39,
   "id": "33793184-d321-4395-ba1e-640b51288140",
   "metadata": {},
   "outputs": [],
   "source": [
    "wine_shuffle = wine_norm.sample(frac=1)\n",
    "wine_np = wine_shuffle.to_numpy()"
   ]
  },
  {
   "cell_type": "code",
   "execution_count": 40,
   "id": "969c6654-d31c-4899-9131-1cbb8ad6309c",
   "metadata": {},
   "outputs": [
    {
     "name": "stdout",
     "output_type": "stream",
     "text": [
      "train_idx : 5197\n"
     ]
    }
   ],
   "source": [
    "train_ratio = 0.8\n",
    "\n",
    "train_idx = int(len(wine_np) * train_ratio)\n",
    "print(\"train_idx :\", train_idx)"
   ]
  },
  {
   "cell_type": "code",
   "execution_count": 43,
   "id": "f00cf0b4-c3d9-4111-8844-aae05290b6ae",
   "metadata": {},
   "outputs": [],
   "source": [
    "train_X, train_Y = wine_np[ :train_idx, : -1], wine_np[ :train_idx, -1: ]\n",
    "test_X, test_Y = wine_np[train_idx:, :-1], wine_np[ train_idx: , -1:]\n",
    "\n",
    "train_Y_to_categorical = tf.keras.utils.to_categorical(train_Y, num_classes=3)\n",
    "test_Y_to_categorical = tf.keras.utils.to_categorical(test_Y, num_classes=3)"
   ]
  },
  {
   "cell_type": "code",
   "execution_count": 46,
   "id": "421a5bc2-2758-499c-b7db-605a2a9162da",
   "metadata": {},
   "outputs": [
    {
     "name": "stdout",
     "output_type": "stream",
     "text": [
      "(5197, 3)\n",
      "(1300, 3)\n"
     ]
    }
   ],
   "source": [
    "print(train_Y_to_categorical.shape)\n",
    "print(test_Y_to_categorical.shape)"
   ]
  },
  {
   "cell_type": "code",
   "execution_count": 42,
   "id": "b6376645-8322-49a6-9f41-f28d4b1a7cee",
   "metadata": {},
   "outputs": [
    {
     "name": "stdout",
     "output_type": "stream",
     "text": [
      "(5197, 12)\n",
      "(5197, 1)\n",
      "(1300, 12)\n",
      "(1300, 12)\n"
     ]
    }
   ],
   "source": [
    "print(train_X.shape)\n",
    "print(train_Y.shape)\n",
    "print(test_X.shape)\n",
    "print(test_X.shape)"
   ]
  },
  {
   "cell_type": "code",
   "execution_count": 48,
   "id": "b5a21cc9-d731-44f0-97bd-d98497b8061f",
   "metadata": {},
   "outputs": [],
   "source": [
    "model_swish_softmax = tf.keras.Sequential([\n",
    "    tf.keras.layers.Dense(units = 48, activation='swish', input_shape=(12,)),\n",
    "    tf.keras.layers.Dense(units = 24, activation='swish'),\n",
    "    tf.keras.layers.Dense(units = 12, activation='swish'),\n",
    "    tf.keras.layers.Dense(units = 3, activation='softmax')\n",
    "])"
   ]
  },
  {
   "cell_type": "code",
   "execution_count": 54,
   "id": "c0b808d3-0962-43aa-b496-889a372a3337",
   "metadata": {},
   "outputs": [],
   "source": [
    "model_swish_softmax.compile(optimizer=tf.keras.optimizers.Adam(learning_rate=0.001),\n",
    "                            loss    = 'categorical_crossentropy',\n",
    "                            metrics = ['accuracy'])"
   ]
  },
  {
   "cell_type": "code",
   "execution_count": 55,
   "id": "df4f0671-c943-4405-be85-c846ea9d8c86",
   "metadata": {},
   "outputs": [
    {
     "name": "stdout",
     "output_type": "stream",
     "text": [
      "Epoch 1/100\n",
      "130/130 [==============================] - 1s 2ms/step - loss: 0.6682 - accuracy: 0.7955 - val_loss: 0.5026 - val_accuracy: 0.8048\n",
      "Epoch 2/100\n",
      "130/130 [==============================] - 0s 725us/step - loss: 0.4883 - accuracy: 0.8001 - val_loss: 0.4517 - val_accuracy: 0.8048\n",
      "Epoch 3/100\n",
      "130/130 [==============================] - 0s 758us/step - loss: 0.4413 - accuracy: 0.8008 - val_loss: 0.4188 - val_accuracy: 0.8212\n",
      "Epoch 4/100\n",
      "130/130 [==============================] - 0s 729us/step - loss: 0.4262 - accuracy: 0.8064 - val_loss: 0.4246 - val_accuracy: 0.8106\n",
      "Epoch 5/100\n",
      "130/130 [==============================] - 0s 764us/step - loss: 0.4189 - accuracy: 0.8095 - val_loss: 0.4037 - val_accuracy: 0.8260\n",
      "Epoch 6/100\n",
      "130/130 [==============================] - 0s 750us/step - loss: 0.4141 - accuracy: 0.8100 - val_loss: 0.4148 - val_accuracy: 0.8163\n",
      "Epoch 7/100\n",
      "130/130 [==============================] - 0s 789us/step - loss: 0.4117 - accuracy: 0.8109 - val_loss: 0.4017 - val_accuracy: 0.8173\n",
      "Epoch 8/100\n",
      "130/130 [==============================] - 0s 746us/step - loss: 0.4109 - accuracy: 0.8035 - val_loss: 0.4012 - val_accuracy: 0.8173\n",
      "Epoch 9/100\n",
      "130/130 [==============================] - 0s 751us/step - loss: 0.4098 - accuracy: 0.8121 - val_loss: 0.3954 - val_accuracy: 0.8279\n",
      "Epoch 10/100\n",
      "130/130 [==============================] - 0s 820us/step - loss: 0.4070 - accuracy: 0.8090 - val_loss: 0.3926 - val_accuracy: 0.8298\n",
      "Epoch 11/100\n",
      "130/130 [==============================] - 0s 734us/step - loss: 0.4065 - accuracy: 0.8092 - val_loss: 0.3951 - val_accuracy: 0.8240\n",
      "Epoch 12/100\n",
      "130/130 [==============================] - 0s 776us/step - loss: 0.4053 - accuracy: 0.8116 - val_loss: 0.3920 - val_accuracy: 0.8250\n",
      "Epoch 13/100\n",
      "130/130 [==============================] - 0s 758us/step - loss: 0.4044 - accuracy: 0.8133 - val_loss: 0.4124 - val_accuracy: 0.8087\n",
      "Epoch 14/100\n",
      "130/130 [==============================] - 0s 734us/step - loss: 0.4044 - accuracy: 0.8119 - val_loss: 0.3960 - val_accuracy: 0.8212\n",
      "Epoch 15/100\n",
      "130/130 [==============================] - 0s 750us/step - loss: 0.4046 - accuracy: 0.8114 - val_loss: 0.3894 - val_accuracy: 0.8308\n",
      "Epoch 16/100\n",
      "130/130 [==============================] - 0s 772us/step - loss: 0.4056 - accuracy: 0.8097 - val_loss: 0.3980 - val_accuracy: 0.8202\n",
      "Epoch 17/100\n",
      "130/130 [==============================] - 0s 743us/step - loss: 0.4023 - accuracy: 0.8107 - val_loss: 0.3948 - val_accuracy: 0.8212\n",
      "Epoch 18/100\n",
      "130/130 [==============================] - 0s 758us/step - loss: 0.4016 - accuracy: 0.8128 - val_loss: 0.3897 - val_accuracy: 0.8260\n"
     ]
    }
   ],
   "source": [
    "history = model_swish_softmax.fit(train_X,\n",
    "                                  train_Y_to_categorical,\n",
    "                                  epochs = 100, \n",
    "                                  batch_size = 32,\n",
    "                                  validation_split = 0.2,\n",
    "                                  callbacks = [tf.keras.callbacks.EarlyStopping(patience=3,\n",
    "                                                                                monitor='val_loss')])"
   ]
  },
  {
   "cell_type": "code",
   "execution_count": 56,
   "id": "4c82133d-9ab7-4b44-a8e1-6e0710228ad8",
   "metadata": {},
   "outputs": [
    {
     "data": {
      "image/png": "[encoded data removed]",
      "text/plain": [
       "<Figure size 864x288 with 2 Axes>"
      ]
     },
     "metadata": {
      "needs_background": "light"
     },
     "output_type": "display_data"
    }
   ],
   "source": [
    "val_accuracy = history.history['val_accuracy']\n",
    "accuracy     = history.history['accuracy']\n",
    "\n",
    "val_loss = history.history['val_loss']\n",
    "loss     = history.history['loss']\n",
    "\n",
    "plt.figure(figsize=(12,4))\n",
    "plt.subplot(1,2,1)\n",
    "\n",
    "plt.plot(history.history['loss'], 'b-',      label = 'Train_loss')\n",
    "plt.plot(history.history['val_loss'], 'r--', label = 'Val_loss')\n",
    "\n",
    "plt.xlabel('Epochs')\n",
    "\n",
    "plt.title(\"Train_Loss : {:.3f} \\nVal_Loss : {:.3f}\".format(loss[-1], val_loss[-1]),\n",
    "          fontsize = 15)\n",
    "\n",
    "plt.legend()\n",
    "plt.grid()\n",
    "\n",
    "plt.subplot(1,2,2)\n",
    "\n",
    "plt.plot(history.history['accuracy'], 'g-',      label = 'Train_ACC')\n",
    "plt.plot(history.history['val_accuracy'], 'k--', label = 'Val_ACC')\n",
    "plt.xlabel('Epochs')\n",
    "\n",
    "plt.title(\"Train_ACC : {:.3f} \\nVal_ACC : {:.3f}\".format(accuracy[-1], val_accuracy[-1]),\n",
    "          fontsize = 15)\n",
    "\n",
    "plt.legend()\n",
    "plt.grid()\n",
    "plt.show()"
   ]
  },
  {
   "cell_type": "code",
   "execution_count": 57,
   "id": "1fda25a8-e9e6-41a6-ba9c-440f90ec766b",
   "metadata": {},
   "outputs": [],
   "source": [
    "model_relu_softmax = tf.keras.Sequential([\n",
    "    tf.keras.layers.Dense(units = 48, activation='relu', input_shape=(12,)),\n",
    "    tf.keras.layers.Dense(units = 24, activation='relu'),\n",
    "    tf.keras.layers.Dense(units = 12, activation='relu'),\n",
    "    tf.keras.layers.Dense(units = 3, activation='softmax')\n",
    "])"
   ]
  },
  {
   "cell_type": "code",
   "execution_count": 58,
   "id": "92051721-21fe-41fc-ad4e-b9652d9beac8",
   "metadata": {},
   "outputs": [],
   "source": [
    "model_relu_softmax.compile(optimizer=tf.keras.optimizers.Adam(learning_rate=0.001),\n",
    "                            loss    = 'categorical_crossentropy',\n",
    "                            metrics = ['accuracy'])"
   ]
  },
  {
   "cell_type": "code",
   "execution_count": 59,
   "id": "c0e14ec0-d8ba-426c-aa09-35c70a9098ed",
   "metadata": {},
   "outputs": [
    {
     "name": "stdout",
     "output_type": "stream",
     "text": [
      "Epoch 1/100\n",
      "130/130 [==============================] - 1s 2ms/step - loss: 0.6301 - accuracy: 0.7707 - val_loss: 0.4839 - val_accuracy: 0.8048\n",
      "Epoch 2/100\n",
      "130/130 [==============================] - 0s 673us/step - loss: 0.4549 - accuracy: 0.8023 - val_loss: 0.4127 - val_accuracy: 0.8183\n",
      "Epoch 3/100\n",
      "130/130 [==============================] - 0s 698us/step - loss: 0.4158 - accuracy: 0.8049 - val_loss: 0.4063 - val_accuracy: 0.8183\n",
      "Epoch 4/100\n",
      "130/130 [==============================] - 0s 711us/step - loss: 0.4102 - accuracy: 0.8112 - val_loss: 0.4100 - val_accuracy: 0.8067\n",
      "Epoch 5/100\n",
      "130/130 [==============================] - 0s 670us/step - loss: 0.4059 - accuracy: 0.8189 - val_loss: 0.3909 - val_accuracy: 0.8260\n",
      "Epoch 6/100\n",
      "130/130 [==============================] - 0s 711us/step - loss: 0.4013 - accuracy: 0.8131 - val_loss: 0.4044 - val_accuracy: 0.8125\n",
      "Epoch 7/100\n",
      "130/130 [==============================] - 0s 704us/step - loss: 0.4000 - accuracy: 0.8167 - val_loss: 0.3907 - val_accuracy: 0.8183\n",
      "Epoch 8/100\n",
      "130/130 [==============================] - 0s 716us/step - loss: 0.3997 - accuracy: 0.8136 - val_loss: 0.3910 - val_accuracy: 0.8231\n",
      "Epoch 9/100\n",
      "130/130 [==============================] - 0s 678us/step - loss: 0.3990 - accuracy: 0.8126 - val_loss: 0.3851 - val_accuracy: 0.8192\n",
      "Epoch 10/100\n",
      "130/130 [==============================] - 0s 696us/step - loss: 0.3960 - accuracy: 0.8150 - val_loss: 0.3848 - val_accuracy: 0.8240\n",
      "Epoch 11/100\n",
      "130/130 [==============================] - 0s 680us/step - loss: 0.3953 - accuracy: 0.8145 - val_loss: 0.3882 - val_accuracy: 0.8212\n",
      "Epoch 12/100\n",
      "130/130 [==============================] - 0s 708us/step - loss: 0.3943 - accuracy: 0.8160 - val_loss: 0.3828 - val_accuracy: 0.8202\n",
      "Epoch 13/100\n",
      "130/130 [==============================] - 0s 714us/step - loss: 0.3927 - accuracy: 0.8184 - val_loss: 0.4043 - val_accuracy: 0.8173\n",
      "Epoch 14/100\n",
      "130/130 [==============================] - 0s 711us/step - loss: 0.3922 - accuracy: 0.8196 - val_loss: 0.3890 - val_accuracy: 0.8260\n",
      "Epoch 15/100\n",
      "130/130 [==============================] - 0s 734us/step - loss: 0.3913 - accuracy: 0.8162 - val_loss: 0.3795 - val_accuracy: 0.8298\n",
      "Epoch 16/100\n",
      "130/130 [==============================] - 0s 727us/step - loss: 0.3929 - accuracy: 0.8181 - val_loss: 0.3922 - val_accuracy: 0.8250\n",
      "Epoch 17/100\n",
      "130/130 [==============================] - 0s 752us/step - loss: 0.3888 - accuracy: 0.8191 - val_loss: 0.3836 - val_accuracy: 0.8240\n",
      "Epoch 18/100\n",
      "130/130 [==============================] - 0s 688us/step - loss: 0.3870 - accuracy: 0.8179 - val_loss: 0.3779 - val_accuracy: 0.8279\n",
      "Epoch 19/100\n",
      "130/130 [==============================] - 0s 696us/step - loss: 0.3886 - accuracy: 0.8189 - val_loss: 0.3765 - val_accuracy: 0.8298\n",
      "Epoch 20/100\n",
      "130/130 [==============================] - 0s 698us/step - loss: 0.3857 - accuracy: 0.8205 - val_loss: 0.3745 - val_accuracy: 0.8308\n",
      "Epoch 21/100\n",
      "130/130 [==============================] - 0s 711us/step - loss: 0.3844 - accuracy: 0.8208 - val_loss: 0.3757 - val_accuracy: 0.8308\n",
      "Epoch 22/100\n",
      "130/130 [==============================] - 0s 776us/step - loss: 0.3843 - accuracy: 0.8234 - val_loss: 0.3761 - val_accuracy: 0.8288\n",
      "Epoch 23/100\n",
      "130/130 [==============================] - 0s 719us/step - loss: 0.3829 - accuracy: 0.8229 - val_loss: 0.3752 - val_accuracy: 0.8279\n"
     ]
    }
   ],
   "source": [
    "history = model_relu_softmax.fit(train_X,\n",
    "                                  train_Y_to_categorical,\n",
    "                                  epochs = 100, \n",
    "                                  batch_size = 32,\n",
    "                                  validation_split = 0.2,\n",
    "                                  callbacks = [tf.keras.callbacks.EarlyStopping(patience=3,\n",
    "                                                                                monitor='val_loss')])"
   ]
  },
  {
   "cell_type": "code",
   "execution_count": 60,
   "id": "c91da40f-9767-42a9-9585-897c84fa536b",
   "metadata": {},
   "outputs": [
    {
     "data": {
      "image/png": "[encoded data removed]",
      "text/plain": [
       "<Figure size 864x288 with 2 Axes>"
      ]
     },
     "metadata": {
      "needs_background": "light"
     },
     "output_type": "display_data"
    }
   ],
   "source": [
    "val_accuracy = history.history['val_accuracy']\n",
    "accuracy     = history.history['accuracy']\n",
    "\n",
    "val_loss = history.history['val_loss']\n",
    "loss     = history.history['loss']\n",
    "\n",
    "plt.figure(figsize=(12,4))\n",
    "plt.subplot(1,2,1)\n",
    "\n",
    "plt.plot(history.history['loss'], 'b-',      label = 'Train_loss')\n",
    "plt.plot(history.history['val_loss'], 'r--', label = 'Val_loss')\n",
    "\n",
    "plt.xlabel('Epochs')\n",
    "\n",
    "plt.title(\"Train_Loss : {:.3f} \\nVal_Loss : {:.3f}\".format(loss[-1], val_loss[-1]),\n",
    "          fontsize = 15)\n",
    "\n",
    "plt.legend()\n",
    "plt.grid()\n",
    "\n",
    "plt.subplot(1,2,2)\n",
    "\n",
    "plt.plot(history.history['accuracy'], 'g-',      label = 'Train_ACC')\n",
    "plt.plot(history.history['val_accuracy'], 'k--', label = 'Val_ACC')\n",
    "plt.xlabel('Epochs')\n",
    "\n",
    "plt.title(\"Train_ACC : {:.3f} \\nVal_ACC : {:.3f}\".format(accuracy[-1], val_accuracy[-1]),\n",
    "          fontsize = 15)\n",
    "\n",
    "plt.legend()\n",
    "plt.grid()\n",
    "plt.show()"
   ]
  },
  {
   "cell_type": "code",
   "execution_count": 62,
   "id": "f091d77d-5650-4d4c-af4c-2fe89347ed56",
   "metadata": {},
   "outputs": [
    {
     "name": "stdout",
     "output_type": "stream",
     "text": [
      "41/41 [==============================] - 0s 474us/step - loss: 0.3775 - accuracy: 0.8277\n",
      "[0.37750160694122314, 0.8276923298835754]\n"
     ]
    }
   ],
   "source": [
    "print(model_swish_softmax.evaluate(test_X, test_Y_to_categorical))"
   ]
  },
  {
   "cell_type": "code",
   "execution_count": 63,
   "id": "ed81cca6-65ab-4445-9029-c8afffc77f5f",
   "metadata": {},
   "outputs": [
    {
     "name": "stdout",
     "output_type": "stream",
     "text": [
      "41/41 [==============================] - 0s 449us/step - loss: 0.3602 - accuracy: 0.8346\n",
      "[0.36019283533096313, 0.8346154093742371]\n"
     ]
    }
   ],
   "source": [
    "print(model_relu_softmax.evaluate(test_X, test_Y_to_categorical))"
   ]
  },
  {
   "cell_type": "code",
   "execution_count": 65,
   "id": "520c410d-e8d0-4a23-9ad5-6109d515c952",
   "metadata": {},
   "outputs": [],
   "source": [
    "fashion_mnist = tf.keras.datasets.fashion_mnist\n",
    "(train_X, train_Y), (test_X, test_Y) = fashion_mnist.load_data()"
   ]
  },
  {
   "cell_type": "code",
   "execution_count": 66,
   "id": "2d4e01e3-851f-48ae-a808-01ad1266ecc8",
   "metadata": {},
   "outputs": [
    {
     "name": "stdout",
     "output_type": "stream",
     "text": [
      "60000 10000\n"
     ]
    }
   ],
   "source": [
    "print(len(train_X), len(test_X))"
   ]
  },
  {
   "cell_type": "code",
   "execution_count": 67,
   "id": "a8e0ac87-1841-44f1-8606-e2e4e409185b",
   "metadata": {},
   "outputs": [
    {
     "data": {
      "image/png": "[encoded data removed]",
      "text/plain": [
       "<Figure size 720x720 with 9 Axes>"
      ]
     },
     "metadata": {
      "needs_background": "light"
     },
     "output_type": "display_data"
    }
   ],
   "source": [
    "plt.figure(figsize=(10,10))\n",
    "\n",
    "for i in range(9):\n",
    "    plt.subplot(3,3, i+1)\n",
    "    plt.title(f\"Y label : {train_Y[i]: }\")\n",
    "    plt.axis(\"off\")\n",
    "    plt.imshow(train_X[i], cmap='pink')\n",
    "    \n",
    "plt.show()"
   ]
  },
  {
   "cell_type": "code",
   "execution_count": 68,
   "id": "072ede21-19b2-4d2c-92a9-f52434bbc2f7",
   "metadata": {},
   "outputs": [
    {
     "name": "stdout",
     "output_type": "stream",
     "text": [
      "train_X[0].shape : (28, 28)\n",
      "train_X[0].ndim : 2\n"
     ]
    }
   ],
   "source": [
    "print(\"train_X[0].shape :\", train_X[0].shape)\n",
    "print(\"train_X[0].ndim :\", train_X[0].ndim)"
   ]
  },
  {
   "cell_type": "code",
   "execution_count": 71,
   "id": "b7d518a3-8650-479a-9b5c-b360455aa99e",
   "metadata": {},
   "outputs": [
    {
     "name": "stdout",
     "output_type": "stream",
     "text": [
      "train_X.shape :  (60000, 28, 28)\n",
      "train_X.ndim :  3\n"
     ]
    }
   ],
   "source": [
    "print(\"train_X.shape : \", train_X.shape)\n",
    "print(\"train_X.ndim : \", train_X.ndim)"
   ]
  },
  {
   "cell_type": "code",
   "execution_count": 70,
   "id": "4ab9fdff-a24f-4ab9-8e97-c7c755641c23",
   "metadata": {},
   "outputs": [
    {
     "name": "stdout",
     "output_type": "stream",
     "text": [
      "0\n",
      "255\n"
     ]
    }
   ],
   "source": [
    "print(np.min(train_X))\n",
    "print(np.max(train_X))"
   ]
  },
  {
   "cell_type": "code",
   "execution_count": 78,
   "id": "e02f0c01-ffe8-45fa-bdb2-69967758d3a4",
   "metadata": {},
   "outputs": [
    {
     "name": "stdout",
     "output_type": "stream",
     "text": [
      "np.min(train_X_norm) 0.0\n",
      "np.max(train_X_norm) 1.0\n",
      "np.min(test_X_norm) 0.0\n",
      "np.max(test_X_norm) 1.0\n"
     ]
    }
   ],
   "source": [
    "train_X_norm = train_X / 255.0 \n",
    "print(\"np.min(train_X_norm)\" ,np.min(train_X_norm))\n",
    "print(\"np.max(train_X_norm)\" ,np.max(train_X_norm))\n",
    "\n",
    "\n",
    "test_X_norm = test_X / 255.0 \n",
    "print(\"np.min(test_X_norm)\" ,np.min(test_X_norm))\n",
    "print(\"np.max(test_X_norm)\" ,np.max(test_X_norm))"
   ]
  },
  {
   "cell_type": "code",
   "execution_count": 79,
   "id": "12a9445c-4d57-4972-9ef7-fcdacddc0d67",
   "metadata": {},
   "outputs": [],
   "source": [
    "Fminst_Relu_DNN = tf.keras.Sequential([\n",
    "    tf.keras.layers.Flatten(input_shape = (28, 28)),\n",
    "    tf.keras.layers.Dense(units = 128, activation = 'relu'),\n",
    "    tf.keras.layers.Dense(units = 64, activation = 'relu'),\n",
    "    tf.keras.layers.Dense(units = 32, activation = 'relu'),\n",
    "    tf.keras.layers.Dense(units = 10, activation = 'softmax'),\n",
    "])"
   ]
  },
  {
   "cell_type": "code",
   "execution_count": 80,
   "id": "282d857d-d8d9-45c1-bf39-ef6421d5cd1a",
   "metadata": {},
   "outputs": [],
   "source": [
    "Fminst_Relu_DNN.compile(optimizer=tf.keras.optimizers.Adam(),\n",
    "                       loss = 'sparse_categorical_crossentropy',\n",
    "                       metrics = ['accuracy'])"
   ]
  },
  {
   "cell_type": "code",
   "execution_count": 82,
   "id": "299a631a-4825-4040-9246-9cc141a15348",
   "metadata": {},
   "outputs": [
    {
     "name": "stdout",
     "output_type": "stream",
     "text": [
      "Model: \"sequential_4\"\n",
      "_________________________________________________________________\n",
      "Layer (type)                 Output Shape              Param #   \n",
      "=================================================================\n",
      "flatten (Flatten)            (None, 784)               0         \n",
      "_________________________________________________________________\n",
      "dense_16 (Dense)             (None, 128)               100480    \n",
      "_________________________________________________________________\n",
      "dense_17 (Dense)             (None, 64)                8256      \n",
      "_________________________________________________________________\n",
      "dense_18 (Dense)             (None, 32)                2080      \n",
      "_________________________________________________________________\n",
      "dense_19 (Dense)             (None, 10)                330       \n",
      "=================================================================\n",
      "Total params: 111,146\n",
      "Trainable params: 111,146\n",
      "Non-trainable params: 0\n",
      "_________________________________________________________________\n"
     ]
    }
   ],
   "source": [
    "Fminst_Relu_DNN.summary()"
   ]
  },
  {
   "cell_type": "code",
   "execution_count": 83,
   "id": "0bea93bc-b5de-4cb2-88c6-95e1865674e5",
   "metadata": {},
   "outputs": [
    {
     "name": "stdout",
     "output_type": "stream",
     "text": [
      "Epoch 1/200\n",
      "1500/1500 [==============================] - 2s 981us/step - loss: 0.5331 - accuracy: 0.8119 - val_loss: 0.4010 - val_accuracy: 0.8553\n",
      "Epoch 2/200\n",
      "1500/1500 [==============================] - 1s 956us/step - loss: 0.3894 - accuracy: 0.8589 - val_loss: 0.3738 - val_accuracy: 0.8668\n",
      "Epoch 3/200\n",
      "1500/1500 [==============================] - 1s 948us/step - loss: 0.3517 - accuracy: 0.8715 - val_loss: 0.3618 - val_accuracy: 0.8696\n",
      "Epoch 4/200\n",
      "1500/1500 [==============================] - 1s 892us/step - loss: 0.3257 - accuracy: 0.8795 - val_loss: 0.3553 - val_accuracy: 0.8727\n",
      "Epoch 5/200\n",
      "1500/1500 [==============================] - 1s 902us/step - loss: 0.3076 - accuracy: 0.8868 - val_loss: 0.3558 - val_accuracy: 0.8748\n",
      "Epoch 6/200\n",
      "1500/1500 [==============================] - 1s 894us/step - loss: 0.2926 - accuracy: 0.8915 - val_loss: 0.3428 - val_accuracy: 0.8741\n",
      "Epoch 7/200\n",
      "1500/1500 [==============================] - 1s 905us/step - loss: 0.2784 - accuracy: 0.8965 - val_loss: 0.3654 - val_accuracy: 0.8684\n",
      "Epoch 8/200\n",
      "1500/1500 [==============================] - 1s 919us/step - loss: 0.2679 - accuracy: 0.9007 - val_loss: 0.3428 - val_accuracy: 0.8756\n",
      "Epoch 9/200\n",
      "1500/1500 [==============================] - 1s 911us/step - loss: 0.2583 - accuracy: 0.9033 - val_loss: 0.3245 - val_accuracy: 0.8846\n",
      "Epoch 10/200\n",
      "1500/1500 [==============================] - 1s 903us/step - loss: 0.2489 - accuracy: 0.9061 - val_loss: 0.3464 - val_accuracy: 0.8832\n",
      "Epoch 11/200\n",
      "1500/1500 [==============================] - 1s 912us/step - loss: 0.2397 - accuracy: 0.9091 - val_loss: 0.3360 - val_accuracy: 0.8853\n",
      "Epoch 12/200\n",
      "1500/1500 [==============================] - 1s 948us/step - loss: 0.2321 - accuracy: 0.9132 - val_loss: 0.3274 - val_accuracy: 0.8863\n"
     ]
    }
   ],
   "source": [
    "history = Fminst_Relu_DNN.fit(train_X_norm, train_Y, epochs=200, \n",
    "                              callbacks=[tf.keras.callbacks.EarlyStopping(patience=3)], validation_split=0.2, batch_size = 32)"
   ]
  },
  {
   "cell_type": "code",
   "execution_count": 84,
   "id": "a97f432d-a5eb-4d65-8eb3-30643be1669d",
   "metadata": {},
   "outputs": [
    {
     "data": {
      "image/png": "[encoded data removed]",
      "text/plain": [
       "<Figure size 864x288 with 2 Axes>"
      ]
     },
     "metadata": {
      "needs_background": "light"
     },
     "output_type": "display_data"
    }
   ],
   "source": [
    "val_accuracy = history.history['val_accuracy']\n",
    "accuracy     = history.history['accuracy']\n",
    "\n",
    "val_loss = history.history['val_loss']\n",
    "loss     = history.history['loss']\n",
    "\n",
    "plt.figure(figsize=(12,4))\n",
    "plt.subplot(1,2,1)\n",
    "\n",
    "plt.plot(history.history['loss'], 'b-',      label = 'Train_loss')\n",
    "plt.plot(history.history['val_loss'], 'r--', label = 'Val_loss')\n",
    "\n",
    "plt.xlabel('Epochs')\n",
    "\n",
    "plt.title(\"Train_Loss : {:.3f} \\nVal_Loss : {:.3f}\".format(loss[-1], val_loss[-1]),\n",
    "          fontsize = 15)\n",
    "\n",
    "plt.legend()\n",
    "plt.grid()\n",
    "\n",
    "plt.subplot(1,2,2)\n",
    "\n",
    "plt.plot(history.history['accuracy'], 'g-',      label = 'Train_ACC')\n",
    "plt.plot(history.history['val_accuracy'], 'k--', label = 'Val_ACC')\n",
    "plt.xlabel('Epochs')\n",
    "\n",
    "plt.title(\"Train_ACC : {:.3f} \\nVal_ACC : {:.3f}\".format(accuracy[-1], val_accuracy[-1]),\n",
    "          fontsize = 15)\n",
    "\n",
    "plt.legend()\n",
    "plt.grid()\n",
    "plt.show()"
   ]
  },
  {
   "cell_type": "code",
   "execution_count": 85,
   "id": "57848ac6-e8c5-44f1-b770-cbc8aa4c5db5",
   "metadata": {},
   "outputs": [
    {
     "name": "stdout",
     "output_type": "stream",
     "text": [
      "313/313 [==============================] - 0s 749us/step - loss: 0.3505 - accuracy: 0.8805\n"
     ]
    },
    {
     "data": {
      "text/plain": [
       "[0.35054004192352295, 0.8805000185966492]"
      ]
     },
     "execution_count": 85,
     "metadata": {},
     "output_type": "execute_result"
    }
   ],
   "source": [
    "Fminst_Relu_DNN.evaluate(test_X_norm, test_Y)"
   ]
  },
  {
   "cell_type": "code",
   "execution_count": 86,
   "id": "c48af6d9-c4b4-442d-a08c-d459f3734707",
   "metadata": {},
   "outputs": [],
   "source": [
    "Fminst_Relu_DNN.save('Fminst_Relu_DNN.h5')"
   ]
  },
  {
   "cell_type": "code",
   "execution_count": 88,
   "id": "e9091fd0-b263-47c8-9808-e7a5d8dc8dae",
   "metadata": {},
   "outputs": [],
   "source": [
    "pred_Y = Fminst_Relu_DNN.predict(test_X[[13]])\n",
    "pred_Y = np.round(pred_Y,3)"
   ]
  },
  {
   "cell_type": "code",
   "execution_count": 91,
   "id": "dc4a197a-6d8c-4690-b079-4934d60b45b1",
   "metadata": {},
   "outputs": [
    {
     "data": {
      "image/png": "[encoded data removed]",
      "text/plain": [
       "<Figure size 432x288 with 1 Axes>"
      ]
     },
     "metadata": {
      "needs_background": "light"
     },
     "output_type": "display_data"
    },
    {
     "name": "stdout",
     "output_type": "stream",
     "text": [
      "Probability Ditribution : \n",
      " [[0. 0. 0. 1. 0. 0. 0. 0. 0. 0.]] %\n",
      "\n",
      " Pred Y : 3 Test Y : 3 -> Corect True\n"
     ]
    }
   ],
   "source": [
    "plt.imshow(test_X[13], cmap='pink')\n",
    "plt.show()\n",
    "\n",
    "pred_Y_argmax = np.argmax(pred_Y)\n",
    "correct = np.equal(pred_Y_argmax, test_Y[13])\n",
    "\n",
    "print(\"Probability Ditribution : \\n {} %\".format(pred_Y))\n",
    "print(\"\\n Pred Y : {} Test Y : {} -> Corect {}\".format(pred_Y_argmax, test_Y[13], correct))"
   ]
  },
  {
   "cell_type": "code",
   "execution_count": null,
   "id": "574d837d-5778-4674-8b2e-832991dd7da7",
   "metadata": {},
   "outputs": [],
   "source": []
  }
 ],
 "metadata": {
  "kernelspec": {
   "display_name": "Python 3",
   "language": "python",
   "name": "python3"
  },
  "language_info": {
   "codemirror_mode": {
    "name": "ipython",
    "version": 3
   },
   "file_extension": ".py",
   "mimetype": "text/x-python",
   "name": "python",
   "nbconvert_exporter": "python",
   "pygments_lexer": "ipython3",
   "version": "3.8.8"
  }
 },
 "nbformat": 4,
 "nbformat_minor": 5
}
